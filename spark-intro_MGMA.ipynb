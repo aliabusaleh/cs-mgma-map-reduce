{
 "cells": [
  {
   "cell_type": "markdown",
   "metadata": {},
   "source": [
    "<center><img src='./figs/cs-logo.png' width=200></center>\n",
    "\n",
    "<hr style=\" border:none; height:3px;\">\n",
    "<h1>\n",
    "<center>Introduction to Spark </center>\n",
    "</h1>\n",
    "<font  size=\"3\" color='#91053d'>\n",
    "<center >\n",
    "nacera.seghouani@centralesupelec.fr \n",
    "</center>\n",
    "</font>   \n",
    "<hr style=\" border:none; height:3px;\">"
   ]
  },
  {
   "cell_type": "markdown",
   "metadata": {
    "tags": []
   },
   "source": [
    "# 1. Introduction (PLEASE READ ME)\n",
    "\n",
    "\n",
    "<p align=\"justify\">\n",
    "<font size=\"3\">\n",
    "The purpose of this lab is to acquire  basic **Spark** programming skills that are necessary to develop simple, yet powerful, applications to be executed in a distributed environment.\n",
    "</font>\n",
    "</p>\n",
    "\n",
    "\n",
    "<p align=\"justify\">\n",
    "<font size=\"3\">\n",
    "Spark application runs as a set of independent processes (called the _Executors_) across the machines (a.k.a., _Worker_ nodes) of a cluster, on a distributed data, coordinated by the _Driver_, the process that runs the $main()$ function of the application.\n",
    "</font>\n",
    "</p>\n",
    "\n",
    "<p align=\"justify\">\n",
    "<font size=\"3\">\n",
    "The _Driver_ creates an object called _SparkContext_ that communicates with the underlying cluster manager and coordinates the distribution of the computation across the _Executors_.\n",
    "</font>\n",
    "</p>\n",
    "<center\n",
    "<img src=\"./figs/spark-execution.png\" width=400>\n",
    "\n",
    "<p align=\"justify\">\n",
    "<font size=\"3\">\n",
    "To install **Apache Spark **, first Download and Install on your machine (<a href=\"https://spark.apache.org/downloads.html\">see this link</a>).  To use python language, you need **pyspark** package (<a href=\"https://spark.apache.org/docs/latest/api/python/getting_started/install.html\">see this link</a>).\n",
    "</p>\n",
    "    <p align=\"justify\">\n",
    "<hr style=\" border:none; height:2px;\">\n",
    " <font  size=\"3\" color='#91053d'>**Execute the following cell in order to initialize the _SparkContext_.**</font>\n",
    "<hr style=\" border:none; height:2px;\">\n",
    "</p>"
   ]
  },
  {
   "cell_type": "code",
   "execution_count": 2,
   "metadata": {},
   "outputs": [
    {
     "name": "stderr",
     "output_type": "stream",
     "text": [
      "23/12/30 11:43:54 WARN Utils: Your hostname, AliGhAbuSaleh resolves to a loopback address: 127.0.1.1; using 192.168.1.33 instead (on interface wlo1)\n",
      "23/12/30 11:43:54 WARN Utils: Set SPARK_LOCAL_IP if you need to bind to another address\n",
      "Setting default log level to \"WARN\".\n",
      "To adjust logging level use sc.setLogLevel(newLevel). For SparkR, use setLogLevel(newLevel).\n",
      "23/12/30 11:43:55 WARN NativeCodeLoader: Unable to load native-hadoop library for your platform... using builtin-java classes where applicable\n"
     ]
    },
    {
     "name": "stdout",
     "output_type": "stream",
     "text": [
      "Initialization successful\n"
     ]
    }
   ],
   "source": [
    "import findspark\n",
    "findspark.init()\n",
    "import pyspark\n",
    "import random\n",
    "sc = pyspark.SparkContext(appName=\"lab1\")\n",
    "print(\"Initialization successful\")"
   ]
  },
  {
   "cell_type": "markdown",
   "metadata": {},
   "source": [
    "# 2. Resilient Distributed Dataset (RDD)\n",
    "\n",
    "\n",
    "<p align=\"justify\">\n",
    "<font size=\"3\">\n",
    "Spark distributes the data and the computations across the machines of a cluster by using **Resilient Distributed Dataset (RDD)**. \n",
    "An RDD is an immutable distributed collection of data. \n",
    "Each element of an RDD can be an instance of any Python type, including a user-defined class.\n",
    "The _SparkContext_  splits an RDD into multiple _partitions_ and scatters them across different machines of the cluster. \n",
    "</font>\n",
    "</p>\n",
    "\n",
    "<p align=\"justify\">\n",
    "<font size=\"3\">\n",
    "The distribution of the partitions of an RDD is completely transparent to the application.\n",
    "The only thing a Spark application has to do is to create some RDDs and \n",
    "specify the computations on these RDDs, by using special functions that Spark provides for this purpose. \n",
    "</font>\n",
    "</p>\n",
    "\n",
    "## 2.1 Creating RDDs\n",
    "\n",
    "<p align=\"justify\">\n",
    "<font size=\"3\">\n",
    "Spark provides two ways to create an RDD:\n",
    "\n",
    "<ul>\n",
    "<li> By distributing a collection of objects.\n",
    "<li> By loading an external dataset (either in a file or a database).\n",
    "</ul>\n",
    "</font>\n",
    "</p>\n",
    "\n",
    "<p>\n",
    "<hr style=\" border:none; height:2px;\">\n",
    " <font size=\"3\" color='#91053d'>**Execute the following code to create an RDD called $words$, where each element is a string taken from the list $wordList$.**</font>\n",
    "<hr style=\" border:none; height:2px;\">\n",
    "</p>"
   ]
  },
  {
   "cell_type": "code",
   "execution_count": 3,
   "metadata": {
    "autoscroll": "json-false",
    "ein.tags": [
     "worksheet-0"
    ],
    "scrolled": true,
    "slideshow": {
     "slide_type": "-"
    }
   },
   "outputs": [
    {
     "name": "stdout",
     "output_type": "stream",
     "text": [
      "Done!\n"
     ]
    }
   ],
   "source": [
    "wordList = [\"Al\", \"Ani\", \"Jackie\", \"Lalitha\", \"Mark\", \"Neil\", \"Nick\", \"Shirin\"]\n",
    "words = sc.parallelize(wordList)\n",
    "print(\"Done!\")"
   ]
  },
  {
   "cell_type": "markdown",
   "metadata": {
    "ein.tags": [
     "worksheet-0"
    ],
    "slideshow": {
     "slide_type": "-"
    }
   },
   "source": [
    "<p align=\"justify\">\n",
    "<font size=\"3\">\n",
    "Once created, Spark provides two types of  operations on a RDD:\n",
    "<ol>\n",
    "<li> **Transformations**. A transformation takes in one or more RDDs and returns a new RDD.\n",
    "<li> **Actions**. An action takes in an RDD and outputs a value.\n",
    "</ol>\n",
    "</font>\n",
    "</p>\n",
    "\n",
    "<p>\n",
    "</p>\n",
    "\n",
    "<p align=\"justify\">\n",
    "<font size=\"3\">\n",
    "One common transformation is filtering data that matches a predicate by using the function $filter$.\n",
    "The function $filter$ is applied on an RDD and takes in a predicate.\n",
    "It loops through each element of the RDD and verifies whether that element satisfies the predicate. The function $filter$ outputs a new RDD whose elements are those that satisfy the predicate.\n",
    "</font>\n",
    "</p>\n",
    "\n",
    "<p>\n",
    "<hr style=\" border:none; height:2px;\">\n",
    " <font size=\"3\" color='#91053d'>**Execute the following code to create an RDD called $nNames$ by retaining only the names whose first letter is 'N' from the RDD $words$ .**</font>\n",
    "<hr style=\" border:none; height:2px;\">\n",
    "</p>"
   ]
  },
  {
   "cell_type": "code",
   "execution_count": 4,
   "metadata": {},
   "outputs": [
    {
     "name": "stdout",
     "output_type": "stream",
     "text": [
      "PythonRDD[1] at RDD at PythonRDD.scala:53\n",
      "done!\n"
     ]
    }
   ],
   "source": [
    "'''\n",
    "As mentioned before, the function filter takes in a predicate that is itself a function (returning a boolean value).\n",
    "\n",
    "In the code below, the argument of the function filter is a function that takes in a variable called \n",
    "\"name\"; the type of this variable must match the type of the elements of the RDD words, in this case \n",
    "a string.\n",
    "Then the function returns whether the first character of the string \"name\" is N. \n",
    "\n",
    "'''\n",
    "nNames = words.filter(lambda name: name[:1]=='N') \n",
    "print(nNames)\n",
    "print(\"done!\")"
   ]
  },
  {
   "cell_type": "markdown",
   "metadata": {},
   "source": [
    "<p align=\"justify\">\n",
    "<font size=\"3\">\n",
    "The transformation $filter$ above is not executed by Spark until an action is called on the RDD $nNames$.\n",
    "Spark executes  a transformation on an RDD  when an action is invoked on the RDD itself. This is called _lazy evaluation_. \n",
    "    </font>\n",
    "</p>\n",
    "\n",
    "<p align=\"justify\">\n",
    "<font size=\"3\">\n",
    "One example of action is the function $first()$ that returns the first element in the RDD.\n",
    "    </font>\n",
    "</p>\n",
    "\n",
    "<p>\n",
    "<hr style=\" border:none; height:2px;\">\n",
    " <font size=\"3\" color='#91053d'>**Execute the following code to print the first element of the RDD $nNames$.**</font>\n",
    "<hr style=\" border:none; height:2px;\">\n",
    "</p>"
   ]
  },
  {
   "cell_type": "code",
   "execution_count": 5,
   "metadata": {},
   "outputs": [
    {
     "name": "stderr",
     "output_type": "stream",
     "text": [
      "                                                                                \r"
     ]
    },
    {
     "name": "stdout",
     "output_type": "stream",
     "text": [
      "Neil\n"
     ]
    }
   ],
   "source": [
    "'''\n",
    "REMEMBER: the variable nNames has been defined in the cell above, so \n",
    "it is VISIBLE in this cell as well as in the cells below the current one\n",
    "'''\n",
    "print(nNames.first())\n"
   ]
  },
  {
   "cell_type": "markdown",
   "metadata": {},
   "source": [
    "<p align=\"justify\">\n",
    "<font size=\"3\">\n",
    "The previous example  shows that a Spark application is  a sequence of operations that create, transform and perform  actions on RDDs.\n",
    "</font>\n",
    "</p>\n",
    "\n",
    "<p align=\"justify\">\n",
    "<font size=\"3\">\n",
    "The following code shows an example of creation of RDD from an external dataset, a Neo4j database log text file. \n",
    "The function $textFile()$ takes in the path to the input text file and returns an RDD, where each element is a line of the file.\n",
    "The code goes through the following steps:\n",
    "\n",
    "<ol>\n",
    "<li> **RDD creation**. Creates an RDD called $lines$, where each element is a line from the input text file.\n",
    "<li> **RDD filter**. Creates an RDD called $exceptions$ from the RDD $lines$ by only retaining the lines containing the string \"exception\".\n",
    "<li> **Action count()**. Counts the number of elements of the RDD $exceptions$. \n",
    "<li> **Print first line**. Prints the first line of the RDD $exceptions$. \n",
    "</ol>\n",
    "</font>\n",
    "</p>\n",
    "\n",
    "<p>\n",
    "</p>\n",
    "\n",
    "<p align=\"justify\">\n",
    "<font size=\"3\">\n",
    "Here we also see  the _lazy evaluation_ of transformations. \n",
    "Spark does not execute the function $textFile()$ as soon as it is invoked.\n",
    "Instead, it waits until the first action $count()$ is invoked.\n",
    "</font>\n",
    "</p>\n",
    "\n",
    "<p>\n",
    "<hr style=\" border:none; height:2px;\">\n",
    " <font size=\"3\" color='#91053d'>**Execute the following code.**</font>\n",
    " <hr style=\" border:none; height:2px;\">\n",
    "</p>"
   ]
  },
  {
   "cell_type": "code",
   "execution_count": 6,
   "metadata": {
    "autoscroll": "json-false",
    "ein.tags": [
     "worksheet-0"
    ],
    "slideshow": {
     "slide_type": "-"
    }
   },
   "outputs": [
    {
     "name": "stdout",
     "output_type": "stream",
     "text": [
      "Number of exception lines  5\n"
     ]
    },
    {
     "data": {
      "text/plain": [
       "['2017-10-06 13:12:26.097+0000 ERROR Failed to start Neo4j: Starting Neo4j failed: Component \\'org.neo4j.server.database.LifecycleManagingDatabase@2814f71a\\' was successfully initialized, but failed to start. Please see the attached cause exception \"Format version is not supported (resource BufferedChecksumIndexInput(MMapIndexInput(path=\"/Users/quercini_gia/Documents/software/neo4j-community-3.2.5/data/databases/social-network/upgrade/index/lucene/relationship/crosslinks/segments_1\"))): -11 (needs to be between 1071082519 and 1071082519). This version of Lucene only supports indexes created with release 4.0 and later.\". Starting Neo4j failed: Component \\'org.neo4j.server.database.LifecycleManagingDatabase@2814f71a\\' was successfully initialized, but failed to start. Please see the attached cause exception \"Format version is not supported (resource BufferedChecksumIndexInput(MMapIndexInput(path=\"/Users/quercini_gia/Documents/software/neo4j-community-3.2.5/data/databases/social-network/upgrade/index/lucene/relationship/crosslinks/segments_1\"))): -11 (needs to be between 1071082519 and 1071082519). This version of Lucene only supports indexes created with release 4.0 and later.\".']"
      ]
     },
     "execution_count": 6,
     "metadata": {},
     "output_type": "execute_result"
    }
   ],
   "source": [
    "data_file = \"./data/neo4j.log\"\n",
    "\n",
    "# 1. RDD creation\n",
    "lines = sc.textFile(data_file)\n",
    "\n",
    "#2. RDD filter\n",
    "exceptions = lines.filter(lambda line : \"exception\" in line)\n",
    "\n",
    "#3. Action count()\n",
    "nbLines = exceptions.count()\n",
    "print(\"Number of exception lines \", nbLines)\n",
    "\n",
    "#4. Print first line.\n",
    "exceptions.take(1)\n"
   ]
  },
  {
   "cell_type": "markdown",
   "metadata": {
    "ein.tags": [
     "worksheet-0"
    ],
    "slideshow": {
     "slide_type": "-"
    }
   },
   "source": [
    "## 2.2 Transformations\n",
    "\n",
    "<p align=\"justify\">\n",
    "<font size=\"3\">\n",
    "Here are some common transformations in Spark. \n",
    "In the following list, $r$ denotes the RDD on which the transformation is invoked.\n",
    "<ol>\n",
    "<li> $r.filter()$. Returns an RDD consisting of only the elements of the input RDD $r$ that satisfy a predicate.\n",
    "<li> $r.map(func)$. Applies a function $func$ to each element of the input RDD $r$ and returns an RDD of the result.\n",
    "<li> $r.flatMap(func)$. Same as $map()$, but used when $map()$ would return an RDD where each element is a list.\n",
    "<li> $r.union(other)$. Takes in two RDDs ($r$ and $other$) and returns an RDD that contains the elements from both. Unlike the mathematical operation, $union$ in Spark does not remove the duplicates.\n",
    "<li> $r.intersection(other)$. Takes in two RDDs ($r$ and $other$) and returns an RDD that contains the elements found in both.\n",
    "<li> $r.subtract(other)$. Takes in two RDDs ($r$ and $other$) and returns an RDD that contains the elements from the RDD $r$, except those that are found in $other$.\n",
    "<li> $r.cartesian(other)$. Takes in two RDDs ($r$ and $other$) and returns an RDD that contains the Cartesian product of both.\n",
    "<li> $r.distinct()$. Returns an RDD that contains the same elements as the input RDD $r$ without duplicates.\n",
    "</ol>\n",
    "    \n",
    "We are now going to look at an example of use of these transformations.\n",
    "</font>    \n",
    "</p>\n",
    "\n",
    "\n",
    "<p>\n",
    "<hr style=\" border:none; height:2px;\">\n",
    " <font size=\"3\" color='#91053d'>**Execute the following code to create the two RDDs $r1$ and $r2$**</font>\n",
    "<hr style=\" border:none; height:2px;\">\n",
    "</p>"
   ]
  },
  {
   "cell_type": "code",
   "execution_count": 7,
   "metadata": {},
   "outputs": [
    {
     "name": "stdout",
     "output_type": "stream",
     "text": [
      "done\n"
     ]
    }
   ],
   "source": [
    "r1 = sc.parallelize([1, 2, 3, 4])\n",
    "r2 = sc.parallelize([3, 4, 5, 6, 7])\n",
    "print(\"done\")"
   ]
  },
  {
   "cell_type": "markdown",
   "metadata": {},
   "source": [
    "### Use of $map()$\n",
    "\n",
    "<p align=\"justify\">\n",
    "<font size=\"3\">\n",
    "Here we see an example of use of the transformation $map()$.\n",
    "</font>\n",
    "</p>\n",
    "\n",
    "<p>\n",
    "<hr style=\" border:none; height:2px;\">\n",
    "<font size=\"3\" color='#91053d'>**Execute the following code to create:\n",
    " <ol>\n",
    " <li> an RDD $square$, where each element is the square of the corresponding element in $r1$; \n",
    " <li> an RDD $half$, where each element is the half of the corresponding element in $r2$.**\n",
    " </ol>\n",
    " </font>\n",
    " <hr style=\" border:none; height:2px;\">\n",
    "</p>"
   ]
  },
  {
   "cell_type": "code",
   "execution_count": 8,
   "metadata": {},
   "outputs": [
    {
     "name": "stdout",
     "output_type": "stream",
     "text": [
      "Elements of RDD square  [1, 4, 9, 16]\n",
      "Elements of the RDD half  [1.5, 2.0, 2.5, 3.0, 3.5]\n"
     ]
    }
   ],
   "source": [
    "square = r1.map(lambda x : x*x)\n",
    "half = r2.map(lambda x: x/2)\n",
    "\n",
    "# The function collect() is an action that transforms the RDD into a Python list that can be printed.\n",
    "print(\"Elements of RDD square \", square.collect())\n",
    "print(\"Elements of the RDD half \", half.collect())"
   ]
  },
  {
   "cell_type": "markdown",
   "metadata": {},
   "source": [
    "### Use of $flatMap()$\n",
    "\n",
    "<p align=\"justify\">\n",
    "<font size=\"3\">\n",
    "The transformation $flatMap()$ works by applying the transformation $map()$ on the input RDD; \n",
    "if each element of the resulting RDD is a list, $flatMap()$ returns an RDD where all lists are merged.\n",
    "In other words, when $map()$ returns an RDD where the elements are lists, $flatMap()$ returns an RDD where the elements are the values of the list.\n",
    "</font>\n",
    "</p>\n",
    "\n",
    "<p align=\"justify\">\n",
    "<font size=\"3\">\n",
    "Let's see an example. Suppose that we want to return an RDD from $r1$ where each element is associated to its square. \n",
    "More precisely, the output RDD will be as follows:\n",
    "<center>\n",
    "[ [1, 1], [2, 4], [3, 9], [4, 16] ]\n",
    "</center>\n",
    "</font>    \n",
    "</p>\n",
    "\n",
    "<p>\n",
    "<hr style=\" border:none; height:2px;\">\n",
    " <font size=\"3\" color='#91053d'>**Execute the following code to create an RDD $squares$ where each element of $r1$ is associated to its square.**</font>\n",
    "<hr style=\" border:none; height:2px;\">\n",
    "</p>"
   ]
  },
  {
   "cell_type": "code",
   "execution_count": 9,
   "metadata": {},
   "outputs": [
    {
     "name": "stdout",
     "output_type": "stream",
     "text": [
      "Elements of RDD squares  [[1, 1], [2, 4], [3, 9], [4, 16]]\n"
     ]
    }
   ],
   "source": [
    "squares = r1.map(lambda x : [x, x*x])\n",
    "print(\"Elements of RDD squares \", squares.collect())"
   ]
  },
  {
   "cell_type": "markdown",
   "metadata": {},
   "source": [
    "<p align=\"justify\">\n",
    "<font size=\"3\">\n",
    "\n",
    "As you can see, each element of the RDD $squares$ is a list of two elements; indeed, \n",
    "after calling the action $collect()$, we obtain a list of lists in Python. \n",
    "In order to obtain a simple list of elements, we flatten the lists with $flatMap()$.\n",
    "More precisely, with $flatMap()$ we obtain the following RDD:\n",
    "<center>\n",
    "[1, 1, 2, 4, 3, 9, 4, 16]\n",
    "</center>\n",
    "</font>\n",
    "</p>\n",
    "\n",
    "<p>\n",
    "<hr style=\" border:none; height:2px;\">\n",
    "\n",
    " <font size=\"3\" color='#91053d'>**Execute the following code to create an RDD $squares$ where each element of $r1$ is associated to its square (but each element is just a value instead of a list of values)**</font>\n",
    "<hr style=\" border:none; height:2px;\">"
   ]
  },
  {
   "cell_type": "code",
   "execution_count": 10,
   "metadata": {},
   "outputs": [
    {
     "name": "stdout",
     "output_type": "stream",
     "text": [
      "Elements of RDD squares  [1, 1, 2, 4, 3, 9, 4, 16]\n"
     ]
    }
   ],
   "source": [
    "squares = r1.flatMap(lambda x : [x, x*x])\n",
    "print(\"Elements of RDD squares \", squares.collect())"
   ]
  },
  {
   "cell_type": "markdown",
   "metadata": {},
   "source": [
    "### Use of set transformations\n",
    "\n",
    "<p align=\"justify\">\n",
    "<font size=\"3\">\n",
    "The set transformations are $union$, $intersection$, $subtract$ and $cartesian$.\n",
    "</font>\n",
    "</p>\n",
    "\n",
    "<p>\n",
    "<hr style=\" border:none; height:2px;\">\n",
    " <font size=\"3\" color='#91053d'>**Execute the following code to see an example of these transformations**</font>\n",
    "<hr style=\" border:none; height:2px;\">"
   ]
  },
  {
   "cell_type": "code",
   "execution_count": 11,
   "metadata": {},
   "outputs": [
    {
     "name": "stdout",
     "output_type": "stream",
     "text": [
      "Elements of RDD r1  [1, 2, 3, 4]\n",
      "Elements of RDD r2  [3, 4, 5, 6, 7]\n",
      "Elements of RDD union  [1, 2, 3, 4, 3, 4, 5, 6, 7]\n"
     ]
    },
    {
     "name": "stderr",
     "output_type": "stream",
     "text": [
      "                                                                                \r"
     ]
    },
    {
     "name": "stdout",
     "output_type": "stream",
     "text": [
      "Elements of RDD intesection  [3, 4]\n"
     ]
    },
    {
     "name": "stderr",
     "output_type": "stream",
     "text": [
      "                                                                                \r"
     ]
    },
    {
     "name": "stdout",
     "output_type": "stream",
     "text": [
      "Elements of RDD subtract  [1, 2]\n",
      "Elements of RDD cartesian  [(1, 3), (1, 4), (1, 5), (1, 6), (1, 7), (2, 3), (2, 4), (2, 5), (2, 6), (2, 7), (3, 3), (3, 4), (3, 5), (3, 6), (3, 7), (4, 3), (4, 4), (4, 5), (4, 6), (4, 7)]\n"
     ]
    }
   ],
   "source": [
    "union = r1.union(r2)\n",
    "intersection = r1.intersection(r2)\n",
    "subtract = r1.subtract(r2)\n",
    "cartesian = r1.cartesian(r2)\n",
    "\n",
    "print(\"Elements of RDD r1 \", r1.collect())\n",
    "print(\"Elements of RDD r2 \", r2.collect())\n",
    "print(\"Elements of RDD union \", union.collect())\n",
    "print(\"Elements of RDD intesection \", intersection.collect())\n",
    "print(\"Elements of RDD subtract \", subtract.collect())\n",
    "print(\"Elements of RDD cartesian \", cartesian.collect())\n"
   ]
  },
  {
   "cell_type": "markdown",
   "metadata": {},
   "source": [
    "### Use of $distinct()$\n",
    "\n",
    "<p align=\"justify\">\n",
    "<font size=\"3\">\n",
    "The transformation $distinct()$ returns an RDD that contains the same elements as the input RDD without the duplicates.\n",
    "</font>\n",
    "</p>\n",
    "\n",
    "<p>\n",
    "<hr style=\" border:none; height:2px;\">\n",
    "\n",
    " <font size=\"3\" color='#91053d'>**Execute the following code to see an example of use of $distinct()$**</font>\n",
    " <hr style=\" border:none; height:2px;\">\n",
    "</p>"
   ]
  },
  {
   "cell_type": "code",
   "execution_count": 12,
   "metadata": {},
   "outputs": [
    {
     "name": "stdout",
     "output_type": "stream",
     "text": [
      "Elements of the RDD union:  [1, 2, 3, 4, 3, 4, 5, 6, 7]\n",
      "Elements of the RDD union (with no duplicates):  [1, 2, 3, 4, 5, 6, 7]\n"
     ]
    }
   ],
   "source": [
    "nodup = union.distinct()\n",
    "print(\"Elements of the RDD union: \", union.collect())\n",
    "print(\"Elements of the RDD union (with no duplicates): \", nodup.collect())"
   ]
  },
  {
   "cell_type": "markdown",
   "metadata": {
    "ein.tags": [
     "worksheet-0"
    ],
    "slideshow": {
     "slide_type": "-"
    }
   },
   "source": [
    "## 2.3. Actions\n",
    "\n",
    "<p align=\"justify\">\n",
    "<font size=\"3\">\n",
    "Here are some common actions in Spark. \n",
    "As with transformations, $r$ denotes the RDD on which the action is invoked.\n",
    "\n",
    "<ol>\n",
    "<li> $r.reduce(func)$. Performs a pair-wise application of the given function $func$ to the elements of the input RDD $r$.\n",
    "<li> $r.collect()$. Returns a list with all the elements of the input RDD $r$.\n",
    "<li> $r.count()$. Returns the number of elements in the input RDD $r$.\n",
    "<li> $r.countByValue()$. Returns the number of times each element occurs in the input RDD $r$.\n",
    "<li> $r.take(num)$. Prints the first $num$ elements of the input RDD $r$.\n",
    "<li> $r.top(num)$. Prints the top $num$ elements of the input RDD $r$ (sorted in decreasing order).\n",
    "</ol>\n",
    "</font>\n",
    "</p>"
   ]
  },
  {
   "cell_type": "markdown",
   "metadata": {},
   "source": [
    "### Use of $reduce(func)$\n",
    "\n",
    "<p align=\"justify\">\n",
    "<font size=\"3\">\n",
    "The action $reduce(func)$ performs a pair-wise application of the given function $func$ on the elements of the input RDD. \n",
    "</font>\n",
    "</p>\n",
    "\n",
    "<p>\n",
    "<hr style=\" border:none; height:2px;\">\n",
    "<font size=\"3\" color='#91053d'>**Execute the following code to sum all values of the RDD $r1$**</font>\n",
    "<hr style=\" border:none; height:2px;\">\n"
   ]
  },
  {
   "cell_type": "code",
   "execution_count": 13,
   "metadata": {},
   "outputs": [
    {
     "name": "stdout",
     "output_type": "stream",
     "text": [
      "Elements of the RDD r1  [1, 2, 3, 4]\n",
      "Sum of the elements of the RDD r1:  10\n"
     ]
    }
   ],
   "source": [
    "'''\n",
    "The function passed to the reduce MUST take in two arguments \n",
    "that have the same type as the elements of the input RDD\n",
    "'''\n",
    "sum = r1.reduce(lambda x, y : x + y)\n",
    "print(\"Elements of the RDD r1 \", r1.collect())\n",
    "print(\"Sum of the elements of the RDD r1: \", sum)\n"
   ]
  },
  {
   "cell_type": "markdown",
   "metadata": {},
   "source": [
    "### Use of $countByValue()$\n",
    "\n",
    "<p align=\"justify\">\n",
    "<font size=\"3\">\n",
    "The action $countByValue()$ counts the number of the occurrences of each element of the input RDD.\n",
    "The result is a Python dictionary, where a key is an element of the input RDD and the corresponding value the number of its occurrences.\n",
    "</font>\n",
    "</p>\n",
    "\n",
    "<p>\n",
    "<hr style=\" border:none; height:2px;\">\n",
    "\n",
    "<font size=\"3\" color='#91053d'>**Execute the following code to get the number of occurrences of each element in the RDD $union$**</font>\n",
    "\n",
    "<hr style=\" border:none; height:2px;\">\n",
    "</p>"
   ]
  },
  {
   "cell_type": "code",
   "execution_count": 14,
   "metadata": {},
   "outputs": [
    {
     "name": "stdout",
     "output_type": "stream",
     "text": [
      "Elements of the RDD union  [1, 2, 3, 4, 3, 4, 5, 6, 7]\n",
      "Occurrences of each element in the RDD union:\n",
      "1  -->  1  occurrences\n",
      "2  -->  1  occurrences\n",
      "3  -->  2  occurrences\n",
      "4  -->  2  occurrences\n",
      "5  -->  1  occurrences\n",
      "6  -->  1  occurrences\n",
      "7  -->  1  occurrences\n"
     ]
    }
   ],
   "source": [
    "occurrences = union.countByValue()\n",
    "print(\"Elements of the RDD union \", union.collect())\n",
    "print(\"Occurrences of each element in the RDD union:\")\n",
    "for k, v in occurrences.items():\n",
    "    print(k, \" --> \",  v, \" occurrences\")"
   ]
  },
  {
   "cell_type": "markdown",
   "metadata": {},
   "source": [
    "## 3. Exercises \n",
    "\n",
    "<p align=\"justify\">\n",
    "<font size=\"3\">\n",
    "Now it's your turn! \n",
    "You're going to apply yourself the transformations and the actions that we've seen so far. \n",
    "To this extent, we will use the file **./data/moby-dick.txt** that contains the text of the famous novel by Herman Melville. \n",
    "The goal of this exercise is to count the number of words in the file and the number of occurrences of each word.\n",
    "</font>\n",
    "</p>\n",
    "<p align=\"justify\">\n",
    "<font size=\"3\">\n",
    "First, we are going to preprocess the input text, by removing punctuation and special characters and to lowercase all words.\n",
    "</font>\n",
    "</p>    "
   ]
  },
  {
   "cell_type": "markdown",
   "metadata": {},
   "source": [
    "<hr style=\" border:none; height:2px;\">\n",
    "\n",
    "###  Exercise 1\n",
    "\n",
    "<p align=\"justify\">\n",
    "<font size=\"3\">\n",
    "The function $preprocess()$ defined below takes in an RDD that contains the lines of the input text file and returns an RDD where each element is a word. In the code below, the first step of the function $preprocess()$, which removes the non-letter characters from the input RDD by using a regular expression, is already implemented.\n",
    "</font>\n",
    "</p>\n",
    "\n",
    "<p align=\"justify\">\n",
    "<font size=\"3\" color='#91053d'>\n",
    "**Complete the function $proprocess()$ with the following steps:**\n",
    "<ol start=\"2\">\n",
    "<li>    Apply a transformation on the RDD $text$ to obtain an RDD $words$, where each element is a word from the file.\n",
    "<li>    Filter out from the RDD $words$ the words with length 0.\n",
    "<li>    Lowercase all words of the RDD $words$.\n",
    "<li>    Return the RDD $words$.\n",
    "</ol>\n",
    "Execute the code, which will print the number of words in the input text file and the top-100 most frequent words.\n",
    "</font>\n",
    "</p>\n",
    "\n",
    "<hr style=\" border:none; height:2px;\">"
   ]
  },
  {
   "cell_type": "code",
   "execution_count": 15,
   "metadata": {},
   "outputs": [
    {
     "name": "stdout",
     "output_type": "stream",
     "text": [
      "Number of words  208240\n",
      "Top-100 most frequent words\n",
      "the ---> 14065\n",
      "of ---> 6440\n",
      "and ---> 6257\n",
      "a ---> 4535\n",
      "to ---> 4491\n",
      "in ---> 4050\n",
      "that ---> 2900\n",
      "his ---> 2485\n",
      "it ---> 2343\n",
      "i ---> 1930\n",
      "but ---> 1763\n",
      "he ---> 1729\n",
      "as ---> 1698\n",
      "with ---> 1690\n",
      "is ---> 1672\n",
      "was ---> 1618\n",
      "for ---> 1574\n",
      "all ---> 1464\n",
      "this ---> 1351\n",
      "at ---> 1295\n",
      "by ---> 1169\n",
      "not ---> 1121\n",
      "from ---> 1071\n",
      "him ---> 1035\n",
      "so ---> 1030\n",
      "on ---> 1028\n",
      "be ---> 1024\n",
      "whale ---> 891\n",
      "one ---> 875\n",
      "you ---> 851\n",
      "had ---> 765\n",
      "now ---> 759\n",
      "there ---> 755\n",
      "have ---> 751\n",
      "or ---> 686\n",
      "were ---> 674\n",
      "they ---> 639\n",
      "which ---> 617\n",
      "then ---> 614\n",
      "me ---> 606\n",
      "some ---> 604\n",
      "their ---> 603\n",
      "when ---> 591\n",
      "are ---> 584\n",
      "my ---> 584\n",
      "an ---> 583\n",
      "like ---> 567\n",
      "no ---> 566\n",
      "upon ---> 560\n",
      "what ---> 537\n",
      "into ---> 517\n",
      "out ---> 509\n",
      "more ---> 499\n",
      "up ---> 496\n",
      "if ---> 469\n",
      "its ---> 457\n",
      "them ---> 450\n",
      "old ---> 436\n",
      "man ---> 433\n",
      "we ---> 426\n",
      "would ---> 421\n",
      "ahab ---> 417\n",
      "ye ---> 416\n",
      "been ---> 408\n",
      "over ---> 397\n",
      "other ---> 393\n",
      "these ---> 387\n",
      "ship ---> 378\n",
      "will ---> 377\n",
      "only ---> 369\n",
      "such ---> 364\n",
      "whales ---> 363\n",
      "sea ---> 363\n",
      "though ---> 362\n",
      "down ---> 358\n",
      "yet ---> 339\n",
      "who ---> 330\n",
      "her ---> 321\n",
      "time ---> 321\n",
      "any ---> 320\n",
      "very ---> 317\n",
      "long ---> 313\n",
      "still ---> 307\n",
      "about ---> 305\n",
      "those ---> 302\n",
      "than ---> 300\n",
      "do ---> 297\n",
      "captain ---> 292\n",
      "before ---> 291\n",
      "great ---> 289\n",
      "said ---> 288\n",
      "has ---> 287\n",
      "here ---> 284\n",
      "seemed ---> 280\n",
      "must ---> 279\n",
      "two ---> 278\n",
      "last ---> 273\n",
      "most ---> 273\n",
      "head ---> 263\n",
      "thou ---> 262\n"
     ]
    }
   ],
   "source": [
    "import operator;\n",
    "import re;\n",
    "\n",
    "\n",
    "def preprocess(text):\n",
    "    '''\n",
    "    Regular expression for removing all non-letter characters in the file.\n",
    "    '''\n",
    "    regex = re.compile('[^a-zA-Z ]')\n",
    "    '''\n",
    "    Step 1. \n",
    "    Remove the non-letter characters.\n",
    "    After this transformation, mobydick is an RDD where each element is a line of the file\n",
    "    '''\n",
    "    text = text.map(lambda line: regex.sub('', line))\n",
    "    \n",
    "    '''\n",
    "    **************************************************\n",
    "    COMPLETE STEP 2 THROUGH 4\n",
    "    **************************************************\n",
    "    '''\n",
    "    # Apply a transformation on the RDD $text$ to obtain an RDD $words$, where each element is a word from the file.\n",
    "    words = text.flatMap(lambda word: word.split(\" \"))\n",
    "    # Filter out from the RDD $words$ the words with length 0.\n",
    "    words_no_zero = words.filter(lambda word: len(word) > 0)\n",
    "    # Lowercase all words of the RDD $words$.\n",
    "    words = words_no_zero.map(lambda word: word.lower()) \n",
    "    \n",
    "    '''\n",
    "    Step 5.\n",
    "    Returns the RDD words.\n",
    "    '''\n",
    "    return words\n",
    "\n",
    "\n",
    "# Reads the novel into a RDD\n",
    "mobydick = sc.textFile('./data/moby-dick.txt')\n",
    "\n",
    "words = preprocess(mobydick)\n",
    "\n",
    "print(\"Number of words \", words.count())\n",
    "\n",
    "'''\n",
    "Top-100 most frequent words\n",
    "'''\n",
    "# countByValue() counts the number of occurrences of each word.\n",
    "# It returns a dictionary. \n",
    "# The function sorted sorts by value and returns a list of tuples (w, f), where w is a word \n",
    "# and f its number of occurrences.\n",
    "# The list will be sorted in ascending order of number of occurrences\n",
    "occurrences = sorted(words.countByValue().items(), key=operator.itemgetter(1))\n",
    "\n",
    "# Reverse the order\n",
    "occurrences.reverse()\n",
    "print(\"Top-100 most frequent words\")\n",
    "i = 0\n",
    "for (w, f) in occurrences:\n",
    "    i += 1\n",
    "    if i > 100:\n",
    "        break\n",
    "    print(w,\"--->\",f)\n",
    "    "
   ]
  },
  {
   "cell_type": "markdown",
   "metadata": {},
   "source": [
    "<hr style=\" border:none; height:2px;\">\n",
    "\n",
    "### Exercise 2\n",
    "\n",
    "<p align=\"justify\">\n",
    "<font size=\"3\">\n",
    "In the previous example, you've probably noticed that the top-100 most frequent words are _functions_ words, such as articles, pronouns, conjunctions. These words have little lexical meaning and express a grammatical relationship with the other words. \n",
    "In many applications, these functions words are not useful and they can be ignored.\n",
    "For instance, when you submit a query against a search engine (e.g., \"restaurants in Paris\"), function words (e.g., \"in\") are not useful to retrieve the Web pages relevant to the query.\n",
    "</font>\n",
    "</p>\n",
    "\n",
    "<p align=\"justify\">\n",
    "<font size=\"3\">\n",
    "In text processing applications, function words are part of a list of _stop words_ that include all words that are frequently used and give little semantic contribution to the content of a text.\n",
    "Since there isn't any agreement as to the definition of _stop word_, it's possible to find many such lists on the Web.\n",
    "</font>\n",
    "</p>\n",
    "\n",
    "<p align=\"justify\">\n",
    "<font size=\"3\" color='#91053d'>**Write a function $preprocess()$ that applies the same operations as the function that you defined above and, in addition, removes the stop words. This function $preprocess()$ takes in: (i) an RDD that contains the lines of the input text file (as above) and (ii) an RDD containing the stop words. The function returns an RDD with the words of the input text file. **</font>\n",
    "</p>\n",
    "\n",
    "<p align=\"justify\">\n",
    "<font size=\"3\">\n",
    "HINT: The file with the list of stop words is **./data/stopwords.txt**. All stop words are already lowercased.\n",
    "</font>\n",
    "</p>\n",
    "\n",
    "<hr style=\" border:none; height:2px;\">"
   ]
  },
  {
   "cell_type": "code",
   "execution_count": 16,
   "metadata": {
    "autoscroll": "json-false",
    "ein.tags": [
     "worksheet-0"
    ],
    "slideshow": {
     "slide_type": "-"
    }
   },
   "outputs": [
    {
     "name": "stdout",
     "output_type": "stream",
     "text": [
      "Number of words after stopword removal  102358\n",
      "Top-100 most frequent words\n",
      "whale ,  891\n",
      "one ,  875\n",
      "old ,  436\n",
      "man ,  433\n",
      "ahab ,  417\n",
      "ye ,  416\n",
      "ship ,  378\n",
      "whales ,  363\n",
      "sea ,  363\n",
      "though ,  362\n",
      "time ,  321\n",
      "long ,  313\n",
      "captain ,  292\n",
      "great ,  289\n",
      "said ,  288\n",
      "seemed ,  280\n",
      "must ,  279\n",
      "two ,  278\n",
      "last ,  273\n",
      "head ,  263\n",
      "see ,  257\n",
      "way ,  253\n",
      "white ,  247\n",
      "little ,  247\n",
      "boat ,  241\n",
      "round ,  239\n",
      "three ,  235\n",
      "sperm ,  232\n",
      "first ,  229\n",
      "stubb ,  227\n",
      "men ,  224\n",
      "every ,  223\n",
      "say ,  223\n",
      "well ,  221\n",
      "us ,  221\n",
      "much ,  218\n",
      "queequeg ,  211\n",
      "good ,  195\n",
      "hand ,  194\n",
      "side ,  183\n",
      "go ,  183\n",
      "thing ,  181\n",
      "look ,  178\n",
      "boats ,  175\n",
      "made ,  174\n",
      "away ,  173\n",
      "chapter ,  172\n",
      "come ,  170\n",
      "starbuck ,  169\n",
      "many ,  161\n",
      "deck ,  158\n",
      "water ,  158\n",
      "far ,  157\n",
      "day ,  156\n",
      "seen ,  156\n",
      "eyes ,  153\n",
      "ships ,  152\n",
      "sir ,  151\n",
      "sort ,  151\n",
      "cried ,  149\n",
      "back ,  148\n",
      "world ,  147\n",
      "part ,  147\n",
      "thought ,  147\n",
      "know ,  145\n",
      "oh ,  137\n",
      "whole ,  137\n",
      "right ,  136\n",
      "aye ,  135\n",
      "life ,  134\n",
      "air ,  133\n",
      "crew ,  133\n",
      "thus ,  132\n",
      "soon ,  128\n",
      "night ,  128\n",
      "thee ,  128\n",
      "tell ,  128\n",
      "take ,  126\n",
      "came ,  126\n",
      "things ,  125\n",
      "hands ,  125\n",
      "feet ,  123\n",
      "small ,  122\n",
      "pequod ,  121\n",
      "till ,  119\n",
      "something ,  118\n",
      "line ,  116\n",
      "think ,  116\n",
      "god ,  115\n",
      "found ,  113\n",
      "thy ,  113\n",
      "towards ,  113\n",
      "full ,  111\n",
      "times ,  110\n",
      "dont ,  110\n",
      "another ,  110\n",
      "along ,  110\n",
      "make ,  109\n",
      "nothing ,  109\n",
      "called ,  108\n"
     ]
    }
   ],
   "source": [
    "def preprocess(text, stopwords):\n",
    "    '''\n",
    "    Regular expression for removing all non-letter characters in the file.\n",
    "    '''\n",
    "    regex = re.compile('[^a-zA-Z ]')\n",
    "    '''\n",
    "    Step 1. \n",
    "    Remove the non-letter characters.\n",
    "    After this transformation, mobydick is an RDD where each element is a line of the file\n",
    "    '''\n",
    "    text = text.map(lambda line: regex.sub('', line))\n",
    "    \n",
    "    '''\n",
    "    Step 2.\n",
    "    Obtain the RDD containing the words in the file.\n",
    "    Note that the function line.split() returns the list of words in a line. \n",
    "    Therefore, each element of the RDD words would be a list, shouldn't we use flatMap.\n",
    "    '''\n",
    "    words = text.flatMap(lambda line: line.split(\" \"))\n",
    "\n",
    "    '''\n",
    "    Step 3.\n",
    "    Filter out the words with length 0.\n",
    "    '''\n",
    "    words = words.filter(lambda word: len(word) > 0)\n",
    "    \n",
    "    '''\n",
    "    Step 4.\n",
    "    Lowercase all words of the RDD $words$\n",
    "    '''\n",
    "    words = words.map(lambda word: word.lower())\n",
    "    \n",
    "    '''\n",
    "    Step 5 Remove stop words.\n",
    "    '''\n",
    "    '''\n",
    "    **************************************************\n",
    "    COMPLETE STEP 5\n",
    "    **************************************************\n",
    "    '''\n",
    "    words = words.subtract(stopwords)\n",
    "    \n",
    "    # Returns the words\n",
    "    return words\n",
    "\n",
    "\n",
    "# Load the stopwords to an RDD\n",
    "stopwords = sc.textFile(\"./data/stopwords.txt\")\n",
    "words = preprocess(mobydick, stopwords)\n",
    "print(\"Number of words after stopword removal \", words.count())\n",
    "\n",
    "# Count the number of occurrences as before.\n",
    "occurrences = sorted(words.countByValue().items(), key=operator.itemgetter(1))\n",
    "# Reverse the order\n",
    "occurrences.reverse()\n",
    "print(\"Top-100 most frequent words\")\n",
    "i = 0\n",
    "for (w, f) in occurrences:\n",
    "    i += 1\n",
    "    if i > 100:\n",
    "        break\n",
    "    print(w, \", \", f)\n",
    "    \n"
   ]
  },
  {
   "cell_type": "markdown",
   "metadata": {},
   "source": [
    "# 4. Pair RDDs \n",
    "\n",
    "<p align=\"justify\">\n",
    "<font size=\"3\">\n",
    "Pair RDDs are simply RDDs where each element is a key-value pair. They are useful for expressing _MapReduce_ computations. \n",
    "</font>\n",
    "</p>\n",
    "\n",
    "<p align=\"justify\">\n",
    "<font size=\"3\">\n",
    "We are now going to look at examples of  transformations and actions on pair RDDs.\n",
    "</font>\n",
    "</p>"
   ]
  },
  {
   "cell_type": "markdown",
   "metadata": {},
   "source": [
    "## 4.1 Creation of Pair RDDs\n",
    "\n",
    "<p align=\"justify\">\n",
    "<font size=\"3\">\n",
    "One common way to create a pair RDD is to transform an existing RDD with a $map()$. \n",
    "</font>\n",
    "</p>\n",
    "\n",
    "<hr style=\" border:none; height:2px;\">\n",
    "<p align=\"justify\">\n",
    "<font size=\"3\" color='#91053d'>**Execute the following code to create a Pair RDD $kvwords$ from the RDD $words$. Each element of $kvwords$ is a pair where the key is a word and the value is 1**</font>\n",
    "</p>\n",
    "<hr style=\" border:none; height:2px;\">"
   ]
  },
  {
   "cell_type": "code",
   "execution_count": 17,
   "metadata": {},
   "outputs": [
    {
     "name": "stdout",
     "output_type": "stream",
     "text": [
      "[('years', 1), ('years', 1), ('years', 1), ('years', 1), ('years', 1), ('years', 1), ('years', 1), ('years', 1), ('years', 1), ('years', 1), ('years', 1), ('years', 1), ('years', 1), ('years', 1), ('years', 1), ('years', 1), ('years', 1), ('years', 1), ('years', 1), ('years', 1), ('years', 1), ('years', 1), ('years', 1), ('years', 1), ('years', 1), ('years', 1), ('years', 1), ('years', 1), ('years', 1), ('years', 1), ('years', 1), ('years', 1), ('years', 1), ('years', 1), ('years', 1), ('years', 1), ('years', 1), ('years', 1), ('years', 1), ('years', 1), ('years', 1), ('years', 1), ('years', 1), ('years', 1), ('years', 1), ('years', 1), ('years', 1), ('years', 1), ('years', 1), ('years', 1), ('years', 1), ('years', 1), ('years', 1), ('years', 1), ('years', 1), ('years', 1), ('years', 1), ('years', 1), ('years', 1), ('years', 1), ('years', 1), ('years', 1), ('years', 1), ('years', 1), ('years', 1), ('years', 1), ('years', 1), ('years', 1), ('years', 1), ('years', 1), ('years', 1), ('years', 1), ('years', 1), ('years', 1), ('years', 1), ('years', 1), ('years', 1), ('years', 1), ('years', 1), ('years', 1), ('years', 1), ('years', 1), ('years', 1), ('years', 1), ('years', 1), ('years', 1), ('years', 1), ('years', 1), ('years', 1), ('years', 1), ('years', 1), ('years', 1), ('years', 1), ('mind', 1), ('mind', 1), ('mind', 1), ('mind', 1), ('mind', 1), ('mind', 1), ('mind', 1)]\n"
     ]
    }
   ],
   "source": [
    "kvwords = words.map(lambda word : (word, 1))\n",
    "print(kvwords.take(100))"
   ]
  },
  {
   "cell_type": "markdown",
   "metadata": {},
   "source": [
    "## 4.2 Transformations on Pair RDDs\n",
    "\n",
    "\n",
    "<p align=\"justify\">\n",
    "<font size=\"3\">\n",
    "All transformations applied to standard RDDs can be applied to Pair RDDs as well. The only difference is that any function that is passed to a transformation must take in tuples instead of single values.\n",
    "</font>\n",
    "</p>\n",
    "\n",
    "<p align=\"justify\">\n",
    "<font size=\"3\">\n",
    "In addition, the following transformations can **only** be applied to Pair RDDs:\n",
    "<ol>\n",
    "<li> $r.reduceByKey(func)$. It applies the given function $func$ pairwise to all elements of the input RDD $r$ that are associated to the same key. \n",
    "<li> $r.sortBy(func, asc)$. Returns an RDD where the elements of the input RDD $r$ are sorted according to the given criteria.\n",
    "<li> $r.groupByKey()$. Groups values with the same key from the input RDD $r$.\n",
    "<li> $r.keys()$. Returns an RDD where the elements are the keys from the input RDD $r$.\n",
    "<li> $r.values()$. Returns an RDD where the elements are the values from the input RDD $r$.\n",
    "</ol>\n",
    "</font>\n",
    "</p>\n",
    "\n",
    "<hr style=\" border:none; height:2px;\">\n",
    "<font size=\"3\" color='#91053d'>**Execute the following code to count the number of occurrences of each word in the RDD $kvwords$ and print the top-100 most frequent words**</font>\n",
    "<hr style=\" border:none; height:2px;\">"
   ]
  },
  {
   "cell_type": "code",
   "execution_count": 18,
   "metadata": {},
   "outputs": [
    {
     "data": {
      "text/plain": [
       "[('whale', 891),\n",
       " ('one', 875),\n",
       " ('old', 436),\n",
       " ('man', 433),\n",
       " ('ahab', 417),\n",
       " ('ye', 416),\n",
       " ('ship', 378),\n",
       " ('sea', 363),\n",
       " ('whales', 363),\n",
       " ('though', 362),\n",
       " ('time', 321),\n",
       " ('long', 313),\n",
       " ('captain', 292),\n",
       " ('great', 289),\n",
       " ('said', 288),\n",
       " ('seemed', 280),\n",
       " ('must', 279),\n",
       " ('two', 278),\n",
       " ('last', 273),\n",
       " ('head', 263),\n",
       " ('see', 257),\n",
       " ('way', 253),\n",
       " ('little', 247),\n",
       " ('white', 247),\n",
       " ('boat', 241),\n",
       " ('round', 239),\n",
       " ('three', 235),\n",
       " ('sperm', 232),\n",
       " ('first', 229),\n",
       " ('stubb', 227),\n",
       " ('men', 224),\n",
       " ('say', 223),\n",
       " ('every', 223),\n",
       " ('us', 221),\n",
       " ('well', 221),\n",
       " ('much', 218),\n",
       " ('queequeg', 211),\n",
       " ('good', 195),\n",
       " ('hand', 194),\n",
       " ('go', 183),\n",
       " ('side', 183),\n",
       " ('thing', 181),\n",
       " ('look', 178),\n",
       " ('boats', 175),\n",
       " ('made', 174),\n",
       " ('away', 173),\n",
       " ('chapter', 172),\n",
       " ('come', 170),\n",
       " ('starbuck', 169),\n",
       " ('many', 161),\n",
       " ('water', 158),\n",
       " ('deck', 158),\n",
       " ('far', 157),\n",
       " ('seen', 156),\n",
       " ('day', 156),\n",
       " ('eyes', 153),\n",
       " ('ships', 152),\n",
       " ('sort', 151),\n",
       " ('sir', 151),\n",
       " ('cried', 149),\n",
       " ('back', 148),\n",
       " ('thought', 147),\n",
       " ('part', 147),\n",
       " ('world', 147),\n",
       " ('know', 145),\n",
       " ('whole', 137),\n",
       " ('oh', 137),\n",
       " ('right', 136),\n",
       " ('aye', 135),\n",
       " ('life', 134),\n",
       " ('crew', 133),\n",
       " ('air', 133),\n",
       " ('thus', 132),\n",
       " ('tell', 128),\n",
       " ('thee', 128),\n",
       " ('night', 128),\n",
       " ('soon', 128),\n",
       " ('came', 126),\n",
       " ('take', 126),\n",
       " ('hands', 125),\n",
       " ('things', 125),\n",
       " ('feet', 123),\n",
       " ('small', 122),\n",
       " ('pequod', 121),\n",
       " ('till', 119),\n",
       " ('something', 118),\n",
       " ('think', 116),\n",
       " ('line', 116),\n",
       " ('god', 115),\n",
       " ('towards', 113),\n",
       " ('thy', 113),\n",
       " ('found', 113),\n",
       " ('full', 111),\n",
       " ('along', 110),\n",
       " ('another', 110),\n",
       " ('dont', 110),\n",
       " ('times', 110),\n",
       " ('nothing', 109),\n",
       " ('make', 109),\n",
       " ('whaling', 108)]"
      ]
     },
     "execution_count": 18,
     "metadata": {},
     "output_type": "execute_result"
    }
   ],
   "source": [
    "'''\n",
    "kvwords is an RDD where each element is (w, 1), w is a word from the novel Moby Dick.\n",
    "If a word w occurs k times, there will be k pairs (w, 1) in the RDD kvwords.\n",
    "To compute the number of occurrences of each word, \n",
    "we should just sum the 1s associated to all pairs with the same key, for all keys.\n",
    "This is achieved with the reduceByKey() function.\n",
    "'''\n",
    "occurrences = kvwords.reduceByKey(lambda x, y : x + y)\n",
    "\n",
    "'''\n",
    "Each element of the RDD occurrences is a pair (w, f), where w is a word and f is the number of occurrences of w.\n",
    "Finally, we sort the RDD occurrences by value by using sortBy(). \n",
    "The first argument of the function sortBy() is a function that takes in a key-value pair and returns the \n",
    "value (x[1]). \n",
    "The second argument specifies the order (ascending or descending).\n",
    "'''\n",
    "occurrences = occurrences.sortBy(lambda x: x[1], ascending=False)\n",
    "occurrences.take(100)"
   ]
  },
  {
   "cell_type": "markdown",
   "metadata": {
    "autoscroll": "json-false",
    "ein.tags": [
     "worksheet-0"
    ],
    "slideshow": {
     "slide_type": "-"
    }
   },
   "source": [
    "\n",
    "<p align=\"justify\">\n",
    "<font size=\"3\">\n",
    "Another way to obtain the same result, would be to:\n",
    "<ol>\n",
    "<li> Apply the transformation $groupByKey()$ to the RDD $kvwords$. The result is a RDD $occurrences$, where each element is a pair $(w, L)$, $w$ is a word and $L$ is a list of 1s (as many as the number of occurrences of $w$).\n",
    "<li> Apply a transformation $map()$ to the RDD $occurrences$ to obtain a new RDD $occurrences$, where each element is a pair $(w, len(L))$, $w$ being a word and $len(L)$ being the number of elements of $L$.\n",
    "<li> Sort the RDD $occurrences$ as before.\n",
    "</ol>\n",
    "</font>\n",
    "</p>\n",
    "\n",
    "<hr style=\" border:none; height:2px;\">\n",
    "<font size=\"3\" color='#91053d'>**Execute the following code to see the result with this alternative solution**</font>\n",
    "<hr style=\" border:none; height:2px;\">"
   ]
  },
  {
   "cell_type": "code",
   "execution_count": 19,
   "metadata": {},
   "outputs": [
    {
     "data": {
      "text/plain": [
       "[('whale', 891),\n",
       " ('one', 875),\n",
       " ('old', 436),\n",
       " ('man', 433),\n",
       " ('ahab', 417),\n",
       " ('ye', 416),\n",
       " ('ship', 378),\n",
       " ('sea', 363),\n",
       " ('whales', 363),\n",
       " ('though', 362),\n",
       " ('time', 321),\n",
       " ('long', 313),\n",
       " ('captain', 292),\n",
       " ('great', 289),\n",
       " ('said', 288),\n",
       " ('seemed', 280),\n",
       " ('must', 279),\n",
       " ('two', 278),\n",
       " ('last', 273),\n",
       " ('head', 263),\n",
       " ('see', 257),\n",
       " ('way', 253),\n",
       " ('little', 247),\n",
       " ('white', 247),\n",
       " ('boat', 241),\n",
       " ('round', 239),\n",
       " ('three', 235),\n",
       " ('sperm', 232),\n",
       " ('first', 229),\n",
       " ('stubb', 227),\n",
       " ('men', 224),\n",
       " ('say', 223),\n",
       " ('every', 223),\n",
       " ('us', 221),\n",
       " ('well', 221),\n",
       " ('much', 218),\n",
       " ('queequeg', 211),\n",
       " ('good', 195),\n",
       " ('hand', 194),\n",
       " ('go', 183),\n",
       " ('side', 183),\n",
       " ('thing', 181),\n",
       " ('look', 178),\n",
       " ('boats', 175),\n",
       " ('made', 174),\n",
       " ('away', 173),\n",
       " ('chapter', 172),\n",
       " ('come', 170),\n",
       " ('starbuck', 169),\n",
       " ('many', 161),\n",
       " ('water', 158),\n",
       " ('deck', 158),\n",
       " ('far', 157),\n",
       " ('seen', 156),\n",
       " ('day', 156),\n",
       " ('eyes', 153),\n",
       " ('ships', 152),\n",
       " ('sort', 151),\n",
       " ('sir', 151),\n",
       " ('cried', 149),\n",
       " ('back', 148),\n",
       " ('thought', 147),\n",
       " ('part', 147),\n",
       " ('world', 147),\n",
       " ('know', 145),\n",
       " ('whole', 137),\n",
       " ('oh', 137),\n",
       " ('right', 136),\n",
       " ('aye', 135),\n",
       " ('life', 134),\n",
       " ('crew', 133),\n",
       " ('air', 133),\n",
       " ('thus', 132),\n",
       " ('tell', 128),\n",
       " ('thee', 128),\n",
       " ('night', 128),\n",
       " ('soon', 128),\n",
       " ('came', 126),\n",
       " ('take', 126),\n",
       " ('hands', 125),\n",
       " ('things', 125),\n",
       " ('feet', 123),\n",
       " ('small', 122),\n",
       " ('pequod', 121),\n",
       " ('till', 119),\n",
       " ('something', 118),\n",
       " ('think', 116),\n",
       " ('line', 116),\n",
       " ('god', 115),\n",
       " ('towards', 113),\n",
       " ('thy', 113),\n",
       " ('found', 113),\n",
       " ('full', 111),\n",
       " ('along', 110),\n",
       " ('another', 110),\n",
       " ('dont', 110),\n",
       " ('times', 110),\n",
       " ('nothing', 109),\n",
       " ('make', 109),\n",
       " ('whaling', 108)]"
      ]
     },
     "execution_count": 19,
     "metadata": {},
     "output_type": "execute_result"
    }
   ],
   "source": [
    "occurrences = kvwords.groupByKey()\n",
    "occurrences = occurrences.map(lambda x : (x[0], len(x[1])))\n",
    "occurrences = occurrences.sortBy(lambda x: x[1], ascending=False)\n",
    "occurrences.take(100)"
   ]
  },
  {
   "cell_type": "markdown",
   "metadata": {},
   "source": [
    "## 4.3 Actions on Pair RDDs\n",
    "\n",
    "<p justify=\"align\">\n",
    "<font size=\"3\">\n",
    "As with the transformations, all actions available for standard RDDs can be used on Pair RDDs as well.\n",
    "In addition, the following actions can be performed on Pair RDDs:\n",
    "<ol>\n",
    "<li> $countByKey()$. Counts the number of values associated with the same key. Returns a dictionary.\n",
    "<li> $collecAsMap()$. Collects the RDD as a dictionary (in the same way as the function $collect()$ returns a list from a standard RDD).\n",
    "<li> $lookup(key)$. Returns a list with all the values associated with the given _key_.\n",
    "</ol>\n",
    "</font>\n",
    "</p>\n",
    "\n",
    "<p justify=\"align\">\n",
    "<font size=\"3\">\n",
    "Referring again to the example of counting the occurrences of each word, the following code is yet another way to solve the problem by using the action $countByKey()$ on the RDD $kvwords$.\n",
    "</font>\n",
    "</p>\n",
    "\n",
    "<hr style=\" border:none; height:2px;\">\n",
    "<font size=\"3\" color='#91053d'>**Execute the following code**</font>\n",
    "<hr style=\" border:none; height:2px;\">"
   ]
  },
  {
   "cell_type": "code",
   "execution_count": 20,
   "metadata": {},
   "outputs": [
    {
     "name": "stdout",
     "output_type": "stream",
     "text": [
      "Top-100 most frequent words\n",
      "whale ,  891\n",
      "one ,  875\n",
      "old ,  436\n",
      "man ,  433\n",
      "ahab ,  417\n",
      "ye ,  416\n",
      "ship ,  378\n",
      "whales ,  363\n",
      "sea ,  363\n",
      "though ,  362\n",
      "time ,  321\n",
      "long ,  313\n",
      "captain ,  292\n",
      "great ,  289\n",
      "said ,  288\n",
      "seemed ,  280\n",
      "must ,  279\n",
      "two ,  278\n",
      "last ,  273\n",
      "head ,  263\n",
      "see ,  257\n",
      "way ,  253\n",
      "white ,  247\n",
      "little ,  247\n",
      "boat ,  241\n",
      "round ,  239\n",
      "three ,  235\n",
      "sperm ,  232\n",
      "first ,  229\n",
      "stubb ,  227\n",
      "men ,  224\n",
      "every ,  223\n",
      "say ,  223\n",
      "well ,  221\n",
      "us ,  221\n",
      "much ,  218\n",
      "queequeg ,  211\n",
      "good ,  195\n",
      "hand ,  194\n",
      "side ,  183\n",
      "go ,  183\n",
      "thing ,  181\n",
      "look ,  178\n",
      "boats ,  175\n",
      "made ,  174\n",
      "away ,  173\n",
      "chapter ,  172\n",
      "come ,  170\n",
      "starbuck ,  169\n",
      "many ,  161\n",
      "deck ,  158\n",
      "water ,  158\n",
      "far ,  157\n",
      "day ,  156\n",
      "seen ,  156\n",
      "eyes ,  153\n",
      "ships ,  152\n",
      "sir ,  151\n",
      "sort ,  151\n",
      "cried ,  149\n",
      "back ,  148\n",
      "world ,  147\n",
      "part ,  147\n",
      "thought ,  147\n",
      "know ,  145\n",
      "oh ,  137\n",
      "whole ,  137\n",
      "right ,  136\n",
      "aye ,  135\n",
      "life ,  134\n",
      "air ,  133\n",
      "crew ,  133\n",
      "thus ,  132\n",
      "soon ,  128\n",
      "night ,  128\n",
      "thee ,  128\n",
      "tell ,  128\n",
      "take ,  126\n",
      "came ,  126\n",
      "things ,  125\n",
      "hands ,  125\n",
      "feet ,  123\n",
      "small ,  122\n",
      "pequod ,  121\n",
      "till ,  119\n",
      "something ,  118\n",
      "line ,  116\n",
      "think ,  116\n",
      "god ,  115\n",
      "found ,  113\n",
      "thy ,  113\n",
      "towards ,  113\n",
      "full ,  111\n",
      "times ,  110\n",
      "dont ,  110\n",
      "another ,  110\n",
      "along ,  110\n",
      "make ,  109\n",
      "nothing ,  109\n",
      "called ,  108\n"
     ]
    }
   ],
   "source": [
    "occurrences = sorted(kvwords.countByKey().items(), key=operator.itemgetter(1))\n",
    "# Reverse the order\n",
    "occurrences.reverse()\n",
    "print(\"Top-100 most frequent words\")\n",
    "i = 0\n",
    "for (w, f) in occurrences:\n",
    "    i += 1\n",
    "    if i > 100:\n",
    "        break\n",
    "    print(w, \", \", f)\n",
    "    "
   ]
  },
  {
   "cell_type": "markdown",
   "metadata": {},
   "source": [
    "# 5. Exercises\n",
    "\n",
    "<p align=\"justify\">\n",
    "<font size=\"3\">\n",
    "Now it's your turn to apply the notions that you've learned so far to create some more complex applications.\n",
    "</font>\n",
    "</p>"
   ]
  },
  {
   "cell_type": "markdown",
   "metadata": {},
   "source": [
    "<hr style=\" border:none; height:2px;\">\n",
    "\n",
    "##  Exercise 3\n",
    "\n",
    "<p align=\"justify\">\n",
    "<font size=\"3\">\n",
    "In the folder _./data/bbc_ you'll find a collection of 50 documents from the BBC news website corresponding to stories in five topics from 2004-2005. The five topics are: _business_, _entertainment_, _politics_, _sport_ and _tech_. \n",
    "In the directory, the stories are text files (named _001.txt_, _002.txt_...) organized into five directories, one for topic.\n",
    "</font>\n",
    "</p>\n",
    "\n",
    "<p align=\"justify\">\n",
    "<font size=\"3\">\n",
    "In this exercise, we want to create an **inverted index**, one that associates each word to the list of files the word occurs in.\n",
    "More precisely, for each word, the inverted index will have a list of the names  of the files (path relative to the folder _./data_) that contain the word. The figure below shows the entry in the index for the word \"family\".\n",
    "\n",
    "<img src=\"./figs/inverted-index.png\" width=400>\n",
    "    An inverted index is an essential component of a search engine. In fact, given any word, the inverted index allows the search engine to quickly retrieve all documents containing that word.\n",
    "</font>\n",
    "</p>\n",
    "\n",
    "<p align=\"justify\">\n",
    "<font size=\"3\">\n",
    "The idea is to use a **MapReduce** schema. \n",
    "The **Map** task will create a key-value pair $(w, d)$ for each word $w$ that appears in the document $d$. $d$ is the path of the document relative to the folder _./data_ (e.g., _./data/bbc/business/001.txt_).\n",
    "The **Reduce** task will group by key all the key-value pairs with the same key to form the inverted index.\n",
    "</font>\n",
    "</p>\n",
    "\n",
    "<p align=\"justify\">\n",
    "<font size=\"3\" color='#91053d'>**Write a Spark application to create an inverted index for the BBC collection. By using the function $lookup$ (already provided), print the documents that contain the word 'family'.**\n",
    "<br>\n",
    "HINT:\n",
    "<ol>\n",
    "<li> Your program needs to go through all the documents in each of the five folders of the BBC collection. Click <a href=\"https://stackoverflow.com/questions/10377998/how-can-i-iterate-over-files-in-a-given-directory\">here</a> to find out how to loop over the files of a directory in Python.\n",
    "<li> To preprocess the text of a document, you can use the function $preprocess()$ defined above. The RDD $words$ returned by this function contains a word as many times as it appears in a document. Since for an inverted index we just need to know that a word is in a specific document, you should remove the duplicates from the RDD $words$.\n",
    "</ol>\n",
    "</font>\n",
    "</p>\n",
    "\n",
    "<hr style=\" border:none; height:2px;\">"
   ]
  },
  {
   "cell_type": "code",
   "execution_count": 30,
   "metadata": {},
   "outputs": [],
   "source": [
    "os.environ[\"PYTHONHASHSEED\"]=str(232)"
   ]
  },
  {
   "cell_type": "code",
   "execution_count": 31,
   "metadata": {},
   "outputs": [
    {
     "name": "stderr",
     "output_type": "stream",
     "text": [
      "[Stage 934:==================================================>  (191 + 8) / 200]\r"
     ]
    },
    {
     "name": "stdout",
     "output_type": "stream",
     "text": [
      "Inverted index [('everything', ['./data/bbc/sport/009.txt', './data/bbc/tech/009.txt']), ('backed', ['./data/bbc/tech/010.txt', './data/bbc/tech/006.txt']), ('policy', ['./data/bbc/tech/010.txt', './data/bbc/politics/005.txt', './data/bbc/business/002.txt']), ('step', ['./data/bbc/tech/001.txt']), ('orange', ['./data/bbc/tech/005.txt', './data/bbc/entertainment/007.txt']), ('led', ['./data/bbc/tech/006.txt']), ('matters', ['./data/bbc/politics/007.txt']), ('mpc', ['./data/bbc/politics/005.txt']), ('globalisation', ['./data/bbc/business/008.txt']), ('ears', ['./data/bbc/business/002.txt']), ('plates', ['./data/bbc/entertainment/001.txt']), ('barnett', ['./data/bbc/entertainment/006.txt']), ('m', ['./data/bbc/sport/009.txt', './data/bbc/sport/003.txt', './data/bbc/sport/010.txt', './data/bbc/sport/001.txt', './data/bbc/sport/007.txt', './data/bbc/sport/005.txt', './data/bbc/sport/006.txt', './data/bbc/politics/006.txt', './data/bbc/business/003.txt', './data/bbc/business/001.txt', './data/bbc/business/004.txt', './data/bbc/entertainment/003.txt', './data/bbc/entertainment/005.txt']), ('van', ['./data/bbc/sport/009.txt', './data/bbc/business/004.txt', './data/bbc/entertainment/003.txt']), ('weekend', ['./data/bbc/sport/009.txt', './data/bbc/politics/007.txt', './data/bbc/entertainment/010.txt']), ('jadel', ['./data/bbc/sport/009.txt']), ('prove', ['./data/bbc/sport/003.txt']), ('faces', ['./data/bbc/sport/003.txt', './data/bbc/tech/008.txt', './data/bbc/tech/010.txt', './data/bbc/business/003.txt']), ('longcourse', ['./data/bbc/sport/002.txt']), ('demystify', ['./data/bbc/sport/004.txt']), ('media', ['./data/bbc/sport/004.txt', './data/bbc/tech/007.txt', './data/bbc/tech/004.txt', './data/bbc/politics/009.txt', './data/bbc/business/001.txt', './data/bbc/entertainment/010.txt']), ('surprisngly', ['./data/bbc/tech/009.txt']), ('marketing', ['./data/bbc/tech/009.txt', './data/bbc/tech/004.txt', './data/bbc/business/010.txt']), ('lists', ['./data/bbc/tech/009.txt']), ('gone', ['./data/bbc/tech/009.txt', './data/bbc/politics/009.txt']), ('today', ['./data/bbc/tech/009.txt', './data/bbc/politics/003.txt', './data/bbc/politics/005.txt']), ('allows', ['./data/bbc/tech/010.txt', './data/bbc/tech/006.txt']), ('branch', ['./data/bbc/tech/001.txt']), ('involvement', ['./data/bbc/tech/006.txt']), ('oldfashioned', ['./data/bbc/politics/003.txt']), ('retraining', ['./data/bbc/politics/001.txt']), ('crops', ['./data/bbc/business/009.txt']), ('quarterly', ['./data/bbc/business/001.txt', './data/bbc/business/004.txt']), ('unnatural', ['./data/bbc/entertainment/010.txt']), ('guise', ['./data/bbc/entertainment/010.txt']), ('raise', ['./data/bbc/entertainment/010.txt']), ('soccer', ['./data/bbc/entertainment/002.txt']), ('ian', ['./data/bbc/sport/009.txt', './data/bbc/entertainment/008.txt']), ('third', ['./data/bbc/sport/009.txt', './data/bbc/sport/003.txt', './data/bbc/tech/009.txt', './data/bbc/politics/005.txt', './data/bbc/business/001.txt', './data/bbc/business/005.txt', './data/bbc/business/004.txt', './data/bbc/business/006.txt', './data/bbc/entertainment/007.txt']), ('grand', ['./data/bbc/sport/003.txt', './data/bbc/sport/010.txt', './data/bbc/sport/001.txt', './data/bbc/sport/006.txt']), ('karl', ['./data/bbc/tech/009.txt']), ('created', ['./data/bbc/tech/009.txt', './data/bbc/tech/005.txt', './data/bbc/business/007.txt', './data/bbc/entertainment/005.txt', './data/bbc/entertainment/004.txt']), ('pushed', ['./data/bbc/tech/001.txt', './data/bbc/business/007.txt']), ('although', ['./data/bbc/tech/007.txt', './data/bbc/entertainment/010.txt']), ('bulbs', ['./data/bbc/tech/006.txt', './data/bbc/entertainment/001.txt']), ('blairs', ['./data/bbc/politics/007.txt']), ('altria', ['./data/bbc/business/010.txt']), ('regulators', ['./data/bbc/business/001.txt']), ('greenback', ['./data/bbc/business/002.txt']), ('broughton', ['./data/bbc/business/004.txt']), ('upward', ['./data/bbc/business/006.txt']), ('playwright', ['./data/bbc/entertainment/008.txt', './data/bbc/entertainment/010.txt', './data/bbc/entertainment/006.txt']), ('version', ['./data/bbc/entertainment/009.txt']), ('since', ['./data/bbc/sport/009.txt', './data/bbc/sport/001.txt', './data/bbc/tech/005.txt', './data/bbc/politics/009.txt', './data/bbc/politics/004.txt', './data/bbc/politics/006.txt', './data/bbc/business/007.txt', './data/bbc/business/004.txt', './data/bbc/entertainment/006.txt']), ('also', ['./data/bbc/sport/009.txt', './data/bbc/sport/003.txt', './data/bbc/sport/010.txt', './data/bbc/sport/001.txt', './data/bbc/sport/002.txt', './data/bbc/sport/004.txt', './data/bbc/sport/006.txt', './data/bbc/tech/009.txt', './data/bbc/tech/003.txt', './data/bbc/tech/010.txt', './data/bbc/tech/007.txt', './data/bbc/tech/002.txt', './data/bbc/tech/005.txt', './data/bbc/tech/004.txt', './data/bbc/tech/006.txt', './data/bbc/politics/003.txt', './data/bbc/politics/001.txt', './data/bbc/politics/005.txt', './data/bbc/politics/006.txt', './data/bbc/business/008.txt', './data/bbc/business/010.txt', './data/bbc/business/001.txt', './data/bbc/business/007.txt', './data/bbc/business/004.txt', './data/bbc/entertainment/008.txt', './data/bbc/entertainment/010.txt', './data/bbc/entertainment/001.txt', './data/bbc/entertainment/007.txt', './data/bbc/entertainment/002.txt', './data/bbc/entertainment/006.txt']), ('energy', ['./data/bbc/sport/003.txt']), ('twice', ['./data/bbc/sport/001.txt', './data/bbc/tech/010.txt']), ('santry', ['./data/bbc/sport/002.txt']), ('officially', ['./data/bbc/sport/002.txt', './data/bbc/tech/006.txt']), ('axe', ['./data/bbc/tech/010.txt']), ('comptia', ['./data/bbc/tech/010.txt']), ('attacker', ['./data/bbc/tech/007.txt']), ('baftawinning', ['./data/bbc/tech/005.txt']), ('concept', ['./data/bbc/tech/004.txt']), ('juggle', ['./data/bbc/politics/008.txt']), ('accusations', ['./data/bbc/politics/009.txt']), ('funny', ['./data/bbc/politics/009.txt', './data/bbc/entertainment/008.txt']), ('cochairman', ['./data/bbc/politics/009.txt', './data/bbc/politics/007.txt']), ('sandra', ['./data/bbc/politics/001.txt']), ('chose', ['./data/bbc/politics/007.txt']), ('channel', ['./data/bbc/business/008.txt', './data/bbc/entertainment/004.txt']), ('margins', ['./data/bbc/business/001.txt', './data/bbc/business/004.txt']), ('definition', ['./data/bbc/business/006.txt']), ('sexuality', ['./data/bbc/entertainment/010.txt']), ('robbie', ['./data/bbc/entertainment/004.txt']), ('got', ['./data/bbc/sport/009.txt', './data/bbc/sport/003.txt', './data/bbc/sport/010.txt', './data/bbc/tech/009.txt', './data/bbc/politics/008.txt', './data/bbc/politics/003.txt', './data/bbc/politics/002.txt', './data/bbc/business/007.txt']), ('turn', ['./data/bbc/sport/009.txt', './data/bbc/politics/006.txt', './data/bbc/business/003.txt']), ('selected', ['./data/bbc/sport/002.txt']), ('mccambridge', ['./data/bbc/sport/002.txt']), ('kluft', ['./data/bbc/sport/005.txt']), ('laptop', ['./data/bbc/tech/009.txt', './data/bbc/tech/004.txt']), ('size', ['./data/bbc/tech/009.txt']), ('tell', ['./data/bbc/tech/009.txt']), ('proponents', ['./data/bbc/tech/010.txt']), ('referendum', ['./data/bbc/tech/001.txt']), ('polling', ['./data/bbc/tech/001.txt', './data/bbc/politics/005.txt']), ('effective', ['./data/bbc/tech/001.txt']), ('changed', ['./data/bbc/politics/008.txt']), ('prevents', ['./data/bbc/politics/003.txt']), ('details', ['./data/bbc/politics/001.txt', './data/bbc/politics/002.txt', './data/bbc/entertainment/009.txt']), ('thefirst', ['./data/bbc/politics/006.txt']), ('cereals', ['./data/bbc/business/009.txt']), ('loss', ['./data/bbc/business/001.txt']), ('albeit', ['./data/bbc/business/007.txt']), ('premier', ['./data/bbc/business/005.txt']), ('measure', ['./data/bbc/entertainment/008.txt', './data/bbc/entertainment/006.txt']), ('amazed', ['./data/bbc/entertainment/010.txt']), ('secs', ['./data/bbc/sport/009.txt', './data/bbc/sport/006.txt']), ('vomiting', ['./data/bbc/sport/009.txt']), ('competing', ['./data/bbc/sport/010.txt', './data/bbc/entertainment/008.txt']), ('struggled', ['./data/bbc/sport/001.txt']), ('outkicked', ['./data/bbc/sport/005.txt']), ('stakeholders', ['./data/bbc/sport/004.txt']), ('chosen', ['./data/bbc/tech/009.txt', './data/bbc/politics/004.txt', './data/bbc/entertainment/006.txt']), ('andor', ['./data/bbc/tech/009.txt']), ('toys', ['./data/bbc/tech/009.txt']), ('foundation', ['./data/bbc/tech/001.txt']), ('dance', ['./data/bbc/tech/005.txt']), ('processors', ['./data/bbc/tech/004.txt']), ('blair', ['./data/bbc/politics/008.txt', './data/bbc/politics/001.txt', './data/bbc/politics/007.txt', './data/bbc/politics/002.txt', './data/bbc/politics/005.txt']), ('audit', ['./data/bbc/politics/006.txt']), ('josserand', ['./data/bbc/business/009.txt']), ('drop', ['./data/bbc/business/004.txt']), ('paribas', ['./data/bbc/business/004.txt']), ('servant', ['./data/bbc/entertainment/008.txt']), ('amanda', ['./data/bbc/entertainment/004.txt']), ('equal', ['./data/bbc/sport/009.txt', './data/bbc/sport/001.txt', './data/bbc/tech/006.txt', './data/bbc/politics/003.txt']), ('image', ['./data/bbc/tech/008.txt', './data/bbc/tech/004.txt']), ('marvel', ['./data/bbc/tech/009.txt']), ('sinclair', ['./data/bbc/tech/009.txt']), ('stones', ['./data/bbc/tech/009.txt']), ('prevent', ['./data/bbc/tech/001.txt', './data/bbc/politics/002.txt', './data/bbc/business/003.txt']), ('cause', ['./data/bbc/tech/001.txt']), ('selfexpression', ['./data/bbc/tech/005.txt']), ('overheads', ['./data/bbc/tech/004.txt']), ('maybe', ['./data/bbc/politics/009.txt']), ('definitely', ['./data/bbc/politics/001.txt']), ('bank', ['./data/bbc/politics/005.txt', './data/bbc/business/008.txt', './data/bbc/business/002.txt']), ('conspired', ['./data/bbc/business/010.txt']), ('slump', ['./data/bbc/business/001.txt']), ('resolve', ['./data/bbc/business/001.txt']), ('partly', ['./data/bbc/business/002.txt', './data/bbc/entertainment/006.txt']), ('bennetts', ['./data/bbc/entertainment/008.txt', './data/bbc/entertainment/006.txt']), ('aston', ['./data/bbc/sport/009.txt']), ('tank', ['./data/bbc/sport/009.txt']), ('behind', ['./data/bbc/sport/003.txt', './data/bbc/tech/001.txt']), ('mottram', ['./data/bbc/sport/007.txt']), ('present', ['./data/bbc/sport/002.txt', './data/bbc/tech/005.txt', './data/bbc/politics/008.txt', './data/bbc/entertainment/009.txt']), ('th', ['./data/bbc/sport/006.txt', './data/bbc/tech/009.txt', './data/bbc/tech/005.txt', './data/bbc/entertainment/008.txt', './data/bbc/entertainment/001.txt']), ('electronic', ['./data/bbc/tech/008.txt', './data/bbc/tech/009.txt']), ('manage', ['./data/bbc/tech/009.txt']), ('system', ['./data/bbc/tech/010.txt', './data/bbc/tech/004.txt', './data/bbc/tech/006.txt', './data/bbc/business/009.txt']), ('affect', ['./data/bbc/tech/007.txt', './data/bbc/politics/005.txt']), ('hope', ['./data/bbc/tech/005.txt', './data/bbc/politics/004.txt']), ('slower', ['./data/bbc/tech/004.txt']), ('element', ['./data/bbc/tech/006.txt']), ('provided', ['./data/bbc/tech/006.txt']), ('lives', ['./data/bbc/tech/006.txt']), ('extory', ['./data/bbc/politics/008.txt']), ('okay', ['./data/bbc/politics/009.txt']), ('partnerships', ['./data/bbc/politics/006.txt']), ('rains', ['./data/bbc/business/009.txt']), ('jumped', ['./data/bbc/business/001.txt']), ('exceptional', ['./data/bbc/business/001.txt']), ('fallen', ['./data/bbc/business/002.txt']), ('whilst', ['./data/bbc/business/004.txt']), ('tokyo', ['./data/bbc/business/006.txt']), ('aulis', ['./data/bbc/entertainment/008.txt']), ('monologues', ['./data/bbc/entertainment/010.txt']), ('pamela', ['./data/bbc/entertainment/005.txt']), ('jump', ['./data/bbc/sport/009.txt', './data/bbc/sport/009.txt', './data/bbc/sport/001.txt', './data/bbc/sport/005.txt']), ('lost', ['./data/bbc/sport/003.txt', './data/bbc/politics/004.txt', './data/bbc/business/001.txt', './data/bbc/business/005.txt']), ('sixth', ['./data/bbc/sport/010.txt', './data/bbc/sport/001.txt', './data/bbc/business/002.txt']), ('erase', ['./data/bbc/sport/005.txt']), ('thought', ['./data/bbc/sport/004.txt', './data/bbc/tech/008.txt', './data/bbc/tech/005.txt', './data/bbc/politics/004.txt', './data/bbc/business/002.txt', './data/bbc/business/006.txt', './data/bbc/entertainment/002.txt']), ('current', ['./data/bbc/tech/009.txt', './data/bbc/politics/008.txt', './data/bbc/politics/002.txt', './data/bbc/politics/005.txt', './data/bbc/business/002.txt']), ('notably', ['./data/bbc/tech/001.txt']), ('overseas', ['./data/bbc/tech/002.txt']), ('book', ['./data/bbc/tech/004.txt', './data/bbc/business/001.txt', './data/bbc/entertainment/009.txt', './data/bbc/entertainment/007.txt', './data/bbc/entertainment/005.txt', './data/bbc/entertainment/004.txt']), ('school', ['./data/bbc/politics/008.txt', './data/bbc/entertainment/002.txt', './data/bbc/entertainment/006.txt']), ('walked', ['./data/bbc/politics/007.txt']), ('delivery', ['./data/bbc/politics/006.txt', './data/bbc/business/004.txt']), ('exports', ['./data/bbc/business/008.txt', './data/bbc/business/006.txt']), ('bn', ['./data/bbc/business/003.txt', './data/bbc/business/010.txt', './data/bbc/business/001.txt', './data/bbc/business/005.txt', './data/bbc/business/004.txt']), ('paris', ['./data/bbc/business/005.txt']), ('malibu', ['./data/bbc/business/005.txt']), ('pam', ['./data/bbc/entertainment/008.txt']), ('stanley', ['./data/bbc/entertainment/008.txt']), ('studying', ['./data/bbc/entertainment/007.txt']), ('barred', ['./data/bbc/entertainment/005.txt']), ('keep', ['./data/bbc/sport/001.txt', './data/bbc/sport/004.txt', './data/bbc/tech/009.txt', './data/bbc/tech/004.txt', './data/bbc/business/002.txt']), ('automatic', ['./data/bbc/sport/002.txt']), ('ceplak', ['./data/bbc/sport/005.txt']), ('hand', ['./data/bbc/tech/008.txt', './data/bbc/tech/006.txt']), ('emenating', ['./data/bbc/tech/009.txt']), ('lamp', ['./data/bbc/tech/001.txt']), ('concealing', ['./data/bbc/tech/005.txt']), ('intended', ['./data/bbc/politics/009.txt', './data/bbc/entertainment/010.txt', './data/bbc/entertainment/005.txt']), ('prebudget', ['./data/bbc/politics/001.txt']), ('force', ['./data/bbc/politics/002.txt']), ('tim', ['./data/bbc/business/003.txt']), ('aircraft', ['./data/bbc/business/004.txt']), ('trademark', ['./data/bbc/entertainment/005.txt']), ('injury', ['./data/bbc/sport/009.txt', './data/bbc/sport/007.txt']), ('high', ['./data/bbc/sport/009.txt', './data/bbc/tech/009.txt', './data/bbc/tech/001.txt', './data/bbc/tech/002.txt', './data/bbc/politics/003.txt', './data/bbc/business/004.txt']), ('swedens', ['./data/bbc/sport/005.txt']), ('elseners', ['./data/bbc/tech/009.txt']), ('spates', ['./data/bbc/tech/007.txt']), ('navigated', ['./data/bbc/tech/005.txt']), ('sexist', ['./data/bbc/politics/008.txt']), ('dominated', ['./data/bbc/politics/003.txt']), ('helicopter', ['./data/bbc/politics/007.txt']), ('gathered', ['./data/bbc/politics/005.txt']), ('gather', ['./data/bbc/politics/004.txt']), ('incredible', ['./data/bbc/politics/006.txt']), ('reform', ['./data/bbc/business/008.txt']), ('spirits', ['./data/bbc/business/005.txt']), ('closest', ['./data/bbc/sport/003.txt', './data/bbc/politics/005.txt']), ('alone', ['./data/bbc/sport/003.txt', './data/bbc/tech/005.txt']), ('prix', ['./data/bbc/sport/003.txt', './data/bbc/sport/010.txt', './data/bbc/sport/001.txt', './data/bbc/sport/006.txt']), ('south', ['./data/bbc/tech/008.txt', './data/bbc/tech/001.txt', './data/bbc/politics/007.txt', './data/bbc/business/008.txt']), ('asked', ['./data/bbc/tech/009.txt', './data/bbc/politics/009.txt']), ('breville', ['./data/bbc/tech/009.txt']), ('tinny', ['./data/bbc/tech/009.txt']), ('shocking', ['./data/bbc/tech/009.txt', './data/bbc/politics/008.txt']), ('criminal', ['./data/bbc/tech/003.txt', './data/bbc/politics/002.txt']), ('patent', ['./data/bbc/tech/010.txt', './data/bbc/tech/005.txt']), ('hugo', ['./data/bbc/tech/010.txt']), ('available', ['./data/bbc/tech/007.txt']), ('announces', ['./data/bbc/tech/007.txt']), ('china', ['./data/bbc/tech/002.txt', './data/bbc/tech/004.txt', './data/bbc/business/008.txt', './data/bbc/business/002.txt']), ('initiatives', ['./data/bbc/tech/005.txt']), ('flow', ['./data/bbc/tech/005.txt']), ('prices', ['./data/bbc/tech/006.txt', './data/bbc/politics/005.txt', './data/bbc/business/002.txt', './data/bbc/business/004.txt']), ('patronising', ['./data/bbc/politics/008.txt']), ('dorset', ['./data/bbc/politics/007.txt']), ('costcutting', ['./data/bbc/business/004.txt']), ('phase', ['./data/bbc/business/006.txt']), ('kelly', ['./data/bbc/entertainment/008.txt', './data/bbc/entertainment/005.txt']), ('harris', ['./data/bbc/entertainment/007.txt']), ('knew', ['./data/bbc/entertainment/002.txt']), ('anderson', ['./data/bbc/entertainment/002.txt']), ('happen', ['./data/bbc/sport/003.txt', './data/bbc/politics/010.txt']), ('go', ['./data/bbc/sport/003.txt', './data/bbc/sport/005.txt', './data/bbc/tech/009.txt', './data/bbc/tech/010.txt', './data/bbc/tech/004.txt', './data/bbc/politics/008.txt', './data/bbc/politics/009.txt', './data/bbc/entertainment/010.txt']), ('field', ['./data/bbc/sport/010.txt', './data/bbc/sport/004.txt']), ('already', ['./data/bbc/sport/001.txt', './data/bbc/tech/008.txt', './data/bbc/tech/004.txt', './data/bbc/tech/006.txt', './data/bbc/politics/001.txt', './data/bbc/politics/002.txt', './data/bbc/politics/006.txt', './data/bbc/business/003.txt', './data/bbc/business/010.txt', './data/bbc/business/001.txt', './data/bbc/entertainment/007.txt']), ('security', ['./data/bbc/tech/008.txt', './data/bbc/tech/003.txt', './data/bbc/tech/007.txt']), ('gameboy', ['./data/bbc/tech/009.txt']), ('calculator', ['./data/bbc/tech/009.txt']), ('requiring', ['./data/bbc/tech/001.txt']), ('actual', ['./data/bbc/tech/001.txt']), ('fingers', ['./data/bbc/tech/001.txt']), ('harman', ['./data/bbc/politics/008.txt']), ('legislation', ['./data/bbc/politics/010.txt', './data/bbc/business/010.txt']), ('offence', ['./data/bbc/politics/002.txt']), ('concerns', ['./data/bbc/business/002.txt']), ('euros', ['./data/bbc/business/005.txt']), ('domecqs', ['./data/bbc/business/005.txt']), ('mike', ['./data/bbc/business/004.txt']), ('planned', ['./data/bbc/entertainment/002.txt']), ('competition', ['./data/bbc/sport/009.txt', './data/bbc/sport/010.txt', './data/bbc/sport/007.txt', './data/bbc/tech/009.txt', './data/bbc/politics/006.txt', './data/bbc/business/004.txt']), ('season', ['./data/bbc/sport/009.txt', './data/bbc/sport/003.txt', './data/bbc/sport/001.txt', './data/bbc/sport/006.txt', './data/bbc/entertainment/006.txt']), ('sit', ['./data/bbc/sport/005.txt', './data/bbc/sport/004.txt']), ('backdoor', ['./data/bbc/tech/008.txt']), ('outside', ['./data/bbc/tech/009.txt']), ('released', ['./data/bbc/tech/003.txt', './data/bbc/tech/007.txt']), ('thrown', ['./data/bbc/tech/010.txt', './data/bbc/business/010.txt']), ('parliamentary', ['./data/bbc/tech/001.txt', './data/bbc/politics/005.txt']), ('telco', ['./data/bbc/tech/005.txt']), ('fortified', ['./data/bbc/business/009.txt']), ('pregnant', ['./data/bbc/business/009.txt']), ('lawyer', ['./data/bbc/business/003.txt']), ('chivas', ['./data/bbc/business/005.txt']), ('recession', ['./data/bbc/business/006.txt']), ('world', ['./data/bbc/sport/009.txt', './data/bbc/sport/003.txt', './data/bbc/sport/010.txt', './data/bbc/sport/001.txt', './data/bbc/sport/002.txt', './data/bbc/sport/005.txt', './data/bbc/sport/004.txt', './data/bbc/sport/006.txt', './data/bbc/tech/009.txt', './data/bbc/tech/001.txt', './data/bbc/tech/002.txt', './data/bbc/tech/005.txt', './data/bbc/tech/004.txt', './data/bbc/tech/006.txt', './data/bbc/politics/008.txt', './data/bbc/business/008.txt', './data/bbc/business/009.txt', './data/bbc/business/004.txt', './data/bbc/entertainment/009.txt', './data/bbc/entertainment/010.txt', './data/bbc/entertainment/007.txt', './data/bbc/entertainment/002.txt', './data/bbc/entertainment/004.txt']), ('dutchman', ['./data/bbc/sport/009.txt']), ('biggest', ['./data/bbc/sport/003.txt', './data/bbc/business/010.txt', './data/bbc/business/001.txt']), ('week', ['./data/bbc/sport/002.txt', './data/bbc/sport/006.txt', './data/bbc/tech/003.txt', './data/bbc/tech/001.txt', './data/bbc/tech/007.txt', './data/bbc/politics/001.txt', './data/bbc/politics/007.txt', './data/bbc/entertainment/005.txt']), ('fight', ['./data/bbc/sport/004.txt', './data/bbc/politics/007.txt', './data/bbc/business/003.txt', './data/bbc/entertainment/008.txt', './data/bbc/entertainment/007.txt']), ('remote', ['./data/bbc/tech/009.txt']), ('politicians', ['./data/bbc/tech/010.txt']), ('round', ['./data/bbc/tech/010.txt']), ('modernity', ['./data/bbc/tech/005.txt']), ('barracking', ['./data/bbc/politics/008.txt']), ('paid', ['./data/bbc/politics/003.txt', './data/bbc/politics/001.txt']), ('watchdog', ['./data/bbc/politics/002.txt', './data/bbc/politics/006.txt']), ('greenwich', ['./data/bbc/politics/006.txt']), ('cope', ['./data/bbc/business/008.txt']), ('objectives', ['./data/bbc/business/001.txt']), ('stewart', ['./data/bbc/entertainment/003.txt']), ('ambassadors', ['./data/bbc/entertainment/002.txt']), ('olympics', ['./data/bbc/sport/009.txt']), ('joice', ['./data/bbc/sport/009.txt']), ('see', ['./data/bbc/sport/001.txt', './data/bbc/sport/004.txt', './data/bbc/tech/009.txt', './data/bbc/tech/007.txt', './data/bbc/tech/002.txt', './data/bbc/politics/001.txt', './data/bbc/politics/005.txt', './data/bbc/entertainment/009.txt']), ('athletics', ['./data/bbc/sport/002.txt', './data/bbc/sport/004.txt']), ('cragg', ['./data/bbc/sport/005.txt']), ('warning', ['./data/bbc/tech/008.txt', './data/bbc/tech/003.txt', './data/bbc/business/009.txt', './data/bbc/entertainment/005.txt']), ('associated', ['./data/bbc/tech/001.txt']), ('deputies', ['./data/bbc/tech/001.txt']), ('ballot', ['./data/bbc/tech/001.txt']), ('newspapers', ['./data/bbc/tech/001.txt']), ('century', ['./data/bbc/tech/005.txt', './data/bbc/entertainment/009.txt']), ('answer', ['./data/bbc/tech/006.txt']), ('moran', ['./data/bbc/politics/008.txt']), ('accusing', ['./data/bbc/business/010.txt']), ('unable', ['./data/bbc/business/001.txt']), ('extremely', ['./data/bbc/entertainment/010.txt', './data/bbc/entertainment/004.txt']), ('takes', ['./data/bbc/entertainment/006.txt']), ('start', ['./data/bbc/sport/009.txt', './data/bbc/sport/010.txt', './data/bbc/sport/006.txt', './data/bbc/business/004.txt', './data/bbc/entertainment/005.txt']), ('result', ['./data/bbc/sport/010.txt', './data/bbc/tech/005.txt', './data/bbc/politics/003.txt', './data/bbc/politics/007.txt', './data/bbc/business/007.txt', './data/bbc/business/002.txt']), ('depending', ['./data/bbc/tech/008.txt']), ('compatible', ['./data/bbc/tech/009.txt']), ('using', ['./data/bbc/tech/009.txt', './data/bbc/tech/001.txt', './data/bbc/tech/005.txt', './data/bbc/tech/004.txt', './data/bbc/tech/006.txt']), ('messaging', ['./data/bbc/tech/007.txt']), ('technical', ['./data/bbc/tech/005.txt', './data/bbc/tech/006.txt', './data/bbc/business/006.txt', './data/bbc/entertainment/005.txt']), ('women', ['./data/bbc/tech/006.txt', './data/bbc/politics/008.txt', './data/bbc/politics/003.txt', './data/bbc/politics/001.txt', './data/bbc/business/009.txt', './data/bbc/entertainment/010.txt']), ('communities', ['./data/bbc/tech/006.txt']), ('reveal', ['./data/bbc/politics/008.txt']), ('totally', ['./data/bbc/politics/002.txt']), ('ed', ['./data/bbc/politics/005.txt']), ('campaigns', ['./data/bbc/business/010.txt']), ('impose', ['./data/bbc/business/010.txt']), ('probe', ['./data/bbc/business/001.txt']), ('bmo', ['./data/bbc/business/007.txt']), ('analyst', ['./data/bbc/business/004.txt']), ('gift', ['./data/bbc/entertainment/003.txt']), ('teaching', ['./data/bbc/entertainment/007.txt']), ('great', ['./data/bbc/sport/009.txt', './data/bbc/sport/010.txt', './data/bbc/sport/007.txt', './data/bbc/sport/002.txt', './data/bbc/tech/009.txt', './data/bbc/tech/006.txt', './data/bbc/politics/008.txt', './data/bbc/politics/009.txt', './data/bbc/entertainment/009.txt']), ('boston', ['./data/bbc/sport/007.txt', './data/bbc/sport/005.txt']), ('ethiopian', ['./data/bbc/sport/005.txt']), ('communication', ['./data/bbc/tech/009.txt']), ('troubled', ['./data/bbc/tech/010.txt']), ('trained', ['./data/bbc/tech/006.txt']), ('spin', ['./data/bbc/politics/009.txt']), ('records', ['./data/bbc/politics/002.txt']), ('totalled', ['./data/bbc/business/009.txt']), ('jamie', ['./data/bbc/business/003.txt']), ('became', ['./data/bbc/business/007.txt', './data/bbc/entertainment/007.txt']), ('death', ['./data/bbc/entertainment/009.txt']), ('life', ['./data/bbc/entertainment/009.txt', './data/bbc/entertainment/003.txt', './data/bbc/entertainment/007.txt', './data/bbc/entertainment/002.txt']), ('novelist', ['./data/bbc/entertainment/007.txt']), ('paperbacks', ['./data/bbc/entertainment/004.txt']), ('contest', ['./data/bbc/sport/003.txt', './data/bbc/politics/007.txt']), ('aiming', ['./data/bbc/sport/010.txt']), ('refocused', ['./data/bbc/sport/001.txt']), ('miscounted', ['./data/bbc/sport/005.txt']), ('end', ['./data/bbc/tech/009.txt', './data/bbc/tech/004.txt', './data/bbc/politics/001.txt', './data/bbc/entertainment/008.txt', './data/bbc/entertainment/007.txt', './data/bbc/entertainment/005.txt']), ('sweet', ['./data/bbc/tech/009.txt']), ('delete', ['./data/bbc/tech/003.txt', './data/bbc/tech/007.txt', './data/bbc/politics/002.txt']), ('microsofts', ['./data/bbc/tech/003.txt', './data/bbc/tech/007.txt']), ('monopolies', ['./data/bbc/tech/010.txt']), ('proposed', ['./data/bbc/tech/010.txt']), ('means', ['./data/bbc/tech/010.txt', './data/bbc/tech/002.txt', './data/bbc/tech/005.txt', './data/bbc/business/007.txt']), ('ink', ['./data/bbc/tech/001.txt']), ('embassy', ['./data/bbc/tech/001.txt']), ('xinhua', ['./data/bbc/tech/002.txt']), ('sexism', ['./data/bbc/politics/003.txt']), ('reimburses', ['./data/bbc/politics/003.txt']), ('achieving', ['./data/bbc/politics/003.txt']), ('covered', ['./data/bbc/politics/001.txt', './data/bbc/entertainment/009.txt']), ('attacking', ['./data/bbc/politics/007.txt']), ('lib', ['./data/bbc/politics/007.txt', './data/bbc/politics/002.txt']), ('threeparty', ['./data/bbc/politics/007.txt']), ('rate', ['./data/bbc/politics/005.txt', './data/bbc/business/008.txt', './data/bbc/business/007.txt']), ('regal', ['./data/bbc/business/005.txt']), ('actress', ['./data/bbc/entertainment/008.txt', './data/bbc/entertainment/005.txt', './data/bbc/entertainment/006.txt']), ('leaves', ['./data/bbc/entertainment/008.txt']), ('premiere', ['./data/bbc/entertainment/005.txt']), ('books', ['./data/bbc/entertainment/004.txt']), ('forward', ['./data/bbc/sport/010.txt', './data/bbc/tech/001.txt', './data/bbc/politics/009.txt', './data/bbc/politics/007.txt']), ('setting', ['./data/bbc/sport/001.txt']), ('moving', ['./data/bbc/sport/001.txt', './data/bbc/tech/009.txt', './data/bbc/entertainment/007.txt']), ('colchester', ['./data/bbc/sport/001.txt']), ('despatch', ['./data/bbc/tech/008.txt']), ('opens', ['./data/bbc/tech/008.txt']), ('army', ['./data/bbc/tech/009.txt']), ('important', ['./data/bbc/tech/009.txt', './data/bbc/tech/001.txt', './data/bbc/tech/007.txt', './data/bbc/tech/004.txt', './data/bbc/politics/009.txt', './data/bbc/politics/002.txt', './data/bbc/politics/005.txt']), ('askar', ['./data/bbc/tech/001.txt']), ('wash', ['./data/bbc/tech/001.txt']), ('westminster', ['./data/bbc/politics/008.txt', './data/bbc/politics/010.txt']), ('remember', ['./data/bbc/politics/008.txt']), ('cabinet', ['./data/bbc/politics/008.txt', './data/bbc/politics/007.txt', './data/bbc/politics/002.txt']), ('suggesting', ['./data/bbc/politics/009.txt', './data/bbc/business/006.txt']), ('patricia', ['./data/bbc/politics/003.txt', './data/bbc/politics/001.txt']), ('pledges', ['./data/bbc/politics/007.txt']), ('electioneering', ['./data/bbc/politics/005.txt']), ('hit', ['./data/bbc/business/002.txt', './data/bbc/business/004.txt', './data/bbc/entertainment/003.txt']), ('patchier', ['./data/bbc/business/006.txt']), ('course', ['./data/bbc/entertainment/007.txt']), ('julie', ['./data/bbc/entertainment/005.txt']), ('put', ['./data/bbc/sport/009.txt', './data/bbc/sport/003.txt', './data/bbc/tech/009.txt', './data/bbc/tech/001.txt', './data/bbc/tech/004.txt', './data/bbc/politics/008.txt', './data/bbc/politics/005.txt', './data/bbc/entertainment/010.txt']), ('justin', ['./data/bbc/sport/003.txt']), ('mistake', ['./data/bbc/sport/003.txt', './data/bbc/sport/005.txt', './data/bbc/politics/009.txt']), ('official', ['./data/bbc/sport/002.txt', './data/bbc/tech/001.txt', './data/bbc/tech/002.txt', './data/bbc/politics/009.txt', './data/bbc/politics/004.txt']), ('tamagotchi', ['./data/bbc/tech/009.txt']), ('improvement', ['./data/bbc/tech/009.txt', './data/bbc/business/004.txt']), ('exposed', ['./data/bbc/tech/002.txt']), ('controls', ['./data/bbc/tech/002.txt']), ('making', ['./data/bbc/tech/004.txt', './data/bbc/tech/006.txt', './data/bbc/politics/007.txt', './data/bbc/business/006.txt']), ('huaral', ['./data/bbc/tech/006.txt']), ('complexes', ['./data/bbc/politics/010.txt']), ('right', ['./data/bbc/politics/001.txt', './data/bbc/politics/007.txt', './data/bbc/politics/002.txt', './data/bbc/politics/005.txt']), ('particular', ['./data/bbc/politics/002.txt', './data/bbc/business/008.txt']), ('rates', ['./data/bbc/politics/005.txt', './data/bbc/business/008.txt', './data/bbc/business/002.txt']), ('thirds', ['./data/bbc/business/008.txt']), ('clinton', ['./data/bbc/business/010.txt']), ('reporting', ['./data/bbc/business/004.txt']), ('flights', ['./data/bbc/business/004.txt']), ('climb', ['./data/bbc/business/006.txt']), ('mary', ['./data/bbc/entertainment/009.txt', './data/bbc/entertainment/007.txt', './data/bbc/entertainment/002.txt', './data/bbc/entertainment/005.txt']), ('celebration', ['./data/bbc/entertainment/002.txt']), ('lesser', ['./data/bbc/entertainment/004.txt']), ('evening', ['./data/bbc/sport/010.txt', './data/bbc/entertainment/008.txt']), ('doping', ['./data/bbc/sport/004.txt']), ('technological', ['./data/bbc/tech/009.txt']), ('niche', ['./data/bbc/tech/009.txt']), ('bill', ['./data/bbc/tech/010.txt', './data/bbc/politics/010.txt']), ('debate', ['./data/bbc/tech/010.txt']), ('follow', ['./data/bbc/tech/007.txt', './data/bbc/entertainment/004.txt']), ('unhealthy', ['./data/bbc/tech/002.txt']), ('growing', ['./data/bbc/tech/005.txt']), ('enabling', ['./data/bbc/tech/005.txt', './data/bbc/tech/006.txt', './data/bbc/entertainment/003.txt']), ('expressionist', ['./data/bbc/tech/005.txt']), ('trick', ['./data/bbc/tech/004.txt']), ('textbooks', ['./data/bbc/tech/004.txt']), ('places', ['./data/bbc/tech/006.txt']), ('poster', ['./data/bbc/politics/009.txt']), ('tactics', ['./data/bbc/politics/009.txt', './data/bbc/politics/007.txt']), ('hewitt', ['./data/bbc/politics/003.txt', './data/bbc/politics/001.txt']), ('birth', ['./data/bbc/politics/001.txt', './data/bbc/entertainment/002.txt']), ('somerset', ['./data/bbc/politics/007.txt']), ('timewarner', ['./data/bbc/business/001.txt']), ('boosted', ['./data/bbc/business/001.txt']), ('havana', ['./data/bbc/business/005.txt']), ('worrying', ['./data/bbc/business/006.txt']), ('calico', ['./data/bbc/entertainment/008.txt']), ('festivities', ['./data/bbc/entertainment/002.txt']), ('norton', ['./data/bbc/entertainment/005.txt']), ('issued', ['./data/bbc/entertainment/005.txt']), ('submitted', ['./data/bbc/entertainment/004.txt']), ('performer', ['./data/bbc/entertainment/006.txt']), ('new', ['./data/bbc/sport/009.txt', './data/bbc/sport/001.txt', './data/bbc/sport/005.txt', './data/bbc/sport/006.txt', './data/bbc/tech/008.txt', './data/bbc/tech/001.txt', './data/bbc/tech/002.txt', './data/bbc/tech/005.txt', './data/bbc/tech/006.txt', './data/bbc/politics/008.txt', './data/bbc/politics/009.txt', './data/bbc/politics/003.txt', './data/bbc/politics/010.txt', './data/bbc/politics/001.txt', './data/bbc/politics/007.txt', './data/bbc/politics/002.txt', './data/bbc/business/007.txt', './data/bbc/business/002.txt', './data/bbc/entertainment/009.txt', './data/bbc/entertainment/010.txt', './data/bbc/entertainment/002.txt', './data/bbc/entertainment/006.txt']), ('ran', ['./data/bbc/sport/010.txt', './data/bbc/sport/006.txt']), ('translate', ['./data/bbc/sport/001.txt']), ('km', ['./data/bbc/sport/007.txt']), ('runner', ['./data/bbc/sport/002.txt']), ('change', ['./data/bbc/sport/004.txt', './data/bbc/tech/009.txt', './data/bbc/tech/007.txt', './data/bbc/politics/008.txt', './data/bbc/politics/005.txt']), ('call', ['./data/bbc/sport/004.txt', './data/bbc/tech/009.txt', './data/bbc/politics/008.txt']), ('way', ['./data/bbc/sport/006.txt', './data/bbc/tech/009.txt', './data/bbc/tech/005.txt', './data/bbc/politics/005.txt', './data/bbc/business/001.txt', './data/bbc/business/004.txt', './data/bbc/entertainment/008.txt']), ('simple', ['./data/bbc/tech/009.txt']), ('vulcan', ['./data/bbc/tech/009.txt']), ('adopt', ['./data/bbc/tech/010.txt']), ('influence', ['./data/bbc/tech/002.txt']), ('langlands', ['./data/bbc/tech/005.txt']), ('connections', ['./data/bbc/tech/005.txt', './data/bbc/business/001.txt']), ('exported', ['./data/bbc/tech/004.txt']), ('spoken', ['./data/bbc/politics/009.txt']), ('boring', ['./data/bbc/politics/005.txt']), ('aols', ['./data/bbc/business/001.txt']), ('deficits', ['./data/bbc/business/002.txt']), ('brul', ['./data/bbc/business/004.txt']), ('controllable', ['./data/bbc/business/004.txt']), ('henry', ['./data/bbc/entertainment/001.txt']), ('youve', ['./data/bbc/sport/003.txt', './data/bbc/politics/008.txt', './data/bbc/politics/002.txt']), ('britton', ['./data/bbc/sport/002.txt']), ('namibian', ['./data/bbc/sport/004.txt']), ('president', ['./data/bbc/tech/001.txt', './data/bbc/business/007.txt']), ('club', ['./data/bbc/politics/008.txt', './data/bbc/business/005.txt', './data/bbc/business/004.txt', './data/bbc/entertainment/004.txt']), ('held', ['./data/bbc/politics/002.txt', './data/bbc/entertainment/003.txt']), ('association', ['./data/bbc/politics/004.txt']), ('grew', ['./data/bbc/business/008.txt', './data/bbc/business/001.txt', './data/bbc/entertainment/001.txt']), ('infiltration', ['./data/bbc/business/010.txt']), ('settlement', ['./data/bbc/business/010.txt']), ('glenmorangie', ['./data/bbc/business/005.txt']), ('baskinrobbins', ['./data/bbc/business/005.txt']), ('poland', ['./data/bbc/sport/009.txt']), ('britains', ['./data/bbc/sport/009.txt', './data/bbc/sport/003.txt', './data/bbc/sport/010.txt']), ('byrne', ['./data/bbc/sport/002.txt']), ('berhane', ['./data/bbc/sport/005.txt']), ('translated', ['./data/bbc/tech/008.txt', './data/bbc/entertainment/009.txt']), ('pez', ['./data/bbc/tech/009.txt']), ('protections', ['./data/bbc/tech/010.txt']), ('excellence', ['./data/bbc/tech/005.txt']), ('irrigation', ['./data/bbc/tech/006.txt']), ('question', ['./data/bbc/politics/009.txt', './data/bbc/politics/006.txt']), ('circumstances', ['./data/bbc/politics/009.txt', './data/bbc/politics/006.txt']), ('deletion', ['./data/bbc/politics/002.txt']), ('nonfarm', ['./data/bbc/business/007.txt']), ('photography', ['./data/bbc/entertainment/001.txt']), ('ovation', ['./data/bbc/entertainment/005.txt']), ('id', ['./data/bbc/sport/009.txt', './data/bbc/tech/009.txt']), ('fifth', ['./data/bbc/sport/009.txt']), ('greece', ['./data/bbc/sport/003.txt']), ('campaign', ['./data/bbc/sport/001.txt', './data/bbc/politics/009.txt', './data/bbc/politics/007.txt', './data/bbc/entertainment/010.txt']), ('regime', ['./data/bbc/sport/001.txt', './data/bbc/tech/001.txt', './data/bbc/politics/002.txt']), ('indicated', ['./data/bbc/sport/002.txt', './data/bbc/business/006.txt']), ('food', ['./data/bbc/sport/004.txt', './data/bbc/business/009.txt', './data/bbc/business/005.txt']), ('makes', ['./data/bbc/tech/009.txt', './data/bbc/politics/002.txt', './data/bbc/entertainment/007.txt', './data/bbc/entertainment/004.txt']), ('early', ['./data/bbc/tech/009.txt', './data/bbc/business/009.txt', './data/bbc/entertainment/009.txt', './data/bbc/entertainment/003.txt']), ('street', ['./data/bbc/tech/005.txt', './data/bbc/politics/007.txt', './data/bbc/business/005.txt']), ('key', ['./data/bbc/tech/006.txt', './data/bbc/politics/002.txt', './data/bbc/politics/005.txt', './data/bbc/business/007.txt']), ('whenever', ['./data/bbc/politics/008.txt']), ('realising', ['./data/bbc/politics/009.txt']), ('written', ['./data/bbc/politics/002.txt']), ('calculated', ['./data/bbc/business/009.txt']), ('wider', ['./data/bbc/business/001.txt', './data/bbc/entertainment/004.txt']), ('creation', ['./data/bbc/business/007.txt']), ('eddington', ['./data/bbc/business/004.txt']), ('subjects', ['./data/bbc/entertainment/001.txt']), ('preachy', ['./data/bbc/entertainment/007.txt']), ('learn', ['./data/bbc/entertainment/002.txt']), ('push', ['./data/bbc/sport/009.txt', './data/bbc/business/007.txt']), ('championship', ['./data/bbc/sport/003.txt']), ('exciting', ['./data/bbc/sport/010.txt']), ('helping', ['./data/bbc/tech/008.txt', './data/bbc/tech/006.txt']), ('bears', ['./data/bbc/tech/008.txt']), ('holidays', ['./data/bbc/tech/008.txt']), ('alltime', ['./data/bbc/tech/009.txt']), ('meps', ['./data/bbc/tech/010.txt']), ('bulletin', ['./data/bbc/tech/007.txt']), ('development', ['./data/bbc/tech/005.txt', './data/bbc/tech/004.txt', './data/bbc/tech/006.txt', './data/bbc/business/004.txt']), ('house', ['./data/bbc/tech/005.txt', './data/bbc/politics/008.txt', './data/bbc/politics/005.txt', './data/bbc/business/002.txt']), ('benefit', ['./data/bbc/tech/006.txt', './data/bbc/politics/006.txt']), ('opportunities', ['./data/bbc/politics/003.txt', './data/bbc/business/007.txt']), ('scottish', ['./data/bbc/politics/010.txt']), ('consumer', ['./data/bbc/politics/005.txt']), ('menatep', ['./data/bbc/business/003.txt']), ('expand', ['./data/bbc/business/007.txt']), ('savings', ['./data/bbc/business/002.txt']), ('norris', ['./data/bbc/entertainment/008.txt', './data/bbc/entertainment/006.txt']), ('writing', ['./data/bbc/entertainment/009.txt', './data/bbc/entertainment/007.txt']), ('times', ['./data/bbc/sport/009.txt', './data/bbc/business/005.txt', './data/bbc/entertainment/009.txt']), ('made', ['./data/bbc/sport/009.txt', './data/bbc/sport/005.txt', './data/bbc/tech/009.txt', './data/bbc/tech/007.txt', './data/bbc/politics/008.txt', './data/bbc/politics/009.txt', './data/bbc/politics/003.txt', './data/bbc/politics/010.txt', './data/bbc/politics/001.txt', './data/bbc/politics/006.txt', './data/bbc/business/002.txt', './data/bbc/business/004.txt', './data/bbc/entertainment/008.txt', './data/bbc/entertainment/009.txt']), ('gatlin', ['./data/bbc/sport/003.txt']), ('denied', ['./data/bbc/sport/003.txt', './data/bbc/politics/009.txt', './data/bbc/politics/005.txt']), ('included', ['./data/bbc/sport/002.txt', './data/bbc/tech/009.txt']), ('firm', ['./data/bbc/tech/008.txt', './data/bbc/tech/007.txt', './data/bbc/politics/001.txt', './data/bbc/business/001.txt', './data/bbc/business/005.txt']), ('includes', ['./data/bbc/tech/009.txt', './data/bbc/tech/006.txt', './data/bbc/entertainment/008.txt', './data/bbc/entertainment/002.txt']), ('inside', ['./data/bbc/tech/009.txt']), ('minidisc', ['./data/bbc/tech/009.txt']), ('bumper', ['./data/bbc/tech/007.txt']), ('operating', ['./data/bbc/tech/002.txt', './data/bbc/tech/004.txt', './data/bbc/business/001.txt', './data/bbc/business/004.txt']), ('rejoined', ['./data/bbc/politics/009.txt']), ('half', ['./data/bbc/politics/003.txt', './data/bbc/business/002.txt']), ('supercasino', ['./data/bbc/politics/010.txt']), ('cities', ['./data/bbc/politics/007.txt']), ('trust', ['./data/bbc/politics/007.txt']), ('explanation', ['./data/bbc/politics/002.txt']), ('attraction', ['./data/bbc/politics/006.txt']), ('continue', ['./data/bbc/politics/006.txt']), ('sinche', ['./data/bbc/business/002.txt']), ('emperors', ['./data/bbc/entertainment/002.txt']), ('ross', ['./data/bbc/entertainment/004.txt']), ('scene', ['./data/bbc/sport/009.txt']), ('best', ['./data/bbc/sport/009.txt', './data/bbc/sport/010.txt', './data/bbc/sport/006.txt', './data/bbc/tech/009.txt', './data/bbc/tech/005.txt', './data/bbc/entertainment/008.txt', './data/bbc/entertainment/009.txt', './data/bbc/entertainment/004.txt', './data/bbc/entertainment/006.txt']), ('sprints', ['./data/bbc/sport/003.txt']), ('lievin', ['./data/bbc/sport/006.txt']), ('virgin', ['./data/bbc/tech/009.txt']), ('hot', ['./data/bbc/tech/009.txt']), ('companies', ['./data/bbc/tech/010.txt', './data/bbc/tech/005.txt', './data/bbc/politics/003.txt', './data/bbc/business/010.txt']), ('business', ['./data/bbc/tech/010.txt', './data/bbc/tech/005.txt', './data/bbc/politics/005.txt', './data/bbc/business/010.txt', './data/bbc/business/001.txt']), ('agency', ['./data/bbc/tech/002.txt', './data/bbc/politics/009.txt', './data/bbc/business/003.txt']), ('give', ['./data/bbc/tech/005.txt', './data/bbc/politics/009.txt', './data/bbc/politics/005.txt']), ('adapted', ['./data/bbc/tech/004.txt']), ('wireless', ['./data/bbc/tech/006.txt']), ('name', ['./data/bbc/politics/008.txt', './data/bbc/politics/005.txt']), ('worse', ['./data/bbc/politics/003.txt']), ('childcare', ['./data/bbc/politics/003.txt']), ('cowed', ['./data/bbc/business/008.txt']), ('embattled', ['./data/bbc/business/003.txt']), ('mcdonagh', ['./data/bbc/entertainment/008.txt']), ('unveils', ['./data/bbc/entertainment/001.txt']), ('fairy', ['./data/bbc/entertainment/002.txt']), ('universal', ['./data/bbc/entertainment/002.txt']), ('fazed', ['./data/bbc/sport/009.txt']), ('brazilian', ['./data/bbc/sport/009.txt', './data/bbc/entertainment/002.txt']), ('supporters', ['./data/bbc/sport/010.txt', './data/bbc/politics/007.txt']), ('appeared', ['./data/bbc/tech/008.txt']), ('republic', ['./data/bbc/tech/001.txt']), ('shows', ['./data/bbc/tech/001.txt', './data/bbc/politics/008.txt', './data/bbc/politics/006.txt', './data/bbc/business/004.txt', './data/bbc/entertainment/008.txt', './data/bbc/entertainment/009.txt', './data/bbc/entertainment/005.txt']), ('company', ['./data/bbc/tech/007.txt', './data/bbc/politics/001.txt', './data/bbc/business/003.txt', './data/bbc/business/001.txt']), ('sponsorship', ['./data/bbc/tech/005.txt']), ('launched', ['./data/bbc/tech/005.txt']), ('tech', ['./data/bbc/tech/005.txt']), ('linuxbased', ['./data/bbc/tech/004.txt']), ('ambitious', ['./data/bbc/tech/004.txt']), ('hard', ['./data/bbc/politics/008.txt', './data/bbc/politics/007.txt', './data/bbc/politics/004.txt', './data/bbc/politics/006.txt', './data/bbc/business/008.txt', './data/bbc/entertainment/007.txt', './data/bbc/entertainment/004.txt']), ('harriet', ['./data/bbc/politics/008.txt']), ('critics', ['./data/bbc/politics/009.txt', './data/bbc/entertainment/006.txt']), ('shared', ['./data/bbc/politics/003.txt']), ('freedom', ['./data/bbc/politics/002.txt']), ('doubt', ['./data/bbc/politics/002.txt', './data/bbc/entertainment/004.txt']), ('repayment', ['./data/bbc/business/003.txt']), ('ferris', ['./data/bbc/entertainment/008.txt']), ('hildegard', ['./data/bbc/entertainment/008.txt']), ('springer', ['./data/bbc/entertainment/003.txt']), ('nannys', ['./data/bbc/entertainment/005.txt']), ('plan', ['./data/bbc/sport/010.txt', './data/bbc/sport/005.txt', './data/bbc/tech/006.txt', './data/bbc/politics/001.txt']), ('feature', ['./data/bbc/tech/009.txt']), ('test', ['./data/bbc/tech/009.txt', './data/bbc/tech/006.txt']), ('complicated', ['./data/bbc/tech/001.txt']), ('rules', ['./data/bbc/tech/002.txt', './data/bbc/politics/002.txt', './data/bbc/politics/005.txt', './data/bbc/business/008.txt', './data/bbc/business/010.txt']), ('senne', ['./data/bbc/tech/005.txt']), ('designers', ['./data/bbc/tech/005.txt']), ('displayed', ['./data/bbc/tech/005.txt', './data/bbc/entertainment/001.txt']), ('fuck', ['./data/bbc/politics/009.txt']), ('spree', ['./data/bbc/politics/005.txt']), ('amid', ['./data/bbc/politics/005.txt']), ('instead', ['./data/bbc/politics/004.txt']), ('bring', ['./data/bbc/politics/006.txt', './data/bbc/entertainment/005.txt']), ('airline', ['./data/bbc/business/004.txt']), ('decline', ['./data/bbc/business/004.txt']), ('tuesday', ['./data/bbc/entertainment/007.txt', './data/bbc/entertainment/006.txt']), ('xm', ['./data/bbc/sport/009.txt', './data/bbc/sport/003.txt']), ('crown', ['./data/bbc/sport/003.txt', './data/bbc/entertainment/002.txt']), ('five', ['./data/bbc/sport/003.txt', './data/bbc/tech/004.txt', './data/bbc/business/009.txt', './data/bbc/entertainment/007.txt']), ('osullivan', ['./data/bbc/sport/007.txt', './data/bbc/sport/002.txt']), ('alistair', ['./data/bbc/sport/005.txt']), ('classic', ['./data/bbc/tech/009.txt', './data/bbc/entertainment/003.txt']), ('island', ['./data/bbc/tech/001.txt', './data/bbc/entertainment/007.txt']), ('ifes', ['./data/bbc/tech/001.txt']), ('flagged', ['./data/bbc/tech/007.txt']), ('strict', ['./data/bbc/tech/002.txt']), ('complex', ['./data/bbc/tech/005.txt', './data/bbc/entertainment/002.txt']), ('construction', ['./data/bbc/tech/006.txt', './data/bbc/politics/003.txt']), ('generator', ['./data/bbc/tech/006.txt']), ('male', ['./data/bbc/politics/008.txt', './data/bbc/politics/003.txt']), ('emerged', ['./data/bbc/politics/008.txt']), ('sentences', ['./data/bbc/politics/009.txt']), ('courses', ['./data/bbc/politics/003.txt']), ('hans', ['./data/bbc/entertainment/002.txt']), ('sheffield', ['./data/bbc/sport/009.txt']), ('bronze', ['./data/bbc/sport/009.txt', './data/bbc/sport/003.txt', './data/bbc/sport/002.txt']), ('holds', ['./data/bbc/sport/003.txt']), ('reception', ['./data/bbc/sport/010.txt']), ('commission', ['./data/bbc/sport/004.txt', './data/bbc/politics/003.txt', './data/bbc/business/001.txt']), ('dates', ['./data/bbc/tech/009.txt']), ('far', ['./data/bbc/tech/009.txt', './data/bbc/tech/006.txt', './data/bbc/business/009.txt', './data/bbc/entertainment/004.txt']), ('utter', ['./data/bbc/tech/009.txt']), ('toshiba', ['./data/bbc/tech/009.txt']), ('investigating', ['./data/bbc/tech/003.txt']), ('sheep', ['./data/bbc/tech/001.txt']), ('finger', ['./data/bbc/tech/001.txt', './data/bbc/politics/006.txt']), ('mikosz', ['./data/bbc/tech/001.txt']), ('produce', ['./data/bbc/tech/006.txt', './data/bbc/business/002.txt']), ('perfect', ['./data/bbc/tech/006.txt']), ('underlined', ['./data/bbc/tech/006.txt']), ('intake', ['./data/bbc/politics/008.txt']), ('figures', ['./data/bbc/politics/003.txt', './data/bbc/politics/005.txt', './data/bbc/business/007.txt', './data/bbc/business/006.txt']), ('nao', ['./data/bbc/politics/006.txt']), ('surrender', ['./data/bbc/business/010.txt']), ('promote', ['./data/bbc/business/010.txt', './data/bbc/entertainment/002.txt']), ('quarters', ['./data/bbc/business/001.txt', './data/bbc/business/006.txt']), ('offering', ['./data/bbc/business/001.txt']), ('novel', ['./data/bbc/entertainment/009.txt', './data/bbc/entertainment/007.txt', './data/bbc/entertainment/004.txt']), ('managed', ['./data/bbc/entertainment/003.txt']), ('attend', ['./data/bbc/entertainment/002.txt']), ('critic', ['./data/bbc/entertainment/002.txt']), ('hands', ['./data/bbc/sport/006.txt', './data/bbc/politics/008.txt']), ('wish', ['./data/bbc/tech/009.txt', './data/bbc/business/008.txt']), ('vapourware', ['./data/bbc/tech/009.txt']), ('trojan', ['./data/bbc/tech/003.txt']), ('attempts', ['./data/bbc/tech/003.txt']), ('worries', ['./data/bbc/tech/001.txt', './data/bbc/business/002.txt']), ('christian', ['./data/bbc/tech/001.txt', './data/bbc/entertainment/002.txt', './data/bbc/entertainment/006.txt']), ('organisation', ['./data/bbc/tech/001.txt', './data/bbc/tech/006.txt', './data/bbc/business/009.txt']), ('conjunction', ['./data/bbc/tech/005.txt']), ('wife', ['./data/bbc/tech/004.txt']), ('apply', ['./data/bbc/tech/006.txt']), ('rise', ['./data/bbc/politics/008.txt', './data/bbc/politics/001.txt', './data/bbc/politics/005.txt', './data/bbc/business/009.txt', './data/bbc/business/004.txt']), ('malarkey', ['./data/bbc/politics/009.txt']), ('ibrox', ['./data/bbc/politics/010.txt']), ('margin', ['./data/bbc/politics/005.txt', './data/bbc/business/007.txt']), ('prudent', ['./data/bbc/politics/005.txt']), ('complete', ['./data/bbc/politics/006.txt']), ('seem', ['./data/bbc/politics/006.txt']), ('slightly', ['./data/bbc/business/001.txt', './data/bbc/business/004.txt']), ('flexibility', ['./data/bbc/business/001.txt']), ('longhaul', ['./data/bbc/business/004.txt']), ('successive', ['./data/bbc/business/006.txt']), ('hamilton', ['./data/bbc/entertainment/008.txt', './data/bbc/entertainment/006.txt']), ('balkom', ['./data/bbc/sport/009.txt']), ('public', ['./data/bbc/sport/004.txt', './data/bbc/tech/010.txt', './data/bbc/politics/008.txt', './data/bbc/politics/010.txt', './data/bbc/politics/007.txt', './data/bbc/politics/002.txt', './data/bbc/politics/005.txt', './data/bbc/politics/006.txt', './data/bbc/business/010.txt']), ('fredericks', ['./data/bbc/sport/004.txt']), ('transistor', ['./data/bbc/tech/009.txt']), ('inventors', ['./data/bbc/tech/010.txt']), ('indelible', ['./data/bbc/tech/001.txt']), ('rumors', ['./data/bbc/tech/001.txt']), ('breasts', ['./data/bbc/politics/008.txt']), ('prolonged', ['./data/bbc/business/009.txt']), ('ask', ['./data/bbc/business/003.txt']), ('forced', ['./data/bbc/business/003.txt', './data/bbc/entertainment/010.txt']), ('mayland', ['./data/bbc/business/007.txt']), ('problematic', ['./data/bbc/business/005.txt']), ('takenaka', ['./data/bbc/business/006.txt']), ('bondy', ['./data/bbc/entertainment/008.txt']), ('da', ['./data/bbc/entertainment/009.txt']), ('impression', ['./data/bbc/entertainment/010.txt']), ('wound', ['./data/bbc/sport/009.txt']), ('specialist', ['./data/bbc/sport/009.txt']), ('athens', ['./data/bbc/sport/009.txt', './data/bbc/sport/003.txt', './data/bbc/sport/010.txt']), ('former', ['./data/bbc/sport/009.txt', './data/bbc/sport/006.txt', './data/bbc/tech/009.txt', './data/bbc/tech/001.txt', './data/bbc/politics/008.txt', './data/bbc/politics/009.txt', './data/bbc/politics/007.txt', './data/bbc/business/003.txt']), ('adequately', ['./data/bbc/tech/010.txt']), ('limit', ['./data/bbc/tech/002.txt']), ('combined', ['./data/bbc/tech/005.txt']), ('photos', ['./data/bbc/tech/005.txt']), ('land', ['./data/bbc/tech/006.txt']), ('cooper', ['./data/bbc/politics/008.txt', './data/bbc/entertainment/008.txt']), ('fact', ['./data/bbc/politics/003.txt']), ('escapes', ['./data/bbc/business/006.txt']), ('opera', ['./data/bbc/entertainment/003.txt']), ('uganda', ['./data/bbc/entertainment/010.txt']), ('scholarship', ['./data/bbc/entertainment/007.txt']), ('dinner', ['./data/bbc/entertainment/002.txt']), ('say', ['./data/bbc/sport/003.txt', './data/bbc/tech/009.txt', './data/bbc/tech/006.txt', './data/bbc/politics/008.txt', './data/bbc/politics/010.txt', './data/bbc/politics/007.txt', './data/bbc/politics/005.txt', './data/bbc/business/010.txt', './data/bbc/entertainment/010.txt']), ('ireland', ['./data/bbc/sport/007.txt', './data/bbc/sport/002.txt', './data/bbc/politics/002.txt']), ('lineup', ['./data/bbc/sport/002.txt', './data/bbc/entertainment/002.txt']), ('shell', ['./data/bbc/tech/009.txt', './data/bbc/business/003.txt']), ('grateful', ['./data/bbc/tech/009.txt']), ('offered', ['./data/bbc/tech/010.txt', './data/bbc/tech/005.txt', './data/bbc/politics/007.txt', './data/bbc/politics/005.txt', './data/bbc/business/001.txt']), ('steps', ['./data/bbc/tech/002.txt']), ('homes', ['./data/bbc/tech/002.txt']), ('sophisticated', ['./data/bbc/tech/005.txt']), ('solving', ['./data/bbc/tech/005.txt']), ('tour', ['./data/bbc/politics/007.txt']), ('refused', ['./data/bbc/politics/007.txt', './data/bbc/politics/005.txt', './data/bbc/business/005.txt']), ('ruling', ['./data/bbc/politics/004.txt', './data/bbc/business/010.txt', './data/bbc/entertainment/010.txt']), ('reilly', ['./data/bbc/entertainment/008.txt']), ('wright', ['./data/bbc/entertainment/009.txt']), ('promoted', ['./data/bbc/entertainment/010.txt']), ('illegal', ['./data/bbc/entertainment/010.txt']), ('cambridge', ['./data/bbc/entertainment/007.txt']), ('time', ['./data/bbc/sport/009.txt', './data/bbc/sport/003.txt', './data/bbc/sport/001.txt', './data/bbc/sport/006.txt', './data/bbc/tech/009.txt', './data/bbc/tech/002.txt', './data/bbc/tech/005.txt', './data/bbc/tech/006.txt', './data/bbc/politics/010.txt', './data/bbc/politics/001.txt', './data/bbc/politics/002.txt', './data/bbc/politics/004.txt', './data/bbc/business/001.txt', './data/bbc/business/002.txt', './data/bbc/entertainment/009.txt', './data/bbc/entertainment/007.txt', './data/bbc/entertainment/004.txt']), ('sophos', ['./data/bbc/tech/008.txt']), ('popular', ['./data/bbc/tech/009.txt', './data/bbc/tech/002.txt', './data/bbc/tech/004.txt']), ('special', ['./data/bbc/tech/010.txt', './data/bbc/entertainment/008.txt']), ('whole', ['./data/bbc/tech/004.txt', './data/bbc/politics/006.txt']), ('chancayhuaral', ['./data/bbc/tech/006.txt']), ('democrat', ['./data/bbc/politics/008.txt', './data/bbc/politics/001.txt']), ('afterwards', ['./data/bbc/politics/008.txt']), ('error', ['./data/bbc/politics/009.txt']), ('pound', ['./data/bbc/politics/003.txt']), ('richard', ['./data/bbc/politics/002.txt', './data/bbc/business/001.txt', './data/bbc/entertainment/008.txt', './data/bbc/entertainment/001.txt', './data/bbc/entertainment/005.txt', './data/bbc/entertainment/004.txt', './data/bbc/entertainment/006.txt']), ('dunkin', ['./data/bbc/business/005.txt']), ('adjustment', ['./data/bbc/business/006.txt']), ('victoria', ['./data/bbc/entertainment/008.txt', './data/bbc/entertainment/006.txt']), ('credible', ['./data/bbc/entertainment/009.txt']), ('knee', ['./data/bbc/sport/009.txt']), ('britain', ['./data/bbc/sport/009.txt', './data/bbc/politics/007.txt', './data/bbc/politics/005.txt', './data/bbc/entertainment/001.txt']), ('madrid', ['./data/bbc/sport/001.txt', './data/bbc/tech/005.txt']), ('hinted', ['./data/bbc/sport/002.txt']), ('uses', ['./data/bbc/tech/008.txt', './data/bbc/tech/009.txt', './data/bbc/tech/006.txt', './data/bbc/entertainment/010.txt']), ('mids', ['./data/bbc/tech/001.txt']), ('inked', ['./data/bbc/tech/001.txt']), ('lauded', ['./data/bbc/tech/001.txt']), ('floats', ['./data/bbc/tech/004.txt']), ('agriculture', ['./data/bbc/tech/006.txt', './data/bbc/business/008.txt', './data/bbc/business/009.txt']), ('due', ['./data/bbc/politics/010.txt', './data/bbc/politics/007.txt', './data/bbc/politics/006.txt', './data/bbc/entertainment/010.txt']), ('earnings', ['./data/bbc/politics/001.txt', './data/bbc/business/001.txt']), ('guess', ['./data/bbc/politics/007.txt']), ('placatory', ['./data/bbc/politics/004.txt']), ('consumption', ['./data/bbc/business/006.txt']), ('night', ['./data/bbc/entertainment/005.txt', './data/bbc/entertainment/006.txt']), ('joins', ['./data/bbc/sport/010.txt', './data/bbc/entertainment/002.txt']), ('message', ['./data/bbc/tech/008.txt', './data/bbc/politics/005.txt', './data/bbc/entertainment/009.txt', './data/bbc/entertainment/002.txt']), ('concluded', ['./data/bbc/tech/009.txt']), ('persons', ['./data/bbc/tech/001.txt']), ('stories', ['./data/bbc/tech/001.txt', './data/bbc/entertainment/010.txt']), ('health', ['./data/bbc/tech/001.txt']), ('manually', ['./data/bbc/tech/007.txt']), ('necessary', ['./data/bbc/tech/006.txt']), ('sought', ['./data/bbc/politics/009.txt']), ('lunch', ['./data/bbc/politics/005.txt']), ('assist', ['./data/bbc/business/009.txt']), ('intends', ['./data/bbc/business/003.txt', './data/bbc/business/001.txt']), ('buoyed', ['./data/bbc/business/001.txt']), ('rev', ['./data/bbc/entertainment/009.txt']), ('liberation', ['./data/bbc/entertainment/010.txt']), ('cup', ['./data/bbc/sport/009.txt']), ('results', ['./data/bbc/sport/009.txt', './data/bbc/business/001.txt', './data/bbc/business/004.txt']), ('allahgreen', ['./data/bbc/sport/009.txt']), ('sarah', ['./data/bbc/sport/001.txt', './data/bbc/politics/008.txt', './data/bbc/entertainment/010.txt']), ('family', ['./data/bbc/sport/004.txt', './data/bbc/tech/004.txt', './data/bbc/tech/006.txt', './data/bbc/politics/001.txt', './data/bbc/entertainment/003.txt', './data/bbc/entertainment/002.txt', './data/bbc/entertainment/005.txt']), ('boats', ['./data/bbc/tech/009.txt']), ('revolutionalised', ['./data/bbc/tech/009.txt']), ('something', ['./data/bbc/tech/009.txt', './data/bbc/tech/005.txt', './data/bbc/politics/009.txt', './data/bbc/politics/005.txt']), ('muddied', ['./data/bbc/tech/010.txt']), ('excesses', ['./data/bbc/tech/010.txt']), ('decision', ['./data/bbc/tech/001.txt', './data/bbc/politics/010.txt', './data/bbc/politics/004.txt', './data/bbc/business/010.txt', './data/bbc/business/002.txt']), ('especially', ['./data/bbc/tech/001.txt', './data/bbc/politics/007.txt']), ('free', ['./data/bbc/tech/001.txt', './data/bbc/tech/006.txt', './data/bbc/business/001.txt', './data/bbc/entertainment/010.txt']), ('ministry', ['./data/bbc/tech/004.txt']), ('melons', ['./data/bbc/politics/008.txt']), ('raised', ['./data/bbc/politics/007.txt', './data/bbc/business/004.txt']), ('nations', ['./data/bbc/business/008.txt']), ('category', ['./data/bbc/entertainment/008.txt', './data/bbc/entertainment/007.txt']), ('tom', ['./data/bbc/entertainment/009.txt']), ('overall', ['./data/bbc/entertainment/007.txt']), ('ahead', ['./data/bbc/sport/009.txt', './data/bbc/sport/009.txt', './data/bbc/sport/003.txt', './data/bbc/tech/009.txt', './data/bbc/politics/005.txt', './data/bbc/business/008.txt', './data/bbc/business/003.txt', './data/bbc/business/002.txt', './data/bbc/business/004.txt', './data/bbc/business/006.txt', './data/bbc/entertainment/010.txt']), ('ghent', ['./data/bbc/sport/009.txt']), ('dublin', ['./data/bbc/sport/007.txt', './data/bbc/sport/002.txt']), ('email', ['./data/bbc/tech/008.txt', './data/bbc/tech/003.txt', './data/bbc/tech/002.txt', './data/bbc/politics/009.txt', './data/bbc/politics/002.txt']), ('simply', ['./data/bbc/tech/008.txt', './data/bbc/politics/003.txt']), ('sonys', ['./data/bbc/tech/009.txt']), ('perspective', ['./data/bbc/tech/009.txt']), ('stifle', ['./data/bbc/tech/010.txt']), ('features', ['./data/bbc/tech/005.txt']), ('advertising', ['./data/bbc/politics/009.txt', './data/bbc/politics/001.txt', './data/bbc/business/010.txt', './data/bbc/business/001.txt']), ('parents', ['./data/bbc/politics/001.txt']), ('complacency', ['./data/bbc/politics/007.txt']), ('appeals', ['./data/bbc/business/010.txt']), ('defraud', ['./data/bbc/business/010.txt']), ('hypponen', ['./data/bbc/tech/008.txt']), ('tried', ['./data/bbc/tech/009.txt', './data/bbc/politics/004.txt', './data/bbc/business/008.txt', './data/bbc/business/005.txt']), ('downloaded', ['./data/bbc/tech/003.txt']), ('state', ['./data/bbc/tech/001.txt', './data/bbc/tech/004.txt', './data/bbc/politics/001.txt', './data/bbc/entertainment/010.txt']), ('stone', ['./data/bbc/tech/005.txt']), ('handle', ['./data/bbc/tech/005.txt', './data/bbc/politics/004.txt']), ('barbara', ['./data/bbc/politics/008.txt', './data/bbc/entertainment/005.txt']), ('row', ['./data/bbc/politics/009.txt']), ('pointing', ['./data/bbc/politics/009.txt']), ('questioned', ['./data/bbc/politics/002.txt']), ('meet', ['./data/bbc/politics/005.txt']), ('enterprise', ['./data/bbc/business/008.txt']), ('obligations', ['./data/bbc/business/003.txt']), ('januarys', ['./data/bbc/business/007.txt']), ('shining', ['./data/bbc/entertainment/008.txt']), ('pornographic', ['./data/bbc/entertainment/010.txt']), ('previous', ['./data/bbc/sport/009.txt', './data/bbc/sport/001.txt', './data/bbc/sport/005.txt', './data/bbc/tech/005.txt', './data/bbc/politics/006.txt', './data/bbc/business/004.txt', './data/bbc/business/006.txt', './data/bbc/entertainment/001.txt']), ('currently', ['./data/bbc/sport/003.txt', './data/bbc/tech/008.txt', './data/bbc/tech/003.txt', './data/bbc/politics/003.txt', './data/bbc/politics/001.txt']), ('regain', ['./data/bbc/sport/007.txt', './data/bbc/politics/007.txt']), ('cobh', ['./data/bbc/sport/002.txt']), ('body', ['./data/bbc/sport/004.txt', './data/bbc/tech/008.txt']), ('greeting', ['./data/bbc/tech/008.txt']), ('k', ['./data/bbc/tech/009.txt']), ('useless', ['./data/bbc/tech/009.txt']), ('akaev', ['./data/bbc/tech/001.txt']), ('patch', ['./data/bbc/tech/007.txt']), ('connected', ['./data/bbc/tech/005.txt', './data/bbc/business/003.txt']), ('graphicsintensive', ['./data/bbc/tech/005.txt']), ('skinny', ['./data/bbc/tech/004.txt']), ('salary', ['./data/bbc/politics/001.txt']), ('enjoyed', ['./data/bbc/politics/007.txt']), ('pegged', ['./data/bbc/business/002.txt']), ('philip', ['./data/bbc/entertainment/003.txt']), ('tate', ['./data/bbc/entertainment/001.txt']), ('categories', ['./data/bbc/entertainment/007.txt']), ('visited', ['./data/bbc/entertainment/002.txt']), ('airport', ['./data/bbc/sport/009.txt']), ('mark', ['./data/bbc/sport/009.txt', './data/bbc/sport/003.txt', './data/bbc/sport/010.txt', './data/bbc/sport/001.txt', './data/bbc/sport/007.txt', './data/bbc/sport/005.txt', './data/bbc/tech/005.txt', './data/bbc/entertainment/002.txt']), ('aaas', ['./data/bbc/sport/001.txt']), ('killed', ['./data/bbc/tech/002.txt', './data/bbc/business/009.txt']), ('cuyo', ['./data/bbc/tech/006.txt']), ('isolated', ['./data/bbc/tech/006.txt']), ('abilities', ['./data/bbc/politics/008.txt']), ('political', ['./data/bbc/politics/009.txt', './data/bbc/politics/005.txt', './data/bbc/politics/004.txt', './data/bbc/business/003.txt']), ('ministers', ['./data/bbc/politics/009.txt', './data/bbc/politics/010.txt', './data/bbc/politics/001.txt', './data/bbc/politics/007.txt', './data/bbc/business/002.txt']), ('sign', ['./data/bbc/politics/009.txt', './data/bbc/business/001.txt']), ('seminar', ['./data/bbc/politics/003.txt']), ('frost', ['./data/bbc/politics/001.txt']), ('kennedy', ['./data/bbc/politics/007.txt']), ('rejects', ['./data/bbc/politics/005.txt', './data/bbc/business/010.txt']), ('rose', ['./data/bbc/politics/005.txt', './data/bbc/business/001.txt', './data/bbc/business/005.txt', './data/bbc/business/004.txt']), ('claimed', ['./data/bbc/business/010.txt']), ('conditions', ['./data/bbc/business/007.txt', './data/bbc/business/002.txt', './data/bbc/business/006.txt']), ('feed', ['./data/bbc/business/006.txt']), ('nathan', ['./data/bbc/entertainment/008.txt']), ('simon', ['./data/bbc/entertainment/008.txt']), ('designer', ['./data/bbc/entertainment/008.txt']), ('enjoying', ['./data/bbc/entertainment/009.txt', './data/bbc/entertainment/007.txt']), ('cast', ['./data/bbc/entertainment/003.txt']), ('promising', ['./data/bbc/sport/009.txt', './data/bbc/politics/009.txt', './data/bbc/entertainment/006.txt']), ('august', ['./data/bbc/sport/003.txt', './data/bbc/sport/010.txt', './data/bbc/tech/002.txt']), ('seasons', ['./data/bbc/sport/001.txt']), ('biased', ['./data/bbc/tech/009.txt']), ('altruistic', ['./data/bbc/tech/005.txt']), ('secretary', ['./data/bbc/politics/008.txt', './data/bbc/politics/009.txt', './data/bbc/politics/003.txt', './data/bbc/politics/001.txt', './data/bbc/politics/005.txt']), ('liberal', ['./data/bbc/politics/008.txt', './data/bbc/politics/001.txt', './data/bbc/politics/007.txt']), ('shepherd', ['./data/bbc/politics/008.txt']), ('campbell', ['./data/bbc/politics/009.txt']), ('word', ['./data/bbc/politics/009.txt', './data/bbc/politics/005.txt', './data/bbc/entertainment/010.txt']), ('purpose', ['./data/bbc/politics/002.txt']), ('struck', ['./data/bbc/politics/006.txt']), ('saw', ['./data/bbc/business/001.txt', './data/bbc/entertainment/005.txt', './data/bbc/entertainment/004.txt']), ('highest', ['./data/bbc/business/002.txt']), ('longerterm', ['./data/bbc/business/002.txt']), ('window', ['./data/bbc/business/002.txt']), ('virgil', ['./data/bbc/entertainment/009.txt']), ('hereby', ['./data/bbc/entertainment/010.txt']), ('councils', ['./data/bbc/entertainment/010.txt']), ('table', ['./data/bbc/entertainment/001.txt']), ('impresario', ['./data/bbc/entertainment/005.txt']), ('multimedia', ['./data/bbc/tech/009.txt']), ('crystalline', ['./data/bbc/tech/009.txt']), ('working', ['./data/bbc/tech/009.txt', './data/bbc/politics/003.txt', './data/bbc/politics/001.txt', './data/bbc/politics/004.txt', './data/bbc/entertainment/003.txt']), ('pity', ['./data/bbc/tech/009.txt']), ('uncomfortable', ['./data/bbc/tech/009.txt']), ('move', ['./data/bbc/tech/001.txt', './data/bbc/tech/002.txt', './data/bbc/politics/001.txt', './data/bbc/politics/007.txt', './data/bbc/politics/002.txt', './data/bbc/politics/004.txt', './data/bbc/business/002.txt', './data/bbc/business/005.txt']), ('group', ['./data/bbc/tech/002.txt', './data/bbc/business/008.txt', './data/bbc/business/003.txt', './data/bbc/business/010.txt', './data/bbc/business/007.txt', './data/bbc/entertainment/003.txt']), ('vice', ['./data/bbc/tech/005.txt']), ('website', ['./data/bbc/tech/006.txt']), ('belongs', ['./data/bbc/tech/006.txt']), ('logical', ['./data/bbc/tech/006.txt']), ('labour', ['./data/bbc/politics/008.txt', './data/bbc/politics/009.txt', './data/bbc/politics/001.txt', './data/bbc/politics/007.txt', './data/bbc/politics/005.txt', './data/bbc/politics/004.txt']), ('influx', ['./data/bbc/politics/008.txt']), ('dreamt', ['./data/bbc/politics/009.txt']), ('guidance', ['./data/bbc/politics/002.txt', './data/bbc/business/004.txt']), ('deputy', ['./data/bbc/politics/006.txt', './data/bbc/business/007.txt']), ('distributions', ['./data/bbc/business/009.txt']), ('mixed', ['./data/bbc/business/001.txt']), ('bas', ['./data/bbc/business/004.txt']), ('carriers', ['./data/bbc/business/004.txt']), ('read', ['./data/bbc/entertainment/009.txt', './data/bbc/entertainment/002.txt', './data/bbc/entertainment/004.txt']), ('pele', ['./data/bbc/entertainment/002.txt']), ('rhys', ['./data/bbc/entertainment/006.txt']), ('joint', ['./data/bbc/sport/009.txt', './data/bbc/business/009.txt']), ('outdoor', ['./data/bbc/sport/003.txt']), ('mine', ['./data/bbc/sport/005.txt', './data/bbc/tech/009.txt']), ('nintendo', ['./data/bbc/tech/009.txt']), ('fashion', ['./data/bbc/tech/009.txt']), ('attack', ['./data/bbc/tech/003.txt', './data/bbc/tech/007.txt', './data/bbc/politics/007.txt']), ('transparent', ['./data/bbc/tech/001.txt']), ('islamic', ['./data/bbc/tech/001.txt']), ('soft', ['./data/bbc/tech/001.txt']), ('laws', ['./data/bbc/tech/002.txt', './data/bbc/politics/002.txt', './data/bbc/business/010.txt']), ('storybased', ['./data/bbc/tech/005.txt']), ('expected', ['./data/bbc/tech/004.txt', './data/bbc/politics/008.txt', './data/bbc/politics/010.txt', './data/bbc/politics/007.txt', './data/bbc/politics/005.txt', './data/bbc/business/008.txt', './data/bbc/business/007.txt', './data/bbc/business/004.txt', './data/bbc/entertainment/002.txt']), ('capital', ['./data/bbc/tech/006.txt', './data/bbc/entertainment/010.txt']), ('study', ['./data/bbc/politics/008.txt']), ('leigh', ['./data/bbc/politics/006.txt']), ('crop', ['./data/bbc/business/009.txt']), ('reuters', ['./data/bbc/business/003.txt']), ('bankruptcy', ['./data/bbc/business/003.txt']), ('ssempgani', ['./data/bbc/entertainment/010.txt']), ('notions', ['./data/bbc/entertainment/010.txt']), ('wentworth', ['./data/bbc/entertainment/001.txt']), ('andrea', ['./data/bbc/entertainment/007.txt']), ('hitches', ['./data/bbc/entertainment/005.txt']), ('belgium', ['./data/bbc/sport/009.txt']), ('firewall', ['./data/bbc/tech/008.txt']), ('startac', ['./data/bbc/tech/009.txt']), ('bankasha', ['./data/bbc/tech/003.txt']), ('thumb', ['./data/bbc/tech/001.txt']), ('lovenduski', ['./data/bbc/politics/008.txt']), ('numbers', ['./data/bbc/politics/008.txt', './data/bbc/politics/010.txt', './data/bbc/business/004.txt']), ('period', ['./data/bbc/politics/003.txt', './data/bbc/politics/001.txt']), ('unlimited', ['./data/bbc/politics/010.txt']), ('urged', ['./data/bbc/politics/002.txt']), ('chances', ['./data/bbc/politics/005.txt']), ('substantial', ['./data/bbc/politics/006.txt']), ('concluding', ['./data/bbc/business/001.txt']), ('invest', ['./data/bbc/business/004.txt']), ('turns', ['./data/bbc/entertainment/007.txt']), ('couples', ['./data/bbc/entertainment/004.txt']), ('bennett', ['./data/bbc/entertainment/006.txt']), ('melbourne', ['./data/bbc/sport/009.txt']), ('kansas', ['./data/bbc/sport/003.txt']), ('plunders', ['./data/bbc/tech/008.txt']), ('real', ['./data/bbc/tech/009.txt', './data/bbc/business/003.txt']), ('vulnerable', ['./data/bbc/tech/007.txt']), ('december', ['./data/bbc/tech/002.txt', './data/bbc/politics/001.txt', './data/bbc/business/003.txt', './data/bbc/business/001.txt', './data/bbc/business/007.txt', './data/bbc/business/004.txt']), ('need', ['./data/bbc/tech/004.txt', './data/bbc/politics/003.txt', './data/bbc/business/008.txt', './data/bbc/business/009.txt', './data/bbc/business/002.txt']), ('uptodate', ['./data/bbc/tech/006.txt']), ('old', ['./data/bbc/tech/006.txt', './data/bbc/politics/008.txt', './data/bbc/politics/001.txt', './data/bbc/politics/002.txt']), ('containing', ['./data/bbc/politics/009.txt']), ('wrong', ['./data/bbc/politics/009.txt', './data/bbc/politics/003.txt']), ('proposals', ['./data/bbc/politics/003.txt', './data/bbc/politics/001.txt']), ('lowpaid', ['./data/bbc/politics/003.txt']), ('employment', ['./data/bbc/politics/003.txt', './data/bbc/business/007.txt']), ('welcome', ['./data/bbc/politics/001.txt']), ('announcement', ['./data/bbc/politics/004.txt']), ('cigarette', ['./data/bbc/business/010.txt', './data/bbc/entertainment/001.txt']), ('wall', ['./data/bbc/business/005.txt']), ('ballantines', ['./data/bbc/business/005.txt']), ('institution', ['./data/bbc/entertainment/008.txt']), ('fail', ['./data/bbc/entertainment/007.txt']), ('chipping', ['./data/bbc/sport/009.txt']), ('look', ['./data/bbc/sport/003.txt', './data/bbc/tech/005.txt', './data/bbc/tech/006.txt', './data/bbc/politics/008.txt', './data/bbc/politics/009.txt', './data/bbc/politics/002.txt']), ('progovernment', ['./data/bbc/tech/001.txt']), ('afghanistan', ['./data/bbc/tech/001.txt']), ('leaders', ['./data/bbc/tech/001.txt', './data/bbc/entertainment/010.txt']), ('four', ['./data/bbc/tech/007.txt', './data/bbc/politics/006.txt', './data/bbc/business/004.txt', './data/bbc/entertainment/010.txt']), ('censorship', ['./data/bbc/tech/002.txt']), ('huaralorg', ['./data/bbc/tech/006.txt']), ('socalled', ['./data/bbc/politics/008.txt']), ('sexual', ['./data/bbc/politics/008.txt', './data/bbc/entertainment/010.txt']), ('graduates', ['./data/bbc/politics/003.txt']), ('unfortunately', ['./data/bbc/politics/003.txt']), ('backwards', ['./data/bbc/politics/005.txt']), ('wake', ['./data/bbc/politics/006.txt']), ('twothirds', ['./data/bbc/business/005.txt']), ('select', ['./data/bbc/entertainment/003.txt']), ('anybody', ['./data/bbc/entertainment/007.txt']), ('freeman', ['./data/bbc/entertainment/002.txt']), ('poppins', ['./data/bbc/entertainment/005.txt']), ('circle', ['./data/bbc/entertainment/006.txt']), ('stomach', ['./data/bbc/sport/009.txt']), ('done', ['./data/bbc/sport/009.txt', './data/bbc/politics/009.txt', './data/bbc/politics/005.txt']), ('guys', ['./data/bbc/sport/003.txt', './data/bbc/entertainment/007.txt']), ('much', ['./data/bbc/sport/001.txt', './data/bbc/tech/009.txt', './data/bbc/politics/004.txt', './data/bbc/business/002.txt', './data/bbc/business/006.txt']), ('shes', ['./data/bbc/sport/007.txt']), ('director', ['./data/bbc/sport/007.txt', './data/bbc/tech/010.txt', './data/bbc/politics/001.txt', './data/bbc/politics/005.txt', './data/bbc/business/003.txt', './data/bbc/entertainment/008.txt', './data/bbc/entertainment/005.txt', './data/bbc/entertainment/006.txt']), ('spread', ['./data/bbc/tech/008.txt', './data/bbc/tech/001.txt']), ('pulsar', ['./data/bbc/tech/009.txt']), ('triumph', ['./data/bbc/tech/009.txt']), ('beta', ['./data/bbc/tech/003.txt']), ('stereotypical', ['./data/bbc/politics/003.txt']), ('nine', ['./data/bbc/politics/001.txt']), ('recruitment', ['./data/bbc/politics/001.txt']), ('sees', ['./data/bbc/politics/005.txt']), ('palaniappan', ['./data/bbc/business/008.txt']), ('cheap', ['./data/bbc/business/008.txt']), ('sales', ['./data/bbc/business/001.txt', './data/bbc/business/004.txt', './data/bbc/entertainment/004.txt']), ('dip', ['./data/bbc/business/001.txt']), ('lowest', ['./data/bbc/business/007.txt']), ('producing', ['./data/bbc/business/007.txt']), ('highlighted', ['./data/bbc/business/002.txt']), ('long', ['./data/bbc/sport/009.txt', './data/bbc/sport/001.txt', './data/bbc/sport/005.txt', './data/bbc/sport/006.txt', './data/bbc/tech/009.txt', './data/bbc/tech/002.txt']), ('gregorios', ['./data/bbc/sport/009.txt']), ('phones', ['./data/bbc/tech/009.txt', './data/bbc/tech/004.txt']), ('clockwork', ['./data/bbc/tech/009.txt']), ('razor', ['./data/bbc/tech/009.txt']), ('runners', ['./data/bbc/tech/009.txt']), ('wasnt', ['./data/bbc/tech/009.txt']), ('voter', ['./data/bbc/tech/001.txt']), ('factors', ['./data/bbc/tech/001.txt', './data/bbc/business/002.txt']), ('kit', ['./data/bbc/tech/004.txt']), ('published', ['./data/bbc/tech/004.txt', './data/bbc/entertainment/007.txt']), ('carlos', ['./data/bbc/tech/006.txt']), ('wage', ['./data/bbc/politics/003.txt']), ('emergency', ['./data/bbc/business/009.txt']), ('cream', ['./data/bbc/business/005.txt']), ('invent', ['./data/bbc/entertainment/009.txt']), ('tree', ['./data/bbc/entertainment/001.txt']), ('frustrating', ['./data/bbc/sport/009.txt']), ('expect', ['./data/bbc/sport/009.txt']), ('norway', ['./data/bbc/sport/009.txt', './data/bbc/entertainment/001.txt']), ('australian', ['./data/bbc/sport/007.txt']), ('issue', ['./data/bbc/sport/004.txt', './data/bbc/politics/009.txt', './data/bbc/politics/010.txt', './data/bbc/politics/005.txt', './data/bbc/business/008.txt', './data/bbc/business/007.txt']), ('software', ['./data/bbc/tech/008.txt', './data/bbc/tech/003.txt', './data/bbc/tech/010.txt', './data/bbc/tech/007.txt', './data/bbc/tech/002.txt', './data/bbc/tech/006.txt']), ('languages', ['./data/bbc/tech/008.txt', './data/bbc/entertainment/009.txt']), ('tv', ['./data/bbc/tech/009.txt', './data/bbc/tech/004.txt', './data/bbc/entertainment/004.txt']), ('apples', ['./data/bbc/tech/009.txt']), ('reality', ['./data/bbc/tech/001.txt']), ('city', ['./data/bbc/tech/005.txt', './data/bbc/entertainment/008.txt']), ('counterparts', ['./data/bbc/politics/008.txt', './data/bbc/politics/003.txt']), ('odd', ['./data/bbc/politics/009.txt']), ('posted', ['./data/bbc/business/001.txt']), ('redmayne', ['./data/bbc/entertainment/008.txt', './data/bbc/entertainment/006.txt']), ('jumper', ['./data/bbc/sport/009.txt']), ('gold', ['./data/bbc/sport/009.txt', './data/bbc/sport/003.txt', './data/bbc/sport/010.txt', './data/bbc/entertainment/007.txt']), ('says', ['./data/bbc/sport/010.txt', './data/bbc/tech/008.txt', './data/bbc/tech/005.txt', './data/bbc/tech/004.txt', './data/bbc/tech/006.txt', './data/bbc/politics/008.txt', './data/bbc/politics/002.txt', './data/bbc/politics/006.txt', './data/bbc/business/009.txt', './data/bbc/business/003.txt', './data/bbc/business/004.txt', './data/bbc/entertainment/010.txt']), ('australia', ['./data/bbc/sport/007.txt', './data/bbc/sport/002.txt']), ('officials', ['./data/bbc/sport/004.txt', './data/bbc/politics/008.txt', './data/bbc/business/003.txt']), ('anywhere', ['./data/bbc/tech/009.txt', './data/bbc/politics/005.txt']), ('hinge', ['./data/bbc/tech/009.txt']), ('rid', ['./data/bbc/tech/004.txt', './data/bbc/politics/003.txt']), ('providing', ['./data/bbc/tech/006.txt']), ('revealed', ['./data/bbc/politics/009.txt', './data/bbc/politics/003.txt']), ('preventing', ['./data/bbc/politics/003.txt', './data/bbc/politics/010.txt']), ('suitable', ['./data/bbc/politics/003.txt']), ('speculation', ['./data/bbc/politics/005.txt', './data/bbc/business/005.txt']), ('confirmed', ['./data/bbc/politics/004.txt']), ('fall', ['./data/bbc/business/007.txt']), ('stabilise', ['./data/bbc/business/002.txt']), ('passenger', ['./data/bbc/business/004.txt']), ('dress', ['./data/bbc/entertainment/001.txt']), ('cathy', ['./data/bbc/entertainment/002.txt']), ('travers', ['./data/bbc/entertainment/005.txt']), ('sunday', ['./data/bbc/sport/009.txt', './data/bbc/politics/001.txt', './data/bbc/politics/007.txt']), ('place', ['./data/bbc/sport/009.txt', './data/bbc/sport/001.txt', './data/bbc/tech/009.txt', './data/bbc/business/008.txt']), ('personal', ['./data/bbc/sport/009.txt', './data/bbc/tech/009.txt', './data/bbc/tech/003.txt', './data/bbc/politics/009.txt', './data/bbc/politics/007.txt']), ('want', ['./data/bbc/sport/010.txt', './data/bbc/sport/005.txt', './data/bbc/tech/005.txt', './data/bbc/politics/003.txt', './data/bbc/politics/004.txt', './data/bbc/entertainment/010.txt']), ('council', ['./data/bbc/sport/004.txt', './data/bbc/entertainment/010.txt']), ('users', ['./data/bbc/tech/008.txt', './data/bbc/tech/003.txt', './data/bbc/tech/007.txt', './data/bbc/tech/002.txt', './data/bbc/tech/006.txt', './data/bbc/business/001.txt']), ('etc', ['./data/bbc/tech/009.txt']), ('practical', ['./data/bbc/tech/009.txt']), ('watched', ['./data/bbc/tech/001.txt']), ('spend', ['./data/bbc/tech/004.txt', './data/bbc/politics/005.txt', './data/bbc/entertainment/003.txt']), ('follet', ['./data/bbc/politics/008.txt']), ('conducted', ['./data/bbc/politics/008.txt', './data/bbc/politics/003.txt']), ('contenders', ['./data/bbc/politics/007.txt', './data/bbc/entertainment/007.txt']), ('condemned', ['./data/bbc/politics/002.txt']), ('bournemouth', ['./data/bbc/politics/004.txt']), ('exact', ['./data/bbc/politics/004.txt']), ('dome', ['./data/bbc/politics/006.txt']), ('expects', ['./data/bbc/business/001.txt', './data/bbc/business/004.txt']), ('strategy', ['./data/bbc/business/002.txt']), ('sylvia', ['./data/bbc/entertainment/008.txt', './data/bbc/entertainment/006.txt']), ('died', ['./data/bbc/entertainment/009.txt']), ('hundred', ['./data/bbc/entertainment/009.txt']), ('gallery', ['./data/bbc/entertainment/001.txt']), ('task', ['./data/bbc/sport/003.txt', './data/bbc/sport/004.txt']), ('shevchenko', ['./data/bbc/sport/001.txt']), ('subject', ['./data/bbc/tech/008.txt', './data/bbc/politics/002.txt']), ('widespread', ['./data/bbc/tech/003.txt']), ('perceived', ['./data/bbc/tech/001.txt']), ('idea', ['./data/bbc/tech/005.txt', './data/bbc/tech/004.txt', './data/bbc/entertainment/003.txt']), ('citys', ['./data/bbc/tech/005.txt']), ('behave', ['./data/bbc/tech/005.txt']), ('trying', ['./data/bbc/tech/005.txt']), ('components', ['./data/bbc/tech/004.txt']), ('vital', ['./data/bbc/tech/006.txt', './data/bbc/politics/003.txt']), ('water', ['./data/bbc/tech/006.txt']), ('store', ['./data/bbc/tech/006.txt']), ('capable', ['./data/bbc/politics/009.txt']), ('bid', ['./data/bbc/politics/001.txt', './data/bbc/politics/006.txt', './data/bbc/business/005.txt']), ('served', ['./data/bbc/politics/002.txt']), ('improved', ['./data/bbc/business/009.txt', './data/bbc/business/005.txt']), ('fao', ['./data/bbc/business/009.txt']), ('accumulated', ['./data/bbc/business/010.txt']), ('rufus', ['./data/bbc/entertainment/008.txt', './data/bbc/entertainment/006.txt']), ('james', ['./data/bbc/entertainment/003.txt']), ('joined', ['./data/bbc/entertainment/001.txt', './data/bbc/entertainment/007.txt']), ('preview', ['./data/bbc/entertainment/005.txt']), ('earned', ['./data/bbc/entertainment/006.txt']), ('compatriot', ['./data/bbc/sport/005.txt']), ('launches', ['./data/bbc/sport/004.txt']), ('mailsending', ['./data/bbc/tech/008.txt']), ('tool', ['./data/bbc/tech/009.txt', './data/bbc/tech/003.txt', './data/bbc/tech/004.txt']), ('rank', ['./data/bbc/tech/009.txt']), ('radios', ['./data/bbc/tech/009.txt']), ('patents', ['./data/bbc/tech/010.txt']), ('warned', ['./data/bbc/tech/007.txt', './data/bbc/politics/009.txt', './data/bbc/politics/001.txt', './data/bbc/politics/007.txt', './data/bbc/politics/002.txt', './data/bbc/politics/005.txt', './data/bbc/politics/006.txt', './data/bbc/business/008.txt', './data/bbc/business/004.txt']), ('writers', ['./data/bbc/tech/007.txt', './data/bbc/entertainment/007.txt']), ('closing', ['./data/bbc/tech/002.txt', './data/bbc/politics/003.txt']), ('highly', ['./data/bbc/tech/002.txt', './data/bbc/politics/007.txt', './data/bbc/business/002.txt']), ('telecentre', ['./data/bbc/tech/006.txt']), ('polite', ['./data/bbc/politics/009.txt']), ('sinister', ['./data/bbc/politics/009.txt']), ('dems', ['./data/bbc/politics/007.txt', './data/bbc/politics/002.txt']), ('punishment', ['./data/bbc/business/003.txt']), ('mafia', ['./data/bbc/business/010.txt']), ('benefited', ['./data/bbc/business/001.txt']), ('remains', ['./data/bbc/business/002.txt', './data/bbc/business/004.txt', './data/bbc/business/006.txt']), ('pernods', ['./data/bbc/business/005.txt']), ('seven', ['./data/bbc/sport/003.txt', './data/bbc/business/008.txt', './data/bbc/business/009.txt', './data/bbc/entertainment/009.txt', './data/bbc/entertainment/005.txt']), ('late', ['./data/bbc/sport/007.txt', './data/bbc/business/002.txt', './data/bbc/entertainment/001.txt']), ('duty', ['./data/bbc/sport/004.txt']), ('nokia', ['./data/bbc/tech/009.txt', './data/bbc/tech/004.txt']), ('programs', ['./data/bbc/tech/003.txt', './data/bbc/tech/007.txt']), ('wording', ['./data/bbc/tech/010.txt']), ('plague', ['./data/bbc/tech/006.txt']), ('colin', ['./data/bbc/politics/004.txt']), ('curb', ['./data/bbc/business/002.txt']), ('eve', ['./data/bbc/entertainment/010.txt', './data/bbc/entertainment/007.txt']), ('relay', ['./data/bbc/sport/003.txt', './data/bbc/sport/010.txt']), ('compete', ['./data/bbc/sport/010.txt', './data/bbc/business/008.txt']), ('london', ['./data/bbc/sport/001.txt', './data/bbc/sport/002.txt', './data/bbc/tech/005.txt', './data/bbc/politics/006.txt', './data/bbc/business/008.txt', './data/bbc/business/002.txt', './data/bbc/business/005.txt', './data/bbc/entertainment/008.txt', './data/bbc/entertainment/003.txt', './data/bbc/entertainment/007.txt']), ('camera', ['./data/bbc/tech/009.txt']), ('deserved', ['./data/bbc/tech/009.txt']), ('verify', ['./data/bbc/tech/001.txt']), ('neon', ['./data/bbc/tech/001.txt']), ('scheduled', ['./data/bbc/tech/001.txt']), ('cellars', ['./data/bbc/tech/005.txt']), ('rear', ['./data/bbc/tech/004.txt']), ('gain', ['./data/bbc/tech/004.txt', './data/bbc/business/007.txt']), ('students', ['./data/bbc/tech/006.txt']), ('jeremy', ['./data/bbc/politics/009.txt']), ('failure', ['./data/bbc/politics/007.txt', './data/bbc/politics/006.txt']), ('returned', ['./data/bbc/politics/006.txt']), ('indias', ['./data/bbc/business/008.txt']), ('face', ['./data/bbc/business/008.txt', './data/bbc/business/004.txt', './data/bbc/business/006.txt']), ('raises', ['./data/bbc/entertainment/010.txt']), ('prostitution', ['./data/bbc/entertainment/010.txt']), ('enjoyment', ['./data/bbc/entertainment/002.txt']), ('judy', ['./data/bbc/entertainment/004.txt']), ('think', ['./data/bbc/sport/003.txt', './data/bbc/sport/001.txt', './data/bbc/tech/009.txt', './data/bbc/politics/008.txt', './data/bbc/politics/009.txt', './data/bbc/politics/005.txt', './data/bbc/business/002.txt', './data/bbc/entertainment/007.txt', './data/bbc/entertainment/004.txt']), ('us', ['./data/bbc/sport/004.txt', './data/bbc/tech/009.txt', './data/bbc/tech/001.txt', './data/bbc/tech/004.txt', './data/bbc/business/008.txt', './data/bbc/business/003.txt', './data/bbc/business/010.txt', './data/bbc/business/001.txt', './data/bbc/business/007.txt', './data/bbc/business/002.txt', './data/bbc/business/005.txt', './data/bbc/entertainment/009.txt', './data/bbc/entertainment/010.txt', './data/bbc/entertainment/002.txt', './data/bbc/entertainment/006.txt']), ('frankie', ['./data/bbc/sport/004.txt']), ('keen', ['./data/bbc/tech/010.txt', './data/bbc/tech/005.txt', './data/bbc/tech/006.txt', './data/bbc/business/006.txt']), ('africa', ['./data/bbc/tech/001.txt', './data/bbc/business/008.txt', './data/bbc/entertainment/010.txt']), ('demand', ['./data/bbc/tech/002.txt', './data/bbc/business/003.txt', './data/bbc/business/010.txt', './data/bbc/business/006.txt']), ('head', ['./data/bbc/tech/005.txt', './data/bbc/politics/006.txt', './data/bbc/business/002.txt']), ('uncovering', ['./data/bbc/tech/005.txt']), ('telecentres', ['./data/bbc/tech/006.txt']), ('cash', ['./data/bbc/tech/006.txt', './data/bbc/politics/005.txt']), ('youre', ['./data/bbc/politics/008.txt']), ('style', ['./data/bbc/politics/010.txt']), ('clergyman', ['./data/bbc/entertainment/009.txt']), ('quartet', ['./data/bbc/sport/009.txt']), ('faster', ['./data/bbc/sport/009.txt']), ('victory', ['./data/bbc/sport/007.txt']), ('facing', ['./data/bbc/sport/007.txt']), ('boost', ['./data/bbc/sport/002.txt', './data/bbc/politics/001.txt', './data/bbc/business/001.txt', './data/bbc/business/007.txt', './data/bbc/business/002.txt', './data/bbc/entertainment/004.txt']), ('computing', ['./data/bbc/tech/009.txt']), ('local', ['./data/bbc/tech/001.txt', './data/bbc/tech/006.txt', './data/bbc/politics/006.txt', './data/bbc/business/009.txt']), ('ills', ['./data/bbc/tech/001.txt']), ('required', ['./data/bbc/tech/002.txt', './data/bbc/tech/005.txt']), ('art', ['./data/bbc/tech/005.txt', './data/bbc/entertainment/001.txt']), ('historically', ['./data/bbc/tech/005.txt']), ('tara', ['./data/bbc/tech/005.txt']), ('stripped', ['./data/bbc/tech/004.txt']), ('maine', ['./data/bbc/tech/004.txt']), ('difference', ['./data/bbc/politics/008.txt']), ('conference', ['./data/bbc/politics/010.txt', './data/bbc/politics/007.txt', './data/bbc/politics/004.txt', './data/bbc/business/008.txt']), ('exemptions', ['./data/bbc/politics/002.txt']), ('sue', ['./data/bbc/business/003.txt', './data/bbc/business/010.txt']), ('yearearlier', ['./data/bbc/business/001.txt']), ('tumbled', ['./data/bbc/business/002.txt']), ('lead', ['./data/bbc/entertainment/005.txt']), ('upset', ['./data/bbc/sport/009.txt']), ('stepped', ['./data/bbc/sport/009.txt', './data/bbc/sport/007.txt', './data/bbc/politics/005.txt']), ('hurts', ['./data/bbc/sport/003.txt']), ('hooves', ['./data/bbc/tech/009.txt']), ('living', ['./data/bbc/tech/009.txt']), ('reveals', ['./data/bbc/tech/009.txt']), ('practices', ['./data/bbc/tech/010.txt', './data/bbc/tech/005.txt']), ('purchase', ['./data/bbc/tech/001.txt', './data/bbc/business/009.txt', './data/bbc/business/003.txt', './data/bbc/business/001.txt', './data/bbc/business/005.txt']), ('guidelines', ['./data/bbc/tech/002.txt']), ('based', ['./data/bbc/tech/004.txt', './data/bbc/entertainment/003.txt', './data/bbc/entertainment/006.txt']), ('wants', ['./data/bbc/tech/004.txt', './data/bbc/politics/005.txt']), ('claim', ['./data/bbc/tech/004.txt', './data/bbc/politics/009.txt', './data/bbc/business/003.txt', './data/bbc/business/010.txt']), ('babes', ['./data/bbc/politics/008.txt']), ('fear', ['./data/bbc/politics/007.txt', './data/bbc/entertainment/010.txt']), ('crucified', ['./data/bbc/entertainment/009.txt']), ('story', ['./data/bbc/entertainment/003.txt', './data/bbc/entertainment/005.txt']), ('sterns', ['./data/bbc/entertainment/003.txt']), ('alls', ['./data/bbc/entertainment/006.txt']), ('norwich', ['./data/bbc/sport/009.txt', './data/bbc/sport/003.txt', './data/bbc/sport/010.txt', './data/bbc/sport/006.txt']), ('onto', ['./data/bbc/sport/009.txt', './data/bbc/tech/009.txt']), ('championships', ['./data/bbc/sport/009.txt', './data/bbc/sport/010.txt', './data/bbc/sport/001.txt', './data/bbc/sport/002.txt']), ('glow', ['./data/bbc/tech/001.txt']), ('arts', ['./data/bbc/tech/005.txt']), ('affordable', ['./data/bbc/tech/006.txt']), ('colleagues', ['./data/bbc/tech/006.txt', './data/bbc/politics/008.txt', './data/bbc/politics/009.txt']), ('excess', ['./data/bbc/politics/005.txt']), ('ethiopians', ['./data/bbc/business/009.txt']), ('domecq', ['./data/bbc/business/005.txt']), ('susan', ['./data/bbc/entertainment/007.txt']), ('hometown', ['./data/bbc/entertainment/002.txt']), ('good', ['./data/bbc/sport/009.txt', './data/bbc/sport/010.txt', './data/bbc/tech/009.txt', './data/bbc/tech/010.txt', './data/bbc/tech/005.txt', './data/bbc/politics/009.txt', './data/bbc/politics/005.txt', './data/bbc/politics/006.txt', './data/bbc/business/009.txt', './data/bbc/business/004.txt', './data/bbc/entertainment/009.txt']), ('came', ['./data/bbc/sport/003.txt', './data/bbc/sport/006.txt', './data/bbc/tech/007.txt', './data/bbc/politics/008.txt', './data/bbc/politics/005.txt', './data/bbc/entertainment/004.txt']), ('alan', ['./data/bbc/sport/007.txt', './data/bbc/politics/002.txt', './data/bbc/business/002.txt', './data/bbc/entertainment/008.txt', './data/bbc/entertainment/006.txt']), ('telephone', ['./data/bbc/tech/009.txt', './data/bbc/tech/004.txt']), ('multitakings', ['./data/bbc/tech/009.txt']), ('technology', ['./data/bbc/tech/010.txt', './data/bbc/tech/001.txt', './data/bbc/tech/005.txt', './data/bbc/tech/006.txt']), ('visible', ['./data/bbc/tech/001.txt']), ('considers', ['./data/bbc/tech/002.txt']), ('coordinator', ['./data/bbc/tech/006.txt']), ('pay', ['./data/bbc/politics/003.txt', './data/bbc/politics/001.txt', './data/bbc/business/003.txt', './data/bbc/business/001.txt']), ('produced', ['./data/bbc/business/009.txt', './data/bbc/entertainment/010.txt']), ('tonnes', ['./data/bbc/business/009.txt']), ('charges', ['./data/bbc/business/001.txt']), ('robert', ['./data/bbc/business/002.txt']), ('roles', ['./data/bbc/entertainment/008.txt']), ('married', ['./data/bbc/entertainment/009.txt']), ('fantasise', ['./data/bbc/entertainment/009.txt']), ('decades', ['./data/bbc/entertainment/001.txt']), ('mackie', ['./data/bbc/sport/009.txt']), ('heat', ['./data/bbc/sport/009.txt']), ('provincial', ['./data/bbc/sport/002.txt']), ('tivo', ['./data/bbc/tech/009.txt']), ('quartz', ['./data/bbc/tech/009.txt']), ('gps', ['./data/bbc/tech/009.txt']), ('pb', ['./data/bbc/tech/009.txt']), ('cuticle', ['./data/bbc/tech/001.txt']), ('immoral', ['./data/bbc/tech/002.txt']), ('graphics', ['./data/bbc/tech/005.txt']), ('interactive', ['./data/bbc/tech/005.txt', './data/bbc/entertainment/001.txt']), ('strategies', ['./data/bbc/tech/005.txt']), ('men', ['./data/bbc/tech/006.txt', './data/bbc/politics/003.txt']), ('testing', ['./data/bbc/tech/006.txt']), ('gambling', ['./data/bbc/politics/010.txt']), ('nearrecord', ['./data/bbc/politics/005.txt']), ('luck', ['./data/bbc/politics/006.txt']), ('directly', ['./data/bbc/business/009.txt']), ('dominic', ['./data/bbc/entertainment/008.txt']), ('andersons', ['./data/bbc/entertainment/002.txt']), ('lowkey', ['./data/bbc/sport/009.txt']), ('ambitions', ['./data/bbc/sport/003.txt', './data/bbc/business/003.txt']), ('preparing', ['./data/bbc/sport/001.txt', './data/bbc/sport/002.txt']), ('swiss', ['./data/bbc/tech/009.txt']), ('improve', ['./data/bbc/tech/003.txt', './data/bbc/business/002.txt']), ('source', ['./data/bbc/tech/010.txt', './data/bbc/tech/006.txt']), ('marking', ['./data/bbc/tech/001.txt']), ('contrary', ['./data/bbc/tech/001.txt', './data/bbc/business/010.txt']), ('outsidein', ['./data/bbc/tech/005.txt']), ('projects', ['./data/bbc/tech/006.txt']), ('planning', ['./data/bbc/tech/006.txt']), ('oh', ['./data/bbc/politics/008.txt']), ('tbwas', ['./data/bbc/politics/009.txt']), ('shd', ['./data/bbc/politics/009.txt']), ('maternity', ['./data/bbc/politics/003.txt', './data/bbc/politics/001.txt']), ('unlikely', ['./data/bbc/politics/002.txt', './data/bbc/business/008.txt', './data/bbc/business/002.txt']), ('limited', ['./data/bbc/business/007.txt']), ('musical', ['./data/bbc/entertainment/008.txt', './data/bbc/entertainment/003.txt', './data/bbc/entertainment/005.txt', './data/bbc/entertainment/006.txt']), ('kalman', ['./data/bbc/entertainment/008.txt']), ('empowerment', ['./data/bbc/entertainment/010.txt']), ('queen', ['./data/bbc/entertainment/007.txt', './data/bbc/entertainment/002.txt']), ('musician', ['./data/bbc/entertainment/002.txt']), ('atlas', ['./data/bbc/entertainment/004.txt']), ('kosenkow', ['./data/bbc/sport/009.txt']), ('athletes', ['./data/bbc/sport/009.txt', './data/bbc/sport/004.txt']), ('across', ['./data/bbc/tech/008.txt', './data/bbc/politics/008.txt', './data/bbc/politics/003.txt', './data/bbc/entertainment/009.txt', './data/bbc/entertainment/002.txt']), ('heads', ['./data/bbc/tech/008.txt', './data/bbc/entertainment/005.txt']), ('noises', ['./data/bbc/tech/009.txt']), ('critical', ['./data/bbc/tech/007.txt']), ('demanded', ['./data/bbc/tech/002.txt']), ('revenge', ['./data/bbc/politics/007.txt']), ('doesnt', ['./data/bbc/politics/004.txt']), ('restrictive', ['./data/bbc/business/008.txt']), ('debt', ['./data/bbc/business/005.txt', './data/bbc/business/004.txt']), ('mccafferty', ['./data/bbc/entertainment/008.txt']), ('vinci', ['./data/bbc/entertainment/009.txt']), ('rigg', ['./data/bbc/entertainment/006.txt']), ('fridays', ['./data/bbc/sport/003.txt']), ('used', ['./data/bbc/tech/009.txt', './data/bbc/tech/001.txt', './data/bbc/tech/007.txt', './data/bbc/tech/005.txt', './data/bbc/politics/009.txt']), ('centuries', ['./data/bbc/tech/009.txt']), ('quickly', ['./data/bbc/tech/009.txt', './data/bbc/politics/003.txt']), ('additional', ['./data/bbc/tech/001.txt', './data/bbc/business/004.txt']), ('inspiration', ['./data/bbc/tech/005.txt']), ('happened', ['./data/bbc/tech/006.txt', './data/bbc/entertainment/008.txt']), ('remarks', ['./data/bbc/politics/008.txt']), ('tempted', ['./data/bbc/politics/005.txt']), ('amazes', ['./data/bbc/politics/004.txt']), ('forecast', ['./data/bbc/business/008.txt', './data/bbc/business/004.txt']), ('ignored', ['./data/bbc/business/010.txt']), ('demands', ['./data/bbc/business/010.txt']), ('warners', ['./data/bbc/business/001.txt']), ('rum', ['./data/bbc/business/005.txt']), ('mcburney', ['./data/bbc/entertainment/008.txt']), ('testament', ['./data/bbc/entertainment/009.txt']), ('workshops', ['./data/bbc/entertainment/003.txt']), ('eyepopping', ['./data/bbc/entertainment/007.txt']), ('cleared', ['./data/bbc/sport/009.txt', './data/bbc/sport/006.txt']), ('victims', ['./data/bbc/tech/008.txt']), ('powerbook', ['./data/bbc/tech/009.txt']), ('seeking', ['./data/bbc/tech/003.txt', './data/bbc/business/005.txt']), ('information', ['./data/bbc/tech/003.txt', './data/bbc/tech/006.txt', './data/bbc/politics/002.txt', './data/bbc/business/009.txt']), ('integral', ['./data/bbc/tech/005.txt']), ('picture', ['./data/bbc/tech/005.txt', './data/bbc/business/006.txt', './data/bbc/entertainment/009.txt']), ('hostility', ['./data/bbc/politics/008.txt']), ('investigated', ['./data/bbc/politics/009.txt']), ('doctors', ['./data/bbc/politics/009.txt']), ('police', ['./data/bbc/politics/003.txt']), ('words', ['./data/bbc/politics/007.txt']), ('access', ['./data/bbc/politics/002.txt']), ('peninsula', ['./data/bbc/politics/006.txt']), ('adding', ['./data/bbc/business/007.txt']), ('shorthaul', ['./data/bbc/business/004.txt']), ('arditti', ['./data/bbc/entertainment/008.txt']), ('clothes', ['./data/bbc/entertainment/002.txt']), ('finnigans', ['./data/bbc/entertainment/004.txt']), ('diane', ['./data/bbc/sport/009.txt']), ('maurice', ['./data/bbc/sport/003.txt', './data/bbc/sport/010.txt', './data/bbc/sport/006.txt']), ('conserving', ['./data/bbc/sport/003.txt']), ('medallists', ['./data/bbc/sport/010.txt']), ('beaten', ['./data/bbc/sport/007.txt']), ('gadgets', ['./data/bbc/tech/009.txt']), ('true', ['./data/bbc/tech/009.txt', './data/bbc/entertainment/009.txt']), ('hightech', ['./data/bbc/tech/009.txt']), ('qwerty', ['./data/bbc/tech/009.txt']), ('storage', ['./data/bbc/tech/009.txt']), ('help', ['./data/bbc/tech/003.txt', './data/bbc/tech/005.txt', './data/bbc/politics/008.txt', './data/bbc/politics/003.txt', './data/bbc/politics/007.txt', './data/bbc/business/008.txt', './data/bbc/business/009.txt', './data/bbc/business/002.txt', './data/bbc/business/004.txt', './data/bbc/entertainment/002.txt']), ('law', ['./data/bbc/tech/010.txt', './data/bbc/tech/001.txt', './data/bbc/politics/010.txt', './data/bbc/business/003.txt']), ('coalition', ['./data/bbc/tech/001.txt']), ('usual', ['./data/bbc/tech/007.txt']), ('remnants', ['./data/bbc/tech/005.txt']), ('poor', ['./data/bbc/tech/006.txt']), ('valley', ['./data/bbc/tech/006.txt']), ('manifesto', ['./data/bbc/politics/003.txt']), ('payment', ['./data/bbc/politics/003.txt']), ('floating', ['./data/bbc/business/008.txt']), ('underlying', ['./data/bbc/business/001.txt', './data/bbc/entertainment/009.txt']), ('boxoffice', ['./data/bbc/business/001.txt']), ('ripe', ['./data/bbc/business/002.txt', './data/bbc/business/005.txt']), ('diageo', ['./data/bbc/business/005.txt']), ('lee', ['./data/bbc/entertainment/008.txt']), ('ambition', ['./data/bbc/entertainment/003.txt']), ('prize', ['./data/bbc/entertainment/007.txt', './data/bbc/entertainment/006.txt']), ('collins', ['./data/bbc/sport/010.txt']), ('claxton', ['./data/bbc/sport/001.txt']), ('tirunesh', ['./data/bbc/sport/005.txt']), ('sport', ['./data/bbc/sport/004.txt', './data/bbc/politics/006.txt']), ('web', ['./data/bbc/tech/008.txt', './data/bbc/tech/005.txt', './data/bbc/tech/006.txt']), ('parts', ['./data/bbc/tech/009.txt', './data/bbc/tech/004.txt', './data/bbc/business/005.txt', './data/bbc/entertainment/010.txt']), ('apparatus', ['./data/bbc/tech/009.txt', './data/bbc/entertainment/010.txt']), ('ad', ['./data/bbc/tech/009.txt', './data/bbc/business/001.txt']), ('radioactive', ['./data/bbc/tech/001.txt']), ('core', ['./data/bbc/tech/005.txt']), ('ideas', ['./data/bbc/tech/005.txt', './data/bbc/politics/003.txt']), ('founder', ['./data/bbc/tech/004.txt', './data/bbc/business/003.txt']), ('throughout', ['./data/bbc/tech/006.txt']), ('jackie', ['./data/bbc/politics/008.txt']), ('prof', ['./data/bbc/politics/008.txt']), ('newsnight', ['./data/bbc/politics/009.txt']), ('deliver', ['./data/bbc/politics/007.txt']), ('touchyfeely', ['./data/bbc/politics/007.txt']), ('judgements', ['./data/bbc/business/008.txt']), ('faos', ['./data/bbc/business/009.txt']), ('drawn', ['./data/bbc/business/010.txt']), ('fortunes', ['./data/bbc/business/001.txt']), ('customers', ['./data/bbc/business/001.txt']), ('labor', ['./data/bbc/business/007.txt']), ('shift', ['./data/bbc/business/002.txt']), ('doren', ['./data/bbc/entertainment/003.txt']), ('tale', ['./data/bbc/entertainment/002.txt']), ('darker', ['./data/bbc/entertainment/002.txt', './data/bbc/entertainment/005.txt']), ('coined', ['./data/bbc/entertainment/004.txt']), ('finalists', ['./data/bbc/entertainment/004.txt']), ('alice', ['./data/bbc/entertainment/004.txt']), ('setback', ['./data/bbc/sport/009.txt']), ('fastest', ['./data/bbc/sport/003.txt']), ('staged', ['./data/bbc/sport/005.txt']), ('heart', ['./data/bbc/tech/009.txt', './data/bbc/entertainment/007.txt']), ('space', ['./data/bbc/tech/009.txt']), ('serbia', ['./data/bbc/tech/001.txt']), ('hardware', ['./data/bbc/tech/002.txt']), ('organisations', ['./data/bbc/tech/005.txt', './data/bbc/tech/006.txt', './data/bbc/business/008.txt']), ('service', ['./data/bbc/tech/004.txt', './data/bbc/politics/002.txt', './data/bbc/business/001.txt']), ('apparently', ['./data/bbc/politics/009.txt', './data/bbc/business/006.txt']), ('suggested', ['./data/bbc/politics/009.txt', './data/bbc/politics/005.txt', './data/bbc/business/005.txt']), ('qualms', ['./data/bbc/politics/007.txt']), ('prospective', ['./data/bbc/politics/005.txt']), ('skilling', ['./data/bbc/politics/005.txt']), ('seizure', ['./data/bbc/business/003.txt']), ('osborne', ['./data/bbc/business/003.txt']), ('favourable', ['./data/bbc/business/007.txt']), ('passengers', ['./data/bbc/business/004.txt']), ('tender', ['./data/bbc/entertainment/008.txt']), ('astonishingly', ['./data/bbc/entertainment/009.txt']), ('offending', ['./data/bbc/entertainment/010.txt']), ('mundane', ['./data/bbc/entertainment/001.txt']), ('contender', ['./data/bbc/entertainment/007.txt']), ('sweetnatured', ['./data/bbc/entertainment/005.txt']), ('slow', ['./data/bbc/sport/009.txt', './data/bbc/tech/003.txt', './data/bbc/business/007.txt']), ('jumping', ['./data/bbc/sport/009.txt']), ('mass', ['./data/bbc/sport/007.txt']), ('consecutive', ['./data/bbc/sport/006.txt']), ('windows', ['./data/bbc/tech/008.txt', './data/bbc/tech/003.txt', './data/bbc/tech/007.txt']), ('prefer', ['./data/bbc/tech/008.txt']), ('magazine', ['./data/bbc/tech/009.txt', './data/bbc/entertainment/007.txt']), ('editors', ['./data/bbc/tech/009.txt']), ('anyhting', ['./data/bbc/tech/009.txt']), ('every', ['./data/bbc/tech/009.txt', './data/bbc/tech/001.txt', './data/bbc/tech/007.txt', './data/bbc/politics/003.txt', './data/bbc/politics/006.txt']), ('passage', ['./data/bbc/tech/010.txt', './data/bbc/tech/001.txt']), ('election', ['./data/bbc/tech/001.txt', './data/bbc/politics/008.txt', './data/bbc/politics/009.txt', './data/bbc/politics/003.txt', './data/bbc/politics/001.txt', './data/bbc/politics/007.txt', './data/bbc/politics/005.txt', './data/bbc/business/007.txt']), ('article', ['./data/bbc/tech/001.txt']), ('arm', ['./data/bbc/tech/005.txt', './data/bbc/politics/006.txt', './data/bbc/business/003.txt']), ('cell', ['./data/bbc/tech/004.txt']), ('trevor', ['./data/bbc/politics/009.txt', './data/bbc/entertainment/007.txt']), ('add', ['./data/bbc/politics/005.txt']), ('activity', ['./data/bbc/business/009.txt']), ('court', ['./data/bbc/business/003.txt', './data/bbc/business/010.txt', './data/bbc/entertainment/008.txt']), ('ricard', ['./data/bbc/business/005.txt']), ('jean', ['./data/bbc/entertainment/008.txt']), ('selection', ['./data/bbc/entertainment/004.txt']), ('teacher', ['./data/bbc/entertainment/006.txt']), ('boldon', ['./data/bbc/sport/003.txt']), ('st', ['./data/bbc/sport/010.txt', './data/bbc/sport/002.txt', './data/bbc/tech/005.txt', './data/bbc/entertainment/009.txt', './data/bbc/entertainment/007.txt']), ('quite', ['./data/bbc/sport/001.txt', './data/bbc/tech/009.txt', './data/bbc/business/004.txt']), ('cross', ['./data/bbc/sport/002.txt']), ('online', ['./data/bbc/tech/008.txt', './data/bbc/tech/003.txt', './data/bbc/tech/005.txt', './data/bbc/business/001.txt']), ('hoaxes', ['./data/bbc/tech/008.txt']), ('journalists', ['./data/bbc/tech/009.txt', './data/bbc/politics/008.txt', './data/bbc/politics/009.txt']), ('republics', ['./data/bbc/tech/001.txt']), ('bts', ['./data/bbc/tech/005.txt']), ('buildings', ['./data/bbc/tech/005.txt']), ('panel', ['./data/bbc/tech/004.txt', './data/bbc/politics/003.txt', './data/bbc/entertainment/007.txt']), ('spoke', ['./data/bbc/politics/008.txt', './data/bbc/politics/009.txt']), ('accounts', ['./data/bbc/politics/006.txt', './data/bbc/business/001.txt']), ('owners', ['./data/bbc/business/003.txt']), ('appeal', ['./data/bbc/business/010.txt']), ('falling', ['./data/bbc/entertainment/008.txt']), ('wintour', ['./data/bbc/entertainment/008.txt']), ('auctioned', ['./data/bbc/entertainment/001.txt']), ('mcdonald', ['./data/bbc/entertainment/007.txt']), ('poems', ['./data/bbc/entertainment/007.txt']), ('maduaka', ['./data/bbc/sport/009.txt']), ('headtohead', ['./data/bbc/sport/003.txt']), ('met', ['./data/bbc/sport/004.txt', './data/bbc/politics/009.txt', './data/bbc/business/010.txt']), ('christmases', ['./data/bbc/tech/008.txt']), ('selfcontained', ['./data/bbc/tech/009.txt']), ('contains', ['./data/bbc/tech/009.txt']), ('incs', ['./data/bbc/tech/009.txt']), ('product', ['./data/bbc/tech/009.txt', './data/bbc/business/009.txt']), ('attacks', ['./data/bbc/tech/007.txt', './data/bbc/politics/007.txt', './data/bbc/business/004.txt']), ('environment', ['./data/bbc/tech/002.txt', './data/bbc/business/007.txt']), ('launch', ['./data/bbc/tech/005.txt']), ('handles', ['./data/bbc/tech/005.txt']), ('wifi', ['./data/bbc/tech/006.txt']), ('therefore', ['./data/bbc/tech/006.txt', './data/bbc/business/002.txt']), ('betty', ['./data/bbc/politics/008.txt']), ('exno', ['./data/bbc/politics/009.txt']), ('spokeswoman', ['./data/bbc/politics/001.txt', './data/bbc/politics/002.txt', './data/bbc/entertainment/003.txt']), ('crockery', ['./data/bbc/politics/007.txt']), ('exchief', ['./data/bbc/politics/005.txt']), ('status', ['./data/bbc/business/008.txt']), ('russia', ['./data/bbc/business/008.txt', './data/bbc/business/003.txt']), ('deficit', ['./data/bbc/business/008.txt', './data/bbc/business/002.txt']), ('washington', ['./data/bbc/business/010.txt']), ('williamson', ['./data/bbc/business/010.txt']), ('hector', ['./data/bbc/entertainment/008.txt', './data/bbc/entertainment/006.txt']), ('obscene', ['./data/bbc/entertainment/010.txt']), ('biography', ['./data/bbc/entertainment/007.txt']), ('yearlong', ['./data/bbc/entertainment/002.txt']), ('goal', ['./data/bbc/sport/003.txt', './data/bbc/politics/003.txt']), ('spot', ['./data/bbc/sport/001.txt', './data/bbc/politics/009.txt']), ('country', ['./data/bbc/sport/002.txt', './data/bbc/tech/002.txt', './data/bbc/politics/007.txt', './data/bbc/politics/004.txt', './data/bbc/politics/006.txt', './data/bbc/entertainment/010.txt']), ('etienne', ['./data/bbc/sport/002.txt']), ('paved', ['./data/bbc/tech/009.txt']), ('probably', ['./data/bbc/tech/009.txt', './data/bbc/tech/004.txt', './data/bbc/politics/009.txt']), ('enter', ['./data/bbc/tech/001.txt']), ('focused', ['./data/bbc/tech/005.txt']), ('pervasive', ['./data/bbc/tech/005.txt']), ('sale', ['./data/bbc/tech/004.txt', './data/bbc/politics/006.txt', './data/bbc/business/003.txt', './data/bbc/business/001.txt']), ('lima', ['./data/bbc/tech/006.txt']), ('cabin', ['./data/bbc/tech/006.txt']), ('typically', ['./data/bbc/politics/003.txt']), ('theresa', ['./data/bbc/politics/001.txt']), ('balls', ['./data/bbc/politics/005.txt']), ('larger', ['./data/bbc/politics/004.txt']), ('bourn', ['./data/bbc/politics/006.txt']), ('owner', ['./data/bbc/business/003.txt']), ('clearview', ['./data/bbc/business/007.txt']), ('jacobs', ['./data/bbc/business/005.txt']), ('settles', ['./data/bbc/entertainment/007.txt']), ('university', ['./data/bbc/entertainment/007.txt']), ('germanys', ['./data/bbc/sport/009.txt']), ('union', ['./data/bbc/sport/009.txt', './data/bbc/sport/003.txt', './data/bbc/sport/010.txt', './data/bbc/sport/006.txt']), ('underestimating', ['./data/bbc/sport/010.txt']), ('monaco', ['./data/bbc/sport/004.txt']), ('improving', ['./data/bbc/tech/009.txt', './data/bbc/politics/005.txt']), ('greater', ['./data/bbc/tech/001.txt', './data/bbc/tech/005.txt', './data/bbc/politics/008.txt']), ('agricultural', ['./data/bbc/tech/001.txt', './data/bbc/tech/006.txt']), ('sites', ['./data/bbc/tech/002.txt']), ('abuse', ['./data/bbc/politics/008.txt', './data/bbc/entertainment/010.txt']), ('clearly', ['./data/bbc/politics/003.txt']), ('funding', ['./data/bbc/politics/003.txt']), ('basingstoke', ['./data/bbc/politics/007.txt']), ('muddled', ['./data/bbc/politics/006.txt']), ('investors', ['./data/bbc/business/001.txt', './data/bbc/entertainment/003.txt']), ('aviation', ['./data/bbc/business/004.txt']), ('townsend', ['./data/bbc/entertainment/008.txt']), ('string', ['./data/bbc/entertainment/001.txt']), ('looking', ['./data/bbc/sport/009.txt', './data/bbc/sport/010.txt', './data/bbc/politics/003.txt', './data/bbc/business/002.txt', './data/bbc/business/004.txt']), ('scotlands', ['./data/bbc/sport/009.txt', './data/bbc/business/005.txt']), ('distance', ['./data/bbc/sport/003.txt']), ('failed', ['./data/bbc/sport/006.txt', './data/bbc/tech/010.txt', './data/bbc/politics/004.txt', './data/bbc/politics/006.txt']), ('seen', ['./data/bbc/tech/008.txt', './data/bbc/tech/001.txt', './data/bbc/tech/007.txt', './data/bbc/tech/004.txt', './data/bbc/politics/009.txt', './data/bbc/politics/007.txt', './data/bbc/politics/004.txt']), ('played', ['./data/bbc/tech/009.txt']), ('removable', ['./data/bbc/tech/009.txt']), ('earn', ['./data/bbc/tech/009.txt', './data/bbc/politics/003.txt']), ('qualified', ['./data/bbc/tech/010.txt']), ('uv', ['./data/bbc/tech/001.txt']), ('societies', ['./data/bbc/tech/001.txt']), ('experiments', ['./data/bbc/tech/004.txt']), ('pretended', ['./data/bbc/politics/008.txt']), ('responsibility', ['./data/bbc/politics/010.txt']), ('carers', ['./data/bbc/politics/001.txt']), ('predicted', ['./data/bbc/politics/007.txt', './data/bbc/business/004.txt']), ('increase', ['./data/bbc/politics/005.txt', './data/bbc/business/010.txt', './data/bbc/business/001.txt', './data/bbc/entertainment/004.txt']), ('higher', ['./data/bbc/business/009.txt', './data/bbc/business/010.txt', './data/bbc/business/001.txt', './data/bbc/business/002.txt']), ('surcharge', ['./data/bbc/business/004.txt']), ('thoday', ['./data/bbc/entertainment/003.txt']), ('symmons', ['./data/bbc/entertainment/007.txt']), ('auditorium', ['./data/bbc/entertainment/005.txt']), ('originally', ['./data/bbc/entertainment/005.txt']), ('triple', ['./data/bbc/sport/009.txt', './data/bbc/sport/009.txt']), ('olympic', ['./data/bbc/sport/009.txt', './data/bbc/sport/003.txt', './data/bbc/sport/010.txt', './data/bbc/sport/005.txt', './data/bbc/sport/006.txt']), ('races', ['./data/bbc/sport/003.txt', './data/bbc/sport/010.txt']), ('comes', ['./data/bbc/sport/001.txt', './data/bbc/politics/002.txt']), ('kodak', ['./data/bbc/tech/009.txt']), ('taking', ['./data/bbc/tech/009.txt', './data/bbc/tech/006.txt', './data/bbc/business/008.txt', './data/bbc/business/002.txt']), ('redrafted', ['./data/bbc/tech/010.txt']), ('ukraine', ['./data/bbc/tech/001.txt']), ('display', ['./data/bbc/tech/004.txt']), ('teachers', ['./data/bbc/tech/004.txt', './data/bbc/entertainment/001.txt']), ('episodes', ['./data/bbc/politics/008.txt']), ('howard', ['./data/bbc/politics/009.txt', './data/bbc/politics/007.txt', './data/bbc/politics/002.txt']), ('beith', ['./data/bbc/politics/002.txt']), ('legitimate', ['./data/bbc/politics/002.txt']), ('firestone', ['./data/bbc/business/003.txt']), ('adjust', ['./data/bbc/business/001.txt']), ('chairmans', ['./data/bbc/business/002.txt']), ('luxury', ['./data/bbc/business/005.txt']), ('turnover', ['./data/bbc/business/004.txt']), ('phenomenon', ['./data/bbc/entertainment/009.txt']), ('copenhagen', ['./data/bbc/entertainment/002.txt']), ('determination', ['./data/bbc/sport/009.txt']), ('leonard', ['./data/bbc/sport/006.txt']), ('voted', ['./data/bbc/tech/009.txt']), ('manager', ['./data/bbc/tech/003.txt', './data/bbc/tech/007.txt']), ('files', ['./data/bbc/tech/007.txt']), ('potential', ['./data/bbc/tech/005.txt', './data/bbc/tech/006.txt', './data/bbc/politics/003.txt', './data/bbc/entertainment/003.txt']), ('rather', ['./data/bbc/tech/004.txt']), ('taunts', ['./data/bbc/politics/008.txt']), ('minister', ['./data/bbc/politics/008.txt', './data/bbc/politics/009.txt', './data/bbc/politics/003.txt', './data/bbc/politics/007.txt', './data/bbc/politics/005.txt', './data/bbc/politics/006.txt', './data/bbc/business/008.txt', './data/bbc/business/006.txt']), ('politics', ['./data/bbc/politics/007.txt']), ('risk', ['./data/bbc/politics/005.txt']), ('host', ['./data/bbc/politics/004.txt']), ('aside', ['./data/bbc/business/001.txt']), ('nationals', ['./data/bbc/sport/002.txt']), ('nutrition', ['./data/bbc/sport/004.txt']), ('million', ['./data/bbc/tech/003.txt', './data/bbc/tech/004.txt', './data/bbc/business/009.txt', './data/bbc/entertainment/009.txt', './data/bbc/entertainment/004.txt']), ('shut', ['./data/bbc/tech/002.txt', './data/bbc/entertainment/010.txt']), ('hugely', ['./data/bbc/tech/002.txt']), ('village', ['./data/bbc/tech/004.txt', './data/bbc/politics/006.txt']), ('side', ['./data/bbc/politics/009.txt', './data/bbc/business/004.txt']), ('considering', ['./data/bbc/politics/009.txt', './data/bbc/business/005.txt']), ('outlined', ['./data/bbc/politics/001.txt']), ('progressive', ['./data/bbc/entertainment/010.txt']), ('documentary', ['./data/bbc/entertainment/007.txt']), ('harvey', ['./data/bbc/entertainment/002.txt']), ('winner', ['./data/bbc/sport/009.txt', './data/bbc/sport/007.txt', './data/bbc/entertainment/007.txt', './data/bbc/entertainment/004.txt']), ('sets', ['./data/bbc/sport/003.txt', './data/bbc/tech/005.txt']), ('ultraviolet', ['./data/bbc/tech/001.txt']), ('entrance', ['./data/bbc/tech/001.txt']), ('news', ['./data/bbc/tech/002.txt', './data/bbc/tech/006.txt', './data/bbc/politics/007.txt', './data/bbc/politics/004.txt', './data/bbc/business/003.txt']), ('proper', ['./data/bbc/tech/006.txt']), ('edge', ['./data/bbc/politics/008.txt']), ('insisting', ['./data/bbc/politics/007.txt']), ('inquiry', ['./data/bbc/politics/002.txt', './data/bbc/business/001.txt']), ('tobacco', ['./data/bbc/business/010.txt']), ('google', ['./data/bbc/business/001.txt']), ('fewer', ['./data/bbc/business/007.txt']), ('capitalisation', ['./data/bbc/business/005.txt']), ('television', ['./data/bbc/entertainment/008.txt']), ('respective', ['./data/bbc/entertainment/007.txt']), ('venue', ['./data/bbc/sport/010.txt', './data/bbc/politics/004.txt', './data/bbc/politics/006.txt']), ('hoping', ['./data/bbc/sport/010.txt', './data/bbc/tech/005.txt', './data/bbc/entertainment/004.txt']), ('reconsideration', ['./data/bbc/tech/010.txt']), ('opposition', ['./data/bbc/tech/001.txt', './data/bbc/politics/010.txt']), ('interception', ['./data/bbc/tech/002.txt']), ('north', ['./data/bbc/tech/006.txt', './data/bbc/entertainment/010.txt']), ('runs', ['./data/bbc/tech/006.txt']), ('actually', ['./data/bbc/politics/009.txt']), ('struggling', ['./data/bbc/politics/007.txt']), ('contained', ['./data/bbc/politics/002.txt']), ('principle', ['./data/bbc/politics/002.txt']), ('renewed', ['./data/bbc/business/008.txt']), ('rosneft', ['./data/bbc/business/003.txt']), ('contact', ['./data/bbc/business/005.txt']), ('oneway', ['./data/bbc/business/004.txt']), ('wrote', ['./data/bbc/entertainment/003.txt', './data/bbc/entertainment/007.txt']), ('bans', ['./data/bbc/entertainment/010.txt']), ('siding', ['./data/bbc/entertainment/010.txt']), ('bulb', ['./data/bbc/entertainment/001.txt']), ('guy', ['./data/bbc/entertainment/007.txt']), ('bookershortlisted', ['./data/bbc/entertainment/004.txt']), ('entries', ['./data/bbc/entertainment/004.txt']), ('added', ['./data/bbc/sport/009.txt', './data/bbc/tech/005.txt', './data/bbc/politics/008.txt', './data/bbc/politics/003.txt', './data/bbc/politics/005.txt', './data/bbc/politics/006.txt', './data/bbc/business/007.txt']), ('yearold', ['./data/bbc/sport/009.txt', './data/bbc/sport/001.txt', './data/bbc/sport/007.txt', './data/bbc/sport/002.txt']), ('stage', ['./data/bbc/sport/001.txt', './data/bbc/entertainment/005.txt']), ('personally', ['./data/bbc/tech/008.txt']), ('mobile', ['./data/bbc/tech/009.txt', './data/bbc/tech/004.txt']), ('zenith', ['./data/bbc/tech/009.txt']), ('flash', ['./data/bbc/tech/009.txt']), ('developed', ['./data/bbc/tech/009.txt', './data/bbc/tech/002.txt']), ('soviet', ['./data/bbc/tech/001.txt']), ('aggressively', ['./data/bbc/tech/001.txt']), ('cleaning', ['./data/bbc/tech/001.txt']), ('considered', ['./data/bbc/tech/007.txt']), ('kw', ['./data/bbc/tech/006.txt']), ('lots', ['./data/bbc/politics/008.txt']), ('placed', ['./data/bbc/politics/008.txt']), ('decries', ['./data/bbc/politics/003.txt']), ('accused', ['./data/bbc/politics/007.txt', './data/bbc/business/010.txt']), ('thomas', ['./data/bbc/politics/002.txt']), ('resort', ['./data/bbc/politics/004.txt']), ('eastern', ['./data/bbc/business/009.txt']), ('dan', ['./data/bbc/entertainment/009.txt']), ('involved', ['./data/bbc/sport/009.txt', './data/bbc/politics/010.txt', './data/bbc/politics/006.txt']), ('people', ['./data/bbc/sport/003.txt', './data/bbc/sport/004.txt', './data/bbc/tech/009.txt', './data/bbc/tech/003.txt', './data/bbc/tech/002.txt', './data/bbc/tech/005.txt', './data/bbc/tech/006.txt', './data/bbc/politics/008.txt', './data/bbc/politics/007.txt', './data/bbc/politics/005.txt']), ('jolene', ['./data/bbc/sport/002.txt']), ('nothing', ['./data/bbc/sport/004.txt', './data/bbc/politics/008.txt']), ('congratulations', ['./data/bbc/tech/009.txt']), ('bit', ['./data/bbc/politics/008.txt', './data/bbc/politics/009.txt']), ('relations', ['./data/bbc/politics/009.txt']), ('tuc', ['./data/bbc/politics/003.txt']), ('suggestions', ['./data/bbc/politics/005.txt']), ('fiscal', ['./data/bbc/politics/005.txt']), ('competitiveness', ['./data/bbc/politics/005.txt']), ('blamed', ['./data/bbc/business/008.txt', './data/bbc/business/004.txt']), ('supplementary', ['./data/bbc/business/009.txt']), ('sold', ['./data/bbc/business/003.txt', './data/bbc/entertainment/009.txt', './data/bbc/entertainment/004.txt']), ('economist', ['./data/bbc/business/007.txt', './data/bbc/business/006.txt']), ('improvements', ['./data/bbc/business/004.txt', './data/bbc/business/006.txt']), ('stars', ['./data/bbc/entertainment/008.txt', './data/bbc/entertainment/002.txt']), ('gospels', ['./data/bbc/entertainment/009.txt']), ('awareness', ['./data/bbc/entertainment/010.txt']), ('scots', ['./data/bbc/entertainment/007.txt']), ('qualify', ['./data/bbc/sport/009.txt']), ('sure', ['./data/bbc/sport/010.txt', './data/bbc/politics/009.txt', './data/bbc/politics/005.txt', './data/bbc/politics/004.txt']), ('os', ['./data/bbc/tech/009.txt']), ('tvs', ['./data/bbc/tech/009.txt']), ('expenses', ['./data/bbc/tech/001.txt']), ('kind', ['./data/bbc/tech/001.txt', './data/bbc/politics/009.txt']), ('close', ['./data/bbc/tech/002.txt', './data/bbc/politics/010.txt', './data/bbc/business/001.txt', './data/bbc/business/002.txt']), ('gap', ['./data/bbc/politics/003.txt', './data/bbc/business/002.txt']), ('poll', ['./data/bbc/politics/007.txt']), ('wales', ['./data/bbc/politics/007.txt', './data/bbc/politics/002.txt']), ('negative', ['./data/bbc/business/008.txt', './data/bbc/business/006.txt']), ('landmark', ['./data/bbc/business/010.txt']), ('wine', ['./data/bbc/business/005.txt']), ('anglias', ['./data/bbc/entertainment/007.txt']), ('cameron', ['./data/bbc/entertainment/005.txt']), ('commonwealth', ['./data/bbc/sport/009.txt', './data/bbc/sport/010.txt']), ('healing', ['./data/bbc/sport/009.txt']), ('won', ['./data/bbc/sport/009.txt', './data/bbc/sport/003.txt', './data/bbc/sport/010.txt', './data/bbc/sport/001.txt', './data/bbc/sport/007.txt', './data/bbc/sport/002.txt', './data/bbc/sport/005.txt', './data/bbc/sport/006.txt', './data/bbc/entertainment/007.txt', './data/bbc/entertainment/006.txt']), ('aims', ['./data/bbc/sport/003.txt', './data/bbc/tech/003.txt', './data/bbc/tech/006.txt']), ('clearing', ['./data/bbc/sport/006.txt']), ('mikko', ['./data/bbc/tech/008.txt']), ('mp', ['./data/bbc/tech/009.txt', './data/bbc/politics/008.txt', './data/bbc/politics/005.txt', './data/bbc/entertainment/010.txt']), ('example', ['./data/bbc/tech/001.txt', './data/bbc/tech/005.txt', './data/bbc/business/004.txt']), ('holes', ['./data/bbc/tech/007.txt']), ('bt', ['./data/bbc/tech/005.txt']), ('labs', ['./data/bbc/tech/004.txt']), ('scheme', ['./data/bbc/tech/006.txt']), ('imaginary', ['./data/bbc/politics/008.txt']), ('ive', ['./data/bbc/politics/008.txt', './data/bbc/entertainment/009.txt']), ('sense', ['./data/bbc/politics/009.txt']), ('resorts', ['./data/bbc/politics/010.txt']), ('closer', ['./data/bbc/politics/001.txt']), ('war', ['./data/bbc/politics/007.txt']), ('accuse', ['./data/bbc/politics/007.txt']), ('white', ['./data/bbc/politics/006.txt', './data/bbc/business/002.txt']), ('blended', ['./data/bbc/business/009.txt']), ('theatre', ['./data/bbc/entertainment/008.txt', './data/bbc/entertainment/003.txt', './data/bbc/entertainment/005.txt', './data/bbc/entertainment/006.txt']), ('royal', ['./data/bbc/entertainment/008.txt', './data/bbc/entertainment/002.txt']), ('romola', ['./data/bbc/entertainment/008.txt']), ('theories', ['./data/bbc/entertainment/009.txt']), ('genre', ['./data/bbc/entertainment/009.txt']), ('believe', ['./data/bbc/sport/003.txt', './data/bbc/tech/003.txt', './data/bbc/politics/003.txt', './data/bbc/politics/010.txt', './data/bbc/politics/005.txt', './data/bbc/business/002.txt']), ('lap', ['./data/bbc/sport/005.txt']), ('microsoft', ['./data/bbc/tech/008.txt', './data/bbc/tech/003.txt', './data/bbc/tech/007.txt']), ('remove', ['./data/bbc/tech/003.txt', './data/bbc/tech/001.txt']), ('research', ['./data/bbc/tech/010.txt', './data/bbc/tech/005.txt', './data/bbc/politics/008.txt', './data/bbc/politics/003.txt', './data/bbc/business/010.txt', './data/bbc/entertainment/009.txt', './data/bbc/entertainment/007.txt']), ('prelude', ['./data/bbc/tech/001.txt']), ('dictate', ['./data/bbc/tech/002.txt']), ('urbanbased', ['./data/bbc/tech/005.txt']), ('persuasion', ['./data/bbc/politics/008.txt']), ('tories', ['./data/bbc/politics/009.txt', './data/bbc/politics/010.txt', './data/bbc/politics/001.txt', './data/bbc/politics/007.txt', './data/bbc/politics/002.txt']), ('ashcroft', ['./data/bbc/politics/007.txt']), ('chancellor', ['./data/bbc/politics/002.txt', './data/bbc/politics/005.txt']), ('indirectly', ['./data/bbc/business/009.txt']), ('pernod', ['./data/bbc/business/005.txt']), ('fuel', ['./data/bbc/business/004.txt']), ('jeanmichel', ['./data/bbc/entertainment/002.txt']), ('hansen', ['./data/bbc/sport/009.txt']), ('shot', ['./data/bbc/sport/009.txt']), ('forum', ['./data/bbc/sport/004.txt', './data/bbc/entertainment/008.txt']), ('qatar', ['./data/bbc/sport/004.txt']), ('tries', ['./data/bbc/tech/008.txt', './data/bbc/tech/002.txt']), ('pcs', ['./data/bbc/tech/009.txt', './data/bbc/tech/003.txt', './data/bbc/tech/007.txt', './data/bbc/tech/002.txt']), ('walkman', ['./data/bbc/tech/009.txt']), ('timeless', ['./data/bbc/tech/009.txt', './data/bbc/entertainment/002.txt']), ('thing', ['./data/bbc/tech/009.txt', './data/bbc/politics/002.txt', './data/bbc/entertainment/008.txt']), ('contributed', ['./data/bbc/tech/001.txt', './data/bbc/business/009.txt']), ('borders', ['./data/bbc/tech/002.txt']), ('hundreds', ['./data/bbc/tech/005.txt', './data/bbc/politics/003.txt']), ('relate', ['./data/bbc/tech/005.txt']), ('spreading', ['./data/bbc/tech/006.txt']), ('researcher', ['./data/bbc/tech/006.txt']), ('teenagers', ['./data/bbc/politics/008.txt', './data/bbc/business/010.txt']), ('unpaid', ['./data/bbc/politics/003.txt']), ('judiciary', ['./data/bbc/politics/003.txt']), ('implementation', ['./data/bbc/politics/002.txt']), ('budget', ['./data/bbc/politics/005.txt', './data/bbc/business/008.txt', './data/bbc/business/002.txt']), ('seems', ['./data/bbc/politics/006.txt']), ('highspeed', ['./data/bbc/business/001.txt']), ('peg', ['./data/bbc/business/002.txt']), ('wasserstein', ['./data/bbc/business/004.txt']), ('den', ['./data/bbc/business/004.txt']), ('shortlisted', ['./data/bbc/entertainment/008.txt', './data/bbc/entertainment/004.txt']), ('knows', ['./data/bbc/entertainment/009.txt']), ('cottage', ['./data/bbc/entertainment/009.txt']), ('biological', ['./data/bbc/entertainment/010.txt']), ('dust', ['./data/bbc/entertainment/007.txt']), ('claims', ['./data/bbc/sport/006.txt', './data/bbc/politics/009.txt', './data/bbc/business/003.txt', './data/bbc/entertainment/009.txt']), ('forgot', ['./data/bbc/tech/009.txt']), ('point', ['./data/bbc/tech/009.txt', './data/bbc/tech/001.txt', './data/bbc/politics/007.txt', './data/bbc/business/002.txt']), ('readers', ['./data/bbc/tech/009.txt', './data/bbc/tech/001.txt', './data/bbc/entertainment/009.txt']), ('internet', ['./data/bbc/tech/003.txt', './data/bbc/tech/007.txt', './data/bbc/tech/006.txt', './data/bbc/politics/010.txt', './data/bbc/business/001.txt']), ('obscured', ['./data/bbc/tech/010.txt']), ('countrys', ['./data/bbc/tech/001.txt', './data/bbc/tech/002.txt', './data/bbc/business/008.txt', './data/bbc/business/010.txt']), ('optimism', ['./data/bbc/tech/001.txt']), ('metaphor', ['./data/bbc/tech/001.txt']), ('rumours', ['./data/bbc/tech/001.txt']), ('businesses', ['./data/bbc/tech/007.txt', './data/bbc/tech/005.txt']), ('shadow', ['./data/bbc/politics/001.txt']), ('campaigning', ['./data/bbc/politics/007.txt']), ('starting', ['./data/bbc/politics/007.txt']), ('strength', ['./data/bbc/politics/005.txt', './data/bbc/entertainment/010.txt']), ('decisionmaking', ['./data/bbc/politics/006.txt']), ('rick', ['./data/bbc/business/007.txt']), ('satisfying', ['./data/bbc/business/007.txt']), ('presented', ['./data/bbc/entertainment/008.txt', './data/bbc/entertainment/002.txt']), ('graduated', ['./data/bbc/entertainment/007.txt']), ('princess', ['./data/bbc/entertainment/002.txt']), ('according', ['./data/bbc/sport/009.txt', './data/bbc/tech/002.txt', './data/bbc/tech/005.txt', './data/bbc/politics/009.txt', './data/bbc/politics/003.txt', './data/bbc/business/007.txt', './data/bbc/entertainment/009.txt']), ('gardener', ['./data/bbc/sport/009.txt', './data/bbc/sport/010.txt']), ('wipe', ['./data/bbc/sport/003.txt']), ('national', ['./data/bbc/sport/001.txt', './data/bbc/politics/010.txt', './data/bbc/politics/004.txt', './data/bbc/politics/006.txt', './data/bbc/entertainment/008.txt', './data/bbc/entertainment/006.txt']), ('drugs', ['./data/bbc/sport/004.txt']), ('organization', ['./data/bbc/tech/010.txt']), ('autumn', ['./data/bbc/tech/001.txt', './data/bbc/politics/004.txt']), ('within', ['./data/bbc/tech/002.txt', './data/bbc/tech/006.txt']), ('mainly', ['./data/bbc/tech/006.txt', './data/bbc/politics/008.txt']), ('built', ['./data/bbc/politics/010.txt']), ('insisted', ['./data/bbc/politics/007.txt']), ('hunger', ['./data/bbc/politics/007.txt']), ('invited', ['./data/bbc/business/008.txt', './data/bbc/entertainment/001.txt']), ('previously', ['./data/bbc/business/001.txt', './data/bbc/business/004.txt', './data/bbc/business/006.txt', './data/bbc/entertainment/007.txt']), ('journal', ['./data/bbc/business/005.txt']), ('respectable', ['./data/bbc/business/004.txt']), ('battle', ['./data/bbc/entertainment/008.txt']), ('douglas', ['./data/bbc/entertainment/008.txt']), ('coherent', ['./data/bbc/entertainment/009.txt']), ('capras', ['./data/bbc/entertainment/003.txt']), ('banned', ['./data/bbc/entertainment/010.txt']), ('tipped', ['./data/bbc/entertainment/007.txt']), ('underthrees', ['./data/bbc/entertainment/005.txt']), ('blend', ['./data/bbc/entertainment/005.txt']), ('shortterm', ['./data/bbc/sport/009.txt']), ('portugal', ['./data/bbc/sport/003.txt']), ('webb', ['./data/bbc/sport/007.txt']), ('kenenisa', ['./data/bbc/sport/005.txt']), ('america', ['./data/bbc/tech/008.txt', './data/bbc/business/002.txt']), ('include', ['./data/bbc/tech/009.txt', './data/bbc/politics/003.txt', './data/bbc/politics/001.txt', './data/bbc/business/003.txt', './data/bbc/business/005.txt', './data/bbc/entertainment/001.txt', './data/bbc/entertainment/007.txt', './data/bbc/entertainment/002.txt', './data/bbc/entertainment/004.txt']), ('blessed', ['./data/bbc/tech/009.txt']), ('couch', ['./data/bbc/tech/009.txt']), ('become', ['./data/bbc/tech/010.txt', './data/bbc/tech/005.txt', './data/bbc/tech/004.txt', './data/bbc/entertainment/009.txt']), ('chinese', ['./data/bbc/tech/002.txt', './data/bbc/tech/004.txt', './data/bbc/business/008.txt', './data/bbc/business/002.txt']), ('boss', ['./data/bbc/politics/009.txt']), ('goes', ['./data/bbc/politics/003.txt', './data/bbc/politics/007.txt']), ('hutton', ['./data/bbc/politics/002.txt']), ('rising', ['./data/bbc/politics/005.txt', './data/bbc/business/010.txt', './data/bbc/business/002.txt']), ('pundits', ['./data/bbc/politics/005.txt']), ('mikhail', ['./data/bbc/business/003.txt']), ('starring', ['./data/bbc/entertainment/008.txt', './data/bbc/entertainment/009.txt', './data/bbc/entertainment/003.txt', './data/bbc/entertainment/005.txt']), ('magdalene', ['./data/bbc/entertainment/009.txt']), ('fletcher', ['./data/bbc/entertainment/007.txt']), ('east', ['./data/bbc/entertainment/007.txt']), ('taylors', ['./data/bbc/entertainment/004.txt']), ('madeley', ['./data/bbc/entertainment/004.txt']), ('coach', ['./data/bbc/sport/009.txt']), ('first', ['./data/bbc/sport/009.txt', './data/bbc/sport/001.txt', './data/bbc/sport/002.txt', './data/bbc/tech/009.txt', './data/bbc/tech/002.txt', './data/bbc/tech/006.txt', './data/bbc/politics/009.txt', './data/bbc/politics/003.txt', './data/bbc/politics/010.txt', './data/bbc/politics/001.txt', './data/bbc/politics/007.txt', './data/bbc/politics/004.txt', './data/bbc/politics/006.txt', './data/bbc/business/007.txt', './data/bbc/entertainment/007.txt']), ('catch', ['./data/bbc/sport/003.txt']), ('agreed', ['./data/bbc/sport/004.txt', './data/bbc/tech/001.txt']), ('helped', ['./data/bbc/tech/009.txt', './data/bbc/business/001.txt']), ('scrapped', ['./data/bbc/tech/010.txt']), ('engines', ['./data/bbc/tech/005.txt']), ('planners', ['./data/bbc/tech/005.txt']), ('onthestreet', ['./data/bbc/tech/005.txt']), ('elements', ['./data/bbc/tech/005.txt', './data/bbc/tech/006.txt']), ('extra', ['./data/bbc/tech/006.txt', './data/bbc/politics/001.txt', './data/bbc/politics/005.txt', './data/bbc/business/004.txt']), ('legs', ['./data/bbc/politics/008.txt']), ('alastair', ['./data/bbc/politics/009.txt']), ('bbcs', ['./data/bbc/politics/009.txt', './data/bbc/entertainment/010.txt']), ('occasionally', ['./data/bbc/politics/009.txt']), ('misdirected', ['./data/bbc/politics/001.txt']), ('shocks', ['./data/bbc/business/008.txt']), ('deny', ['./data/bbc/business/010.txt']), ('dealt', ['./data/bbc/business/005.txt']), ('funds', ['./data/bbc/entertainment/010.txt']), ('bluetooth', ['./data/bbc/entertainment/001.txt']), ('levy', ['./data/bbc/entertainment/007.txt']), ('levys', ['./data/bbc/entertainment/007.txt']), ('reader', ['./data/bbc/entertainment/007.txt']), ('told', ['./data/bbc/sport/009.txt', './data/bbc/tech/004.txt', './data/bbc/tech/006.txt', './data/bbc/politics/008.txt', './data/bbc/politics/003.txt', './data/bbc/politics/001.txt', './data/bbc/politics/007.txt', './data/bbc/politics/005.txt', './data/bbc/business/008.txt', './data/bbc/business/003.txt', './data/bbc/entertainment/010.txt']), ('shook', ['./data/bbc/sport/009.txt']), ('meeting', ['./data/bbc/sport/009.txt', './data/bbc/sport/003.txt', './data/bbc/sport/004.txt', './data/bbc/sport/006.txt', './data/bbc/business/008.txt', './data/bbc/business/001.txt', './data/bbc/business/002.txt']), ('threw', ['./data/bbc/sport/009.txt']), ('easily', ['./data/bbc/sport/005.txt']), ('parliament', ['./data/bbc/tech/010.txt', './data/bbc/politics/008.txt', './data/bbc/politics/010.txt', './data/bbc/politics/001.txt', './data/bbc/politics/002.txt', './data/bbc/entertainment/010.txt']), ('legal', ['./data/bbc/tech/010.txt', './data/bbc/business/003.txt', './data/bbc/business/001.txt']), ('reducing', ['./data/bbc/tech/001.txt', './data/bbc/business/004.txt']), ('religion', ['./data/bbc/tech/001.txt']), ('nevertheless', ['./data/bbc/tech/001.txt', './data/bbc/business/009.txt', './data/bbc/business/007.txt']), ('telcos', ['./data/bbc/tech/005.txt']), ('palace', ['./data/bbc/tech/005.txt']), ('ai', ['./data/bbc/tech/005.txt']), ('amongst', ['./data/bbc/tech/004.txt']), ('quantities', ['./data/bbc/tech/004.txt']), ('income', ['./data/bbc/politics/003.txt']), ('casino', ['./data/bbc/politics/010.txt']), ('governments', ['./data/bbc/politics/001.txt', './data/bbc/politics/006.txt', './data/bbc/business/010.txt', './data/bbc/business/002.txt']), ('retention', ['./data/bbc/politics/002.txt']), ('term', ['./data/bbc/politics/005.txt', './data/bbc/business/007.txt', './data/bbc/entertainment/004.txt']), ('protection', ['./data/bbc/business/003.txt']), ('stolichnaya', ['./data/bbc/business/005.txt']), ('attenborough', ['./data/bbc/entertainment/005.txt']), ('sooner', ['./data/bbc/sport/009.txt']), ('leipzig', ['./data/bbc/sport/009.txt']), ('come', ['./data/bbc/sport/009.txt', './data/bbc/tech/005.txt', './data/bbc/politics/004.txt', './data/bbc/entertainment/009.txt']), ('effort', ['./data/bbc/sport/009.txt', './data/bbc/tech/001.txt']), ('birmingham', ['./data/bbc/sport/009.txt', './data/bbc/sport/003.txt', './data/bbc/sport/010.txt', './data/bbc/sport/001.txt', './data/bbc/sport/006.txt']), ('express', ['./data/bbc/sport/004.txt']), ('discuss', ['./data/bbc/sport/004.txt', './data/bbc/politics/007.txt']), ('firms', ['./data/bbc/tech/008.txt', './data/bbc/tech/003.txt', './data/bbc/tech/010.txt', './data/bbc/tech/005.txt', './data/bbc/politics/001.txt', './data/bbc/business/010.txt', './data/bbc/business/007.txt', './data/bbc/business/002.txt', './data/bbc/business/005.txt']), ('device', ['./data/bbc/tech/009.txt', './data/bbc/tech/004.txt']), ('egg', ['./data/bbc/tech/009.txt']), ('plugged', ['./data/bbc/tech/009.txt']), ('building', ['./data/bbc/tech/001.txt']), ('broadband', ['./data/bbc/tech/005.txt', './data/bbc/business/001.txt']), ('brussels', ['./data/bbc/tech/005.txt']), ('incubating', ['./data/bbc/tech/005.txt']), ('peru', ['./data/bbc/tech/006.txt']), ('dont', ['./data/bbc/tech/006.txt', './data/bbc/politics/005.txt', './data/bbc/entertainment/009.txt']), ('bodies', ['./data/bbc/politics/002.txt']), ('golden', ['./data/bbc/politics/005.txt']), ('district', ['./data/bbc/business/010.txt']), ('brandy', ['./data/bbc/business/005.txt']), ('developments', ['./data/bbc/business/006.txt']), ('sweeney', ['./data/bbc/entertainment/008.txt']), ('shortlist', ['./data/bbc/entertainment/008.txt']), ('plain', ['./data/bbc/entertainment/001.txt']), ('readable', ['./data/bbc/entertainment/007.txt']), ('sprinting', ['./data/bbc/sport/009.txt']), ('storms', ['./data/bbc/sport/009.txt']), ('patrick', ['./data/bbc/sport/009.txt']), ('really', ['./data/bbc/sport/003.txt', './data/bbc/sport/010.txt', './data/bbc/tech/009.txt', './data/bbc/politics/003.txt']), ('feel', ['./data/bbc/sport/003.txt', './data/bbc/tech/006.txt', './data/bbc/politics/008.txt', './data/bbc/politics/001.txt', './data/bbc/entertainment/004.txt']), ('cards', ['./data/bbc/tech/008.txt']), ('particularly', ['./data/bbc/tech/009.txt']), ('performance', ['./data/bbc/tech/003.txt', './data/bbc/business/001.txt', './data/bbc/business/005.txt', './data/bbc/entertainment/010.txt']), ('however', ['./data/bbc/tech/001.txt', './data/bbc/tech/007.txt', './data/bbc/tech/004.txt', './data/bbc/politics/006.txt', './data/bbc/business/001.txt', './data/bbc/business/007.txt', './data/bbc/business/002.txt', './data/bbc/business/004.txt']), ('remotely', ['./data/bbc/tech/007.txt']), ('exploiting', ['./data/bbc/tech/007.txt']), ('hole', ['./data/bbc/tech/007.txt']), ('tools', ['./data/bbc/tech/005.txt']), ('reaching', ['./data/bbc/tech/005.txt', './data/bbc/politics/003.txt', './data/bbc/politics/007.txt']), ('tory', ['./data/bbc/politics/009.txt', './data/bbc/politics/007.txt', './data/bbc/politics/002.txt']), ('michael', ['./data/bbc/politics/009.txt', './data/bbc/politics/007.txt', './data/bbc/politics/002.txt', './data/bbc/entertainment/007.txt']), ('eoc', ['./data/bbc/politics/003.txt']), ('spare', ['./data/bbc/politics/005.txt']), ('certainly', ['./data/bbc/politics/005.txt']), ('john', ['./data/bbc/politics/006.txt', './data/bbc/entertainment/007.txt']), ('markets', ['./data/bbc/business/009.txt']), ('economics', ['./data/bbc/business/007.txt']), ('thoroughly', ['./data/bbc/entertainment/009.txt']), ('movie', ['./data/bbc/entertainment/003.txt']), ('slang', ['./data/bbc/entertainment/010.txt']), ('queens', ['./data/bbc/entertainment/007.txt']), ('roberts', ['./data/bbc/entertainment/007.txt']), ('toplevel', ['./data/bbc/sport/009.txt']), ('international', ['./data/bbc/sport/009.txt', './data/bbc/sport/001.txt', './data/bbc/tech/001.txt', './data/bbc/tech/005.txt', './data/bbc/business/003.txt', './data/bbc/entertainment/009.txt', './data/bbc/entertainment/002.txt']), ('scored', ['./data/bbc/sport/007.txt']), ('specified', ['./data/bbc/tech/009.txt']), ('devices', ['./data/bbc/tech/009.txt']), ('property', ['./data/bbc/tech/010.txt']), ('various', ['./data/bbc/tech/001.txt', './data/bbc/politics/002.txt']), ('panacea', ['./data/bbc/tech/001.txt']), ('licensed', ['./data/bbc/tech/005.txt']), ('prime', ['./data/bbc/politics/009.txt', './data/bbc/politics/007.txt', './data/bbc/politics/005.txt', './data/bbc/politics/006.txt']), ('whether', ['./data/bbc/politics/010.txt', './data/bbc/politics/007.txt', './data/bbc/politics/005.txt']), ('constructive', ['./data/bbc/politics/007.txt']), ('rosnefts', ['./data/bbc/business/003.txt']), ('manipulated', ['./data/bbc/business/010.txt']), ('kleinwort', ['./data/bbc/business/004.txt']), ('false', ['./data/bbc/entertainment/008.txt']), ('church', ['./data/bbc/entertainment/009.txt', './data/bbc/entertainment/010.txt']), ('uniform', ['./data/bbc/entertainment/007.txt']), ('jarre', ['./data/bbc/entertainment/002.txt']), ('christensen', ['./data/bbc/entertainment/002.txt']), ('race', ['./data/bbc/sport/009.txt', './data/bbc/sport/003.txt', './data/bbc/sport/001.txt', './data/bbc/sport/007.txt', './data/bbc/sport/005.txt', './data/bbc/sport/006.txt']), ('greene', ['./data/bbc/sport/003.txt', './data/bbc/sport/010.txt', './data/bbc/sport/006.txt']), ('always', ['./data/bbc/sport/003.txt', './data/bbc/tech/009.txt', './data/bbc/politics/008.txt', './data/bbc/politics/009.txt', './data/bbc/entertainment/009.txt', './data/bbc/entertainment/002.txt']), ('understand', ['./data/bbc/sport/007.txt', './data/bbc/tech/005.txt']), ('agio', ['./data/bbc/sport/002.txt']), ('sextant', ['./data/bbc/tech/009.txt']), ('hissfree', ['./data/bbc/tech/009.txt']), ('apps', ['./data/bbc/tech/009.txt']), ('integrated', ['./data/bbc/tech/009.txt']), ('large', ['./data/bbc/tech/001.txt', './data/bbc/tech/004.txt', './data/bbc/politics/010.txt', './data/bbc/business/008.txt']), ('tightly', ['./data/bbc/tech/002.txt']), ('profit', ['./data/bbc/tech/004.txt', './data/bbc/business/001.txt', './data/bbc/business/004.txt']), ('feels', ['./data/bbc/politics/008.txt']), ('full', ['./data/bbc/politics/008.txt', './data/bbc/politics/003.txt', './data/bbc/politics/001.txt', './data/bbc/politics/006.txt', './data/bbc/business/004.txt']), ('blackberry', ['./data/bbc/politics/009.txt']), ('reflects', ['./data/bbc/politics/003.txt']), ('legislate', ['./data/bbc/politics/010.txt']), ('announce', ['./data/bbc/politics/001.txt', './data/bbc/business/002.txt']), ('treasurer', ['./data/bbc/politics/007.txt']), ('similar', ['./data/bbc/politics/002.txt', './data/bbc/business/003.txt']), ('giveaway', ['./data/bbc/politics/005.txt']), ('funded', ['./data/bbc/business/002.txt']), ('vodka', ['./data/bbc/business/005.txt']), ('expunge', ['./data/bbc/entertainment/010.txt']), ('foyer', ['./data/bbc/entertainment/001.txt']), ('oram', ['./data/bbc/entertainment/006.txt']), ('unclear', ['./data/bbc/sport/009.txt']), ('broke', ['./data/bbc/sport/009.txt', './data/bbc/sport/006.txt', './data/bbc/tech/002.txt']), ('react', ['./data/bbc/sport/003.txt']), ('including', ['./data/bbc/sport/004.txt', './data/bbc/tech/007.txt', './data/bbc/tech/005.txt', './data/bbc/politics/008.txt', './data/bbc/politics/009.txt', './data/bbc/business/005.txt', './data/bbc/entertainment/009.txt', './data/bbc/entertainment/007.txt', './data/bbc/entertainment/005.txt']), ('marine', ['./data/bbc/tech/009.txt']), ('qv', ['./data/bbc/tech/009.txt']), ('flipstart', ['./data/bbc/tech/009.txt']), ('least', ['./data/bbc/tech/001.txt', './data/bbc/tech/002.txt', './data/bbc/tech/005.txt']), ('fair', ['./data/bbc/tech/001.txt', './data/bbc/business/008.txt']), ('fixes', ['./data/bbc/tech/007.txt']), ('initiative', ['./data/bbc/tech/005.txt']), ('component', ['./data/bbc/tech/005.txt']), ('argue', ['./data/bbc/tech/005.txt']), ('borrowing', ['./data/bbc/tech/005.txt', './data/bbc/politics/005.txt']), ('described', ['./data/bbc/tech/004.txt', './data/bbc/politics/009.txt', './data/bbc/politics/007.txt', './data/bbc/business/004.txt', './data/bbc/entertainment/009.txt']), ('actions', ['./data/bbc/tech/006.txt']), ('peter', ['./data/bbc/politics/009.txt']), ('ways', ['./data/bbc/politics/003.txt']), ('review', ['./data/bbc/politics/001.txt', './data/bbc/business/001.txt']), ('northern', ['./data/bbc/politics/007.txt', './data/bbc/politics/002.txt', './data/bbc/entertainment/009.txt']), ('chidambaram', ['./data/bbc/business/008.txt']), ('indian', ['./data/bbc/business/008.txt']), ('owed', ['./data/bbc/business/003.txt']), ('herbert', ['./data/bbc/business/007.txt']), ('euro', ['./data/bbc/business/002.txt']), ('sculptor', ['./data/bbc/entertainment/001.txt']), ('windsor', ['./data/bbc/entertainment/005.txt']), ('hurdler', ['./data/bbc/sport/009.txt', './data/bbc/sport/001.txt']), ('newest', ['./data/bbc/tech/009.txt']), ('worry', ['./data/bbc/tech/009.txt']), ('surely', ['./data/bbc/tech/009.txt']), ('messages', ['./data/bbc/tech/003.txt', './data/bbc/tech/005.txt', './data/bbc/politics/009.txt', './data/bbc/entertainment/001.txt']), ('elections', ['./data/bbc/tech/001.txt']), ('leave', ['./data/bbc/tech/007.txt', './data/bbc/politics/003.txt', './data/bbc/politics/001.txt', './data/bbc/entertainment/007.txt']), ('danced', ['./data/bbc/tech/005.txt']), ('prepared', ['./data/bbc/politics/008.txt']), ('requirements', ['./data/bbc/business/009.txt']), ('lowcost', ['./data/bbc/business/004.txt']), ('vision', ['./data/bbc/entertainment/010.txt']), ('texts', ['./data/bbc/entertainment/001.txt']), ('honorary', ['./data/bbc/entertainment/007.txt']), ('lovely', ['./data/bbc/entertainment/004.txt']), ('sea', ['./data/bbc/entertainment/004.txt']), ('adera', ['./data/bbc/sport/005.txt']), ('translates', ['./data/bbc/tech/008.txt']), ('madonnas', ['./data/bbc/tech/009.txt']), ('evolved', ['./data/bbc/tech/009.txt']), ('later', ['./data/bbc/tech/005.txt', './data/bbc/politics/009.txt', './data/bbc/politics/002.txt', './data/bbc/entertainment/009.txt', './data/bbc/entertainment/003.txt', './data/bbc/entertainment/002.txt']), ('disappeared', ['./data/bbc/tech/005.txt']), ('dam', ['./data/bbc/tech/006.txt']), ('silly', ['./data/bbc/politics/009.txt']), ('average', ['./data/bbc/politics/003.txt', './data/bbc/politics/001.txt', './data/bbc/business/009.txt', './data/bbc/business/004.txt']), ('parttime', ['./data/bbc/politics/003.txt']), ('jones', ['./data/bbc/politics/005.txt']), ('offset', ['./data/bbc/business/001.txt', './data/bbc/business/004.txt']), ('history', ['./data/bbc/entertainment/008.txt', './data/bbc/entertainment/009.txt', './data/bbc/entertainment/006.txt']), ('authors', ['./data/bbc/entertainment/009.txt', './data/bbc/entertainment/004.txt']), ('jerry', ['./data/bbc/entertainment/003.txt']), ('fairytale', ['./data/bbc/entertainment/002.txt']), ('audience', ['./data/bbc/entertainment/002.txt', './data/bbc/entertainment/005.txt']), ('lavish', ['./data/bbc/entertainment/005.txt']), ('form', ['./data/bbc/sport/009.txt', './data/bbc/sport/010.txt', './data/bbc/sport/001.txt', './data/bbc/sport/007.txt', './data/bbc/sport/002.txt', './data/bbc/tech/003.txt', './data/bbc/tech/005.txt', './data/bbc/politics/005.txt']), ('smashed', ['./data/bbc/sport/001.txt']), ('selections', ['./data/bbc/sport/002.txt']), ('partisan', ['./data/bbc/tech/009.txt']), ('growth', ['./data/bbc/tech/010.txt', './data/bbc/business/008.txt', './data/bbc/business/001.txt', './data/bbc/business/007.txt', './data/bbc/business/006.txt']), ('month', ['./data/bbc/tech/010.txt', './data/bbc/tech/007.txt', './data/bbc/business/004.txt']), ('society', ['./data/bbc/tech/001.txt']), ('visit', ['./data/bbc/tech/002.txt']), ('dark', ['./data/bbc/tech/006.txt', './data/bbc/entertainment/008.txt']), ('assumptions', ['./data/bbc/politics/008.txt']), ('extent', ['./data/bbc/politics/008.txt']), ('maledominated', ['./data/bbc/politics/003.txt']), ('handled', ['./data/bbc/politics/010.txt']), ('entitled', ['./data/bbc/politics/001.txt']), ('financial', ['./data/bbc/politics/007.txt', './data/bbc/business/001.txt', './data/bbc/business/007.txt', './data/bbc/business/005.txt']), ('doomed', ['./data/bbc/politics/006.txt']), ('maintain', ['./data/bbc/politics/006.txt', './data/bbc/business/006.txt']), ('contrast', ['./data/bbc/business/001.txt']), ('expectation', ['./data/bbc/business/004.txt']), ('evidence', ['./data/bbc/entertainment/009.txt']), ('londons', ['./data/bbc/entertainment/001.txt', './data/bbc/entertainment/005.txt', './data/bbc/entertainment/006.txt']), ('leap', ['./data/bbc/sport/009.txt', './data/bbc/sport/001.txt']), ('scotlandborn', ['./data/bbc/sport/001.txt']), ('original', ['./data/bbc/tech/008.txt', './data/bbc/tech/009.txt', './data/bbc/politics/009.txt', './data/bbc/entertainment/005.txt']), ('pen', ['./data/bbc/tech/008.txt', './data/bbc/tech/009.txt']), ('top', ['./data/bbc/tech/009.txt', './data/bbc/politics/003.txt', './data/bbc/business/009.txt', './data/bbc/business/005.txt', './data/bbc/entertainment/004.txt']), ('rights', ['./data/bbc/tech/010.txt', './data/bbc/politics/001.txt', './data/bbc/entertainment/003.txt', './data/bbc/entertainment/010.txt']), ('began', ['./data/bbc/tech/001.txt']), ('exploit', ['./data/bbc/tech/007.txt']), ('violence', ['./data/bbc/tech/002.txt', './data/bbc/entertainment/010.txt']), ('found', ['./data/bbc/politics/008.txt', './data/bbc/business/010.txt']), ('euphoric', ['./data/bbc/politics/007.txt']), ('sir', ['./data/bbc/politics/005.txt', './data/bbc/politics/006.txt', './data/bbc/entertainment/007.txt', './data/bbc/entertainment/002.txt', './data/bbc/entertainment/005.txt']), ('fertilizers', ['./data/bbc/business/009.txt']), ('lifts', ['./data/bbc/business/005.txt']), ('turning', ['./data/bbc/entertainment/003.txt']), ('everyday', ['./data/bbc/entertainment/001.txt']), ('athlete', ['./data/bbc/sport/009.txt', './data/bbc/sport/001.txt', './data/bbc/sport/004.txt', './data/bbc/entertainment/002.txt']), ('introduction', ['./data/bbc/sport/009.txt']), ('sydney', ['./data/bbc/sport/010.txt']), ('italy', ['./data/bbc/tech/008.txt']), ('clients', ['./data/bbc/tech/008.txt']), ('excellent', ['./data/bbc/tech/009.txt', './data/bbc/tech/006.txt']), ('machine', ['./data/bbc/tech/009.txt', './data/bbc/tech/004.txt']), ('challenge', ['./data/bbc/tech/009.txt']), ('banking', ['./data/bbc/tech/003.txt']), ('passwords', ['./data/bbc/tech/003.txt']), ('patches', ['./data/bbc/tech/007.txt']), ('versa', ['./data/bbc/tech/005.txt']), ('programmes', ['./data/bbc/tech/005.txt', './data/bbc/business/009.txt', './data/bbc/entertainment/008.txt']), ('landscape', ['./data/bbc/tech/005.txt']), ('essential', ['./data/bbc/tech/005.txt']), ('technologists', ['./data/bbc/tech/005.txt']), ('straw', ['./data/bbc/politics/009.txt']), ('provide', ['./data/bbc/politics/003.txt', './data/bbc/politics/006.txt']), ('greenspans', ['./data/bbc/business/002.txt']), ('comments', ['./data/bbc/business/002.txt']), ('sheard', ['./data/bbc/business/006.txt']), ('artist', ['./data/bbc/entertainment/001.txt']), ('supermodel', ['./data/bbc/entertainment/002.txt']), ('believes', ['./data/bbc/sport/003.txt', './data/bbc/politics/010.txt']), ('respond', ['./data/bbc/sport/004.txt']), ('innovation', ['./data/bbc/tech/009.txt', './data/bbc/tech/010.txt']), ('umbrella', ['./data/bbc/tech/010.txt', './data/bbc/entertainment/005.txt']), ('protect', ['./data/bbc/tech/010.txt']), ('immersive', ['./data/bbc/tech/005.txt']), ('experience', ['./data/bbc/tech/005.txt', './data/bbc/tech/006.txt', './data/bbc/entertainment/006.txt']), ('expensive', ['./data/bbc/tech/005.txt']), ('selfsustainable', ['./data/bbc/tech/006.txt']), ('presenter', ['./data/bbc/politics/009.txt']), ('fox', ['./data/bbc/politics/009.txt', './data/bbc/politics/007.txt']), ('extend', ['./data/bbc/politics/003.txt', './data/bbc/politics/001.txt']), ('becomes', ['./data/bbc/politics/002.txt']), ('englands', ['./data/bbc/politics/005.txt']), ('annual', ['./data/bbc/politics/004.txt', './data/bbc/business/004.txt', './data/bbc/business/006.txt']), ('downfall', ['./data/bbc/business/003.txt']), ('anticipated', ['./data/bbc/business/004.txt']), ('spawned', ['./data/bbc/entertainment/009.txt']), ('homosexuality', ['./data/bbc/entertainment/010.txt']), ('organising', ['./data/bbc/entertainment/010.txt']), ('tudor', ['./data/bbc/entertainment/007.txt']), ('june', ['./data/bbc/sport/009.txt']), ('home', ['./data/bbc/sport/009.txt', './data/bbc/sport/010.txt', './data/bbc/tech/009.txt', './data/bbc/tech/007.txt', './data/bbc/tech/004.txt', './data/bbc/politics/001.txt', './data/bbc/business/005.txt']), ('attachment', ['./data/bbc/tech/008.txt', './data/bbc/tech/003.txt']), ('transportation', ['./data/bbc/tech/009.txt']), ('palm', ['./data/bbc/tech/009.txt']), ('programming', ['./data/bbc/tech/009.txt']), ('georgia', ['./data/bbc/tech/001.txt']), ('primarily', ['./data/bbc/tech/001.txt']), ('safer', ['./data/bbc/tech/002.txt']), ('power', ['./data/bbc/tech/005.txt', './data/bbc/tech/006.txt']), ('creating', ['./data/bbc/tech/005.txt']), ('adviser', ['./data/bbc/politics/005.txt']), ('bookings', ['./data/bbc/politics/004.txt']), ('separately', ['./data/bbc/business/008.txt']), ('possible', ['./data/bbc/business/009.txt']), ('khodorkovsky', ['./data/bbc/business/003.txt']), ('warner', ['./data/bbc/business/001.txt']), ('revised', ['./data/bbc/business/007.txt', './data/bbc/business/006.txt']), ('ben', ['./data/bbc/entertainment/008.txt']), ('lousy', ['./data/bbc/entertainment/009.txt']), ('authorship', ['./data/bbc/entertainment/002.txt']), ('nest', ['./data/bbc/entertainment/006.txt']), ('rival', ['./data/bbc/sport/009.txt', './data/bbc/sport/003.txt']), ('going', ['./data/bbc/sport/003.txt', './data/bbc/tech/004.txt', './data/bbc/politics/010.txt', './data/bbc/politics/001.txt', './data/bbc/politics/007.txt', './data/bbc/politics/005.txt']), ('running', ['./data/bbc/sport/003.txt', './data/bbc/tech/007.txt', './data/bbc/tech/005.txt', './data/bbc/politics/007.txt', './data/bbc/entertainment/007.txt']), ('leg', ['./data/bbc/sport/003.txt', './data/bbc/business/004.txt', './data/bbc/entertainment/001.txt']), ('another', ['./data/bbc/sport/003.txt', './data/bbc/sport/005.txt', './data/bbc/tech/009.txt', './data/bbc/tech/010.txt', './data/bbc/politics/008.txt', './data/bbc/politics/009.txt']), ('carolina', ['./data/bbc/sport/005.txt']), ('thousands', ['./data/bbc/tech/009.txt', './data/bbc/tech/005.txt', './data/bbc/entertainment/009.txt']), ('shame', ['./data/bbc/tech/009.txt']), ('eu', ['./data/bbc/tech/010.txt']), ('helps', ['./data/bbc/tech/001.txt', './data/bbc/tech/006.txt']), ('drive', ['./data/bbc/tech/001.txt', './data/bbc/tech/005.txt', './data/bbc/politics/003.txt', './data/bbc/business/004.txt']), ('children', ['./data/bbc/tech/002.txt', './data/bbc/tech/004.txt', './data/bbc/politics/010.txt', './data/bbc/politics/001.txt', './data/bbc/business/009.txt', './data/bbc/entertainment/005.txt']), ('industry', ['./data/bbc/tech/005.txt', './data/bbc/politics/003.txt', './data/bbc/politics/001.txt', './data/bbc/entertainment/009.txt']), ('ordinary', ['./data/bbc/tech/004.txt', './data/bbc/entertainment/001.txt']), ('reaches', ['./data/bbc/tech/006.txt']), ('agenda', ['./data/bbc/politics/007.txt']), ('downing', ['./data/bbc/politics/007.txt']), ('hotels', ['./data/bbc/politics/004.txt']), ('level', ['./data/bbc/business/007.txt', './data/bbc/business/002.txt']), ('ken', ['./data/bbc/business/007.txt']), ('dollars', ['./data/bbc/business/002.txt']), ('durham', ['./data/bbc/entertainment/009.txt']), ('kefa', ['./data/bbc/entertainment/010.txt']), ('competitive', ['./data/bbc/sport/009.txt', './data/bbc/business/002.txt', './data/bbc/business/006.txt']), ('aaa', ['./data/bbc/sport/009.txt']), ('must', ['./data/bbc/tech/008.txt', './data/bbc/tech/010.txt', './data/bbc/politics/009.txt']), ('items', ['./data/bbc/tech/009.txt', './data/bbc/business/001.txt']), ('dries', ['./data/bbc/tech/001.txt']), ('known', ['./data/bbc/tech/007.txt', './data/bbc/politics/009.txt', './data/bbc/politics/004.txt', './data/bbc/entertainment/008.txt', './data/bbc/entertainment/001.txt', './data/bbc/entertainment/004.txt']), ('operate', ['./data/bbc/tech/002.txt']), ('block', ['./data/bbc/tech/002.txt', './data/bbc/politics/004.txt']), ('centres', ['./data/bbc/tech/005.txt', './data/bbc/tech/006.txt', './data/bbc/entertainment/007.txt']), ('vein', ['./data/bbc/tech/005.txt']), ('community', ['./data/bbc/tech/006.txt']), ('cepes', ['./data/bbc/tech/006.txt']), ('falls', ['./data/bbc/business/002.txt']), ('trillion', ['./data/bbc/business/002.txt']), ('allied', ['./data/bbc/business/005.txt']), ('modest', ['./data/bbc/business/004.txt']), ('nominated', ['./data/bbc/entertainment/008.txt']), ('letters', ['./data/bbc/entertainment/009.txt']), ('join', ['./data/bbc/entertainment/002.txt']), ('rehabilitation', ['./data/bbc/sport/009.txt']), ('went', ['./data/bbc/sport/009.txt', './data/bbc/sport/006.txt', './data/bbc/politics/006.txt', './data/bbc/business/003.txt', './data/bbc/entertainment/007.txt']), ('part', ['./data/bbc/sport/009.txt', './data/bbc/sport/010.txt', './data/bbc/sport/002.txt', './data/bbc/tech/001.txt', './data/bbc/tech/007.txt', './data/bbc/tech/005.txt', './data/bbc/politics/001.txt', './data/bbc/politics/005.txt', './data/bbc/business/008.txt', './data/bbc/business/003.txt', './data/bbc/business/001.txt', './data/bbc/business/004.txt', './data/bbc/entertainment/004.txt']), ('coming', ['./data/bbc/sport/003.txt', './data/bbc/politics/002.txt', './data/bbc/entertainment/002.txt']), ('nia', ['./data/bbc/sport/010.txt']), ('yelena', ['./data/bbc/sport/006.txt']), ('malicious', ['./data/bbc/tech/008.txt', './data/bbc/tech/003.txt', './data/bbc/tech/007.txt']), ('entry', ['./data/bbc/tech/009.txt']), ('rd', ['./data/bbc/tech/009.txt']), ('ronco', ['./data/bbc/tech/009.txt']), ('stays', ['./data/bbc/tech/001.txt']), ('works', ['./data/bbc/tech/001.txt', './data/bbc/tech/005.txt', './data/bbc/politics/009.txt', './data/bbc/entertainment/010.txt', './data/bbc/entertainment/004.txt']), ('gets', ['./data/bbc/tech/005.txt', './data/bbc/entertainment/005.txt']), ('bell', ['./data/bbc/tech/005.txt']), ('rich', ['./data/bbc/tech/005.txt']), ('negroponte', ['./data/bbc/tech/004.txt']), ('smaller', ['./data/bbc/tech/004.txt', './data/bbc/politics/004.txt', './data/bbc/business/005.txt']), ('broken', ['./data/bbc/tech/004.txt', './data/bbc/entertainment/001.txt']), ('build', ['./data/bbc/tech/006.txt', './data/bbc/politics/005.txt']), ('yvette', ['./data/bbc/politics/008.txt']), ('party', ['./data/bbc/politics/009.txt', './data/bbc/politics/010.txt', './data/bbc/politics/001.txt', './data/bbc/politics/007.txt', './data/bbc/politics/005.txt', './data/bbc/politics/004.txt']), ('talk', ['./data/bbc/business/005.txt']), ('beds', ['./data/bbc/business/004.txt']), ('observers', ['./data/bbc/business/006.txt']), ('dirty', ['./data/bbc/entertainment/010.txt']), ('keitel', ['./data/bbc/entertainment/002.txt']), ('decided', ['./data/bbc/sport/009.txt', './data/bbc/sport/004.txt', './data/bbc/politics/010.txt']), ('defend', ['./data/bbc/sport/010.txt']), ('cdp', ['./data/bbc/tech/009.txt']), ('delayed', ['./data/bbc/tech/010.txt']), ('countries', ['./data/bbc/tech/001.txt', './data/bbc/tech/004.txt', './data/bbc/business/008.txt']), ('following', ['./data/bbc/tech/002.txt', './data/bbc/politics/004.txt', './data/bbc/politics/006.txt', './data/bbc/business/001.txt', './data/bbc/entertainment/003.txt', './data/bbc/entertainment/004.txt']), ('mr', ['./data/bbc/tech/005.txt', './data/bbc/tech/004.txt', './data/bbc/tech/006.txt', './data/bbc/politics/009.txt', './data/bbc/politics/007.txt', './data/bbc/politics/002.txt', './data/bbc/politics/005.txt', './data/bbc/business/008.txt', './data/bbc/business/002.txt', './data/bbc/business/004.txt', './data/bbc/entertainment/003.txt']), ('ministries', ['./data/bbc/tech/004.txt', './data/bbc/tech/006.txt']), ('findings', ['./data/bbc/politics/008.txt']), ('nobody', ['./data/bbc/politics/009.txt']), ('unions', ['./data/bbc/politics/003.txt']), ('preelection', ['./data/bbc/politics/007.txt', './data/bbc/politics/005.txt']), ('nationwide', ['./data/bbc/politics/007.txt']), ('torbay', ['./data/bbc/politics/007.txt']), ('united', ['./data/bbc/business/008.txt', './data/bbc/business/004.txt']), ('stateowned', ['./data/bbc/business/003.txt']), ('estimated', ['./data/bbc/business/004.txt']), ('honour', ['./data/bbc/entertainment/008.txt', './data/bbc/entertainment/002.txt']), ('named', ['./data/bbc/entertainment/002.txt', './data/bbc/entertainment/006.txt']), ('resuming', ['./data/bbc/sport/003.txt']), ('member', ['./data/bbc/sport/004.txt', './data/bbc/politics/008.txt']), ('light', ['./data/bbc/tech/009.txt', './data/bbc/tech/001.txt', './data/bbc/tech/006.txt', './data/bbc/entertainment/001.txt']), ('dos', ['./data/bbc/tech/009.txt']), ('shown', ['./data/bbc/tech/009.txt']), ('recommended', ['./data/bbc/tech/003.txt', './data/bbc/business/009.txt']), ('patenting', ['./data/bbc/tech/010.txt']), ('sex', ['./data/bbc/tech/002.txt', './data/bbc/politics/003.txt']), ('industries', ['./data/bbc/tech/005.txt']), ('complaints', ['./data/bbc/politics/008.txt']), ('industrialised', ['./data/bbc/business/008.txt']), ('newcomer', ['./data/bbc/business/008.txt', './data/bbc/entertainment/008.txt', './data/bbc/entertainment/006.txt']), ('division', ['./data/bbc/business/001.txt']), ('laying', ['./data/bbc/business/002.txt']), ('macneil', ['./data/bbc/entertainment/008.txt']), ('gallerys', ['./data/bbc/entertainment/001.txt']), ('christopher', ['./data/bbc/entertainment/006.txt']), ('supporting', ['./data/bbc/entertainment/006.txt']), ('marc', ['./data/bbc/sport/009.txt']), ('weeks', ['./data/bbc/sport/009.txt', './data/bbc/sport/001.txt', './data/bbc/sport/007.txt', './data/bbc/tech/009.txt', './data/bbc/tech/003.txt', './data/bbc/politics/001.txt']), ('im', ['./data/bbc/sport/003.txt', './data/bbc/sport/010.txt', './data/bbc/politics/009.txt', './data/bbc/politics/005.txt', './data/bbc/entertainment/010.txt']), ('february', ['./data/bbc/sport/010.txt', './data/bbc/tech/001.txt', './data/bbc/politics/004.txt', './data/bbc/business/002.txt']), ('leading', ['./data/bbc/sport/007.txt', './data/bbc/sport/004.txt', './data/bbc/politics/008.txt', './data/bbc/business/008.txt']), ('priority', ['./data/bbc/sport/004.txt', './data/bbc/politics/003.txt']), ('attempt', ['./data/bbc/sport/006.txt', './data/bbc/politics/006.txt', './data/bbc/business/003.txt']), ('inclusion', ['./data/bbc/tech/009.txt']), ('cd', ['./data/bbc/tech/009.txt']), ('latter', ['./data/bbc/tech/009.txt']), ('backsliding', ['./data/bbc/tech/001.txt']), ('nongovernmental', ['./data/bbc/tech/001.txt']), ('museums', ['./data/bbc/tech/005.txt']), ('promoters', ['./data/bbc/tech/006.txt']), ('cannot', ['./data/bbc/politics/003.txt', './data/bbc/entertainment/007.txt']), ('segregated', ['./data/bbc/politics/003.txt']), ('cases', ['./data/bbc/politics/003.txt']), ('passion', ['./data/bbc/politics/007.txt']), ('stronger', ['./data/bbc/business/001.txt']), ('notes', ['./data/bbc/entertainment/008.txt']), ('domestic', ['./data/bbc/sport/001.txt', './data/bbc/business/009.txt', './data/bbc/business/006.txt', './data/bbc/entertainment/001.txt']), ('control', ['./data/bbc/tech/008.txt', './data/bbc/tech/009.txt', './data/bbc/tech/007.txt', './data/bbc/politics/010.txt']), ('libretto', ['./data/bbc/tech/009.txt']), ('targeted', ['./data/bbc/tech/003.txt', './data/bbc/business/009.txt', './data/bbc/business/010.txt']), ('show', ['./data/bbc/tech/001.txt', './data/bbc/politics/009.txt', './data/bbc/business/006.txt', './data/bbc/entertainment/008.txt', './data/bbc/entertainment/003.txt', './data/bbc/entertainment/010.txt', './data/bbc/entertainment/005.txt', './data/bbc/entertainment/004.txt']), ('nongovernment', ['./data/bbc/tech/006.txt']), ('parties', ['./data/bbc/politics/008.txt', './data/bbc/politics/010.txt', './data/bbc/politics/004.txt', './data/bbc/politics/006.txt']), ('controversy', ['./data/bbc/politics/009.txt']), ('ftse', ['./data/bbc/politics/003.txt']), ('destroy', ['./data/bbc/politics/002.txt']), ('oil', ['./data/bbc/business/009.txt', './data/bbc/business/003.txt']), ('hesitant', ['./data/bbc/business/006.txt']), ('legend', ['./data/bbc/entertainment/009.txt', './data/bbc/entertainment/002.txt']), ('members', ['./data/bbc/sport/004.txt', './data/bbc/politics/007.txt']), ('career', ['./data/bbc/sport/006.txt', './data/bbc/politics/003.txt']), ('widely', ['./data/bbc/tech/008.txt', './data/bbc/tech/001.txt', './data/bbc/tech/004.txt', './data/bbc/politics/007.txt']), ('pie', ['./data/bbc/tech/009.txt', './data/bbc/politics/006.txt']), ('ql', ['./data/bbc/tech/009.txt']), ('causes', ['./data/bbc/tech/003.txt', './data/bbc/tech/001.txt']), ('harmful', ['./data/bbc/tech/001.txt']), ('fat', ['./data/bbc/tech/004.txt']), ('seeing', ['./data/bbc/tech/006.txt']), ('twats', ['./data/bbc/politics/009.txt']), ('browns', ['./data/bbc/politics/005.txt', './data/bbc/entertainment/009.txt', './data/bbc/entertainment/003.txt']), ('gains', ['./data/bbc/business/010.txt', './data/bbc/business/001.txt', './data/bbc/business/007.txt', './data/bbc/business/002.txt']), ('carefully', ['./data/bbc/business/006.txt']), ('publications', ['./data/bbc/entertainment/009.txt']), ('announced', ['./data/bbc/sport/002.txt', './data/bbc/tech/007.txt', './data/bbc/politics/003.txt', './data/bbc/politics/001.txt', './data/bbc/entertainment/003.txt', './data/bbc/entertainment/006.txt']), ('diack', ['./data/bbc/sport/004.txt']), ('virus', ['./data/bbc/tech/008.txt', './data/bbc/tech/007.txt']), ('receiving', ['./data/bbc/tech/008.txt', './data/bbc/tech/001.txt']), ('pocket', ['./data/bbc/tech/009.txt']), ('moved', ['./data/bbc/tech/009.txt', './data/bbc/tech/002.txt', './data/bbc/entertainment/007.txt']), ('spyware', ['./data/bbc/tech/003.txt']), ('rejected', ['./data/bbc/tech/010.txt', './data/bbc/business/010.txt']), ('commitment', ['./data/bbc/tech/001.txt', './data/bbc/politics/001.txt']), ('drinks', ['./data/bbc/tech/001.txt', './data/bbc/business/005.txt']), ('rises', ['./data/bbc/politics/009.txt']), ('civil', ['./data/bbc/politics/002.txt']), ('blackpool', ['./data/bbc/politics/004.txt']), ('vowed', ['./data/bbc/business/003.txt']), ('rj', ['./data/bbc/business/010.txt']), ('chains', ['./data/bbc/business/005.txt']), ('narrowly', ['./data/bbc/business/006.txt']), ('darling', ['./data/bbc/entertainment/008.txt']), ('hodge', ['./data/bbc/entertainment/008.txt']), ('rt', ['./data/bbc/entertainment/009.txt']), ('conspiracy', ['./data/bbc/entertainment/009.txt']), ('outraged', ['./data/bbc/entertainment/010.txt']), ('hitler', ['./data/bbc/entertainment/007.txt']), ('choose', ['./data/bbc/entertainment/004.txt']), ('owns', ['./data/bbc/sport/001.txt', './data/bbc/business/001.txt']), ('jolanda', ['./data/bbc/sport/005.txt']), ('pole', ['./data/bbc/sport/006.txt']), ('explode', ['./data/bbc/tech/009.txt']), ('statement', ['./data/bbc/tech/003.txt', './data/bbc/politics/009.txt']), ('echo', ['./data/bbc/tech/001.txt', './data/bbc/entertainment/009.txt']), ('organizations', ['./data/bbc/tech/001.txt']), ('explorer', ['./data/bbc/tech/007.txt']), ('amount', ['./data/bbc/tech/002.txt', './data/bbc/business/001.txt', './data/bbc/business/007.txt']), ('corporate', ['./data/bbc/tech/005.txt']), ('convinced', ['./data/bbc/politics/008.txt']), ('steer', ['./data/bbc/politics/009.txt']), ('cuts', ['./data/bbc/politics/009.txt']), ('colourful', ['./data/bbc/politics/009.txt']), ('vote', ['./data/bbc/politics/010.txt']), ('participant', ['./data/bbc/business/003.txt']), ('weakening', ['./data/bbc/business/006.txt']), ('holding', ['./data/bbc/entertainment/002.txt', './data/bbc/entertainment/005.txt']), ('medallist', ['./data/bbc/sport/009.txt', './data/bbc/sport/010.txt']), ('semifinals', ['./data/bbc/sport/003.txt']), ('star', ['./data/bbc/sport/003.txt', './data/bbc/sport/010.txt', './data/bbc/politics/009.txt', './data/bbc/entertainment/004.txt', './data/bbc/entertainment/006.txt']), ('spain', ['./data/bbc/tech/008.txt']), ('recorder', ['./data/bbc/tech/009.txt']), ('classed', ['./data/bbc/tech/007.txt']), ('types', ['./data/bbc/tech/002.txt']), ('technicians', ['./data/bbc/tech/006.txt']), ('preparations', ['./data/bbc/politics/007.txt']), ('visits', ['./data/bbc/politics/007.txt']), ('economic', ['./data/bbc/politics/005.txt', './data/bbc/business/008.txt', './data/bbc/business/009.txt', './data/bbc/business/007.txt', './data/bbc/business/006.txt']), ('fixed', ['./data/bbc/business/008.txt']), ('guides', ['./data/bbc/entertainment/009.txt']), ('hilarious', ['./data/bbc/entertainment/007.txt']), ('angels', ['./data/bbc/entertainment/007.txt']), ('know', ['./data/bbc/sport/009.txt', './data/bbc/sport/003.txt', './data/bbc/sport/006.txt', './data/bbc/tech/005.txt', './data/bbc/politics/008.txt', './data/bbc/politics/009.txt', './data/bbc/politics/007.txt']), ('took', ['./data/bbc/sport/003.txt', './data/bbc/sport/005.txt', './data/bbc/politics/007.txt', './data/bbc/business/005.txt']), ('lightweight', ['./data/bbc/tech/009.txt']), ('modem', ['./data/bbc/tech/009.txt']), ('programmable', ['./data/bbc/tech/009.txt']), ('movement', ['./data/bbc/tech/010.txt', './data/bbc/business/002.txt']), ('progress', ['./data/bbc/tech/010.txt', './data/bbc/politics/003.txt', './data/bbc/politics/006.txt']), ('d', ['./data/bbc/tech/005.txt']), ('response', ['./data/bbc/tech/006.txt']), ('positive', ['./data/bbc/tech/006.txt', './data/bbc/business/008.txt', './data/bbc/business/007.txt', './data/bbc/business/004.txt']), ('speak', ['./data/bbc/politics/008.txt']), ('absorbing', ['./data/bbc/business/008.txt']), ('ice', ['./data/bbc/business/005.txt']), ('japan', ['./data/bbc/business/006.txt']), ('bechtler', ['./data/bbc/entertainment/008.txt']), ('material', ['./data/bbc/entertainment/009.txt']), ('performed', ['./data/bbc/entertainment/010.txt']), ('mukasa', ['./data/bbc/entertainment/010.txt']), ('postwar', ['./data/bbc/entertainment/007.txt']), ('films', ['./data/bbc/entertainment/007.txt']), ('weekends', ['./data/bbc/sport/009.txt']), ('given', ['./data/bbc/sport/009.txt', './data/bbc/tech/009.txt', './data/bbc/tech/003.txt', './data/bbc/tech/005.txt', './data/bbc/tech/004.txt', './data/bbc/politics/001.txt', './data/bbc/business/008.txt', './data/bbc/business/007.txt', './data/bbc/entertainment/005.txt']), ('attentions', ['./data/bbc/sport/001.txt']), ('laps', ['./data/bbc/sport/005.txt']), ('together', ['./data/bbc/sport/004.txt', './data/bbc/tech/005.txt', './data/bbc/tech/004.txt', './data/bbc/politics/009.txt', './data/bbc/entertainment/001.txt']), ('speculate', ['./data/bbc/tech/008.txt']), ('laptops', ['./data/bbc/tech/009.txt', './data/bbc/tech/004.txt']), ('computer', ['./data/bbc/tech/009.txt', './data/bbc/tech/010.txt', './data/bbc/tech/002.txt', './data/bbc/tech/006.txt']), ('blade', ['./data/bbc/tech/009.txt']), ('game', ['./data/bbc/tech/009.txt', './data/bbc/tech/005.txt']), ('offerings', ['./data/bbc/tech/009.txt']), ('trends', ['./data/bbc/tech/006.txt']), ('ranging', ['./data/bbc/tech/006.txt']), ('persuade', ['./data/bbc/politics/008.txt']), ('cover', ['./data/bbc/politics/009.txt', './data/bbc/politics/002.txt']), ('view', ['./data/bbc/politics/009.txt', './data/bbc/business/002.txt', './data/bbc/business/006.txt']), ('jobs', ['./data/bbc/politics/003.txt', './data/bbc/business/007.txt', './data/bbc/business/002.txt', './data/bbc/business/004.txt']), ('partys', ['./data/bbc/politics/007.txt', './data/bbc/politics/005.txt']), ('loan', ['./data/bbc/business/003.txt']), ('heal', ['./data/bbc/sport/009.txt']), ('two', ['./data/bbc/sport/009.txt', './data/bbc/sport/007.txt', './data/bbc/sport/004.txt', './data/bbc/tech/008.txt', './data/bbc/tech/009.txt', './data/bbc/tech/001.txt', './data/bbc/tech/004.txt', './data/bbc/politics/004.txt', './data/bbc/business/008.txt', './data/bbc/business/005.txt', './data/bbc/business/006.txt', './data/bbc/entertainment/009.txt', './data/bbc/entertainment/001.txt', './data/bbc/entertainment/004.txt']), ('sundays', ['./data/bbc/sport/009.txt', './data/bbc/sport/004.txt']), ('mens', ['./data/bbc/sport/003.txt', './data/bbc/sport/005.txt', './data/bbc/sport/006.txt']), ('getting', ['./data/bbc/sport/004.txt', './data/bbc/tech/001.txt', './data/bbc/tech/004.txt', './data/bbc/politics/003.txt', './data/bbc/business/007.txt', './data/bbc/entertainment/004.txt']), ('scott', ['./data/bbc/sport/006.txt']), ('putting', ['./data/bbc/tech/009.txt', './data/bbc/tech/005.txt']), ('groups', ['./data/bbc/tech/010.txt', './data/bbc/tech/001.txt', './data/bbc/business/003.txt']), ('avoided', ['./data/bbc/tech/010.txt', './data/bbc/politics/006.txt']), ('sectors', ['./data/bbc/tech/001.txt', './data/bbc/politics/003.txt']), ('showed', ['./data/bbc/tech/001.txt', './data/bbc/politics/005.txt']), ('institutions', ['./data/bbc/tech/005.txt', './data/bbc/tech/006.txt']), ('conceded', ['./data/bbc/tech/004.txt']), ('beyond', ['./data/bbc/tech/006.txt', './data/bbc/politics/003.txt', './data/bbc/entertainment/002.txt']), ('process', ['./data/bbc/politics/006.txt']), ('gross', ['./data/bbc/business/009.txt']), ('enhancing', ['./data/bbc/business/001.txt']), ('reserve', ['./data/bbc/business/002.txt']), ('proves', ['./data/bbc/entertainment/009.txt']), ('anatomical', ['./data/bbc/entertainment/010.txt']), ('return', ['./data/bbc/sport/009.txt', './data/bbc/sport/009.txt', './data/bbc/sport/010.txt', './data/bbc/politics/009.txt', './data/bbc/politics/004.txt']), ('finished', ['./data/bbc/sport/009.txt']), ('else', ['./data/bbc/sport/003.txt', './data/bbc/tech/009.txt']), ('battled', ['./data/bbc/sport/005.txt']), ('info', ['./data/bbc/tech/009.txt']), ('instance', ['./data/bbc/tech/005.txt', './data/bbc/politics/003.txt']), ('stake', ['./data/bbc/tech/005.txt', './data/bbc/business/001.txt']), ('standard', ['./data/bbc/politics/009.txt', './data/bbc/entertainment/008.txt']), ('longstanding', ['./data/bbc/politics/002.txt']), ('delivers', ['./data/bbc/politics/005.txt']), ('hosted', ['./data/bbc/politics/004.txt', './data/bbc/business/008.txt']), ('elephant', ['./data/bbc/politics/006.txt']), ('currency', ['./data/bbc/business/002.txt']), ('whisky', ['./data/bbc/business/005.txt']), ('lenkiewicz', ['./data/bbc/entertainment/008.txt', './data/bbc/entertainment/006.txt']), ('worldwide', ['./data/bbc/entertainment/009.txt']), ('celebrations', ['./data/bbc/entertainment/002.txt']), ('icon', ['./data/bbc/entertainment/002.txt']), ('title', ['./data/bbc/sport/003.txt', './data/bbc/sport/010.txt', './data/bbc/sport/001.txt', './data/bbc/sport/007.txt', './data/bbc/entertainment/003.txt', './data/bbc/entertainment/006.txt']), ('things', ['./data/bbc/sport/003.txt', './data/bbc/sport/004.txt', './data/bbc/tech/009.txt', './data/bbc/tech/004.txt', './data/bbc/politics/008.txt', './data/bbc/politics/003.txt']), ('minutes', ['./data/bbc/sport/005.txt']), ('forces', ['./data/bbc/sport/004.txt', './data/bbc/politics/002.txt']), ('allowing', ['./data/bbc/sport/004.txt', './data/bbc/tech/001.txt']), ('merry', ['./data/bbc/tech/008.txt']), ('warrant', ['./data/bbc/tech/009.txt']), ('disheartening', ['./data/bbc/tech/009.txt']), ('theyre', ['./data/bbc/tech/009.txt']), ('nonprofit', ['./data/bbc/tech/001.txt']), ('designed', ['./data/bbc/tech/007.txt']), ('predicting', ['./data/bbc/tech/004.txt', './data/bbc/politics/005.txt']), ('whose', ['./data/bbc/politics/008.txt']), ('conservatives', ['./data/bbc/politics/008.txt', './data/bbc/politics/001.txt', './data/bbc/politics/007.txt']), ('recycling', ['./data/bbc/politics/001.txt']), ('accelerating', ['./data/bbc/politics/007.txt']), ('act', ['./data/bbc/politics/002.txt']), ('awards', ['./data/bbc/entertainment/008.txt', './data/bbc/entertainment/004.txt', './data/bbc/entertainment/006.txt']), ('lived', ['./data/bbc/entertainment/009.txt']), ('samuel', ['./data/bbc/entertainment/006.txt']), ('get', ['./data/bbc/sport/009.txt', './data/bbc/sport/009.txt', './data/bbc/sport/005.txt', './data/bbc/tech/008.txt', './data/bbc/tech/009.txt', './data/bbc/tech/002.txt', './data/bbc/tech/005.txt', './data/bbc/tech/004.txt', './data/bbc/politics/009.txt', './data/bbc/politics/001.txt', './data/bbc/politics/004.txt', './data/bbc/politics/006.txt']), ('ethiopias', ['./data/bbc/sport/005.txt', './data/bbc/business/009.txt']), ('examine', ['./data/bbc/sport/004.txt']), ('vaulter', ['./data/bbc/sport/006.txt']), ('video', ['./data/bbc/tech/009.txt', './data/bbc/tech/005.txt']), ('called', ['./data/bbc/tech/003.txt', './data/bbc/politics/008.txt', './data/bbc/business/008.txt', './data/bbc/entertainment/007.txt']), ('opponents', ['./data/bbc/tech/010.txt', './data/bbc/politics/007.txt']), ('states', ['./data/bbc/tech/010.txt', './data/bbc/business/010.txt', './data/bbc/business/004.txt']), ('flaw', ['./data/bbc/tech/007.txt']), ('gives', ['./data/bbc/tech/005.txt', './data/bbc/entertainment/010.txt']), ('education', ['./data/bbc/tech/004.txt', './data/bbc/tech/006.txt', './data/bbc/politics/008.txt']), ('telecoms', ['./data/bbc/tech/006.txt']), ('sentence', ['./data/bbc/politics/009.txt']), ('delegates', ['./data/bbc/politics/003.txt', './data/bbc/politics/007.txt']), ('followed', ['./data/bbc/politics/001.txt']), ('throwing', ['./data/bbc/politics/007.txt']), ('profits', ['./data/bbc/business/010.txt', './data/bbc/business/001.txt', './data/bbc/business/004.txt']), ('sanguine', ['./data/bbc/business/002.txt', './data/bbc/business/006.txt']), ('cicero', ['./data/bbc/entertainment/009.txt']), ('adornments', ['./data/bbc/entertainment/001.txt']), ('flew', ['./data/bbc/entertainment/006.txt']), ('turnbull', ['./data/bbc/sport/007.txt']), ('casio', ['./data/bbc/tech/009.txt']), ('dispenser', ['./data/bbc/tech/009.txt']), ('modern', ['./data/bbc/tech/009.txt']), ('tracking', ['./data/bbc/tech/003.txt']), ('lueders', ['./data/bbc/tech/010.txt']), ('hours', ['./data/bbc/tech/001.txt', './data/bbc/tech/002.txt', './data/bbc/politics/008.txt']), ('outburst', ['./data/bbc/politics/009.txt']), ('p', ['./data/bbc/politics/009.txt', './data/bbc/politics/003.txt']), ('gidley', ['./data/bbc/politics/001.txt']), ('lashed', ['./data/bbc/business/008.txt']), ('value', ['./data/bbc/business/001.txt', './data/bbc/business/007.txt', './data/bbc/business/005.txt']), ('continuing', ['./data/bbc/business/007.txt', './data/bbc/business/004.txt']), ('moderate', ['./data/bbc/business/007.txt']), ('histories', ['./data/bbc/entertainment/007.txt']), ('andersen', ['./data/bbc/entertainment/002.txt']), ('eyre', ['./data/bbc/entertainment/005.txt']), ('whatsonstagecom', ['./data/bbc/entertainment/006.txt']), ('number', ['./data/bbc/tech/009.txt', './data/bbc/tech/007.txt', './data/bbc/tech/004.txt', './data/bbc/tech/006.txt', './data/bbc/politics/008.txt', './data/bbc/business/007.txt', './data/bbc/entertainment/005.txt']), ('noteboook', ['./data/bbc/tech/009.txt']), ('practice', ['./data/bbc/tech/001.txt', './data/bbc/politics/010.txt', './data/bbc/politics/002.txt']), ('peruvian', ['./data/bbc/tech/006.txt']), ('topics', ['./data/bbc/tech/006.txt', './data/bbc/politics/008.txt']), ('brief', ['./data/bbc/politics/009.txt']), ('sexes', ['./data/bbc/politics/003.txt']), ('older', ['./data/bbc/politics/001.txt']), ('dr', ['./data/bbc/politics/007.txt', './data/bbc/entertainment/009.txt']), ('relationship', ['./data/bbc/politics/007.txt']), ('office', ['./data/bbc/politics/002.txt', './data/bbc/politics/006.txt', './data/bbc/business/007.txt']), ('credit', ['./data/bbc/politics/005.txt', './data/bbc/business/003.txt']), ('blow', ['./data/bbc/politics/004.txt']), ('administration', ['./data/bbc/business/010.txt']), ('analysts', ['./data/bbc/business/001.txt', './data/bbc/business/007.txt']), ('willingness', ['./data/bbc/business/002.txt']), ('bursary', ['./data/bbc/entertainment/008.txt']), ('disneys', ['./data/bbc/entertainment/005.txt']), ('mitchells', ['./data/bbc/entertainment/004.txt']), ('favoured', ['./data/bbc/sport/009.txt']), ('january', ['./data/bbc/sport/007.txt', './data/bbc/politics/002.txt', './data/bbc/politics/005.txt', './data/bbc/business/007.txt', './data/bbc/business/004.txt', './data/bbc/entertainment/007.txt']), ('greatest', ['./data/bbc/tech/009.txt', './data/bbc/tech/001.txt', './data/bbc/entertainment/003.txt']), ('crack', ['./data/bbc/tech/002.txt']), ('commissioner', ['./data/bbc/politics/009.txt', './data/bbc/politics/002.txt']), ('lactating', ['./data/bbc/business/009.txt']), ('territory', ['./data/bbc/business/007.txt']), ('slipped', ['./data/bbc/business/005.txt']), ('acquisitions', ['./data/bbc/business/005.txt']), ('airbus', ['./data/bbc/business/004.txt']), ('packet', ['./data/bbc/entertainment/001.txt']), ('collection', ['./data/bbc/entertainment/007.txt']), ('threeday', ['./data/bbc/entertainment/002.txt']), ('graham', ['./data/bbc/entertainment/005.txt']), ('stiff', ['./data/bbc/sport/007.txt']), ('net', ['./data/bbc/tech/008.txt', './data/bbc/tech/009.txt', './data/bbc/tech/002.txt', './data/bbc/tech/005.txt', './data/bbc/business/007.txt']), ('brownie', ['./data/bbc/tech/009.txt']), ('find', ['./data/bbc/tech/003.txt', './data/bbc/tech/006.txt', './data/bbc/politics/008.txt', './data/bbc/politics/003.txt', './data/bbc/politics/006.txt']), ('popups', ['./data/bbc/tech/003.txt']), ('scan', ['./data/bbc/tech/001.txt']), ('closed', ['./data/bbc/tech/002.txt', './data/bbc/politics/006.txt', './data/bbc/business/010.txt', './data/bbc/business/004.txt']), ('per', ['./data/bbc/tech/004.txt', './data/bbc/business/004.txt']), ('wait', ['./data/bbc/tech/006.txt']), ('warm', ['./data/bbc/politics/007.txt']), ('urgently', ['./data/bbc/politics/002.txt']), ('restate', ['./data/bbc/business/001.txt']), ('tacitus', ['./data/bbc/entertainment/009.txt']), ('fifthfastest', ['./data/bbc/sport/001.txt']), ('participation', ['./data/bbc/sport/007.txt', './data/bbc/sport/002.txt']), ('impressive', ['./data/bbc/sport/007.txt', './data/bbc/entertainment/007.txt']), ('motorola', ['./data/bbc/tech/009.txt']), ('humour', ['./data/bbc/politics/009.txt']), ('accommodation', ['./data/bbc/politics/004.txt']), ('tougher', ['./data/bbc/business/010.txt']), ('specifics', ['./data/bbc/business/005.txt']), ('wsj', ['./data/bbc/business/005.txt']), ('iphigenia', ['./data/bbc/entertainment/008.txt']), ('wonderful', ['./data/bbc/entertainment/003.txt']), ('andrews', ['./data/bbc/entertainment/007.txt', './data/bbc/entertainment/005.txt']), ('sebolds', ['./data/bbc/entertainment/004.txt']), ('moore', ['./data/bbc/sport/009.txt', './data/bbc/entertainment/001.txt', './data/bbc/entertainment/002.txt']), ('fellow', ['./data/bbc/sport/003.txt', './data/bbc/sport/006.txt', './data/bbc/entertainment/007.txt']), ('poses', ['./data/bbc/tech/008.txt']), ('disguising', ['./data/bbc/tech/008.txt']), ('many', ['./data/bbc/tech/008.txt', './data/bbc/tech/009.txt', './data/bbc/tech/001.txt', './data/bbc/tech/007.txt', './data/bbc/tech/002.txt', './data/bbc/tech/005.txt', './data/bbc/politics/003.txt', './data/bbc/politics/001.txt', './data/bbc/politics/006.txt', './data/bbc/business/010.txt', './data/bbc/business/002.txt', './data/bbc/entertainment/007.txt']), ('suffix', ['./data/bbc/tech/008.txt']), ('knife', ['./data/bbc/tech/009.txt']), ('experts', ['./data/bbc/tech/001.txt', './data/bbc/politics/003.txt', './data/bbc/business/003.txt']), ('seat', ['./data/bbc/tech/005.txt']), ('asking', ['./data/bbc/tech/005.txt', './data/bbc/politics/002.txt']), ('costs', ['./data/bbc/tech/004.txt', './data/bbc/politics/001.txt', './data/bbc/business/004.txt']), ('perus', ['./data/bbc/tech/006.txt']), ('sessions', ['./data/bbc/tech/006.txt']), ('jeered', ['./data/bbc/politics/008.txt']), ('recalled', ['./data/bbc/politics/008.txt']), ('pigs', ['./data/bbc/politics/009.txt']), ('stay', ['./data/bbc/politics/001.txt']), ('signed', ['./data/bbc/politics/004.txt']), ('addiction', ['./data/bbc/business/010.txt']), ('consolidation', ['./data/bbc/business/005.txt']), ('year', ['./data/bbc/sport/009.txt', './data/bbc/sport/010.txt', './data/bbc/sport/001.txt', './data/bbc/sport/007.txt', './data/bbc/sport/005.txt', './data/bbc/tech/008.txt', './data/bbc/tech/005.txt', './data/bbc/tech/004.txt', './data/bbc/tech/006.txt', './data/bbc/politics/003.txt', './data/bbc/politics/002.txt', './data/bbc/politics/004.txt', './data/bbc/business/008.txt', './data/bbc/business/009.txt', './data/bbc/business/002.txt', './data/bbc/business/005.txt', './data/bbc/business/004.txt', './data/bbc/entertainment/001.txt', './data/bbc/entertainment/007.txt']), ('sidelined', ['./data/bbc/sport/009.txt']), ('said', ['./data/bbc/sport/009.txt', './data/bbc/sport/009.txt', './data/bbc/sport/003.txt', './data/bbc/sport/010.txt', './data/bbc/sport/001.txt', './data/bbc/sport/007.txt', './data/bbc/sport/005.txt', './data/bbc/sport/004.txt', './data/bbc/sport/006.txt', './data/bbc/tech/008.txt', './data/bbc/tech/009.txt', './data/bbc/tech/003.txt', './data/bbc/tech/010.txt', './data/bbc/tech/007.txt', './data/bbc/tech/002.txt', './data/bbc/tech/005.txt', './data/bbc/tech/004.txt', './data/bbc/tech/006.txt', './data/bbc/politics/008.txt', './data/bbc/politics/009.txt', './data/bbc/politics/003.txt', './data/bbc/politics/001.txt', './data/bbc/politics/007.txt', './data/bbc/politics/002.txt', './data/bbc/politics/005.txt', './data/bbc/politics/004.txt', './data/bbc/politics/006.txt', './data/bbc/business/008.txt', './data/bbc/business/009.txt', './data/bbc/business/003.txt', './data/bbc/business/001.txt', './data/bbc/business/007.txt', './data/bbc/business/002.txt', './data/bbc/business/005.txt', './data/bbc/business/004.txt', './data/bbc/business/006.txt', './data/bbc/entertainment/009.txt', './data/bbc/entertainment/003.txt', './data/bbc/entertainment/010.txt', './data/bbc/entertainment/002.txt', './data/bbc/entertainment/005.txt', './data/bbc/entertainment/004.txt']), ('line', ['./data/bbc/sport/009.txt', './data/bbc/sport/003.txt', './data/bbc/tech/008.txt', './data/bbc/entertainment/007.txt']), ('run', ['./data/bbc/sport/009.txt', './data/bbc/sport/007.txt', './data/bbc/sport/002.txt', './data/bbc/tech/004.txt', './data/bbc/politics/003.txt']), ('losing', ['./data/bbc/sport/003.txt']), ('lane', ['./data/bbc/sport/003.txt', './data/bbc/entertainment/008.txt']), ('irish', ['./data/bbc/sport/007.txt']), ('population', ['./data/bbc/tech/001.txt', './data/bbc/business/008.txt']), ('sprayed', ['./data/bbc/tech/001.txt']), ('instant', ['./data/bbc/tech/007.txt']), ('october', ['./data/bbc/tech/002.txt', './data/bbc/business/004.txt']), ('talking', ['./data/bbc/tech/004.txt', './data/bbc/politics/003.txt']), ('discussion', ['./data/bbc/tech/004.txt']), ('scarce', ['./data/bbc/tech/006.txt']), ('commons', ['./data/bbc/politics/008.txt', './data/bbc/politics/006.txt']), ('answers', ['./data/bbc/politics/008.txt']), ('allow', ['./data/bbc/politics/010.txt', './data/bbc/politics/001.txt']), ('lie', ['./data/bbc/politics/007.txt']), ('newspaper', ['./data/bbc/politics/007.txt', './data/bbc/business/002.txt', './data/bbc/entertainment/010.txt']), ('worked', ['./data/bbc/politics/006.txt', './data/bbc/entertainment/001.txt']), ('default', ['./data/bbc/business/003.txt']), ('securities', ['./data/bbc/business/001.txt']), ('contraction', ['./data/bbc/business/006.txt']), ('responsible', ['./data/bbc/entertainment/001.txt']), ('mermaid', ['./data/bbc/entertainment/002.txt']), ('mackintosh', ['./data/bbc/entertainment/005.txt']), ('comedy', ['./data/bbc/entertainment/006.txt']), ('soon', ['./data/bbc/sport/005.txt', './data/bbc/tech/009.txt']), ('coordinate', ['./data/bbc/sport/004.txt', './data/bbc/tech/006.txt']), ('federation', ['./data/bbc/sport/004.txt']), ('apple', ['./data/bbc/tech/009.txt']), ('sony', ['./data/bbc/tech/009.txt']), ('subsumed', ['./data/bbc/tech/009.txt']), ('upcoming', ['./data/bbc/tech/001.txt']), ('normal', ['./data/bbc/tech/001.txt', './data/bbc/entertainment/009.txt']), ('elementary', ['./data/bbc/tech/002.txt']), ('kids', ['./data/bbc/tech/004.txt']), ('shirking', ['./data/bbc/politics/010.txt']), ('ratified', ['./data/bbc/politics/004.txt']), ('dollar', ['./data/bbc/business/010.txt', './data/bbc/business/007.txt', './data/bbc/business/002.txt']), ('subscribers', ['./data/bbc/business/001.txt']), ('greenspan', ['./data/bbc/business/002.txt']), ('nick', ['./data/bbc/business/004.txt']), ('materials', ['./data/bbc/entertainment/008.txt']), ('eldridge', ['./data/bbc/entertainment/008.txt']), ('jammed', ['./data/bbc/entertainment/001.txt']), ('hugh', ['./data/bbc/entertainment/007.txt']), ('troops', ['./data/bbc/entertainment/007.txt']), ('pure', ['./data/bbc/entertainment/002.txt']), ('kept', ['./data/bbc/sport/005.txt', './data/bbc/tech/002.txt']), ('days', ['./data/bbc/sport/006.txt']), ('zafid', ['./data/bbc/tech/008.txt']), ('excavated', ['./data/bbc/tech/005.txt']), ('unleashing', ['./data/bbc/tech/005.txt']), ('stability', ['./data/bbc/politics/005.txt']), ('ensure', ['./data/bbc/politics/006.txt']), ('brazil', ['./data/bbc/business/008.txt']), ('martin', ['./data/bbc/business/004.txt', './data/bbc/entertainment/008.txt']), ('antenna', ['./data/bbc/entertainment/001.txt']), ('laura', ['./data/bbc/entertainment/005.txt']), ('oconnors', ['./data/bbc/entertainment/004.txt']), ('nevis', ['./data/bbc/sport/010.txt']), ('outlook', ['./data/bbc/tech/008.txt', './data/bbc/business/004.txt']), ('whats', ['./data/bbc/tech/009.txt']), ('wristwatch', ['./data/bbc/tech/009.txt']), ('regulated', ['./data/bbc/tech/002.txt']), ('infrastructure', ['./data/bbc/tech/005.txt', './data/bbc/tech/006.txt']), ('brought', ['./data/bbc/tech/005.txt', './data/bbc/politics/002.txt', './data/bbc/business/010.txt']), ('nicholas', ['./data/bbc/tech/004.txt']), ('skills', ['./data/bbc/tech/006.txt', './data/bbc/politics/005.txt']), ('remembered', ['./data/bbc/politics/008.txt']), ('fuss', ['./data/bbc/politics/009.txt']), ('mothers', ['./data/bbc/politics/003.txt', './data/bbc/politics/001.txt']), ('grounds', ['./data/bbc/politics/003.txt']), ('appropriate', ['./data/bbc/politics/003.txt']), ('prizes', ['./data/bbc/politics/010.txt', './data/bbc/entertainment/006.txt']), ('taxpayers', ['./data/bbc/politics/001.txt', './data/bbc/politics/006.txt']), ('repay', ['./data/bbc/politics/007.txt', './data/bbc/business/003.txt']), ('pledged', ['./data/bbc/business/003.txt']), ('worsethanexpected', ['./data/bbc/business/002.txt']), ('risen', ['./data/bbc/business/005.txt']), ('buds', ['./data/bbc/entertainment/008.txt']), ('standing', ['./data/bbc/entertainment/005.txt']), ('winners', ['./data/bbc/entertainment/006.txt']), ('worlds', ['./data/bbc/sport/003.txt', './data/bbc/sport/002.txt', './data/bbc/tech/009.txt', './data/bbc/tech/005.txt', './data/bbc/business/008.txt']), ('dividends', ['./data/bbc/sport/001.txt']), ('horses', ['./data/bbc/tech/009.txt']), ('turkey', ['./data/bbc/tech/001.txt']), ('neighbourhood', ['./data/bbc/tech/004.txt']), ('trev', ['./data/bbc/politics/009.txt']), ('constitutional', ['./data/bbc/politics/002.txt']), ('asplin', ['./data/bbc/politics/004.txt']), ('prosecutors', ['./data/bbc/business/010.txt']), ('preceding', ['./data/bbc/business/001.txt']), ('price', ['./data/bbc/business/004.txt']), ('explores', ['./data/bbc/entertainment/010.txt']), ('denmark', ['./data/bbc/entertainment/002.txt']), ('comic', ['./data/bbc/entertainment/005.txt']), ('problem', ['./data/bbc/sport/009.txt', './data/bbc/tech/005.txt']), ('back', ['./data/bbc/sport/009.txt', './data/bbc/sport/005.txt', './data/bbc/sport/004.txt', './data/bbc/tech/009.txt', './data/bbc/tech/010.txt', './data/bbc/politics/008.txt', './data/bbc/politics/009.txt', './data/bbc/politics/001.txt', './data/bbc/politics/007.txt', './data/bbc/politics/004.txt', './data/bbc/business/003.txt', './data/bbc/business/001.txt', './data/bbc/business/002.txt', './data/bbc/entertainment/009.txt']), ('second', ['./data/bbc/sport/009.txt', './data/bbc/sport/005.txt', './data/bbc/sport/006.txt', './data/bbc/tech/004.txt', './data/bbc/politics/003.txt', './data/bbc/entertainment/007.txt', './data/bbc/entertainment/004.txt']), ('bekeles', ['./data/bbc/sport/005.txt']), ('report', ['./data/bbc/sport/004.txt', './data/bbc/tech/002.txt', './data/bbc/politics/006.txt', './data/bbc/business/009.txt']), ('electronics', ['./data/bbc/tech/009.txt']), ('potato', ['./data/bbc/tech/009.txt']), ('taste', ['./data/bbc/tech/009.txt']), ('plans', ['./data/bbc/tech/003.txt', './data/bbc/tech/010.txt', './data/bbc/tech/007.txt', './data/bbc/tech/004.txt', './data/bbc/politics/003.txt', './data/bbc/politics/010.txt', './data/bbc/politics/001.txt', './data/bbc/entertainment/003.txt']), ('release', ['./data/bbc/tech/003.txt']), ('fund', ['./data/bbc/tech/001.txt', './data/bbc/business/005.txt']), ('automatically', ['./data/bbc/tech/007.txt']), ('illegally', ['./data/bbc/tech/002.txt', './data/bbc/business/010.txt']), ('upload', ['./data/bbc/tech/005.txt']), ('resistance', ['./data/bbc/tech/004.txt']), ('ms', ['./data/bbc/politics/003.txt', './data/bbc/politics/001.txt', './data/bbc/entertainment/010.txt']), ('universities', ['./data/bbc/politics/003.txt']), ('repaid', ['./data/bbc/politics/007.txt']), ('interview', ['./data/bbc/politics/005.txt']), ('filed', ['./data/bbc/business/003.txt', './data/bbc/business/010.txt']), ('publishing', ['./data/bbc/entertainment/009.txt', './data/bbc/entertainment/007.txt']), ('ugly', ['./data/bbc/entertainment/002.txt']), ('diana', ['./data/bbc/entertainment/006.txt']), ('offcolour', ['./data/bbc/sport/009.txt']), ('travelling', ['./data/bbc/tech/008.txt']), ('demise', ['./data/bbc/tech/009.txt']), ('trackball', ['./data/bbc/tech/009.txt']), ('towards', ['./data/bbc/tech/001.txt']), ('money', ['./data/bbc/tech/001.txt', './data/bbc/tech/004.txt', './data/bbc/politics/009.txt', './data/bbc/politics/001.txt', './data/bbc/politics/006.txt', './data/bbc/business/003.txt', './data/bbc/entertainment/010.txt']), ('developing', ['./data/bbc/tech/004.txt', './data/bbc/business/008.txt']), ('flat', ['./data/bbc/tech/004.txt', './data/bbc/business/004.txt']), ('generated', ['./data/bbc/tech/006.txt']), ('advancement', ['./data/bbc/politics/008.txt']), ('library', ['./data/bbc/politics/008.txt', './data/bbc/entertainment/002.txt']), ('conservative', ['./data/bbc/politics/005.txt']), ('arbitration', ['./data/bbc/business/003.txt']), ('quarter', ['./data/bbc/business/001.txt', './data/bbc/business/002.txt', './data/bbc/business/004.txt', './data/bbc/business/006.txt']), ('buying', ['./data/bbc/business/002.txt']), ('propelled', ['./data/bbc/business/005.txt']), ('continues', ['./data/bbc/business/004.txt']), ('rebuttals', ['./data/bbc/entertainment/009.txt']), ('theatregoers', ['./data/bbc/entertainment/006.txt']), ('saturday', ['./data/bbc/sport/002.txt', './data/bbc/sport/006.txt', './data/bbc/business/008.txt']), ('iaaf', ['./data/bbc/sport/004.txt']), ('ipod', ['./data/bbc/tech/009.txt']), ('date', ['./data/bbc/tech/009.txt', './data/bbc/tech/003.txt', './data/bbc/politics/007.txt', './data/bbc/politics/005.txt', './data/bbc/entertainment/003.txt']), ('safety', ['./data/bbc/tech/009.txt']), ('largely', ['./data/bbc/tech/009.txt']), ('articles', ['./data/bbc/tech/001.txt']), ('numerous', ['./data/bbc/tech/001.txt']), ('create', ['./data/bbc/tech/002.txt', './data/bbc/tech/005.txt']), ('commonly', ['./data/bbc/tech/005.txt']), ('fantastically', ['./data/bbc/tech/005.txt']), ('text', ['./data/bbc/tech/004.txt', './data/bbc/entertainment/001.txt']), ('couple', ['./data/bbc/politics/008.txt', './data/bbc/entertainment/002.txt']), ('tony', ['./data/bbc/politics/001.txt', './data/bbc/politics/007.txt', './data/bbc/politics/002.txt', './data/bbc/politics/005.txt']), ('shrewsbury', ['./data/bbc/politics/007.txt']), ('timing', ['./data/bbc/politics/002.txt']), ('india', ['./data/bbc/business/008.txt']), ('actors', ['./data/bbc/entertainment/002.txt']), ('ruled', ['./data/bbc/sport/009.txt', './data/bbc/business/010.txt']), ('reached', ['./data/bbc/sport/009.txt', './data/bbc/tech/001.txt', './data/bbc/business/010.txt', './data/bbc/business/002.txt']), ('success', ['./data/bbc/sport/001.txt', './data/bbc/tech/006.txt', './data/bbc/entertainment/003.txt', './data/bbc/entertainment/004.txt']), ('site', ['./data/bbc/tech/009.txt', './data/bbc/tech/006.txt', './data/bbc/politics/006.txt']), ('model', ['./data/bbc/tech/009.txt', './data/bbc/tech/005.txt', './data/bbc/tech/006.txt']), ('gaming', ['./data/bbc/tech/005.txt']), ('farming', ['./data/bbc/tech/006.txt']), ('enthusiasm', ['./data/bbc/tech/006.txt']), ('campbells', ['./data/bbc/politics/009.txt']), ('paxman', ['./data/bbc/politics/009.txt']), ('expectations', ['./data/bbc/politics/007.txt', './data/bbc/politics/005.txt', './data/bbc/business/001.txt', './data/bbc/business/007.txt']), ('area', ['./data/bbc/politics/006.txt']), ('attends', ['./data/bbc/business/008.txt']), ('assistance', ['./data/bbc/business/009.txt']), ('reported', ['./data/bbc/business/001.txt', './data/bbc/business/004.txt']), ('names', ['./data/bbc/business/005.txt']), ('basis', ['./data/bbc/business/006.txt']), ('better', ['./data/bbc/sport/009.txt', './data/bbc/sport/010.txt', './data/bbc/tech/009.txt', './data/bbc/tech/005.txt', './data/bbc/business/001.txt', './data/bbc/business/004.txt', './data/bbc/entertainment/004.txt']), ('participate', ['./data/bbc/sport/002.txt']), ('pace', ['./data/bbc/sport/005.txt', './data/bbc/politics/005.txt', './data/bbc/business/007.txt']), ('attended', ['./data/bbc/sport/004.txt', './data/bbc/tech/006.txt']), ('happy', ['./data/bbc/sport/004.txt', './data/bbc/sport/006.txt', './data/bbc/tech/008.txt']), ('petition', ['./data/bbc/tech/001.txt']), ('sheer', ['./data/bbc/tech/001.txt', './data/bbc/politics/008.txt']), ('problems', ['./data/bbc/tech/001.txt', './data/bbc/tech/004.txt', './data/bbc/politics/006.txt']), ('models', ['./data/bbc/tech/005.txt']), ('cultural', ['./data/bbc/tech/005.txt']), ('lessons', ['./data/bbc/tech/006.txt']), ('woman', ['./data/bbc/politics/008.txt', './data/bbc/politics/003.txt']), ('day', ['./data/bbc/politics/009.txt', './data/bbc/politics/005.txt']), ('images', ['./data/bbc/politics/009.txt']), ('snack', ['./data/bbc/business/005.txt']), ('wishaw', ['./data/bbc/entertainment/008.txt']), ('theory', ['./data/bbc/entertainment/009.txt']), ('fun', ['./data/bbc/entertainment/009.txt']), ('away', ['./data/bbc/sport/009.txt', './data/bbc/tech/002.txt', './data/bbc/tech/004.txt', './data/bbc/politics/009.txt', './data/bbc/politics/005.txt']), ('sent', ['./data/bbc/tech/008.txt', './data/bbc/tech/003.txt', './data/bbc/politics/009.txt', './data/bbc/business/002.txt', './data/bbc/entertainment/001.txt']), ('computers', ['./data/bbc/tech/009.txt', './data/bbc/tech/007.txt', './data/bbc/tech/004.txt', './data/bbc/tech/006.txt']), ('cumbersome', ['./data/bbc/tech/009.txt']), ('benefits', ['./data/bbc/tech/010.txt', './data/bbc/politics/006.txt']), ('latest', ['./data/bbc/tech/010.txt', './data/bbc/tech/007.txt', './data/bbc/tech/002.txt', './data/bbc/tech/006.txt', './data/bbc/business/004.txt']), ('frank', ['./data/bbc/tech/005.txt', './data/bbc/entertainment/003.txt']), ('equipment', ['./data/bbc/tech/006.txt']), ('plots', ['./data/bbc/tech/006.txt']), ('looked', ['./data/bbc/politics/009.txt']), ('calls', ['./data/bbc/business/008.txt', './data/bbc/business/002.txt']), ('henri', ['./data/bbc/business/009.txt']), ('revenues', ['./data/bbc/business/001.txt', './data/bbc/business/004.txt']), ('reduce', ['./data/bbc/business/002.txt']), ('green', ['./data/bbc/entertainment/001.txt', './data/bbc/entertainment/007.txt']), ('branches', ['./data/bbc/entertainment/001.txt']), ('autobiography', ['./data/bbc/entertainment/004.txt']), ('reports', ['./data/bbc/sport/009.txt', './data/bbc/politics/007.txt', './data/bbc/business/005.txt', './data/bbc/entertainment/010.txt']), ('program', ['./data/bbc/tech/008.txt', './data/bbc/tech/003.txt', './data/bbc/tech/005.txt']), ('newton', ['./data/bbc/tech/009.txt']), ('possibly', ['./data/bbc/tech/009.txt']), ('abused', ['./data/bbc/tech/010.txt']), ('juri', ['./data/bbc/tech/010.txt']), ('hisher', ['./data/bbc/tech/001.txt']), ('logs', ['./data/bbc/tech/002.txt']), ('initially', ['./data/bbc/tech/004.txt']), ('distribute', ['./data/bbc/tech/004.txt']), ('flagship', ['./data/bbc/tech/006.txt']), ('treatment', ['./data/bbc/politics/008.txt', './data/bbc/entertainment/003.txt']), ('swears', ['./data/bbc/politics/009.txt']), ('banks', ['./data/bbc/business/003.txt']), ('debts', ['./data/bbc/business/003.txt']), ('intrigued', ['./data/bbc/entertainment/007.txt']), ('friday', ['./data/bbc/sport/003.txt', './data/bbc/business/008.txt', './data/bbc/business/001.txt', './data/bbc/business/002.txt', './data/bbc/business/004.txt']), ('major', ['./data/bbc/sport/001.txt', './data/bbc/tech/005.txt', './data/bbc/politics/004.txt', './data/bbc/business/002.txt', './data/bbc/business/005.txt', './data/bbc/business/004.txt']), ('rubbish', ['./data/bbc/tech/009.txt']), ('inaccurate', ['./data/bbc/tech/009.txt']), ('saying', ['./data/bbc/tech/010.txt', './data/bbc/politics/009.txt', './data/bbc/politics/003.txt', './data/bbc/politics/007.txt', './data/bbc/entertainment/010.txt']), ('boys', ['./data/bbc/politics/008.txt', './data/bbc/entertainment/008.txt', './data/bbc/entertainment/006.txt']), ('evaluated', ['./data/bbc/politics/003.txt']), ('dismissed', ['./data/bbc/politics/001.txt']), ('chambers', ['./data/bbc/politics/001.txt']), ('moscowbased', ['./data/bbc/business/003.txt']), ('multibillion', ['./data/bbc/business/010.txt']), ('emin', ['./data/bbc/entertainment/001.txt']), ('recovery', ['./data/bbc/sport/009.txt', './data/bbc/business/006.txt']), ('russian', ['./data/bbc/sport/001.txt', './data/bbc/business/003.txt']), ('sprint', ['./data/bbc/sport/005.txt']), ('machines', ['./data/bbc/tech/008.txt', './data/bbc/tech/007.txt', './data/bbc/politics/010.txt']), ('changing', ['./data/bbc/tech/001.txt', './data/bbc/business/008.txt']), ('difficult', ['./data/bbc/tech/001.txt', './data/bbc/politics/006.txt', './data/bbc/entertainment/007.txt']), ('unprotected', ['./data/bbc/tech/007.txt']), ('cement', ['./data/bbc/tech/005.txt']), ('september', ['./data/bbc/tech/006.txt', './data/bbc/business/007.txt', './data/bbc/business/004.txt', './data/bbc/business/006.txt']), ('liam', ['./data/bbc/politics/009.txt', './data/bbc/politics/007.txt']), ('gordon', ['./data/bbc/politics/001.txt', './data/bbc/politics/005.txt', './data/bbc/business/008.txt']), ('brown', ['./data/bbc/politics/001.txt', './data/bbc/politics/005.txt', './data/bbc/business/008.txt', './data/bbc/business/010.txt', './data/bbc/entertainment/008.txt', './data/bbc/entertainment/009.txt', './data/bbc/entertainment/003.txt']), ('lord', ['./data/bbc/politics/007.txt', './data/bbc/politics/002.txt', './data/bbc/business/001.txt']), ('abandon', ['./data/bbc/business/008.txt']), ('unit', ['./data/bbc/business/003.txt']), ('rod', ['./data/bbc/business/004.txt']), ('teetered', ['./data/bbc/business/006.txt']), ('piece', ['./data/bbc/entertainment/007.txt']), ('harold', ['./data/bbc/entertainment/002.txt']), ('festens', ['./data/bbc/entertainment/006.txt']), ('finish', ['./data/bbc/sport/009.txt', './data/bbc/sport/005.txt', './data/bbc/sport/006.txt']), ('positively', ['./data/bbc/sport/004.txt']), ('interesting', ['./data/bbc/tech/009.txt']), ('common', ['./data/bbc/tech/009.txt', './data/bbc/tech/001.txt', './data/bbc/tech/004.txt', './data/bbc/business/006.txt']), ('interest', ['./data/bbc/tech/010.txt', './data/bbc/politics/005.txt', './data/bbc/business/007.txt', './data/bbc/business/002.txt', './data/bbc/entertainment/004.txt']), ('rejection', ['./data/bbc/tech/010.txt']), ('png', ['./data/bbc/tech/007.txt']), ('authorities', ['./data/bbc/tech/002.txt', './data/bbc/politics/002.txt', './data/bbc/entertainment/010.txt']), ('porn', ['./data/bbc/tech/002.txt']), ('engine', ['./data/bbc/tech/005.txt']), ('offers', ['./data/bbc/tech/005.txt']), ('survival', ['./data/bbc/tech/005.txt', './data/bbc/business/009.txt']), ('economy', ['./data/bbc/tech/005.txt', './data/bbc/politics/005.txt', './data/bbc/business/008.txt', './data/bbc/business/007.txt', './data/bbc/business/006.txt']), ('feedback', ['./data/bbc/tech/006.txt']), ('circs', ['./data/bbc/politics/009.txt']), ('supercasinos', ['./data/bbc/politics/010.txt']), ('dem', ['./data/bbc/politics/007.txt', './data/bbc/politics/002.txt']), ('needs', ['./data/bbc/politics/005.txt']), ('oneoff', ['./data/bbc/business/001.txt']), ('searchengine', ['./data/bbc/business/001.txt']), ('hanks', ['./data/bbc/entertainment/009.txt']), ('lodgers', ['./data/bbc/entertainment/007.txt']), ('geraldine', ['./data/bbc/entertainment/007.txt']), ('solved', ['./data/bbc/sport/009.txt']), ('cm', ['./data/bbc/sport/009.txt']), ('lot', ['./data/bbc/sport/004.txt', './data/bbc/tech/009.txt', './data/bbc/entertainment/005.txt']), ('lamine', ['./data/bbc/sport/004.txt']), ('notebook', ['./data/bbc/tech/009.txt']), ('insane', ['./data/bbc/tech/009.txt']), ('trackpad', ['./data/bbc/tech/009.txt']), ('influential', ['./data/bbc/tech/010.txt', './data/bbc/entertainment/001.txt']), ('play', ['./data/bbc/tech/002.txt', './data/bbc/tech/005.txt', './data/bbc/business/006.txt', './data/bbc/entertainment/008.txt', './data/bbc/entertainment/010.txt', './data/bbc/entertainment/006.txt']), ('cost', ['./data/bbc/tech/002.txt', './data/bbc/politics/003.txt', './data/bbc/politics/004.txt', './data/bbc/politics/006.txt', './data/bbc/business/004.txt', './data/bbc/entertainment/005.txt']), ('role', ['./data/bbc/tech/005.txt', './data/bbc/politics/009.txt', './data/bbc/entertainment/008.txt']), ('realised', ['./data/bbc/tech/006.txt', './data/bbc/politics/009.txt']), ('taped', ['./data/bbc/politics/008.txt']), ('ah', ['./data/bbc/politics/008.txt']), ('extending', ['./data/bbc/politics/001.txt']), ('probes', ['./data/bbc/politics/002.txt']), ('subsidies', ['./data/bbc/business/008.txt']), ('representing', ['./data/bbc/business/009.txt']), ('similarsized', ['./data/bbc/business/006.txt']), ('finest', ['./data/bbc/entertainment/008.txt']), ('manuscripts', ['./data/bbc/entertainment/009.txt']), ('bicentennial', ['./data/bbc/entertainment/002.txt']), ('danish', ['./data/bbc/entertainment/002.txt']), ('games', ['./data/bbc/sport/009.txt', './data/bbc/sport/009.txt', './data/bbc/sport/005.txt', './data/bbc/tech/009.txt', './data/bbc/tech/002.txt', './data/bbc/tech/005.txt', './data/bbc/tech/004.txt']), ('senior', ['./data/bbc/sport/009.txt']), ('three', ['./data/bbc/sport/001.txt', './data/bbc/sport/002.txt', './data/bbc/tech/009.txt', './data/bbc/tech/002.txt', './data/bbc/tech/004.txt', './data/bbc/tech/006.txt', './data/bbc/politics/009.txt', './data/bbc/politics/002.txt', './data/bbc/business/001.txt', './data/bbc/business/007.txt', './data/bbc/business/002.txt', './data/bbc/business/005.txt', './data/bbc/business/004.txt', './data/bbc/business/006.txt', './data/bbc/entertainment/008.txt']), ('reads', ['./data/bbc/tech/008.txt']), ('preelectronic', ['./data/bbc/tech/009.txt']), ('executive', ['./data/bbc/tech/009.txt', './data/bbc/politics/010.txt', './data/bbc/politics/004.txt', './data/bbc/business/001.txt', './data/bbc/business/004.txt', './data/bbc/entertainment/004.txt']), ('try', ['./data/bbc/tech/003.txt', './data/bbc/business/001.txt']), ('live', ['./data/bbc/tech/001.txt', './data/bbc/politics/010.txt', './data/bbc/politics/007.txt']), ('democratic', ['./data/bbc/tech/001.txt']), ('update', ['./data/bbc/tech/007.txt']), ('msn', ['./data/bbc/tech/007.txt']), ('referring', ['./data/bbc/politics/009.txt']), ('increasingly', ['./data/bbc/politics/003.txt']), ('fulltime', ['./data/bbc/politics/003.txt']), ('revenue', ['./data/bbc/politics/004.txt', './data/bbc/business/001.txt', './data/bbc/business/004.txt']), ('argued', ['./data/bbc/business/008.txt']), ('wells', ['./data/bbc/business/009.txt']), ('exists', ['./data/bbc/business/003.txt']), ('music', ['./data/bbc/business/001.txt']), ('despite', ['./data/bbc/business/002.txt', './data/bbc/entertainment/009.txt']), ('creek', ['./data/bbc/business/005.txt']), ('fastfood', ['./data/bbc/business/005.txt']), ('paul', ['./data/bbc/business/006.txt', './data/bbc/entertainment/008.txt', './data/bbc/entertainment/006.txt']), ('capra', ['./data/bbc/entertainment/003.txt']), ('promotes', ['./data/bbc/entertainment/010.txt']), ('hypocrisy', ['./data/bbc/entertainment/010.txt']), ('prince', ['./data/bbc/entertainment/002.txt']), ('formally', ['./data/bbc/entertainment/002.txt']), ('champion', ['./data/bbc/sport/009.txt', './data/bbc/sport/009.txt', './data/bbc/sport/010.txt', './data/bbc/sport/005.txt', './data/bbc/sport/006.txt']), ('otherwise', ['./data/bbc/tech/009.txt']), ('psion', ['./data/bbc/tech/009.txt']), ('voting', ['./data/bbc/tech/001.txt']), ('rural', ['./data/bbc/tech/001.txt', './data/bbc/tech/006.txt', './data/bbc/politics/007.txt']), ('often', ['./data/bbc/tech/001.txt', './data/bbc/tech/007.txt', './data/bbc/tech/005.txt', './data/bbc/politics/008.txt']), ('messenger', ['./data/bbc/tech/007.txt']), ('joystick', ['./data/bbc/tech/005.txt']), ('billion', ['./data/bbc/tech/005.txt']), ('reasons', ['./data/bbc/tech/005.txt', './data/bbc/politics/007.txt']), ('demanding', ['./data/bbc/politics/002.txt']), ('finally', ['./data/bbc/politics/006.txt']), ('christianity', ['./data/bbc/entertainment/009.txt']), ('producer', ['./data/bbc/entertainment/003.txt', './data/bbc/entertainment/004.txt']), ('dimmed', ['./data/bbc/entertainment/001.txt']), ('summer', ['./data/bbc/sport/009.txt', './data/bbc/sport/003.txt', './data/bbc/sport/010.txt', './data/bbc/tech/005.txt', './data/bbc/entertainment/006.txt']), ('highclass', ['./data/bbc/sport/009.txt']), ('womens', ['./data/bbc/sport/009.txt', './data/bbc/sport/005.txt', './data/bbc/politics/008.txt', './data/bbc/entertainment/010.txt']), ('ato', ['./data/bbc/sport/003.txt']), ('perform', ['./data/bbc/sport/010.txt', './data/bbc/entertainment/002.txt']), ('commits', ['./data/bbc/sport/007.txt']), ('coaches', ['./data/bbc/sport/004.txt']), ('unanimously', ['./data/bbc/tech/010.txt']), ('becoming', ['./data/bbc/tech/010.txt', './data/bbc/politics/010.txt']), ('exhibit', ['./data/bbc/tech/005.txt']), ('levels', ['./data/bbc/politics/008.txt', './data/bbc/business/010.txt']), ('birkbeck', ['./data/bbc/politics/008.txt']), ('margaret', ['./data/bbc/politics/008.txt']), ('job', ['./data/bbc/politics/003.txt', './data/bbc/politics/005.txt', './data/bbc/business/007.txt', './data/bbc/business/006.txt']), ('retired', ['./data/bbc/politics/003.txt']), ('proved', ['./data/bbc/politics/006.txt']), ('pressure', ['./data/bbc/business/008.txt']), ('vegetable', ['./data/bbc/business/009.txt']), ('payrolls', ['./data/bbc/business/007.txt']), ('jon', ['./data/bbc/entertainment/003.txt']), ('parliamentarians', ['./data/bbc/entertainment/010.txt']), ('frederik', ['./data/bbc/entertainment/002.txt']), ('fans', ['./data/bbc/entertainment/006.txt']), ('bad', ['./data/bbc/sport/009.txt', './data/bbc/tech/009.txt']), ('attention', ['./data/bbc/sport/009.txt']), ('sonia', ['./data/bbc/sport/007.txt', './data/bbc/sport/002.txt']), ('matthew', ['./data/bbc/sport/007.txt']), ('debut', ['./data/bbc/sport/007.txt']), ('clean', ['./data/bbc/sport/004.txt', './data/bbc/tech/002.txt']), ('bulgaria', ['./data/bbc/tech/008.txt']), ('chronometer', ['./data/bbc/tech/009.txt']), ('diamound', ['./data/bbc/tech/009.txt']), ('either', ['./data/bbc/tech/009.txt', './data/bbc/tech/007.txt']), ('boxes', ['./data/bbc/tech/001.txt']), ('websites', ['./data/bbc/tech/002.txt']), ('thinking', ['./data/bbc/tech/005.txt']), ('fourletter', ['./data/bbc/politics/009.txt']), ('demonising', ['./data/bbc/politics/009.txt']), ('log', ['./data/bbc/politics/009.txt']), ('man', ['./data/bbc/politics/003.txt']), ('earning', ['./data/bbc/politics/003.txt']), ('giving', ['./data/bbc/politics/001.txt']), ('loans', ['./data/bbc/politics/007.txt']), ('abortive', ['./data/bbc/politics/006.txt']), ('sharp', ['./data/bbc/business/001.txt', './data/bbc/business/002.txt']), ('deaf', ['./data/bbc/business/002.txt']), ('meaningful', ['./data/bbc/business/002.txt']), ('lvmh', ['./data/bbc/business/005.txt']), ('charts', ['./data/bbc/entertainment/009.txt']), ('unveiled', ['./data/bbc/entertainment/003.txt', './data/bbc/entertainment/001.txt']), ('glorified', ['./data/bbc/entertainment/010.txt']), ('couldnt', ['./data/bbc/sport/003.txt']), ('bupa', ['./data/bbc/sport/007.txt', './data/bbc/sport/002.txt']), ('dashed', ['./data/bbc/sport/005.txt']), ('spokesman', ['./data/bbc/sport/004.txt', './data/bbc/politics/009.txt']), ('defeat', ['./data/bbc/sport/006.txt', './data/bbc/politics/007.txt']), ('suppress', ['./data/bbc/tech/003.txt']), ('invisible', ['./data/bbc/tech/001.txt']), ('significance', ['./data/bbc/tech/001.txt']), ('improper', ['./data/bbc/tech/001.txt']), ('introduced', ['./data/bbc/tech/002.txt', './data/bbc/business/004.txt']), ('recreate', ['./data/bbc/tech/005.txt']), ('cambodia', ['./data/bbc/tech/004.txt']), ('organise', ['./data/bbc/tech/006.txt']), ('share', ['./data/bbc/tech/006.txt', './data/bbc/politics/009.txt', './data/bbc/entertainment/010.txt']), ('college', ['./data/bbc/politics/008.txt', './data/bbc/entertainment/007.txt']), ('monday', ['./data/bbc/politics/001.txt', './data/bbc/politics/007.txt', './data/bbc/politics/002.txt', './data/bbc/business/002.txt', './data/bbc/entertainment/008.txt', './data/bbc/entertainment/002.txt']), ('yen', ['./data/bbc/business/006.txt']), ('actor', ['./data/bbc/entertainment/008.txt', './data/bbc/entertainment/007.txt', './data/bbc/entertainment/006.txt']), ('owen', ['./data/bbc/entertainment/008.txt']), ('thriller', ['./data/bbc/entertainment/009.txt']), ('enough', ['./data/bbc/sport/009.txt', './data/bbc/business/007.txt', './data/bbc/business/002.txt']), ('thats', ['./data/bbc/sport/003.txt', './data/bbc/tech/009.txt', './data/bbc/tech/004.txt', './data/bbc/politics/001.txt']), ('marathon', ['./data/bbc/sport/002.txt']), ('layout', ['./data/bbc/tech/009.txt']), ('subset', ['./data/bbc/tech/009.txt']), ('historical', ['./data/bbc/tech/009.txt', './data/bbc/tech/005.txt', './data/bbc/politics/008.txt', './data/bbc/entertainment/009.txt']), ('received', ['./data/bbc/tech/004.txt', './data/bbc/politics/008.txt']), ('extraordinary', ['./data/bbc/politics/008.txt']), ('bribes', ['./data/bbc/politics/005.txt']), ('justified', ['./data/bbc/politics/005.txt']), ('remain', ['./data/bbc/politics/005.txt', './data/bbc/business/002.txt']), ('depend', ['./data/bbc/business/009.txt']), ('film', ['./data/bbc/business/001.txt', './data/bbc/entertainment/009.txt', './data/bbc/entertainment/003.txt', './data/bbc/entertainment/005.txt']), ('bnp', ['./data/bbc/business/004.txt']), ('origins', ['./data/bbc/entertainment/009.txt']), ('counter', ['./data/bbc/entertainment/009.txt']), ('decorated', ['./data/bbc/entertainment/001.txt']), ('decide', ['./data/bbc/entertainment/007.txt']), ('andersens', ['./data/bbc/entertainment/002.txt']), ('minute', ['./data/bbc/entertainment/005.txt']), ('perennial', ['./data/bbc/entertainment/005.txt']), ('trials', ['./data/bbc/sport/009.txt']), ('semifinal', ['./data/bbc/sport/003.txt']), ('theres', ['./data/bbc/sport/003.txt', './data/bbc/entertainment/004.txt']), ('christmas', ['./data/bbc/tech/008.txt', './data/bbc/entertainment/009.txt', './data/bbc/entertainment/001.txt']), ('zafi', ['./data/bbc/tech/008.txt']), ('portable', ['./data/bbc/tech/009.txt']), ('oddities', ['./data/bbc/tech/009.txt']), ('stood', ['./data/bbc/tech/009.txt']), ('advert', ['./data/bbc/tech/003.txt', './data/bbc/business/001.txt']), ('presence', ['./data/bbc/tech/001.txt']), ('encounter', ['./data/bbc/tech/005.txt']), ('social', ['./data/bbc/tech/006.txt']), ('board', ['./data/bbc/tech/006.txt']), ('flying', ['./data/bbc/politics/009.txt', './data/bbc/entertainment/005.txt']), ('production', ['./data/bbc/politics/009.txt', './data/bbc/business/009.txt', './data/bbc/business/003.txt', './data/bbc/entertainment/010.txt', './data/bbc/entertainment/005.txt']), ('positions', ['./data/bbc/politics/003.txt']), ('counteract', ['./data/bbc/business/010.txt']), ('bros', ['./data/bbc/business/001.txt']), ('honouring', ['./data/bbc/entertainment/008.txt']), ('ensler', ['./data/bbc/entertainment/010.txt']), ('artworks', ['./data/bbc/entertainment/001.txt']), ('prevented', ['./data/bbc/entertainment/005.txt']), ('main', ['./data/bbc/sport/009.txt', './data/bbc/tech/006.txt', './data/bbc/politics/004.txt', './data/bbc/business/009.txt', './data/bbc/business/003.txt', './data/bbc/entertainment/009.txt', './data/bbc/entertainment/007.txt']), ('kim', ['./data/bbc/sport/009.txt', './data/bbc/sport/010.txt']), ('crowd', ['./data/bbc/sport/003.txt', './data/bbc/sport/010.txt']), ('forget', ['./data/bbc/tech/009.txt']), ('toulouse', ['./data/bbc/tech/003.txt', './data/bbc/tech/007.txt']), ('technologies', ['./data/bbc/tech/002.txt', './data/bbc/tech/005.txt']), ('artists', ['./data/bbc/tech/005.txt', './data/bbc/entertainment/001.txt']), ('physical', ['./data/bbc/tech/005.txt']), ('shocked', ['./data/bbc/politics/008.txt']), ('content', ['./data/bbc/politics/002.txt']), ('retain', ['./data/bbc/politics/002.txt']), ('cbi', ['./data/bbc/politics/005.txt']), ('spent', ['./data/bbc/politics/005.txt']), ('surge', ['./data/bbc/business/008.txt']), ('drained', ['./data/bbc/business/009.txt']), ('yugansk', ['./data/bbc/business/003.txt']), ('catwoman', ['./data/bbc/business/001.txt']), ('frances', ['./data/bbc/business/005.txt']), ('pence', ['./data/bbc/business/004.txt']), ('strengthening', ['./data/bbc/business/006.txt']), ('goat', ['./data/bbc/entertainment/008.txt', './data/bbc/entertainment/006.txt']), ('playwrights', ['./data/bbc/entertainment/008.txt']), ('arena', ['./data/bbc/sport/009.txt']), ('france', ['./data/bbc/sport/009.txt', './data/bbc/sport/003.txt', './data/bbc/sport/002.txt', './data/bbc/sport/006.txt']), ('gadget', ['./data/bbc/tech/009.txt']), ('lack', ['./data/bbc/tech/009.txt', './data/bbc/entertainment/009.txt']), ('monitor', ['./data/bbc/tech/003.txt', './data/bbc/business/006.txt']), ('polish', ['./data/bbc/tech/010.txt']), ('controversial', ['./data/bbc/tech/001.txt', './data/bbc/politics/009.txt', './data/bbc/entertainment/003.txt', './data/bbc/entertainment/010.txt']), ('electricity', ['./data/bbc/tech/006.txt']), ('researchers', ['./data/bbc/politics/008.txt']), ('insults', ['./data/bbc/politics/008.txt']), ('leader', ['./data/bbc/politics/009.txt', './data/bbc/politics/007.txt', './data/bbc/politics/002.txt', './data/bbc/business/005.txt']), ('science', ['./data/bbc/politics/003.txt']), ('taster', ['./data/bbc/politics/003.txt']), ('gateshead', ['./data/bbc/politics/007.txt']), ('rings', ['./data/bbc/business/001.txt']), ('fine', ['./data/bbc/business/007.txt']), ('award', ['./data/bbc/entertainment/008.txt', './data/bbc/entertainment/007.txt', './data/bbc/entertainment/002.txt', './data/bbc/entertainment/004.txt', './data/bbc/entertainment/006.txt']), ('acts', ['./data/bbc/entertainment/010.txt']), ('stop', ['./data/bbc/entertainment/010.txt']), ('spruce', ['./data/bbc/entertainment/001.txt']), ('michelle', ['./data/bbc/entertainment/005.txt']), ('flight', ['./data/bbc/entertainment/005.txt']), ('shakespearean', ['./data/bbc/entertainment/006.txt']), ('prospect', ['./data/bbc/sport/009.txt', './data/bbc/entertainment/007.txt']), ('next', ['./data/bbc/sport/009.txt', './data/bbc/sport/009.txt', './data/bbc/sport/001.txt', './data/bbc/sport/002.txt', './data/bbc/tech/006.txt', './data/bbc/politics/001.txt', './data/bbc/politics/002.txt', './data/bbc/business/002.txt', './data/bbc/business/004.txt']), ('viruses', ['./data/bbc/tech/008.txt', './data/bbc/tech/007.txt']), ('hungary', ['./data/bbc/tech/008.txt']), ('pdas', ['./data/bbc/tech/009.txt']), ('navigation', ['./data/bbc/tech/009.txt']), ('patented', ['./data/bbc/tech/010.txt']), ('hamper', ['./data/bbc/tech/010.txt', './data/bbc/business/008.txt']), ('guarded', ['./data/bbc/tech/001.txt']), ('circulated', ['./data/bbc/tech/001.txt']), ('showcase', ['./data/bbc/tech/006.txt']), ('productivity', ['./data/bbc/politics/003.txt']), ('ages', ['./data/bbc/politics/003.txt']), ('west', ['./data/bbc/politics/007.txt', './data/bbc/entertainment/008.txt', './data/bbc/entertainment/005.txt']), ('coincidence', ['./data/bbc/politics/002.txt']), ('avoid', ['./data/bbc/politics/002.txt', './data/bbc/business/003.txt']), ('lorillard', ['./data/bbc/business/010.txt']), ('nicotine', ['./data/bbc/business/010.txt']), ('bertelsmanns', ['./data/bbc/business/001.txt']), ('powell', ['./data/bbc/business/004.txt']), ('ugandas', ['./data/bbc/entertainment/010.txt']), ('recapturing', ['./data/bbc/sport/003.txt']), ('fionnualla', ['./data/bbc/sport/002.txt']), ('infected', ['./data/bbc/tech/008.txt']), ('position', ['./data/bbc/tech/009.txt']), ('watch', ['./data/bbc/tech/009.txt']), ('revolutionised', ['./data/bbc/tech/009.txt']), ('c', ['./data/bbc/tech/009.txt']), ('wrongs', ['./data/bbc/tech/010.txt']), ('road', ['./data/bbc/tech/001.txt']), ('mits', ['./data/bbc/tech/004.txt']), ('inhabitants', ['./data/bbc/tech/006.txt']), ('techniques', ['./data/bbc/tech/006.txt']), ('endure', ['./data/bbc/politics/008.txt']), ('engineering', ['./data/bbc/politics/003.txt']), ('global', ['./data/bbc/business/008.txt', './data/bbc/business/009.txt', './data/bbc/business/005.txt']), ('sellout', ['./data/bbc/entertainment/010.txt']), ('wartorn', ['./data/bbc/entertainment/010.txt']), ('grammar', ['./data/bbc/entertainment/006.txt']), ('clocked', ['./data/bbc/sport/009.txt']), ('kitts', ['./data/bbc/sport/010.txt']), ('solid', ['./data/bbc/sport/007.txt']), ('maria', ['./data/bbc/sport/002.txt']), ('ability', ['./data/bbc/tech/008.txt', './data/bbc/tech/004.txt', './data/bbc/politics/002.txt']), ('address', ['./data/bbc/tech/008.txt']), ('reason', ['./data/bbc/tech/009.txt']), ('allowed', ['./data/bbc/tech/010.txt', './data/bbc/tech/001.txt', './data/bbc/politics/001.txt']), ('worthwhile', ['./data/bbc/tech/010.txt']), ('prosper', ['./data/bbc/tech/010.txt']), ('affairs', ['./data/bbc/tech/010.txt', './data/bbc/politics/002.txt']), ('author', ['./data/bbc/tech/001.txt', './data/bbc/entertainment/010.txt', './data/bbc/entertainment/002.txt', './data/bbc/entertainment/005.txt']), ('unpatched', ['./data/bbc/tech/007.txt']), ('recently', ['./data/bbc/tech/002.txt', './data/bbc/tech/005.txt', './data/bbc/politics/009.txt', './data/bbc/entertainment/007.txt']), ('arrested', ['./data/bbc/tech/002.txt']), ('objects', ['./data/bbc/tech/005.txt']), ('memory', ['./data/bbc/tech/004.txt']), ('abusive', ['./data/bbc/politics/009.txt']), ('strain', ['./data/bbc/politics/001.txt']), ('crowds', ['./data/bbc/politics/004.txt']), ('favour', ['./data/bbc/business/008.txt']), ('halfpoint', ['./data/bbc/business/002.txt']), ('attractive', ['./data/bbc/business/002.txt']), ('brink', ['./data/bbc/business/006.txt']), ('todd', ['./data/bbc/entertainment/008.txt']), ('pillowman', ['./data/bbc/entertainment/008.txt']), ('tracey', ['./data/bbc/entertainment/001.txt']), ('childrens', ['./data/bbc/entertainment/001.txt', './data/bbc/entertainment/007.txt', './data/bbc/entertainment/005.txt']), ('gevaert', ['./data/bbc/sport/009.txt']), ('traditional', ['./data/bbc/tech/008.txt', './data/bbc/tech/005.txt', './data/bbc/politics/004.txt']), ('rule', ['./data/bbc/tech/009.txt', './data/bbc/tech/007.txt', './data/bbc/politics/005.txt', './data/bbc/business/003.txt']), ('seed', ['./data/bbc/tech/009.txt']), ('wearing', ['./data/bbc/tech/009.txt']), ('protected', ['./data/bbc/tech/010.txt']), ('thirst', ['./data/bbc/tech/005.txt']), ('revealing', ['./data/bbc/tech/005.txt']), ('speed', ['./data/bbc/tech/004.txt']), ('fagin', ['./data/bbc/politics/009.txt']), ('mcfadyen', ['./data/bbc/politics/009.txt']), ('foreign', ['./data/bbc/politics/009.txt', './data/bbc/politics/005.txt', './data/bbc/business/003.txt', './data/bbc/business/002.txt']), ('indeed', ['./data/bbc/politics/003.txt']), ('crippled', ['./data/bbc/politics/001.txt']), ('bought', ['./data/bbc/business/009.txt', './data/bbc/business/003.txt', './data/bbc/business/005.txt']), ('shares', ['./data/bbc/business/010.txt', './data/bbc/business/005.txt', './data/bbc/business/004.txt']), ('projecting', ['./data/bbc/business/001.txt']), ('incidental', ['./data/bbc/entertainment/009.txt']), ('didactic', ['./data/bbc/entertainment/007.txt']), ('march', ['./data/bbc/sport/009.txt', './data/bbc/sport/001.txt', './data/bbc/sport/002.txt', './data/bbc/politics/005.txt', './data/bbc/business/008.txt', './data/bbc/business/004.txt']), ('final', ['./data/bbc/sport/009.txt', './data/bbc/sport/003.txt', './data/bbc/sport/010.txt', './data/bbc/tech/008.txt', './data/bbc/politics/009.txt', './data/bbc/politics/010.txt', './data/bbc/business/001.txt', './data/bbc/entertainment/007.txt']), ('six', ['./data/bbc/sport/003.txt', './data/bbc/tech/003.txt', './data/bbc/tech/004.txt', './data/bbc/politics/003.txt', './data/bbc/politics/001.txt', './data/bbc/politics/007.txt', './data/bbc/business/004.txt']), ('trailing', ['./data/bbc/sport/001.txt']), ('carroll', ['./data/bbc/sport/007.txt']), ('everyone', ['./data/bbc/sport/004.txt', './data/bbc/tech/009.txt', './data/bbc/tech/005.txt']), ('multilingual', ['./data/bbc/tech/008.txt']), ('assuming', ['./data/bbc/tech/001.txt']), ('appreciate', ['./data/bbc/tech/005.txt']), ('fruit', ['./data/bbc/politics/010.txt']), ('consult', ['./data/bbc/politics/001.txt']), ('ally', ['./data/bbc/politics/005.txt']), ('columbia', ['./data/bbc/business/010.txt']), ('french', ['./data/bbc/business/005.txt', './data/bbc/entertainment/002.txt']), ('eddie', ['./data/bbc/entertainment/008.txt', './data/bbc/entertainment/006.txt']), ('fiction', ['./data/bbc/entertainment/007.txt']), ('concert', ['./data/bbc/entertainment/002.txt']), ('musicals', ['./data/bbc/entertainment/005.txt']), ('monthly', ['./data/bbc/tech/007.txt']), ('schools', ['./data/bbc/tech/002.txt', './data/bbc/tech/004.txt']), ('installation', ['./data/bbc/tech/005.txt']), ('prevention', ['./data/bbc/tech/006.txt']), ('stuck', ['./data/bbc/politics/008.txt']), ('willing', ['./data/bbc/politics/007.txt']), ('vacuous', ['./data/bbc/politics/007.txt']), ('initial', ['./data/bbc/politics/006.txt']), ('ethiopia', ['./data/bbc/business/009.txt']), ('antiracketeering', ['./data/bbc/business/010.txt']), ('poetry', ['./data/bbc/entertainment/007.txt']), ('jamaican', ['./data/bbc/entertainment/007.txt']), ('adaptation', ['./data/bbc/entertainment/005.txt']), ('slater', ['./data/bbc/entertainment/006.txt']), ('seconds', ['./data/bbc/sport/009.txt', './data/bbc/sport/003.txt', './data/bbc/sport/001.txt', './data/bbc/sport/005.txt']), ('favourite', ['./data/bbc/sport/009.txt', './data/bbc/sport/001.txt', './data/bbc/entertainment/007.txt', './data/bbc/entertainment/005.txt']), ('sprinters', ['./data/bbc/sport/010.txt']), ('bekele', ['./data/bbc/sport/005.txt']), ('oferr', ['./data/bbc/tech/009.txt']), ('compromise', ['./data/bbc/tech/010.txt']), ('wanted', ['./data/bbc/tech/005.txt', './data/bbc/business/010.txt']), ('lying', ['./data/bbc/politics/007.txt']), ('chinas', ['./data/bbc/business/008.txt', './data/bbc/business/002.txt']), ('giant', ['./data/bbc/business/003.txt', './data/bbc/business/001.txt', './data/bbc/business/005.txt']), ('federal', ['./data/bbc/business/010.txt', './data/bbc/business/002.txt']), ('beijings', ['./data/bbc/business/002.txt']), ('bonds', ['./data/bbc/business/002.txt']), ('williams', ['./data/bbc/entertainment/004.txt']), ('win', ['./data/bbc/sport/009.txt', './data/bbc/sport/003.txt', './data/bbc/sport/010.txt', './data/bbc/sport/001.txt', './data/bbc/tech/009.txt', './data/bbc/tech/010.txt', './data/bbc/politics/001.txt', './data/bbc/politics/007.txt', './data/bbc/entertainment/007.txt']), ('pain', ['./data/bbc/sport/003.txt']), ('several', ['./data/bbc/tech/008.txt', './data/bbc/tech/005.txt', './data/bbc/entertainment/004.txt']), ('potentially', ['./data/bbc/tech/009.txt', './data/bbc/tech/001.txt']), ('use', ['./data/bbc/tech/009.txt', './data/bbc/tech/003.txt', './data/bbc/tech/001.txt', './data/bbc/tech/007.txt', './data/bbc/tech/002.txt', './data/bbc/tech/005.txt', './data/bbc/tech/004.txt', './data/bbc/politics/009.txt', './data/bbc/politics/002.txt', './data/bbc/politics/005.txt', './data/bbc/politics/006.txt', './data/bbc/business/008.txt', './data/bbc/business/009.txt', './data/bbc/entertainment/003.txt']), ('around', ['./data/bbc/tech/009.txt', './data/bbc/tech/005.txt', './data/bbc/tech/006.txt', './data/bbc/business/008.txt', './data/bbc/business/001.txt', './data/bbc/entertainment/010.txt']), ('carry', ['./data/bbc/tech/009.txt']), ('substantially', ['./data/bbc/tech/010.txt']), ('voters', ['./data/bbc/tech/001.txt', './data/bbc/politics/001.txt', './data/bbc/politics/007.txt']), ('indonesia', ['./data/bbc/tech/001.txt']), ('precious', ['./data/bbc/tech/006.txt']), ('rest', ['./data/bbc/tech/006.txt']), ('longer', ['./data/bbc/tech/006.txt', './data/bbc/politics/009.txt']), ('commerce', ['./data/bbc/politics/001.txt']), ('voices', ['./data/bbc/politics/007.txt']), ('millennium', ['./data/bbc/politics/006.txt']), ('confused', ['./data/bbc/politics/006.txt']), ('assets', ['./data/bbc/business/003.txt', './data/bbc/business/002.txt']), ('unavailable', ['./data/bbc/business/003.txt']), ('parsons', ['./data/bbc/business/001.txt']), ('wonky', ['./data/bbc/entertainment/001.txt']), ('strong', ['./data/bbc/sport/010.txt', './data/bbc/tech/006.txt', './data/bbc/politics/006.txt', './data/bbc/business/001.txt', './data/bbc/business/007.txt', './data/bbc/business/004.txt']), ('theyll', ['./data/bbc/sport/010.txt']), ('market', ['./data/bbc/tech/009.txt', './data/bbc/tech/006.txt', './data/bbc/business/001.txt', './data/bbc/business/007.txt', './data/bbc/business/002.txt', './data/bbc/business/005.txt', './data/bbc/business/004.txt', './data/bbc/business/006.txt']), ('reflection', ['./data/bbc/tech/009.txt']), ('buy', ['./data/bbc/tech/003.txt', './data/bbc/tech/007.txt', './data/bbc/tech/006.txt', './data/bbc/business/005.txt', './data/bbc/entertainment/003.txt']), ('democracy', ['./data/bbc/tech/001.txt']), ('updated', ['./data/bbc/tech/007.txt']), ('data', ['./data/bbc/tech/007.txt', './data/bbc/tech/005.txt', './data/bbc/business/002.txt', './data/bbc/business/006.txt']), ('crackdown', ['./data/bbc/tech/002.txt']), ('relatively', ['./data/bbc/tech/002.txt', './data/bbc/business/007.txt']), ('recognised', ['./data/bbc/tech/004.txt']), ('fast', ['./data/bbc/politics/008.txt']), ('nontraditional', ['./data/bbc/politics/003.txt']), ('managing', ['./data/bbc/business/003.txt']), ('tragic', ['./data/bbc/entertainment/007.txt']), ('tales', ['./data/bbc/entertainment/002.txt']), ('denmarks', ['./data/bbc/entertainment/002.txt']), ('last', ['./data/bbc/sport/009.txt', './data/bbc/sport/001.txt', './data/bbc/sport/007.txt', './data/bbc/sport/002.txt', './data/bbc/sport/005.txt', './data/bbc/sport/006.txt', './data/bbc/tech/003.txt', './data/bbc/tech/005.txt', './data/bbc/tech/006.txt', './data/bbc/politics/009.txt', './data/bbc/politics/003.txt', './data/bbc/business/009.txt', './data/bbc/business/007.txt', './data/bbc/business/005.txt', './data/bbc/business/004.txt', './data/bbc/entertainment/001.txt', './data/bbc/entertainment/004.txt', './data/bbc/entertainment/006.txt']), ('winters', ['./data/bbc/sport/007.txt']), ('team', ['./data/bbc/sport/002.txt', './data/bbc/tech/008.txt', './data/bbc/politics/008.txt']), ('yes', ['./data/bbc/tech/009.txt']), ('different', ['./data/bbc/tech/001.txt']), ('blaze', ['./data/bbc/tech/002.txt']), ('creative', ['./data/bbc/tech/005.txt', './data/bbc/entertainment/007.txt']), ('provides', ['./data/bbc/tech/006.txt', './data/bbc/politics/002.txt']), ('operators', ['./data/bbc/tech/006.txt']), ('gender', ['./data/bbc/politics/003.txt']), ('mean', ['./data/bbc/politics/001.txt', './data/bbc/business/007.txt']), ('treasury', ['./data/bbc/politics/005.txt']), ('rotated', ['./data/bbc/politics/004.txt']), ('aol', ['./data/bbc/business/001.txt']), ('opened', ['./data/bbc/business/002.txt']), ('scotch', ['./data/bbc/business/005.txt']), ('code', ['./data/bbc/tech/008.txt', './data/bbc/politics/002.txt', './data/bbc/entertainment/009.txt']), ('define', ['./data/bbc/tech/009.txt']), ('toy', ['./data/bbc/tech/009.txt']), ('cafes', ['./data/bbc/tech/002.txt', './data/bbc/tech/006.txt']), ('minihydraulic', ['./data/bbc/tech/006.txt']), ('crucial', ['./data/bbc/politics/010.txt']), ('vegas', ['./data/bbc/politics/010.txt']), ('monetary', ['./data/bbc/politics/005.txt']), ('littleknown', ['./data/bbc/business/003.txt']), ('able', ['./data/bbc/sport/009.txt', './data/bbc/sport/003.txt']), ('event', ['./data/bbc/sport/009.txt', './data/bbc/sport/009.txt', './data/bbc/sport/007.txt', './data/bbc/sport/002.txt', './data/bbc/politics/004.txt']), ('likely', ['./data/bbc/sport/002.txt', './data/bbc/politics/010.txt', './data/bbc/entertainment/009.txt']), ('open', ['./data/bbc/tech/008.txt', './data/bbc/tech/010.txt', './data/bbc/tech/001.txt', './data/bbc/tech/007.txt', './data/bbc/tech/005.txt', './data/bbc/tech/006.txt', './data/bbc/politics/010.txt', './data/bbc/entertainment/010.txt']), ('single', ['./data/bbc/tech/009.txt']), ('yellow', ['./data/bbc/tech/001.txt']), ('station', ['./data/bbc/tech/001.txt']), ('massive', ['./data/bbc/tech/005.txt']), ('child', ['./data/bbc/tech/004.txt']), ('assurances', ['./data/bbc/politics/005.txt']), ('account', ['./data/bbc/business/008.txt', './data/bbc/business/002.txt']), ('yawning', ['./data/bbc/business/002.txt']), ('seagram', ['./data/bbc/business/005.txt']), ('portfolio', ['./data/bbc/business/005.txt']), ('classical', ['./data/bbc/entertainment/009.txt']), ('consistently', ['./data/bbc/entertainment/009.txt']), ('joseph', ['./data/bbc/entertainment/004.txt']), ('cloud', ['./data/bbc/entertainment/004.txt']), ('suddenly', ['./data/bbc/entertainment/006.txt']), ('hoped', ['./data/bbc/sport/009.txt', './data/bbc/tech/004.txt', './data/bbc/politics/005.txt']), ('performances', ['./data/bbc/sport/005.txt', './data/bbc/entertainment/005.txt']), ('future', ['./data/bbc/tech/009.txt', './data/bbc/tech/005.txt', './data/bbc/politics/003.txt', './data/bbc/politics/007.txt']), ('scrambler', ['./data/bbc/tech/009.txt']), ('ones', ['./data/bbc/tech/007.txt', './data/bbc/entertainment/001.txt']), ('virtual', ['./data/bbc/tech/005.txt']), ('venture', ['./data/bbc/tech/004.txt']), ('inappropriate', ['./data/bbc/politics/009.txt']), ('underhand', ['./data/bbc/politics/009.txt']), ('comment', ['./data/bbc/politics/007.txt', './data/bbc/business/003.txt', './data/bbc/business/005.txt']), ('finance', ['./data/bbc/politics/006.txt', './data/bbc/business/008.txt', './data/bbc/business/002.txt']), ('prescott', ['./data/bbc/politics/006.txt']), ('meantime', ['./data/bbc/business/002.txt']), ('anniversary', ['./data/bbc/entertainment/008.txt']), ('likeable', ['./data/bbc/entertainment/007.txt']), ('dame', ['./data/bbc/entertainment/006.txt']), ('comeback', ['./data/bbc/sport/009.txt']), ('recovering', ['./data/bbc/sport/007.txt']), ('bizarre', ['./data/bbc/tech/009.txt']), ('hitech', ['./data/bbc/tech/010.txt', './data/bbc/tech/005.txt']), ('intimate', ['./data/bbc/tech/005.txt']), ('department', ['./data/bbc/politics/003.txt', './data/bbc/business/007.txt']), ('letting', ['./data/bbc/politics/001.txt']), ('emails', ['./data/bbc/politics/002.txt']), ('possibility', ['./data/bbc/politics/002.txt']), ('trailed', ['./data/bbc/politics/004.txt']), ('g', ['./data/bbc/business/008.txt', './data/bbc/business/002.txt']), ('novembers', ['./data/bbc/business/007.txt']), ('prop', ['./data/bbc/business/002.txt']), ('dresdner', ['./data/bbc/business/004.txt']), ('ceremony', ['./data/bbc/entertainment/008.txt']), ('biblical', ['./data/bbc/entertainment/009.txt']), ('topping', ['./data/bbc/entertainment/009.txt']), ('stages', ['./data/bbc/entertainment/003.txt']), ('stadium', ['./data/bbc/entertainment/002.txt']), ('unsuitable', ['./data/bbc/entertainment/005.txt']), ('winning', ['./data/bbc/sport/003.txt', './data/bbc/sport/010.txt', './data/bbc/sport/005.txt', './data/bbc/politics/005.txt', './data/bbc/entertainment/007.txt']), ('recent', ['./data/bbc/sport/007.txt', './data/bbc/tech/001.txt', './data/bbc/politics/008.txt', './data/bbc/business/002.txt']), ('governing', ['./data/bbc/sport/004.txt']), ('writer', ['./data/bbc/tech/008.txt', './data/bbc/entertainment/009.txt', './data/bbc/entertainment/007.txt', './data/bbc/entertainment/002.txt']), ('paper', ['./data/bbc/tech/008.txt', './data/bbc/tech/009.txt']), ('existing', ['./data/bbc/tech/010.txt', './data/bbc/business/001.txt']), ('creativity', ['./data/bbc/tech/005.txt']), ('farmers', ['./data/bbc/tech/006.txt', './data/bbc/business/009.txt']), ('mandelson', ['./data/bbc/politics/009.txt']), ('lies', ['./data/bbc/politics/007.txt']), ('door', ['./data/bbc/politics/007.txt']), ('terms', ['./data/bbc/politics/004.txt', './data/bbc/business/008.txt', './data/bbc/business/005.txt']), ('catalogue', ['./data/bbc/politics/006.txt']), ('bush', ['./data/bbc/business/007.txt']), ('donuts', ['./data/bbc/business/005.txt']), ('gala', ['./data/bbc/entertainment/002.txt']), ('soared', ['./data/bbc/entertainment/005.txt']), ('anything', ['./data/bbc/sport/003.txt', './data/bbc/politics/007.txt', './data/bbc/politics/005.txt', './data/bbc/entertainment/009.txt', './data/bbc/entertainment/004.txt']), ('language', ['./data/bbc/tech/008.txt', './data/bbc/politics/009.txt']), ('carried', ['./data/bbc/tech/009.txt', './data/bbc/tech/001.txt', './data/bbc/tech/002.txt']), ('ago', ['./data/bbc/tech/009.txt', './data/bbc/tech/004.txt']), ('organiser', ['./data/bbc/tech/009.txt', './data/bbc/entertainment/010.txt']), ('sybari', ['./data/bbc/tech/003.txt', './data/bbc/tech/007.txt']), ('links', ['./data/bbc/tech/006.txt']), ('female', ['./data/bbc/politics/008.txt', './data/bbc/politics/003.txt', './data/bbc/entertainment/010.txt']), ('tax', ['./data/bbc/politics/009.txt', './data/bbc/politics/005.txt', './data/bbc/business/003.txt']), ('doubled', ['./data/bbc/politics/001.txt']), ('seats', ['./data/bbc/politics/007.txt']), ('millions', ['./data/bbc/politics/002.txt']), ('brighton', ['./data/bbc/politics/004.txt']), ('fiasco', ['./data/bbc/politics/006.txt']), ('currencys', ['./data/bbc/business/002.txt']), ('painting', ['./data/bbc/business/006.txt']), ('plays', ['./data/bbc/entertainment/008.txt', './data/bbc/entertainment/010.txt']), ('paramount', ['./data/bbc/entertainment/003.txt']), ('case', ['./data/bbc/sport/009.txt', './data/bbc/tech/009.txt', './data/bbc/business/003.txt', './data/bbc/business/010.txt']), ('teams', ['./data/bbc/sport/002.txt']), ('causing', ['./data/bbc/tech/001.txt']), ('permits', ['./data/bbc/tech/002.txt']), ('quake', ['./data/bbc/tech/005.txt']), ('architecture', ['./data/bbc/tech/005.txt']), ('textbook', ['./data/bbc/tech/004.txt']), ('sell', ['./data/bbc/tech/004.txt', './data/bbc/tech/006.txt', './data/bbc/politics/006.txt']), ('lights', ['./data/bbc/tech/006.txt']), ('mix', ['./data/bbc/politics/009.txt']), ('manchester', ['./data/bbc/politics/007.txt', './data/bbc/politics/004.txt']), ('deleted', ['./data/bbc/politics/002.txt']), ('digby', ['./data/bbc/politics/005.txt']), ('judge', ['./data/bbc/politics/005.txt']), ('english', ['./data/bbc/politics/006.txt']), ('attending', ['./data/bbc/business/008.txt']), ('albee', ['./data/bbc/entertainment/008.txt']), ('cruel', ['./data/bbc/entertainment/008.txt']), ('copies', ['./data/bbc/entertainment/009.txt']), ('steve', ['./data/bbc/entertainment/003.txt']), ('whitbread', ['./data/bbc/entertainment/007.txt']), ('parken', ['./data/bbc/entertainment/002.txt']), ('delays', ['./data/bbc/sport/009.txt']), ('hes', ['./data/bbc/sport/010.txt', './data/bbc/business/002.txt']), ('shape', ['./data/bbc/sport/010.txt', './data/bbc/tech/005.txt']), ('indoors', ['./data/bbc/sport/010.txt', './data/bbc/sport/001.txt', './data/bbc/sport/006.txt']), ('smiley', ['./data/bbc/tech/008.txt']), ('batteries', ['./data/bbc/tech/009.txt']), ('mountainous', ['./data/bbc/tech/001.txt']), ('multiple', ['./data/bbc/tech/001.txt']), ('type', ['./data/bbc/tech/001.txt', './data/bbc/tech/005.txt']), ('inking', ['./data/bbc/tech/001.txt']), ('supports', ['./data/bbc/tech/001.txt', './data/bbc/entertainment/010.txt']), ('worried', ['./data/bbc/tech/002.txt', './data/bbc/politics/007.txt']), ('provision', ['./data/bbc/tech/005.txt']), ('bbc', ['./data/bbc/tech/004.txt', './data/bbc/tech/006.txt', './data/bbc/politics/009.txt', './data/bbc/politics/003.txt', './data/bbc/politics/007.txt', './data/bbc/politics/005.txt', './data/bbc/entertainment/010.txt']), ('teenage', ['./data/bbc/politics/008.txt']), ('policies', ['./data/bbc/politics/003.txt', './data/bbc/politics/007.txt', './data/bbc/business/008.txt']), ('democrats', ['./data/bbc/politics/001.txt', './data/bbc/politics/007.txt']), ('speech', ['./data/bbc/politics/007.txt', './data/bbc/business/002.txt', './data/bbc/entertainment/010.txt']), ('benefiting', ['./data/bbc/business/004.txt']), ('mackintoshs', ['./data/bbc/entertainment/005.txt']), ('british', ['./data/bbc/sport/009.txt', './data/bbc/sport/009.txt', './data/bbc/sport/010.txt', './data/bbc/sport/001.txt', './data/bbc/politics/008.txt', './data/bbc/politics/001.txt', './data/bbc/politics/005.txt', './data/bbc/business/004.txt', './data/bbc/entertainment/007.txt', './data/bbc/entertainment/004.txt']), ('ashia', ['./data/bbc/sport/009.txt']), ('medal', ['./data/bbc/sport/009.txt', './data/bbc/sport/003.txt', './data/bbc/sport/010.txt', './data/bbc/sport/001.txt']), ('hurdles', ['./data/bbc/sport/001.txt']), ('irelands', ['./data/bbc/sport/005.txt']), ('programme', ['./data/bbc/sport/004.txt', './data/bbc/tech/004.txt', './data/bbc/tech/006.txt', './data/bbc/politics/009.txt', './data/bbc/politics/003.txt', './data/bbc/politics/001.txt', './data/bbc/politics/005.txt', './data/bbc/business/009.txt', './data/bbc/entertainment/010.txt']), ('tin', ['./data/bbc/tech/009.txt']), ('notebooks', ['./data/bbc/tech/009.txt']), ('intellectual', ['./data/bbc/tech/010.txt']), ('centre', ['./data/bbc/tech/006.txt', './data/bbc/politics/009.txt', './data/bbc/politics/010.txt']), ('cloning', ['./data/bbc/tech/006.txt']), ('ballard', ['./data/bbc/politics/008.txt']), ('speaking', ['./data/bbc/politics/009.txt', './data/bbc/politics/003.txt', './data/bbc/politics/007.txt', './data/bbc/politics/005.txt']), ('employees', ['./data/bbc/politics/003.txt']), ('japans', ['./data/bbc/business/006.txt']), ('vagina', ['./data/bbc/entertainment/010.txt']), ('landlady', ['./data/bbc/entertainment/007.txt']), ('mccaughrean', ['./data/bbc/entertainment/007.txt']), ('cuckoos', ['./data/bbc/entertainment/006.txt']), ('make', ['./data/bbc/sport/009.txt', './data/bbc/sport/007.txt', './data/bbc/tech/009.txt', './data/bbc/tech/010.txt', './data/bbc/tech/007.txt', './data/bbc/tech/004.txt', './data/bbc/tech/006.txt', './data/bbc/politics/004.txt', './data/bbc/business/008.txt']), ('crossed', ['./data/bbc/sport/009.txt', './data/bbc/sport/003.txt']), ('training', ['./data/bbc/sport/003.txt', './data/bbc/sport/001.txt', './data/bbc/sport/007.txt', './data/bbc/sport/002.txt', './data/bbc/tech/006.txt']), ('chance', ['./data/bbc/sport/001.txt', './data/bbc/tech/010.txt']), ('past', ['./data/bbc/sport/001.txt', './data/bbc/tech/005.txt', './data/bbc/business/009.txt', './data/bbc/business/010.txt']), ('addresses', ['./data/bbc/tech/008.txt']), ('compiled', ['./data/bbc/tech/009.txt']), ('tandy', ['./data/bbc/tech/009.txt']), ('publication', ['./data/bbc/tech/009.txt']), ('draft', ['./data/bbc/tech/010.txt']), ('ie', ['./data/bbc/tech/007.txt']), ('bricked', ['./data/bbc/tech/005.txt']), ('penetration', ['./data/bbc/tech/005.txt']), ('guru', ['./data/bbc/tech/004.txt']), ('generate', ['./data/bbc/tech/006.txt']), ('missive', ['./data/bbc/politics/009.txt']), ('contacted', ['./data/bbc/politics/009.txt']), ('scotland', ['./data/bbc/politics/010.txt', './data/bbc/politics/007.txt', './data/bbc/politics/002.txt']), ('seaside', ['./data/bbc/politics/004.txt']), ('class', ['./data/bbc/politics/004.txt']), ('estimate', ['./data/bbc/business/001.txt']), ('american', ['./data/bbc/sport/003.txt', './data/bbc/sport/007.txt', './data/bbc/sport/006.txt', './data/bbc/tech/010.txt', './data/bbc/entertainment/004.txt']), ('one', ['./data/bbc/sport/003.txt', './data/bbc/sport/010.txt', './data/bbc/tech/008.txt', './data/bbc/tech/009.txt', './data/bbc/tech/001.txt', './data/bbc/tech/007.txt', './data/bbc/tech/002.txt', './data/bbc/tech/005.txt', './data/bbc/tech/004.txt', './data/bbc/tech/006.txt', './data/bbc/politics/008.txt', './data/bbc/politics/009.txt', './data/bbc/politics/003.txt', './data/bbc/politics/010.txt', './data/bbc/business/008.txt', './data/bbc/business/001.txt', './data/bbc/business/005.txt', './data/bbc/entertainment/001.txt', './data/bbc/entertainment/007.txt', './data/bbc/entertainment/004.txt', './data/bbc/entertainment/006.txt']), ('less', ['./data/bbc/tech/009.txt', './data/bbc/tech/007.txt', './data/bbc/tech/004.txt', './data/bbc/politics/003.txt', './data/bbc/business/001.txt', './data/bbc/business/006.txt']), ('communications', ['./data/bbc/tech/009.txt', './data/bbc/tech/006.txt']), ('consultation', ['./data/bbc/tech/010.txt']), ('government', ['./data/bbc/tech/001.txt', './data/bbc/tech/002.txt', './data/bbc/politics/009.txt', './data/bbc/politics/003.txt', './data/bbc/politics/010.txt', './data/bbc/politics/007.txt', './data/bbc/politics/002.txt', './data/bbc/politics/005.txt', './data/bbc/politics/006.txt', './data/bbc/business/010.txt', './data/bbc/business/006.txt', './data/bbc/entertainment/010.txt']), ('populations', ['./data/bbc/tech/001.txt']), ('timeconsuming', ['./data/bbc/tech/005.txt']), ('cherish', ['./data/bbc/tech/004.txt']), ('elected', ['./data/bbc/politics/008.txt', './data/bbc/politics/001.txt']), ('gillian', ['./data/bbc/politics/008.txt']), ('limits', ['./data/bbc/politics/003.txt']), ('ratcheted', ['./data/bbc/politics/007.txt']), ('attacked', ['./data/bbc/politics/007.txt']), ('deliberate', ['./data/bbc/politics/002.txt']), ('target', ['./data/bbc/business/005.txt']), ('action', ['./data/bbc/sport/009.txt', './data/bbc/tech/005.txt', './data/bbc/business/003.txt']), ('threat', ['./data/bbc/sport/003.txt']), ('young', ['./data/bbc/sport/003.txt', './data/bbc/tech/002.txt', './data/bbc/tech/006.txt', './data/bbc/entertainment/002.txt']), ('oldest', ['./data/bbc/tech/009.txt']), ('blast', ['./data/bbc/tech/009.txt']), ('vastly', ['./data/bbc/tech/009.txt']), ('purely', ['./data/bbc/tech/005.txt']), ('work', ['./data/bbc/tech/004.txt', './data/bbc/politics/009.txt', './data/bbc/politics/003.txt', './data/bbc/politics/006.txt', './data/bbc/entertainment/002.txt']), ('inaugurated', ['./data/bbc/tech/006.txt']), ('interviews', ['./data/bbc/politics/008.txt']), ('prompted', ['./data/bbc/politics/008.txt', './data/bbc/politics/009.txt']), ('tbwa', ['./data/bbc/politics/009.txt']), ('smear', ['./data/bbc/politics/007.txt']), ('staff', ['./data/bbc/politics/002.txt']), ('errors', ['./data/bbc/politics/006.txt']), ('drought', ['./data/bbc/business/009.txt']), ('goods', ['./data/bbc/business/005.txt']), ('plot', ['./data/bbc/entertainment/009.txt']), ('finds', ['./data/bbc/entertainment/007.txt']), ('ends', ['./data/bbc/entertainment/006.txt']), ('aim', ['./data/bbc/sport/009.txt', './data/bbc/politics/001.txt']), ('alexander', ['./data/bbc/sport/009.txt', './data/bbc/business/001.txt']), ('heptathlon', ['./data/bbc/sport/009.txt', './data/bbc/sport/005.txt']), ('minor', ['./data/bbc/sport/007.txt', './data/bbc/business/006.txt']), ('age', ['./data/bbc/tech/009.txt', './data/bbc/tech/004.txt', './data/bbc/entertainment/002.txt']), ('ball', ['./data/bbc/tech/009.txt']), ('pilot', ['./data/bbc/tech/009.txt', './data/bbc/tech/006.txt']), ('david', ['./data/bbc/tech/001.txt', './data/bbc/politics/001.txt', './data/bbc/entertainment/008.txt', './data/bbc/entertainment/004.txt']), ('rendering', ['./data/bbc/tech/005.txt']), ('experiences', ['./data/bbc/tech/006.txt', './data/bbc/politics/008.txt']), ('britons', ['./data/bbc/politics/003.txt']), ('desperate', ['./data/bbc/politics/001.txt']), ('charles', ['./data/bbc/politics/007.txt', './data/bbc/entertainment/008.txt']), ('southern', ['./data/bbc/politics/007.txt', './data/bbc/business/009.txt']), ('monitored', ['./data/bbc/politics/002.txt']), ('please', ['./data/bbc/politics/005.txt']), ('break', ['./data/bbc/politics/004.txt']), ('hotel', ['./data/bbc/politics/004.txt']), ('suggests', ['./data/bbc/business/007.txt', './data/bbc/business/006.txt']), ('courvoisier', ['./data/bbc/business/005.txt']), ('luc', ['./data/bbc/entertainment/008.txt']), ('european', ['./data/bbc/sport/009.txt', './data/bbc/sport/009.txt', './data/bbc/sport/001.txt', './data/bbc/tech/010.txt', './data/bbc/tech/005.txt', './data/bbc/tech/006.txt', './data/bbc/politics/009.txt', './data/bbc/business/002.txt']), ('blume', ['./data/bbc/sport/009.txt']), ('currentily', ['./data/bbc/sport/002.txt']), ('gave', ['./data/bbc/sport/004.txt', './data/bbc/tech/009.txt', './data/bbc/tech/004.txt', './data/bbc/politics/008.txt']), ('disable', ['./data/bbc/tech/008.txt', './data/bbc/tech/003.txt']), ('fsecures', ['./data/bbc/tech/008.txt']), ('needed', ['./data/bbc/tech/009.txt', './data/bbc/tech/010.txt', './data/bbc/business/009.txt', './data/bbc/business/001.txt']), ('useful', ['./data/bbc/tech/009.txt']), ('effect', ['./data/bbc/tech/009.txt', './data/bbc/entertainment/004.txt']), ('beauty', ['./data/bbc/tech/009.txt']), ('install', ['./data/bbc/tech/007.txt']), ('journalist', ['./data/bbc/politics/009.txt']), ('spending', ['./data/bbc/politics/009.txt', './data/bbc/politics/005.txt', './data/bbc/business/002.txt']), ('advise', ['./data/bbc/politics/003.txt']), ('thursday', ['./data/bbc/business/008.txt', './data/bbc/business/002.txt']), ('hoover', ['./data/bbc/business/007.txt']), ('ba', ['./data/bbc/business/004.txt']), ('aspects', ['./data/bbc/entertainment/002.txt']), ('well', ['./data/bbc/sport/009.txt', './data/bbc/sport/010.txt', './data/bbc/tech/009.txt', './data/bbc/tech/010.txt', './data/bbc/tech/001.txt', './data/bbc/tech/006.txt', './data/bbc/politics/008.txt', './data/bbc/politics/009.txt', './data/bbc/politics/005.txt', './data/bbc/business/002.txt', './data/bbc/business/005.txt', './data/bbc/entertainment/007.txt', './data/bbc/entertainment/002.txt', './data/bbc/entertainment/006.txt']), ('list', ['./data/bbc/tech/009.txt', './data/bbc/entertainment/004.txt']), ('committee', ['./data/bbc/tech/010.txt', './data/bbc/politics/002.txt', './data/bbc/politics/005.txt', './data/bbc/politics/004.txt', './data/bbc/politics/006.txt']), ('refuses', ['./data/bbc/tech/001.txt']), ('natural', ['./data/bbc/tech/005.txt', './data/bbc/politics/003.txt']), ('bestselling', ['./data/bbc/tech/004.txt', './data/bbc/entertainment/004.txt']), ('cheaper', ['./data/bbc/tech/004.txt']), ('professor', ['./data/bbc/politics/008.txt', './data/bbc/entertainment/007.txt']), ('organised', ['./data/bbc/politics/003.txt']), ('taxpayer', ['./data/bbc/politics/003.txt']), ('telling', ['./data/bbc/politics/007.txt', './data/bbc/politics/002.txt', './data/bbc/entertainment/010.txt']), ('leicester', ['./data/bbc/politics/007.txt']), ('measures', ['./data/bbc/politics/002.txt']), ('jobseekers', ['./data/bbc/business/007.txt']), ('commentators', ['./data/bbc/business/002.txt']), ('lehman', ['./data/bbc/business/006.txt']), ('shulman', ['./data/bbc/entertainment/008.txt']), ('lesbianism', ['./data/bbc/entertainment/010.txt']), ('perfectly', ['./data/bbc/sport/009.txt', './data/bbc/sport/006.txt']), ('russians', ['./data/bbc/sport/006.txt']), ('netmd', ['./data/bbc/tech/009.txt']), ('compared', ['./data/bbc/tech/001.txt', './data/bbc/business/004.txt']), ('animators', ['./data/bbc/tech/005.txt']), ('achievements', ['./data/bbc/politics/008.txt']), ('andrew', ['./data/bbc/politics/009.txt', './data/bbc/entertainment/004.txt']), ('insist', ['./data/bbc/politics/010.txt']), ('england', ['./data/bbc/politics/002.txt', './data/bbc/entertainment/007.txt']), ('imf', ['./data/bbc/business/008.txt']), ('sec', ['./data/bbc/business/001.txt']), ('trilogy', ['./data/bbc/business/001.txt']), ('garai', ['./data/bbc/entertainment/008.txt']), ('judges', ['./data/bbc/entertainment/007.txt']), ('helena', ['./data/bbc/entertainment/002.txt']), ('confident', ['./data/bbc/sport/009.txt', './data/bbc/sport/001.txt', './data/bbc/politics/005.txt']), ('finland', ['./data/bbc/sport/003.txt', './data/bbc/sport/010.txt']), ('antidoping', ['./data/bbc/sport/004.txt']), ('player', ['./data/bbc/tech/009.txt', './data/bbc/tech/007.txt']), ('moment', ['./data/bbc/tech/009.txt']), ('obviously', ['./data/bbc/tech/009.txt', './data/bbc/tech/005.txt', './data/bbc/politics/003.txt', './data/bbc/politics/004.txt', './data/bbc/entertainment/010.txt']), ('inventions', ['./data/bbc/tech/010.txt']), ('mps', ['./data/bbc/politics/008.txt']), ('aimed', ['./data/bbc/politics/009.txt', './data/bbc/politics/010.txt']), ('las', ['./data/bbc/politics/010.txt']), ('wednesday', ['./data/bbc/politics/010.txt', './data/bbc/entertainment/003.txt']), ('partners', ['./data/bbc/politics/001.txt']), ('liverpool', ['./data/bbc/politics/007.txt']), ('celebrate', ['./data/bbc/business/007.txt', './data/bbc/entertainment/002.txt']), ('administrations', ['./data/bbc/business/007.txt']), ('brands', ['./data/bbc/business/005.txt']), ('focus', ['./data/bbc/business/004.txt', './data/bbc/entertainment/010.txt']), ('festen', ['./data/bbc/entertainment/008.txt']), ('rscs', ['./data/bbc/entertainment/006.txt']), ('settle', ['./data/bbc/sport/009.txt', './data/bbc/sport/003.txt', './data/bbc/business/003.txt', './data/bbc/business/001.txt']), ('fourth', ['./data/bbc/sport/003.txt', './data/bbc/sport/007.txt', './data/bbc/business/001.txt', './data/bbc/entertainment/007.txt']), ('holder', ['./data/bbc/sport/010.txt', './data/bbc/sport/007.txt']), ('isinbayeva', ['./data/bbc/sport/006.txt']), ('slide', ['./data/bbc/tech/009.txt']), ('equally', ['./data/bbc/tech/005.txt']), ('project', ['./data/bbc/tech/004.txt', './data/bbc/tech/006.txt']), ('turned', ['./data/bbc/tech/006.txt', './data/bbc/politics/006.txt', './data/bbc/entertainment/003.txt', './data/bbc/entertainment/005.txt']), ('lower', ['./data/bbc/business/001.txt', './data/bbc/business/004.txt', './data/bbc/entertainment/007.txt']), ('exceeding', ['./data/bbc/business/001.txt']), ('pretax', ['./data/bbc/business/004.txt']), ('charity', ['./data/bbc/entertainment/001.txt']), ('grant', ['./data/bbc/entertainment/007.txt']), ('irina', ['./data/bbc/sport/001.txt']), ('explain', ['./data/bbc/sport/001.txt']), ('small', ['./data/bbc/tech/001.txt', './data/bbc/politics/001.txt', './data/bbc/entertainment/007.txt']), ('ignorance', ['./data/bbc/tech/001.txt']), ('total', ['./data/bbc/tech/005.txt', './data/bbc/business/009.txt', './data/bbc/business/004.txt']), ('partnership', ['./data/bbc/tech/005.txt']), ('succeeded', ['./data/bbc/politics/008.txt']), ('baby', ['./data/bbc/politics/001.txt']), ('principal', ['./data/bbc/politics/007.txt']), ('chooses', ['./data/bbc/politics/004.txt']), ('choice', ['./data/bbc/politics/004.txt', './data/bbc/entertainment/004.txt', './data/bbc/entertainment/006.txt']), ('exchange', ['./data/bbc/business/008.txt', './data/bbc/business/001.txt']), ('creditors', ['./data/bbc/business/003.txt']), ('reduced', ['./data/bbc/business/005.txt']), ('ugandan', ['./data/bbc/entertainment/010.txt']), ('unwrapped', ['./data/bbc/entertainment/001.txt']), ('judi', ['./data/bbc/entertainment/006.txt']), ('set', ['./data/bbc/sport/009.txt', './data/bbc/sport/009.txt', './data/bbc/sport/003.txt', './data/bbc/sport/005.txt', './data/bbc/sport/004.txt', './data/bbc/tech/009.txt', './data/bbc/tech/003.txt', './data/bbc/tech/002.txt', './data/bbc/tech/005.txt', './data/bbc/tech/004.txt', './data/bbc/politics/008.txt', './data/bbc/politics/003.txt', './data/bbc/politics/010.txt', './data/bbc/business/001.txt', './data/bbc/business/002.txt', './data/bbc/entertainment/009.txt', './data/bbc/entertainment/007.txt', './data/bbc/entertainment/006.txt']), ('months', ['./data/bbc/sport/009.txt', './data/bbc/sport/001.txt', './data/bbc/sport/002.txt', './data/bbc/tech/002.txt', './data/bbc/tech/004.txt', './data/bbc/politics/003.txt', './data/bbc/politics/001.txt', './data/bbc/politics/002.txt', './data/bbc/business/001.txt', './data/bbc/business/002.txt', './data/bbc/business/004.txt', './data/bbc/business/006.txt', './data/bbc/entertainment/002.txt']), ('silver', ['./data/bbc/sport/010.txt']), ('matter', ['./data/bbc/sport/005.txt']), ('systems', ['./data/bbc/tech/009.txt', './data/bbc/tech/007.txt', './data/bbc/tech/006.txt']), ('flaws', ['./data/bbc/tech/007.txt']), ('locally', ['./data/bbc/tech/004.txt', './data/bbc/business/009.txt']), ('charge', ['./data/bbc/tech/006.txt']), ('sleeping', ['./data/bbc/politics/008.txt']), ('shock', ['./data/bbc/politics/009.txt']), ('length', ['./data/bbc/politics/001.txt']), ('deletions', ['./data/bbc/politics/002.txt']), ('orders', ['./data/bbc/politics/002.txt']), ('regenerate', ['./data/bbc/politics/006.txt']), ('fullyear', ['./data/bbc/business/001.txt', './data/bbc/business/004.txt']), ('europe', ['./data/bbc/business/001.txt']), ('presided', ['./data/bbc/business/007.txt']), ('uss', ['./data/bbc/business/002.txt']), ('airways', ['./data/bbc/business/004.txt']), ('indications', ['./data/bbc/business/006.txt']), ('milton', ['./data/bbc/entertainment/008.txt']), ('recognizes', ['./data/bbc/entertainment/002.txt']), ('arron', ['./data/bbc/sport/009.txt']), ('obikwelu', ['./data/bbc/sport/003.txt', './data/bbc/sport/010.txt']), ('hunting', ['./data/bbc/sport/001.txt']), ('culture', ['./data/bbc/tech/009.txt', './data/bbc/tech/002.txt', './data/bbc/politics/005.txt']), ('serious', ['./data/bbc/tech/005.txt']), ('wiggle', ['./data/bbc/politics/008.txt']), ('messaged', ['./data/bbc/politics/009.txt']), ('hold', ['./data/bbc/politics/003.txt', './data/bbc/politics/004.txt']), ('learned', ['./data/bbc/politics/007.txt']), ('elsewhere', ['./data/bbc/politics/006.txt']), ('edward', ['./data/bbc/politics/006.txt', './data/bbc/entertainment/008.txt']), ('trading', ['./data/bbc/business/002.txt']), ('surcharges', ['./data/bbc/business/004.txt']), ('brothers', ['./data/bbc/business/006.txt']), ('take', ['./data/bbc/sport/010.txt', './data/bbc/sport/001.txt', './data/bbc/sport/002.txt', './data/bbc/tech/007.txt', './data/bbc/tech/005.txt', './data/bbc/tech/004.txt', './data/bbc/politics/008.txt', './data/bbc/politics/003.txt', './data/bbc/politics/001.txt', './data/bbc/politics/007.txt', './data/bbc/politics/005.txt', './data/bbc/business/008.txt', './data/bbc/business/003.txt']), ('contested', ['./data/bbc/sport/001.txt']), ('april', ['./data/bbc/sport/007.txt', './data/bbc/sport/002.txt', './data/bbc/sport/004.txt', './data/bbc/tech/008.txt', './data/bbc/tech/005.txt', './data/bbc/entertainment/002.txt']), ('breaks', ['./data/bbc/sport/005.txt']), ('anyone', ['./data/bbc/tech/008.txt', './data/bbc/entertainment/009.txt']), ('low', ['./data/bbc/tech/009.txt', './data/bbc/business/007.txt']), ('beat', ['./data/bbc/tech/009.txt']), ('steal', ['./data/bbc/tech/003.txt']), ('abstract', ['./data/bbc/tech/005.txt']), ('manufacturers', ['./data/bbc/tech/004.txt']), ('linked', ['./data/bbc/tech/006.txt']), ('studies', ['./data/bbc/tech/006.txt']), ('worth', ['./data/bbc/tech/006.txt']), ('blaming', ['./data/bbc/politics/009.txt']), ('increased', ['./data/bbc/politics/001.txt', './data/bbc/business/009.txt', './data/bbc/business/004.txt']), ('stressed', ['./data/bbc/politics/001.txt', './data/bbc/politics/005.txt']), ('disclosure', ['./data/bbc/politics/002.txt']), ('stand', ['./data/bbc/politics/005.txt']), ('ended', ['./data/bbc/politics/006.txt', './data/bbc/business/007.txt']), ('efforts', ['./data/bbc/business/001.txt']), ('york', ['./data/bbc/business/002.txt', './data/bbc/entertainment/002.txt']), ('pretty', ['./data/bbc/business/004.txt']), ('private', ['./data/bbc/business/006.txt']), ('evans', ['./data/bbc/entertainment/008.txt']), ('assistant', ['./data/bbc/entertainment/001.txt']), ('dench', ['./data/bbc/entertainment/006.txt']), ('hopes', ['./data/bbc/sport/005.txt', './data/bbc/business/001.txt', './data/bbc/entertainment/005.txt']), ('completely', ['./data/bbc/tech/009.txt']), ('obsession', ['./data/bbc/tech/009.txt']), ('usable', ['./data/bbc/tech/009.txt']), ('spectrum', ['./data/bbc/tech/009.txt']), ('reputation', ['./data/bbc/tech/001.txt', './data/bbc/entertainment/001.txt']), ('chamber', ['./data/bbc/tech/001.txt', './data/bbc/politics/008.txt']), ('collaboration', ['./data/bbc/tech/005.txt']), ('coders', ['./data/bbc/tech/005.txt']), ('makers', ['./data/bbc/tech/005.txt']), ('galleries', ['./data/bbc/tech/005.txt']), ('coastal', ['./data/bbc/tech/006.txt', './data/bbc/politics/004.txt']), ('labours', ['./data/bbc/politics/008.txt', './data/bbc/politics/009.txt', './data/bbc/politics/003.txt', './data/bbc/politics/007.txt', './data/bbc/politics/004.txt']), ('assume', ['./data/bbc/politics/003.txt']), ('flexible', ['./data/bbc/politics/001.txt', './data/bbc/business/008.txt']), ('post', ['./data/bbc/politics/005.txt']), ('betting', ['./data/bbc/politics/005.txt']), ('loosening', ['./data/bbc/business/002.txt']), ('differential', ['./data/bbc/business/002.txt']), ('yields', ['./data/bbc/business/004.txt']), ('bishop', ['./data/bbc/entertainment/009.txt']), ('decorating', ['./data/bbc/entertainment/001.txt']), ('manhattan', ['./data/bbc/entertainment/002.txt']), ('duckling', ['./data/bbc/entertainment/002.txt']), ('record', ['./data/bbc/sport/009.txt', './data/bbc/sport/003.txt', './data/bbc/sport/010.txt', './data/bbc/sport/001.txt', './data/bbc/sport/007.txt', './data/bbc/sport/005.txt', './data/bbc/sport/006.txt', './data/bbc/politics/008.txt', './data/bbc/politics/009.txt', './data/bbc/politics/002.txt', './data/bbc/business/007.txt']), ('short', ['./data/bbc/sport/009.txt', './data/bbc/tech/009.txt', './data/bbc/business/004.txt', './data/bbc/entertainment/003.txt']), ('saturdays', ['./data/bbc/sport/002.txt']), ('maker', ['./data/bbc/tech/009.txt', './data/bbc/tech/003.txt', './data/bbc/tech/007.txt']), ('design', ['./data/bbc/tech/009.txt', './data/bbc/entertainment/006.txt']), ('kyrgyz', ['./data/bbc/tech/001.txt']), ('legislative', ['./data/bbc/tech/001.txt']), ('soros', ['./data/bbc/tech/001.txt']), ('solvents', ['./data/bbc/tech/001.txt']), ('fire', ['./data/bbc/tech/002.txt']), ('network', ['./data/bbc/tech/006.txt']), ('region', ['./data/bbc/tech/006.txt']), ('unites', ['./data/bbc/tech/006.txt']), ('prominent', ['./data/bbc/politics/003.txt']), ('lied', ['./data/bbc/politics/007.txt', './data/bbc/business/010.txt']), ('yukos', ['./data/bbc/business/003.txt']), ('reynolds', ['./data/bbc/business/010.txt']), ('export', ['./data/bbc/business/002.txt']), ('francis', ['./data/bbc/sport/003.txt', './data/bbc/sport/010.txt']), ('lewisfrancis', ['./data/bbc/sport/003.txt', './data/bbc/sport/010.txt']), ('pays', ['./data/bbc/sport/001.txt']), ('receive', ['./data/bbc/tech/001.txt', './data/bbc/entertainment/009.txt', './data/bbc/entertainment/001.txt']), ('stream', ['./data/bbc/politics/008.txt']), ('teather', ['./data/bbc/politics/008.txt']), ('meant', ['./data/bbc/politics/009.txt']), ('candidate', ['./data/bbc/politics/005.txt']), ('along', ['./data/bbc/business/008.txt', './data/bbc/entertainment/004.txt']), ('buyer', ['./data/bbc/business/003.txt']), ('covering', ['./data/bbc/business/010.txt']), ('reserves', ['./data/bbc/business/001.txt', './data/bbc/business/002.txt']), ('impact', ['./data/bbc/business/004.txt']), ('heizo', ['./data/bbc/business/006.txt']), ('stern', ['./data/bbc/entertainment/003.txt']), ('ambassador', ['./data/bbc/entertainment/002.txt']), ('tough', ['./data/bbc/entertainment/004.txt']), ('though', ['./data/bbc/sport/009.txt', './data/bbc/tech/004.txt']), ('chief', ['./data/bbc/sport/004.txt', './data/bbc/politics/009.txt', './data/bbc/business/009.txt', './data/bbc/business/001.txt', './data/bbc/business/007.txt', './data/bbc/business/004.txt']), ('series', ['./data/bbc/tech/009.txt', './data/bbc/tech/002.txt', './data/bbc/entertainment/003.txt']), ('paidfor', ['./data/bbc/tech/003.txt']), ('support', ['./data/bbc/tech/010.txt', './data/bbc/politics/002.txt']), ('assured', ['./data/bbc/tech/001.txt']), ('posters', ['./data/bbc/politics/009.txt']), ('antisemitism', ['./data/bbc/politics/009.txt']), ('emailed', ['./data/bbc/politics/009.txt']), ('implications', ['./data/bbc/politics/003.txt', './data/bbc/business/006.txt']), ('deal', ['./data/bbc/politics/004.txt', './data/bbc/politics/006.txt', './data/bbc/business/001.txt', './data/bbc/entertainment/009.txt']), ('integration', ['./data/bbc/business/008.txt']), ('takeover', ['./data/bbc/business/005.txt']), ('rebecca', ['./data/bbc/entertainment/008.txt', './data/bbc/entertainment/006.txt']), ('organisers', ['./data/bbc/entertainment/010.txt']), ('clare', ['./data/bbc/entertainment/007.txt']), ('bloom', ['./data/bbc/entertainment/002.txt']), ('indoor', ['./data/bbc/sport/009.txt', './data/bbc/sport/003.txt', './data/bbc/sport/010.txt', './data/bbc/sport/001.txt', './data/bbc/sport/005.txt', './data/bbc/sport/006.txt']), ('plenty', ['./data/bbc/sport/009.txt', './data/bbc/tech/009.txt']), ('didnt', ['./data/bbc/sport/003.txt', './data/bbc/sport/005.txt', './data/bbc/tech/006.txt']), ('slovenias', ['./data/bbc/sport/005.txt']), ('opening', ['./data/bbc/tech/008.txt', './data/bbc/tech/002.txt', './data/bbc/entertainment/003.txt', './data/bbc/entertainment/005.txt']), ('successful', ['./data/bbc/tech/009.txt', './data/bbc/politics/005.txt', './data/bbc/entertainment/004.txt']), ('offer', ['./data/bbc/tech/003.txt', './data/bbc/tech/006.txt']), ('releases', ['./data/bbc/tech/007.txt']), ('sub', ['./data/bbc/tech/004.txt']), ('thrust', ['./data/bbc/tech/006.txt']), ('joni', ['./data/bbc/politics/008.txt']), ('entertainment', ['./data/bbc/politics/010.txt', './data/bbc/politics/006.txt']), ('recover', ['./data/bbc/business/003.txt']), ('griffiths', ['./data/bbc/entertainment/008.txt', './data/bbc/entertainment/006.txt']), ('outstanding', ['./data/bbc/entertainment/008.txt']), ('kampala', ['./data/bbc/entertainment/010.txt']), ('spoiled', ['./data/bbc/entertainment/004.txt']), ('middle', ['./data/bbc/sport/003.txt', './data/bbc/tech/001.txt', './data/bbc/tech/002.txt']), ('admits', ['./data/bbc/sport/003.txt']), ('card', ['./data/bbc/tech/008.txt']), ('switch', ['./data/bbc/tech/003.txt']), ('eight', ['./data/bbc/tech/007.txt', './data/bbc/politics/010.txt']), ('chairman', ['./data/bbc/tech/004.txt', './data/bbc/politics/002.txt', './data/bbc/politics/006.txt', './data/bbc/business/001.txt', './data/bbc/business/002.txt', './data/bbc/business/004.txt']), ('destruction', ['./data/bbc/politics/002.txt']), ('egelton', ['./data/bbc/business/007.txt']), ('cargo', ['./data/bbc/business/004.txt']), ('sorts', ['./data/bbc/entertainment/009.txt']), ('bones', ['./data/bbc/entertainment/004.txt']), ('fit', ['./data/bbc/sport/009.txt', './data/bbc/entertainment/009.txt']), ('someone', ['./data/bbc/sport/003.txt', './data/bbc/politics/003.txt']), ('left', ['./data/bbc/sport/001.txt', './data/bbc/tech/001.txt', './data/bbc/tech/007.txt']), ('seek', ['./data/bbc/sport/007.txt']), ('earlier', ['./data/bbc/sport/007.txt', './data/bbc/tech/003.txt', './data/bbc/tech/010.txt', './data/bbc/politics/009.txt', './data/bbc/politics/003.txt', './data/bbc/business/002.txt', './data/bbc/business/004.txt', './data/bbc/entertainment/005.txt']), ('dibaba', ['./data/bbc/sport/005.txt']), ('general', ['./data/bbc/tech/009.txt', './data/bbc/tech/001.txt', './data/bbc/politics/008.txt', './data/bbc/politics/001.txt', './data/bbc/politics/005.txt']), ('digital', ['./data/bbc/tech/009.txt', './data/bbc/tech/005.txt', './data/bbc/tech/004.txt']), ('varied', ['./data/bbc/tech/001.txt']), ('vulnerabilities', ['./data/bbc/tech/007.txt']), ('jack', ['./data/bbc/politics/009.txt']), ('glasgow', ['./data/bbc/politics/010.txt']), ('spring', ['./data/bbc/politics/007.txt', './data/bbc/politics/004.txt', './data/bbc/entertainment/002.txt']), ('secured', ['./data/bbc/politics/006.txt', './data/bbc/business/003.txt', './data/bbc/entertainment/003.txt']), ('publisher', ['./data/bbc/business/001.txt']), ('unemployment', ['./data/bbc/business/007.txt']), ('household', ['./data/bbc/business/002.txt']), ('felt', ['./data/bbc/sport/009.txt', './data/bbc/sport/003.txt']), ('helsinki', ['./data/bbc/sport/003.txt', './data/bbc/sport/010.txt']), ('metres', ['./data/bbc/sport/010.txt', './data/bbc/sport/006.txt', './data/bbc/tech/002.txt']), ('clear', ['./data/bbc/sport/006.txt', './data/bbc/tech/001.txt', './data/bbc/politics/002.txt']), ('person', ['./data/bbc/tech/008.txt', './data/bbc/tech/005.txt', './data/bbc/politics/009.txt']), ('phone', ['./data/bbc/tech/009.txt', './data/bbc/tech/005.txt']), ('stephen', ['./data/bbc/tech/003.txt', './data/bbc/tech/007.txt']), ('hastily', ['./data/bbc/tech/001.txt']), ('german', ['./data/bbc/tech/001.txt', './data/bbc/business/001.txt']), ('sector', ['./data/bbc/tech/005.txt', './data/bbc/politics/006.txt']), ('gmtvs', ['./data/bbc/politics/001.txt']), ('begins', ['./data/bbc/politics/007.txt']), ('dangers', ['./data/bbc/business/010.txt']), ('cut', ['./data/bbc/business/004.txt']), ('jesus', ['./data/bbc/entertainment/009.txt']), ('roger', ['./data/bbc/entertainment/002.txt']), ('boy', ['./data/bbc/entertainment/004.txt']), ('morning', ['./data/bbc/sport/009.txt', './data/bbc/tech/006.txt']), ('front', ['./data/bbc/sport/010.txt', './data/bbc/tech/009.txt']), ('invariably', ['./data/bbc/tech/009.txt']), ('approve', ['./data/bbc/tech/010.txt']), ('asia', ['./data/bbc/tech/001.txt']), ('products', ['./data/bbc/tech/001.txt', './data/bbc/business/010.txt', './data/bbc/business/004.txt']), ('coudenberg', ['./data/bbc/tech/005.txt']), ('assembled', ['./data/bbc/tech/004.txt']), ('distributing', ['./data/bbc/tech/004.txt']), ('saldarriaga', ['./data/bbc/tech/006.txt']), ('employers', ['./data/bbc/politics/003.txt', './data/bbc/politics/001.txt']), ('located', ['./data/bbc/politics/010.txt']), ('fathers', ['./data/bbc/politics/001.txt']), ('workers', ['./data/bbc/politics/005.txt', './data/bbc/business/007.txt']), ('smoking', ['./data/bbc/business/010.txt']), ('dumb', ['./data/bbc/entertainment/008.txt']), ('hamlet', ['./data/bbc/entertainment/008.txt']), ('humane', ['./data/bbc/entertainment/007.txt']), ('literary', ['./data/bbc/entertainment/002.txt']), ('odense', ['./data/bbc/entertainment/002.txt']), ('celebrities', ['./data/bbc/entertainment/005.txt']), ('cried', ['./data/bbc/entertainment/005.txt']), ('years', ['./data/bbc/sport/009.txt', './data/bbc/sport/001.txt', './data/bbc/sport/007.txt', './data/bbc/sport/002.txt', './data/bbc/tech/009.txt', './data/bbc/tech/005.txt', './data/bbc/tech/004.txt', './data/bbc/tech/006.txt', './data/bbc/politics/004.txt', './data/bbc/politics/006.txt', './data/bbc/business/009.txt', './data/bbc/business/010.txt', './data/bbc/business/007.txt', './data/bbc/entertainment/009.txt', './data/bbc/entertainment/003.txt', './data/bbc/entertainment/001.txt', './data/bbc/entertainment/004.txt']), ('sights', ['./data/bbc/sport/003.txt']), ('issues', ['./data/bbc/sport/004.txt']), ('greenes', ['./data/bbc/sport/006.txt']), ('peak', ['./data/bbc/sport/006.txt']), ('keyboard', ['./data/bbc/tech/009.txt']), ('presidential', ['./data/bbc/tech/001.txt', './data/bbc/business/007.txt']), ('others', ['./data/bbc/tech/001.txt']), ('cafe', ['./data/bbc/tech/002.txt']), ('exhibition', ['./data/bbc/tech/005.txt', './data/bbc/politics/010.txt', './data/bbc/politics/006.txt']), ('trade', ['./data/bbc/politics/003.txt', './data/bbc/politics/001.txt', './data/bbc/business/008.txt', './data/bbc/business/002.txt']), ('individual', ['./data/bbc/politics/007.txt', './data/bbc/entertainment/008.txt', './data/bbc/entertainment/010.txt']), ('harm', ['./data/bbc/politics/002.txt']), ('laughable', ['./data/bbc/entertainment/009.txt']), ('ngos', ['./data/bbc/entertainment/010.txt']), ('jason', ['./data/bbc/sport/009.txt', './data/bbc/sport/010.txt']), ('little', ['./data/bbc/sport/009.txt', './data/bbc/tech/009.txt', './data/bbc/entertainment/009.txt', './data/bbc/entertainment/007.txt', './data/bbc/entertainment/002.txt']), ('uk', ['./data/bbc/sport/009.txt', './data/bbc/tech/005.txt', './data/bbc/politics/010.txt', './data/bbc/politics/007.txt', './data/bbc/business/008.txt', './data/bbc/business/005.txt', './data/bbc/entertainment/009.txt', './data/bbc/entertainment/007.txt']), ('pair', ['./data/bbc/sport/003.txt', './data/bbc/entertainment/002.txt']), ('antivirus', ['./data/bbc/tech/008.txt', './data/bbc/tech/003.txt']), ('crude', ['./data/bbc/tech/008.txt']), ('nd', ['./data/bbc/tech/009.txt']), ('radio', ['./data/bbc/tech/009.txt', './data/bbc/politics/003.txt', './data/bbc/politics/007.txt', './data/bbc/politics/005.txt']), ('taken', ['./data/bbc/tech/002.txt', './data/bbc/politics/010.txt', './data/bbc/politics/001.txt', './data/bbc/politics/004.txt', './data/bbc/business/002.txt', './data/bbc/business/004.txt']), ('order', ['./data/bbc/tech/005.txt', './data/bbc/tech/004.txt', './data/bbc/tech/006.txt', './data/bbc/politics/002.txt', './data/bbc/business/008.txt']), ('recalls', ['./data/bbc/tech/006.txt']), ('attitudes', ['./data/bbc/politics/008.txt']), ('talented', ['./data/bbc/politics/009.txt']), ('engagement', ['./data/bbc/business/008.txt']), ('effects', ['./data/bbc/business/010.txt']), ('greatly', ['./data/bbc/business/001.txt']), ('producers', ['./data/bbc/entertainment/008.txt', './data/bbc/entertainment/006.txt']), ('bestseller', ['./data/bbc/entertainment/009.txt']), ('awardwinning', ['./data/bbc/entertainment/003.txt']), ('singers', ['./data/bbc/entertainment/003.txt']), ('corpus', ['./data/bbc/entertainment/007.txt']), ('showing', ['./data/bbc/sport/009.txt', './data/bbc/business/010.txt']), ('christine', ['./data/bbc/sport/009.txt']), ('pc', ['./data/bbc/tech/008.txt', './data/bbc/tech/009.txt', './data/bbc/tech/007.txt', './data/bbc/tech/004.txt']), ('recommend', ['./data/bbc/tech/008.txt', './data/bbc/business/009.txt']), ('abacus', ['./data/bbc/tech/009.txt']), ('literally', ['./data/bbc/tech/009.txt', './data/bbc/entertainment/009.txt']), ('antispyware', ['./data/bbc/tech/003.txt']), ('keystrokes', ['./data/bbc/tech/003.txt']), ('looks', ['./data/bbc/tech/005.txt']), ('areas', ['./data/bbc/tech/006.txt']), ('beattie', ['./data/bbc/politics/009.txt']), ('differences', ['./data/bbc/politics/003.txt']), ('isnt', ['./data/bbc/sport/010.txt', './data/bbc/politics/008.txt']), ('big', ['./data/bbc/sport/010.txt', './data/bbc/tech/005.txt', './data/bbc/tech/004.txt', './data/bbc/politics/005.txt', './data/bbc/business/002.txt', './data/bbc/business/005.txt']), ('craig', ['./data/bbc/sport/007.txt']), ('base', ['./data/bbc/sport/002.txt']), ('stuttgart', ['./data/bbc/sport/005.txt']), ('height', ['./data/bbc/sport/006.txt']), ('bug', ['./data/bbc/tech/008.txt', './data/bbc/tech/005.txt']), ('opener', ['./data/bbc/tech/009.txt']), ('majority', ['./data/bbc/tech/010.txt', './data/bbc/politics/001.txt']), ('likewise', ['./data/bbc/tech/001.txt']), ('reporters', ['./data/bbc/tech/002.txt']), ('river', ['./data/bbc/tech/005.txt']), ('kilometres', ['./data/bbc/tech/006.txt']), ('speeches', ['./data/bbc/politics/008.txt']), ('depicted', ['./data/bbc/politics/009.txt']), ('statutory', ['./data/bbc/politics/001.txt']), ('meanwhile', ['./data/bbc/politics/007.txt', './data/bbc/entertainment/008.txt']), ('priorities', ['./data/bbc/politics/005.txt']), ('objected', ['./data/bbc/business/008.txt']), ('seeds', ['./data/bbc/business/009.txt']), ('clauses', ['./data/bbc/business/003.txt']), ('liggett', ['./data/bbc/business/010.txt']), ('flops', ['./data/bbc/business/001.txt']), ('gmt', ['./data/bbc/business/005.txt']), ('visitors', ['./data/bbc/entertainment/001.txt']), ('joanne', ['./data/bbc/entertainment/007.txt'])]\n"
     ]
    },
    {
     "name": "stderr",
     "output_type": "stream",
     "text": [
      "                                                                                \r"
     ]
    }
   ],
   "source": [
    "\n",
    "import os\n",
    "'''\n",
    "**************************************************\n",
    "    COMPLETE THE PROGRAM\n",
    "**************************************************\n",
    "'''\n",
    "# make an inverted index \n",
    "# loop over all the documents in the directory ./data/bbc and subfolders and use the function preprocess to obtain the RDD words.\n",
    "# Then, compute the number of words in each document and print the result.\n",
    "# define the inversted index\n",
    "inverted_index = None\n",
    "for root, dirs, files in os.walk(\"./data/bbc\"):\n",
    "    for file in files:\n",
    "        if file.endswith(\".txt\"):\n",
    "            path = os.path.join(root, file)\n",
    "            # print(path)\n",
    "            # load the file\n",
    "            text = sc.textFile(path)\n",
    "            # apply preprocess\n",
    "            words = preprocess(text, stopwords)\n",
    "            # drop duplicates words in the path\n",
    "            words = words.distinct()\n",
    "            # create the inverted index for the words in the path relative to the file\n",
    "            # if the inverted index is empty, create it\n",
    "            if inverted_index is None:\n",
    "                inverted_index = words.map(lambda word : (word, [path]))\n",
    "            # otherwise, update it\n",
    "            else:\n",
    "                inverted_index = inverted_index.union(words.map(lambda word : (word, [path])))\n",
    "# reduce the inverted index to have word -> [path1, path2, ...]\n",
    "inverted_index = inverted_index.reduceByKey(lambda x, y : x + y)\n",
    "\n",
    "# print the inverted index key-value pairs\n",
    "print(\"Inverted index\", inverted_index.collect())\n",
    "        \n",
    "\n"
   ]
  },
  {
   "cell_type": "code",
   "execution_count": 38,
   "metadata": {},
   "outputs": [
    {
     "name": "stderr",
     "output_type": "stream",
     "text": [
      "[Stage 1444:=================================================>  (191 + 8) / 200]\r"
     ]
    },
    {
     "name": "stdout",
     "output_type": "stream",
     "text": [
      "Inverted index keys ['everything', 'backed', 'policy', 'step', 'orange', 'led', 'matters', 'mpc', 'globalisation', 'ears', 'plates', 'barnett', 'm', 'van', 'weekend', 'jadel', 'prove', 'faces', 'longcourse', 'demystify', 'media', 'surprisngly', 'marketing', 'lists', 'gone', 'today', 'allows', 'branch', 'involvement', 'oldfashioned', 'retraining', 'crops', 'quarterly', 'unnatural', 'guise', 'raise', 'soccer', 'ian', 'third', 'grand', 'karl', 'created', 'pushed', 'although', 'bulbs', 'blairs', 'altria', 'regulators', 'greenback', 'broughton', 'upward', 'playwright', 'version', 'since', 'also', 'energy', 'twice', 'santry', 'officially', 'axe', 'comptia', 'attacker', 'baftawinning', 'concept', 'juggle', 'accusations', 'funny', 'cochairman', 'sandra', 'chose', 'channel', 'margins', 'definition', 'sexuality', 'robbie', 'got', 'turn', 'selected', 'mccambridge', 'kluft', 'laptop', 'size', 'tell', 'proponents', 'referendum', 'polling', 'effective', 'changed', 'prevents', 'details', 'thefirst', 'cereals', 'loss', 'albeit', 'premier', 'measure', 'amazed', 'secs', 'vomiting', 'competing', 'struggled', 'outkicked', 'stakeholders', 'chosen', 'andor', 'toys', 'foundation', 'dance', 'processors', 'blair', 'audit', 'josserand', 'drop', 'paribas', 'servant', 'amanda', 'equal', 'image', 'marvel', 'sinclair', 'stones', 'prevent', 'cause', 'selfexpression', 'overheads', 'maybe', 'definitely', 'bank', 'conspired', 'slump', 'resolve', 'partly', 'bennetts', 'aston', 'tank', 'behind', 'mottram', 'present', 'th', 'electronic', 'manage', 'system', 'affect', 'hope', 'slower', 'element', 'provided', 'lives', 'extory', 'okay', 'partnerships', 'rains', 'jumped', 'exceptional', 'fallen', 'whilst', 'tokyo', 'aulis', 'monologues', 'pamela', 'jump', 'lost', 'sixth', 'erase', 'thought', 'current', 'notably', 'overseas', 'book', 'school', 'walked', 'delivery', 'exports', 'bn', 'paris', 'malibu', 'pam', 'stanley', 'studying', 'barred', 'keep', 'automatic', 'ceplak', 'hand', 'emenating', 'lamp', 'concealing', 'intended', 'prebudget', 'force', 'tim', 'aircraft', 'trademark', 'injury', 'high', 'swedens', 'elseners', 'spates', 'navigated', 'sexist', 'dominated', 'helicopter', 'gathered', 'gather', 'incredible', 'reform', 'spirits', 'closest', 'alone', 'prix', 'south', 'asked', 'breville', 'tinny', 'shocking', 'criminal', 'patent', 'hugo', 'available', 'announces', 'china', 'initiatives', 'flow', 'prices', 'patronising', 'dorset', 'costcutting', 'phase', 'kelly', 'harris', 'knew', 'anderson', 'happen', 'go', 'field', 'already', 'security', 'gameboy', 'calculator', 'requiring', 'actual', 'fingers', 'harman', 'legislation', 'offence', 'concerns', 'euros', 'domecqs', 'mike', 'planned', 'competition', 'season', 'sit', 'backdoor', 'outside', 'released', 'thrown', 'parliamentary', 'telco', 'fortified', 'pregnant', 'lawyer', 'chivas', 'recession', 'world', 'dutchman', 'biggest', 'week', 'fight', 'remote', 'politicians', 'round', 'modernity', 'barracking', 'paid', 'watchdog', 'greenwich', 'cope', 'objectives', 'stewart', 'ambassadors', 'olympics', 'joice', 'see', 'athletics', 'cragg', 'warning', 'associated', 'deputies', 'ballot', 'newspapers', 'century', 'answer', 'moran', 'accusing', 'unable', 'extremely', 'takes', 'start', 'result', 'depending', 'compatible', 'using', 'messaging', 'technical', 'women', 'communities', 'reveal', 'totally', 'ed', 'campaigns', 'impose', 'probe', 'bmo', 'analyst', 'gift', 'teaching', 'great', 'boston', 'ethiopian', 'communication', 'troubled', 'trained', 'spin', 'records', 'totalled', 'jamie', 'became', 'death', 'life', 'novelist', 'paperbacks', 'contest', 'aiming', 'refocused', 'miscounted', 'end', 'sweet', 'delete', 'microsofts', 'monopolies', 'proposed', 'means', 'ink', 'embassy', 'xinhua', 'sexism', 'reimburses', 'achieving', 'covered', 'attacking', 'lib', 'threeparty', 'rate', 'regal', 'actress', 'leaves', 'premiere', 'books', 'forward', 'setting', 'moving', 'colchester', 'despatch', 'opens', 'army', 'important', 'askar', 'wash', 'westminster', 'remember', 'cabinet', 'suggesting', 'patricia', 'pledges', 'electioneering', 'hit', 'patchier', 'course', 'julie', 'put', 'justin', 'mistake', 'official', 'tamagotchi', 'improvement', 'exposed', 'controls', 'making', 'huaral', 'complexes', 'right', 'particular', 'rates', 'thirds', 'clinton', 'reporting', 'flights', 'climb', 'mary', 'celebration', 'lesser', 'evening', 'doping', 'technological', 'niche', 'bill', 'debate', 'follow', 'unhealthy', 'growing', 'enabling', 'expressionist', 'trick', 'textbooks', 'places', 'poster', 'tactics', 'hewitt', 'birth', 'somerset', 'timewarner', 'boosted', 'havana', 'worrying', 'calico', 'festivities', 'norton', 'issued', 'submitted', 'performer', 'new', 'ran', 'translate', 'km', 'runner', 'change', 'call', 'way', 'simple', 'vulcan', 'adopt', 'influence', 'langlands', 'connections', 'exported', 'spoken', 'boring', 'aols', 'deficits', 'brul', 'controllable', 'henry', 'youve', 'britton', 'namibian', 'president', 'club', 'held', 'association', 'grew', 'infiltration', 'settlement', 'glenmorangie', 'baskinrobbins', 'poland', 'britains', 'byrne', 'berhane', 'translated', 'pez', 'protections', 'excellence', 'irrigation', 'question', 'circumstances', 'deletion', 'nonfarm', 'photography', 'ovation', 'id', 'fifth', 'greece', 'campaign', 'regime', 'indicated', 'food', 'makes', 'early', 'street', 'key', 'whenever', 'realising', 'written', 'calculated', 'wider', 'creation', 'eddington', 'subjects', 'preachy', 'learn', 'push', 'championship', 'exciting', 'helping', 'bears', 'holidays', 'alltime', 'meps', 'bulletin', 'development', 'house', 'benefit', 'opportunities', 'scottish', 'consumer', 'menatep', 'expand', 'savings', 'norris', 'writing', 'times', 'made', 'gatlin', 'denied', 'included', 'firm', 'includes', 'inside', 'minidisc', 'bumper', 'operating', 'rejoined', 'half', 'supercasino', 'cities', 'trust', 'explanation', 'attraction', 'continue', 'sinche', 'emperors', 'ross', 'scene', 'best', 'sprints', 'lievin', 'virgin', 'hot', 'companies', 'business', 'agency', 'give', 'adapted', 'wireless', 'name', 'worse', 'childcare', 'cowed', 'embattled', 'mcdonagh', 'unveils', 'fairy', 'universal', 'fazed', 'brazilian', 'supporters', 'appeared', 'republic', 'shows', 'company', 'sponsorship', 'launched', 'tech', 'linuxbased', 'ambitious', 'hard', 'harriet', 'critics', 'shared', 'freedom', 'doubt', 'repayment', 'ferris', 'hildegard', 'springer', 'nannys', 'plan', 'feature', 'test', 'complicated', 'rules', 'senne', 'designers', 'displayed', 'fuck', 'spree', 'amid', 'instead', 'bring', 'airline', 'decline', 'tuesday', 'xm', 'crown', 'five', 'osullivan', 'alistair', 'classic', 'island', 'ifes', 'flagged', 'strict', 'complex', 'construction', 'generator', 'male', 'emerged', 'sentences', 'courses', 'hans', 'sheffield', 'bronze', 'holds', 'reception', 'commission', 'dates', 'far', 'utter', 'toshiba', 'investigating', 'sheep', 'finger', 'mikosz', 'produce', 'perfect', 'underlined', 'intake', 'figures', 'nao', 'surrender', 'promote', 'quarters', 'offering', 'novel', 'managed', 'attend', 'critic', 'hands', 'wish', 'vapourware', 'trojan', 'attempts', 'worries', 'christian', 'organisation', 'conjunction', 'wife', 'apply', 'rise', 'malarkey', 'ibrox', 'margin', 'prudent', 'complete', 'seem', 'slightly', 'flexibility', 'longhaul', 'successive', 'hamilton', 'balkom', 'public', 'fredericks', 'transistor', 'inventors', 'indelible', 'rumors', 'breasts', 'prolonged', 'ask', 'forced', 'mayland', 'problematic', 'takenaka', 'bondy', 'da', 'impression', 'wound', 'specialist', 'athens', 'former', 'adequately', 'limit', 'combined', 'photos', 'land', 'cooper', 'fact', 'escapes', 'opera', 'uganda', 'scholarship', 'dinner', 'say', 'ireland', 'lineup', 'shell', 'grateful', 'offered', 'steps', 'homes', 'sophisticated', 'solving', 'tour', 'refused', 'ruling', 'reilly', 'wright', 'promoted', 'illegal', 'cambridge', 'time', 'sophos', 'popular', 'special', 'whole', 'chancayhuaral', 'democrat', 'afterwards', 'error', 'pound', 'richard', 'dunkin', 'adjustment', 'victoria', 'credible', 'knee', 'britain', 'madrid', 'hinted', 'uses', 'mids', 'inked', 'lauded', 'floats', 'agriculture', 'due', 'earnings', 'guess', 'placatory', 'consumption', 'night', 'joins', 'message', 'concluded', 'persons', 'stories', 'health', 'manually', 'necessary', 'sought', 'lunch', 'assist', 'intends', 'buoyed', 'rev', 'liberation', 'cup', 'results', 'allahgreen', 'sarah', 'family', 'boats', 'revolutionalised', 'something', 'muddied', 'excesses', 'decision', 'especially', 'free', 'ministry', 'melons', 'raised', 'nations', 'category', 'tom', 'overall', 'ahead', 'ghent', 'dublin', 'email', 'simply', 'sonys', 'perspective', 'stifle', 'features', 'advertising', 'parents', 'complacency', 'appeals', 'defraud', 'hypponen', 'tried', 'downloaded', 'state', 'stone', 'handle', 'barbara', 'row', 'pointing', 'questioned', 'meet', 'enterprise', 'obligations', 'januarys', 'shining', 'pornographic', 'previous', 'currently', 'regain', 'cobh', 'body', 'greeting', 'k', 'useless', 'akaev', 'patch', 'connected', 'graphicsintensive', 'skinny', 'salary', 'enjoyed', 'pegged', 'philip', 'tate', 'categories', 'visited', 'airport', 'mark', 'aaas', 'killed', 'cuyo', 'isolated', 'abilities', 'political', 'ministers', 'sign', 'seminar', 'frost', 'kennedy', 'rejects', 'rose', 'claimed', 'conditions', 'feed', 'nathan', 'simon', 'designer', 'enjoying', 'cast', 'promising', 'august', 'seasons', 'biased', 'altruistic', 'secretary', 'liberal', 'shepherd', 'campbell', 'word', 'purpose', 'struck', 'saw', 'highest', 'longerterm', 'window', 'virgil', 'hereby', 'councils', 'table', 'impresario', 'multimedia', 'crystalline', 'working', 'pity', 'uncomfortable', 'move', 'group', 'vice', 'website', 'belongs', 'logical', 'labour', 'influx', 'dreamt', 'guidance', 'deputy', 'distributions', 'mixed', 'bas', 'carriers', 'read', 'pele', 'rhys', 'joint', 'outdoor', 'mine', 'nintendo', 'fashion', 'attack', 'transparent', 'islamic', 'soft', 'laws', 'storybased', 'expected', 'capital', 'study', 'leigh', 'crop', 'reuters', 'bankruptcy', 'ssempgani', 'notions', 'wentworth', 'andrea', 'hitches', 'belgium', 'firewall', 'startac', 'bankasha', 'thumb', 'lovenduski', 'numbers', 'period', 'unlimited', 'urged', 'chances', 'substantial', 'concluding', 'invest', 'turns', 'couples', 'bennett', 'melbourne', 'kansas', 'plunders', 'real', 'vulnerable', 'december', 'need', 'uptodate', 'old', 'containing', 'wrong', 'proposals', 'lowpaid', 'employment', 'welcome', 'announcement', 'cigarette', 'wall', 'ballantines', 'institution', 'fail', 'chipping', 'look', 'progovernment', 'afghanistan', 'leaders', 'four', 'censorship', 'huaralorg', 'socalled', 'sexual', 'graduates', 'unfortunately', 'backwards', 'wake', 'twothirds', 'select', 'anybody', 'freeman', 'poppins', 'circle', 'stomach', 'done', 'guys', 'much', 'shes', 'director', 'spread', 'pulsar', 'triumph', 'beta', 'stereotypical', 'nine', 'recruitment', 'sees', 'palaniappan', 'cheap', 'sales', 'dip', 'lowest', 'producing', 'highlighted', 'long', 'gregorios', 'phones', 'clockwork', 'razor', 'runners', 'wasnt', 'voter', 'factors', 'kit', 'published', 'carlos', 'wage', 'emergency', 'cream', 'invent', 'tree', 'frustrating', 'expect', 'norway', 'australian', 'issue', 'software', 'languages', 'tv', 'apples', 'reality', 'city', 'counterparts', 'odd', 'posted', 'redmayne', 'jumper', 'gold', 'says', 'australia', 'officials', 'anywhere', 'hinge', 'rid', 'providing', 'revealed', 'preventing', 'suitable', 'speculation', 'confirmed', 'fall', 'stabilise', 'passenger', 'dress', 'cathy', 'travers', 'sunday', 'place', 'personal', 'want', 'council', 'users', 'etc', 'practical', 'watched', 'spend', 'follet', 'conducted', 'contenders', 'condemned', 'bournemouth', 'exact', 'dome', 'expects', 'strategy', 'sylvia', 'died', 'hundred', 'gallery', 'task', 'shevchenko', 'subject', 'widespread', 'perceived', 'idea', 'citys', 'behave', 'trying', 'components', 'vital', 'water', 'store', 'capable', 'bid', 'served', 'improved', 'fao', 'accumulated', 'rufus', 'james', 'joined', 'preview', 'earned', 'compatriot', 'launches', 'mailsending', 'tool', 'rank', 'radios', 'patents', 'warned', 'writers', 'closing', 'highly', 'telecentre', 'polite', 'sinister', 'dems', 'punishment', 'mafia', 'benefited', 'remains', 'pernods', 'seven', 'late', 'duty', 'nokia', 'programs', 'wording', 'plague', 'colin', 'curb', 'eve', 'relay', 'compete', 'london', 'camera', 'deserved', 'verify', 'neon', 'scheduled', 'cellars', 'rear', 'gain', 'students', 'jeremy', 'failure', 'returned', 'indias', 'face', 'raises', 'prostitution', 'enjoyment', 'judy', 'think', 'us', 'frankie', 'keen', 'africa', 'demand', 'head', 'uncovering', 'telecentres', 'cash', 'youre', 'style', 'clergyman', 'quartet', 'faster', 'victory', 'facing', 'boost', 'computing', 'local', 'ills', 'required', 'art', 'historically', 'tara', 'stripped', 'maine', 'difference', 'conference', 'exemptions', 'sue', 'yearearlier', 'tumbled', 'lead', 'upset', 'stepped', 'hurts', 'hooves', 'living', 'reveals', 'practices', 'purchase', 'guidelines', 'based', 'wants', 'claim', 'babes', 'fear', 'crucified', 'story', 'sterns', 'alls', 'norwich', 'onto', 'championships', 'glow', 'arts', 'affordable', 'colleagues', 'excess', 'ethiopians', 'domecq', 'susan', 'hometown', 'good', 'came', 'alan', 'telephone', 'multitakings', 'technology', 'visible', 'considers', 'coordinator', 'pay', 'produced', 'tonnes', 'charges', 'robert', 'roles', 'married', 'fantasise', 'decades', 'mackie', 'heat', 'provincial', 'tivo', 'quartz', 'gps', 'pb', 'cuticle', 'immoral', 'graphics', 'interactive', 'strategies', 'men', 'testing', 'gambling', 'nearrecord', 'luck', 'directly', 'dominic', 'andersons', 'lowkey', 'ambitions', 'preparing', 'swiss', 'improve', 'source', 'marking', 'contrary', 'outsidein', 'projects', 'planning', 'oh', 'tbwas', 'shd', 'maternity', 'unlikely', 'limited', 'musical', 'kalman', 'empowerment', 'queen', 'musician', 'atlas', 'kosenkow', 'athletes', 'across', 'heads', 'noises', 'critical', 'demanded', 'revenge', 'doesnt', 'restrictive', 'debt', 'mccafferty', 'vinci', 'rigg', 'fridays', 'used', 'centuries', 'quickly', 'additional', 'inspiration', 'happened', 'remarks', 'tempted', 'amazes', 'forecast', 'ignored', 'demands', 'warners', 'rum', 'mcburney', 'testament', 'workshops', 'eyepopping', 'cleared', 'victims', 'powerbook', 'seeking', 'information', 'integral', 'picture', 'hostility', 'investigated', 'doctors', 'police', 'words', 'access', 'peninsula', 'adding', 'shorthaul', 'arditti', 'clothes', 'finnigans', 'diane', 'maurice', 'conserving', 'medallists', 'beaten', 'gadgets', 'true', 'hightech', 'qwerty', 'storage', 'help', 'law', 'coalition', 'usual', 'remnants', 'poor', 'valley', 'manifesto', 'payment', 'floating', 'underlying', 'boxoffice', 'ripe', 'diageo', 'lee', 'ambition', 'prize', 'collins', 'claxton', 'tirunesh', 'sport', 'web', 'parts', 'apparatus', 'ad', 'radioactive', 'core', 'ideas', 'founder', 'throughout', 'jackie', 'prof', 'newsnight', 'deliver', 'touchyfeely', 'judgements', 'faos', 'drawn', 'fortunes', 'customers', 'labor', 'shift', 'doren', 'tale', 'darker', 'coined', 'finalists', 'alice', 'setback', 'fastest', 'staged', 'heart', 'space', 'serbia', 'hardware', 'organisations', 'service', 'apparently', 'suggested', 'qualms', 'prospective', 'skilling', 'seizure', 'osborne', 'favourable', 'passengers', 'tender', 'astonishingly', 'offending', 'mundane', 'contender', 'sweetnatured', 'slow', 'jumping', 'mass', 'consecutive', 'windows', 'prefer', 'magazine', 'editors', 'anyhting', 'every', 'passage', 'election', 'article', 'arm', 'cell', 'trevor', 'add', 'activity', 'court', 'ricard', 'jean', 'selection', 'teacher', 'boldon', 'st', 'quite', 'cross', 'online', 'hoaxes', 'journalists', 'republics', 'bts', 'buildings', 'panel', 'spoke', 'accounts', 'owners', 'appeal', 'falling', 'wintour', 'auctioned', 'mcdonald', 'poems', 'maduaka', 'headtohead', 'met', 'christmases', 'selfcontained', 'contains', 'incs', 'product', 'attacks', 'environment', 'launch', 'handles', 'wifi', 'therefore', 'betty', 'exno', 'spokeswoman', 'crockery', 'exchief', 'status', 'russia', 'deficit', 'washington', 'williamson', 'hector', 'obscene', 'biography', 'yearlong', 'goal', 'spot', 'country', 'etienne', 'paved', 'probably', 'enter', 'focused', 'pervasive', 'sale', 'lima', 'cabin', 'typically', 'theresa', 'balls', 'larger', 'bourn', 'owner', 'clearview', 'jacobs', 'settles', 'university', 'germanys', 'union', 'underestimating', 'monaco', 'improving', 'greater', 'agricultural', 'sites', 'abuse', 'clearly', 'funding', 'basingstoke', 'muddled', 'investors', 'aviation', 'townsend', 'string', 'looking', 'scotlands', 'distance', 'failed', 'seen', 'played', 'removable', 'earn', 'qualified', 'uv', 'societies', 'experiments', 'pretended', 'responsibility', 'carers', 'predicted', 'increase', 'higher', 'surcharge', 'thoday', 'symmons', 'auditorium', 'originally', 'triple', 'olympic', 'races', 'comes', 'kodak', 'taking', 'redrafted', 'ukraine', 'display', 'teachers', 'episodes', 'howard', 'beith', 'legitimate', 'firestone', 'adjust', 'chairmans', 'luxury', 'turnover', 'phenomenon', 'copenhagen', 'determination', 'leonard', 'voted', 'manager', 'files', 'potential', 'rather', 'taunts', 'minister', 'politics', 'risk', 'host', 'aside', 'nationals', 'nutrition', 'million', 'shut', 'hugely', 'village', 'side', 'considering', 'outlined', 'progressive', 'documentary', 'harvey', 'winner', 'sets', 'ultraviolet', 'entrance', 'news', 'proper', 'edge', 'insisting', 'inquiry', 'tobacco', 'google', 'fewer', 'capitalisation', 'television', 'respective', 'venue', 'hoping', 'reconsideration', 'opposition', 'interception', 'north', 'runs', 'actually', 'struggling', 'contained', 'principle', 'renewed', 'rosneft', 'contact', 'oneway', 'wrote', 'bans', 'siding', 'bulb', 'guy', 'bookershortlisted', 'entries', 'added', 'yearold', 'stage', 'personally', 'mobile', 'zenith', 'flash', 'developed', 'soviet', 'aggressively', 'cleaning', 'considered', 'kw', 'lots', 'placed', 'decries', 'accused', 'thomas', 'resort', 'eastern', 'dan', 'involved', 'people', 'jolene', 'nothing', 'congratulations', 'bit', 'relations', 'tuc', 'suggestions', 'fiscal', 'competitiveness', 'blamed', 'supplementary', 'sold', 'economist', 'improvements', 'stars', 'gospels', 'awareness', 'scots', 'qualify', 'sure', 'os', 'tvs', 'expenses', 'kind', 'close', 'gap', 'poll', 'wales', 'negative', 'landmark', 'wine', 'anglias', 'cameron', 'commonwealth', 'healing', 'won', 'aims', 'clearing', 'mikko', 'mp', 'example', 'holes', 'bt', 'labs', 'scheme', 'imaginary', 'ive', 'sense', 'resorts', 'closer', 'war', 'accuse', 'white', 'blended', 'theatre', 'royal', 'romola', 'theories', 'genre', 'believe', 'lap', 'microsoft', 'remove', 'research', 'prelude', 'dictate', 'urbanbased', 'persuasion', 'tories', 'ashcroft', 'chancellor', 'indirectly', 'pernod', 'fuel', 'jeanmichel', 'hansen', 'shot', 'forum', 'qatar', 'tries', 'pcs', 'walkman', 'timeless', 'thing', 'contributed', 'borders', 'hundreds', 'relate', 'spreading', 'researcher', 'teenagers', 'unpaid', 'judiciary', 'implementation', 'budget', 'seems', 'highspeed', 'peg', 'wasserstein', 'den', 'shortlisted', 'knows', 'cottage', 'biological', 'dust', 'claims', 'forgot', 'point', 'readers', 'internet', 'obscured', 'countrys', 'optimism', 'metaphor', 'rumours', 'businesses', 'shadow', 'campaigning', 'starting', 'strength', 'decisionmaking', 'rick', 'satisfying', 'presented', 'graduated', 'princess', 'according', 'gardener', 'wipe', 'national', 'drugs', 'organization', 'autumn', 'within', 'mainly', 'built', 'insisted', 'hunger', 'invited', 'previously', 'journal', 'respectable', 'battle', 'douglas', 'coherent', 'capras', 'banned', 'tipped', 'underthrees', 'blend', 'shortterm', 'portugal', 'webb', 'kenenisa', 'america', 'include', 'blessed', 'couch', 'become', 'chinese', 'boss', 'goes', 'hutton', 'rising', 'pundits', 'mikhail', 'starring', 'magdalene', 'fletcher', 'east', 'taylors', 'madeley', 'coach', 'first', 'catch', 'agreed', 'helped', 'scrapped', 'engines', 'planners', 'onthestreet', 'elements', 'extra', 'legs', 'alastair', 'bbcs', 'occasionally', 'misdirected', 'shocks', 'deny', 'dealt', 'funds', 'bluetooth', 'levy', 'levys', 'reader', 'told', 'shook', 'meeting', 'threw', 'easily', 'parliament', 'legal', 'reducing', 'religion', 'nevertheless', 'telcos', 'palace', 'ai', 'amongst', 'quantities', 'income', 'casino', 'governments', 'retention', 'term', 'protection', 'stolichnaya', 'attenborough', 'sooner', 'leipzig', 'come', 'effort', 'birmingham', 'express', 'discuss', 'firms', 'device', 'egg', 'plugged', 'building', 'broadband', 'brussels', 'incubating', 'peru', 'dont', 'bodies', 'golden', 'district', 'brandy', 'developments', 'sweeney', 'shortlist', 'plain', 'readable', 'sprinting', 'storms', 'patrick', 'really', 'feel', 'cards', 'particularly', 'performance', 'however', 'remotely', 'exploiting', 'hole', 'tools', 'reaching', 'tory', 'michael', 'eoc', 'spare', 'certainly', 'john', 'markets', 'economics', 'thoroughly', 'movie', 'slang', 'queens', 'roberts', 'toplevel', 'international', 'scored', 'specified', 'devices', 'property', 'various', 'panacea', 'licensed', 'prime', 'whether', 'constructive', 'rosnefts', 'manipulated', 'kleinwort', 'false', 'church', 'uniform', 'jarre', 'christensen', 'race', 'greene', 'always', 'understand', 'agio', 'sextant', 'hissfree', 'apps', 'integrated', 'large', 'tightly', 'profit', 'feels', 'full', 'blackberry', 'reflects', 'legislate', 'announce', 'treasurer', 'similar', 'giveaway', 'funded', 'vodka', 'expunge', 'foyer', 'oram', 'unclear', 'broke', 'react', 'including', 'marine', 'qv', 'flipstart', 'least', 'fair', 'fixes', 'initiative', 'component', 'argue', 'borrowing', 'described', 'actions', 'peter', 'ways', 'review', 'northern', 'chidambaram', 'indian', 'owed', 'herbert', 'euro', 'sculptor', 'windsor', 'hurdler', 'newest', 'worry', 'surely', 'messages', 'elections', 'leave', 'danced', 'prepared', 'requirements', 'lowcost', 'vision', 'texts', 'honorary', 'lovely', 'sea', 'adera', 'translates', 'madonnas', 'evolved', 'later', 'disappeared', 'dam', 'silly', 'average', 'parttime', 'jones', 'offset', 'history', 'authors', 'jerry', 'fairytale', 'audience', 'lavish', 'form', 'smashed', 'selections', 'partisan', 'growth', 'month', 'society', 'visit', 'dark', 'assumptions', 'extent', 'maledominated', 'handled', 'entitled', 'financial', 'doomed', 'maintain', 'contrast', 'expectation', 'evidence', 'londons', 'leap', 'scotlandborn', 'original', 'pen', 'top', 'rights', 'began', 'exploit', 'violence', 'found', 'euphoric', 'sir', 'fertilizers', 'lifts', 'turning', 'everyday', 'athlete', 'introduction', 'sydney', 'italy', 'clients', 'excellent', 'machine', 'challenge', 'banking', 'passwords', 'patches', 'versa', 'programmes', 'landscape', 'essential', 'technologists', 'straw', 'provide', 'greenspans', 'comments', 'sheard', 'artist', 'supermodel', 'believes', 'respond', 'innovation', 'umbrella', 'protect', 'immersive', 'experience', 'expensive', 'selfsustainable', 'presenter', 'fox', 'extend', 'becomes', 'englands', 'annual', 'downfall', 'anticipated', 'spawned', 'homosexuality', 'organising', 'tudor', 'june', 'home', 'attachment', 'transportation', 'palm', 'programming', 'georgia', 'primarily', 'safer', 'power', 'creating', 'adviser', 'bookings', 'separately', 'possible', 'khodorkovsky', 'warner', 'revised', 'ben', 'lousy', 'authorship', 'nest', 'rival', 'going', 'running', 'leg', 'another', 'carolina', 'thousands', 'shame', 'eu', 'helps', 'drive', 'children', 'industry', 'ordinary', 'reaches', 'agenda', 'downing', 'hotels', 'level', 'ken', 'dollars', 'durham', 'kefa', 'competitive', 'aaa', 'must', 'items', 'dries', 'known', 'operate', 'block', 'centres', 'vein', 'community', 'cepes', 'falls', 'trillion', 'allied', 'modest', 'nominated', 'letters', 'join', 'rehabilitation', 'went', 'part', 'coming', 'nia', 'yelena', 'malicious', 'entry', 'rd', 'ronco', 'stays', 'works', 'gets', 'bell', 'rich', 'negroponte', 'smaller', 'broken', 'build', 'yvette', 'party', 'talk', 'beds', 'observers', 'dirty', 'keitel', 'decided', 'defend', 'cdp', 'delayed', 'countries', 'following', 'mr', 'ministries', 'findings', 'nobody', 'unions', 'preelection', 'nationwide', 'torbay', 'united', 'stateowned', 'estimated', 'honour', 'named', 'resuming', 'member', 'light', 'dos', 'shown', 'recommended', 'patenting', 'sex', 'industries', 'complaints', 'industrialised', 'newcomer', 'division', 'laying', 'macneil', 'gallerys', 'christopher', 'supporting', 'marc', 'weeks', 'im', 'february', 'leading', 'priority', 'attempt', 'inclusion', 'cd', 'latter', 'backsliding', 'nongovernmental', 'museums', 'promoters', 'cannot', 'segregated', 'cases', 'passion', 'stronger', 'notes', 'domestic', 'control', 'libretto', 'targeted', 'show', 'nongovernment', 'parties', 'controversy', 'ftse', 'destroy', 'oil', 'hesitant', 'legend', 'members', 'career', 'widely', 'pie', 'ql', 'causes', 'harmful', 'fat', 'seeing', 'twats', 'browns', 'gains', 'carefully', 'publications', 'announced', 'diack', 'virus', 'receiving', 'pocket', 'moved', 'spyware', 'rejected', 'commitment', 'drinks', 'rises', 'civil', 'blackpool', 'vowed', 'rj', 'chains', 'narrowly', 'darling', 'hodge', 'rt', 'conspiracy', 'outraged', 'hitler', 'choose', 'owns', 'jolanda', 'pole', 'explode', 'statement', 'echo', 'organizations', 'explorer', 'amount', 'corporate', 'convinced', 'steer', 'cuts', 'colourful', 'vote', 'participant', 'weakening', 'holding', 'medallist', 'semifinals', 'star', 'spain', 'recorder', 'classed', 'types', 'technicians', 'preparations', 'visits', 'economic', 'fixed', 'guides', 'hilarious', 'angels', 'know', 'took', 'lightweight', 'modem', 'programmable', 'movement', 'progress', 'd', 'response', 'positive', 'speak', 'absorbing', 'ice', 'japan', 'bechtler', 'material', 'performed', 'mukasa', 'postwar', 'films', 'weekends', 'given', 'attentions', 'laps', 'together', 'speculate', 'laptops', 'computer', 'blade', 'game', 'offerings', 'trends', 'ranging', 'persuade', 'cover', 'view', 'jobs', 'partys', 'loan', 'heal', 'two', 'sundays', 'mens', 'getting', 'scott', 'putting', 'groups', 'avoided', 'sectors', 'showed', 'institutions', 'conceded', 'beyond', 'process', 'gross', 'enhancing', 'reserve', 'proves', 'anatomical', 'return', 'finished', 'else', 'battled', 'info', 'instance', 'stake', 'standard', 'longstanding', 'delivers', 'hosted', 'elephant', 'currency', 'whisky', 'lenkiewicz', 'worldwide', 'celebrations', 'icon', 'title', 'things', 'minutes', 'forces', 'allowing', 'merry', 'warrant', 'disheartening', 'theyre', 'nonprofit', 'designed', 'predicting', 'whose', 'conservatives', 'recycling', 'accelerating', 'act', 'awards', 'lived', 'samuel', 'get', 'ethiopias', 'examine', 'vaulter', 'video', 'called', 'opponents', 'states', 'flaw', 'gives', 'education', 'telecoms', 'sentence', 'delegates', 'followed', 'throwing', 'profits', 'sanguine', 'cicero', 'adornments', 'flew', 'turnbull', 'casio', 'dispenser', 'modern', 'tracking', 'lueders', 'hours', 'outburst', 'p', 'gidley', 'lashed', 'value', 'continuing', 'moderate', 'histories', 'andersen', 'eyre', 'whatsonstagecom', 'number', 'noteboook', 'practice', 'peruvian', 'topics', 'brief', 'sexes', 'older', 'dr', 'relationship', 'office', 'credit', 'blow', 'administration', 'analysts', 'willingness', 'bursary', 'disneys', 'mitchells', 'favoured', 'january', 'greatest', 'crack', 'commissioner', 'lactating', 'territory', 'slipped', 'acquisitions', 'airbus', 'packet', 'collection', 'threeday', 'graham', 'stiff', 'net', 'brownie', 'find', 'popups', 'scan', 'closed', 'per', 'wait', 'warm', 'urgently', 'restate', 'tacitus', 'fifthfastest', 'participation', 'impressive', 'motorola', 'humour', 'accommodation', 'tougher', 'specifics', 'wsj', 'iphigenia', 'wonderful', 'andrews', 'sebolds', 'moore', 'fellow', 'poses', 'disguising', 'many', 'suffix', 'knife', 'experts', 'seat', 'asking', 'costs', 'perus', 'sessions', 'jeered', 'recalled', 'pigs', 'stay', 'signed', 'addiction', 'consolidation', 'year', 'sidelined', 'said', 'line', 'run', 'losing', 'lane', 'irish', 'population', 'sprayed', 'instant', 'october', 'talking', 'discussion', 'scarce', 'commons', 'answers', 'allow', 'lie', 'newspaper', 'worked', 'default', 'securities', 'contraction', 'responsible', 'mermaid', 'mackintosh', 'comedy', 'soon', 'coordinate', 'federation', 'apple', 'sony', 'subsumed', 'upcoming', 'normal', 'elementary', 'kids', 'shirking', 'ratified', 'dollar', 'subscribers', 'greenspan', 'nick', 'materials', 'eldridge', 'jammed', 'hugh', 'troops', 'pure', 'kept', 'days', 'zafid', 'excavated', 'unleashing', 'stability', 'ensure', 'brazil', 'martin', 'antenna', 'laura', 'oconnors', 'nevis', 'outlook', 'whats', 'wristwatch', 'regulated', 'infrastructure', 'brought', 'nicholas', 'skills', 'remembered', 'fuss', 'mothers', 'grounds', 'appropriate', 'prizes', 'taxpayers', 'repay', 'pledged', 'worsethanexpected', 'risen', 'buds', 'standing', 'winners', 'worlds', 'dividends', 'horses', 'turkey', 'neighbourhood', 'trev', 'constitutional', 'asplin', 'prosecutors', 'preceding', 'price', 'explores', 'denmark', 'comic', 'problem', 'back', 'second', 'bekeles', 'report', 'electronics', 'potato', 'taste', 'plans', 'release', 'fund', 'automatically', 'illegally', 'upload', 'resistance', 'ms', 'universities', 'repaid', 'interview', 'filed', 'publishing', 'ugly', 'diana', 'offcolour', 'travelling', 'demise', 'trackball', 'towards', 'money', 'developing', 'flat', 'generated', 'advancement', 'library', 'conservative', 'arbitration', 'quarter', 'buying', 'propelled', 'continues', 'rebuttals', 'theatregoers', 'saturday', 'iaaf', 'ipod', 'date', 'safety', 'largely', 'articles', 'numerous', 'create', 'commonly', 'fantastically', 'text', 'couple', 'tony', 'shrewsbury', 'timing', 'india', 'actors', 'ruled', 'reached', 'success', 'site', 'model', 'gaming', 'farming', 'enthusiasm', 'campbells', 'paxman', 'expectations', 'area', 'attends', 'assistance', 'reported', 'names', 'basis', 'better', 'participate', 'pace', 'attended', 'happy', 'petition', 'sheer', 'problems', 'models', 'cultural', 'lessons', 'woman', 'day', 'images', 'snack', 'wishaw', 'theory', 'fun', 'away', 'sent', 'computers', 'cumbersome', 'benefits', 'latest', 'frank', 'equipment', 'plots', 'looked', 'calls', 'henri', 'revenues', 'reduce', 'green', 'branches', 'autobiography', 'reports', 'program', 'newton', 'possibly', 'abused', 'juri', 'hisher', 'logs', 'initially', 'distribute', 'flagship', 'treatment', 'swears', 'banks', 'debts', 'intrigued', 'friday', 'major', 'rubbish', 'inaccurate', 'saying', 'boys', 'evaluated', 'dismissed', 'chambers', 'moscowbased', 'multibillion', 'emin', 'recovery', 'russian', 'sprint', 'machines', 'changing', 'difficult', 'unprotected', 'cement', 'september', 'liam', 'gordon', 'brown', 'lord', 'abandon', 'unit', 'rod', 'teetered', 'piece', 'harold', 'festens', 'finish', 'positively', 'interesting', 'common', 'interest', 'rejection', 'png', 'authorities', 'porn', 'engine', 'offers', 'survival', 'economy', 'feedback', 'circs', 'supercasinos', 'dem', 'needs', 'oneoff', 'searchengine', 'hanks', 'lodgers', 'geraldine', 'solved', 'cm', 'lot', 'lamine', 'notebook', 'insane', 'trackpad', 'influential', 'play', 'cost', 'role', 'realised', 'taped', 'ah', 'extending', 'probes', 'subsidies', 'representing', 'similarsized', 'finest', 'manuscripts', 'bicentennial', 'danish', 'games', 'senior', 'three', 'reads', 'preelectronic', 'executive', 'try', 'live', 'democratic', 'update', 'msn', 'referring', 'increasingly', 'fulltime', 'revenue', 'argued', 'wells', 'exists', 'music', 'despite', 'creek', 'fastfood', 'paul', 'capra', 'promotes', 'hypocrisy', 'prince', 'formally', 'champion', 'otherwise', 'psion', 'voting', 'rural', 'often', 'messenger', 'joystick', 'billion', 'reasons', 'demanding', 'finally', 'christianity', 'producer', 'dimmed', 'summer', 'highclass', 'womens', 'ato', 'perform', 'commits', 'coaches', 'unanimously', 'becoming', 'exhibit', 'levels', 'birkbeck', 'margaret', 'job', 'retired', 'proved', 'pressure', 'vegetable', 'payrolls', 'jon', 'parliamentarians', 'frederik', 'fans', 'bad', 'attention', 'sonia', 'matthew', 'debut', 'clean', 'bulgaria', 'chronometer', 'diamound', 'either', 'boxes', 'websites', 'thinking', 'fourletter', 'demonising', 'log', 'man', 'earning', 'giving', 'loans', 'abortive', 'sharp', 'deaf', 'meaningful', 'lvmh', 'charts', 'unveiled', 'glorified', 'couldnt', 'bupa', 'dashed', 'spokesman', 'defeat', 'suppress', 'invisible', 'significance', 'improper', 'introduced', 'recreate', 'cambodia', 'organise', 'share', 'college', 'monday', 'yen', 'actor', 'owen', 'thriller', 'enough', 'thats', 'marathon', 'layout', 'subset', 'historical', 'received', 'extraordinary', 'bribes', 'justified', 'remain', 'depend', 'film', 'bnp', 'origins', 'counter', 'decorated', 'decide', 'andersens', 'minute', 'perennial', 'trials', 'semifinal', 'theres', 'christmas', 'zafi', 'portable', 'oddities', 'stood', 'advert', 'presence', 'encounter', 'social', 'board', 'flying', 'production', 'positions', 'counteract', 'bros', 'honouring', 'ensler', 'artworks', 'prevented', 'main', 'kim', 'crowd', 'forget', 'toulouse', 'technologies', 'artists', 'physical', 'shocked', 'content', 'retain', 'cbi', 'spent', 'surge', 'drained', 'yugansk', 'catwoman', 'frances', 'pence', 'strengthening', 'goat', 'playwrights', 'arena', 'france', 'gadget', 'lack', 'monitor', 'polish', 'controversial', 'electricity', 'researchers', 'insults', 'leader', 'science', 'taster', 'gateshead', 'rings', 'fine', 'award', 'acts', 'stop', 'spruce', 'michelle', 'flight', 'shakespearean', 'prospect', 'next', 'viruses', 'hungary', 'pdas', 'navigation', 'patented', 'hamper', 'guarded', 'circulated', 'showcase', 'productivity', 'ages', 'west', 'coincidence', 'avoid', 'lorillard', 'nicotine', 'bertelsmanns', 'powell', 'ugandas', 'recapturing', 'fionnualla', 'infected', 'position', 'watch', 'revolutionised', 'c', 'wrongs', 'road', 'mits', 'inhabitants', 'techniques', 'endure', 'engineering', 'global', 'sellout', 'wartorn', 'grammar', 'clocked', 'kitts', 'solid', 'maria', 'ability', 'address', 'reason', 'allowed', 'worthwhile', 'prosper', 'affairs', 'author', 'unpatched', 'recently', 'arrested', 'objects', 'memory', 'abusive', 'strain', 'crowds', 'favour', 'halfpoint', 'attractive', 'brink', 'todd', 'pillowman', 'tracey', 'childrens', 'gevaert', 'traditional', 'rule', 'seed', 'wearing', 'protected', 'thirst', 'revealing', 'speed', 'fagin', 'mcfadyen', 'foreign', 'indeed', 'crippled', 'bought', 'shares', 'projecting', 'incidental', 'didactic', 'march', 'final', 'six', 'trailing', 'carroll', 'everyone', 'multilingual', 'assuming', 'appreciate', 'fruit', 'consult', 'ally', 'columbia', 'french', 'eddie', 'fiction', 'concert', 'musicals', 'monthly', 'schools', 'installation', 'prevention', 'stuck', 'willing', 'vacuous', 'initial', 'ethiopia', 'antiracketeering', 'poetry', 'jamaican', 'adaptation', 'slater', 'seconds', 'favourite', 'sprinters', 'bekele', 'oferr', 'compromise', 'wanted', 'lying', 'chinas', 'giant', 'federal', 'beijings', 'bonds', 'williams', 'win', 'pain', 'several', 'potentially', 'use', 'around', 'carry', 'substantially', 'voters', 'indonesia', 'precious', 'rest', 'longer', 'commerce', 'voices', 'millennium', 'confused', 'assets', 'unavailable', 'parsons', 'wonky', 'strong', 'theyll', 'market', 'reflection', 'buy', 'democracy', 'updated', 'data', 'crackdown', 'relatively', 'recognised', 'fast', 'nontraditional', 'managing', 'tragic', 'tales', 'denmarks', 'last', 'winters', 'team', 'yes', 'different', 'blaze', 'creative', 'provides', 'operators', 'gender', 'mean', 'treasury', 'rotated', 'aol', 'opened', 'scotch', 'code', 'define', 'toy', 'cafes', 'minihydraulic', 'crucial', 'vegas', 'monetary', 'littleknown', 'able', 'event', 'likely', 'open', 'single', 'yellow', 'station', 'massive', 'child', 'assurances', 'account', 'yawning', 'seagram', 'portfolio', 'classical', 'consistently', 'joseph', 'cloud', 'suddenly', 'hoped', 'performances', 'future', 'scrambler', 'ones', 'virtual', 'venture', 'inappropriate', 'underhand', 'comment', 'finance', 'prescott', 'meantime', 'anniversary', 'likeable', 'dame', 'comeback', 'recovering', 'bizarre', 'hitech', 'intimate', 'department', 'letting', 'emails', 'possibility', 'trailed', 'g', 'novembers', 'prop', 'dresdner', 'ceremony', 'biblical', 'topping', 'stages', 'stadium', 'unsuitable', 'winning', 'recent', 'governing', 'writer', 'paper', 'existing', 'creativity', 'farmers', 'mandelson', 'lies', 'door', 'terms', 'catalogue', 'bush', 'donuts', 'gala', 'soared', 'anything', 'language', 'carried', 'ago', 'organiser', 'sybari', 'links', 'female', 'tax', 'doubled', 'seats', 'millions', 'brighton', 'fiasco', 'currencys', 'painting', 'plays', 'paramount', 'case', 'teams', 'causing', 'permits', 'quake', 'architecture', 'textbook', 'sell', 'lights', 'mix', 'manchester', 'deleted', 'digby', 'judge', 'english', 'attending', 'albee', 'cruel', 'copies', 'steve', 'whitbread', 'parken', 'delays', 'hes', 'shape', 'indoors', 'smiley', 'batteries', 'mountainous', 'multiple', 'type', 'inking', 'supports', 'worried', 'provision', 'bbc', 'teenage', 'policies', 'democrats', 'speech', 'benefiting', 'mackintoshs', 'british', 'ashia', 'medal', 'hurdles', 'irelands', 'programme', 'tin', 'notebooks', 'intellectual', 'centre', 'cloning', 'ballard', 'speaking', 'employees', 'japans', 'vagina', 'landlady', 'mccaughrean', 'cuckoos', 'make', 'crossed', 'training', 'chance', 'past', 'addresses', 'compiled', 'tandy', 'publication', 'draft', 'ie', 'bricked', 'penetration', 'guru', 'generate', 'missive', 'contacted', 'scotland', 'seaside', 'class', 'estimate', 'american', 'one', 'less', 'communications', 'consultation', 'government', 'populations', 'timeconsuming', 'cherish', 'elected', 'gillian', 'limits', 'ratcheted', 'attacked', 'deliberate', 'target', 'action', 'threat', 'young', 'oldest', 'blast', 'vastly', 'purely', 'work', 'inaugurated', 'interviews', 'prompted', 'tbwa', 'smear', 'staff', 'errors', 'drought', 'goods', 'plot', 'finds', 'ends', 'aim', 'alexander', 'heptathlon', 'minor', 'age', 'ball', 'pilot', 'david', 'rendering', 'experiences', 'britons', 'desperate', 'charles', 'southern', 'monitored', 'please', 'break', 'hotel', 'suggests', 'courvoisier', 'luc', 'european', 'blume', 'currentily', 'gave', 'disable', 'fsecures', 'needed', 'useful', 'effect', 'beauty', 'install', 'journalist', 'spending', 'advise', 'thursday', 'hoover', 'ba', 'aspects', 'well', 'list', 'committee', 'refuses', 'natural', 'bestselling', 'cheaper', 'professor', 'organised', 'taxpayer', 'telling', 'leicester', 'measures', 'jobseekers', 'commentators', 'lehman', 'shulman', 'lesbianism', 'perfectly', 'russians', 'netmd', 'compared', 'animators', 'achievements', 'andrew', 'insist', 'england', 'imf', 'sec', 'trilogy', 'garai', 'judges', 'helena', 'confident', 'finland', 'antidoping', 'player', 'moment', 'obviously', 'inventions', 'mps', 'aimed', 'las', 'wednesday', 'partners', 'liverpool', 'celebrate', 'administrations', 'brands', 'focus', 'festen', 'rscs', 'settle', 'fourth', 'holder', 'isinbayeva', 'slide', 'equally', 'project', 'turned', 'lower', 'exceeding', 'pretax', 'charity', 'grant', 'irina', 'explain', 'small', 'ignorance', 'total', 'partnership', 'succeeded', 'baby', 'principal', 'chooses', 'choice', 'exchange', 'creditors', 'reduced', 'ugandan', 'unwrapped', 'judi', 'set', 'months', 'silver', 'matter', 'systems', 'flaws', 'locally', 'charge', 'sleeping', 'shock', 'length', 'deletions', 'orders', 'regenerate', 'fullyear', 'europe', 'presided', 'uss', 'airways', 'indications', 'milton', 'recognizes', 'arron', 'obikwelu', 'hunting', 'culture', 'serious', 'wiggle', 'messaged', 'hold', 'learned', 'elsewhere', 'edward', 'trading', 'surcharges', 'brothers', 'take', 'contested', 'april', 'breaks', 'anyone', 'low', 'beat', 'steal', 'abstract', 'manufacturers', 'linked', 'studies', 'worth', 'blaming', 'increased', 'stressed', 'disclosure', 'stand', 'ended', 'efforts', 'york', 'pretty', 'private', 'evans', 'assistant', 'dench', 'hopes', 'completely', 'obsession', 'usable', 'spectrum', 'reputation', 'chamber', 'collaboration', 'coders', 'makers', 'galleries', 'coastal', 'labours', 'assume', 'flexible', 'post', 'betting', 'loosening', 'differential', 'yields', 'bishop', 'decorating', 'manhattan', 'duckling', 'record', 'short', 'saturdays', 'maker', 'design', 'kyrgyz', 'legislative', 'soros', 'solvents', 'fire', 'network', 'region', 'unites', 'prominent', 'lied', 'yukos', 'reynolds', 'export', 'francis', 'lewisfrancis', 'pays', 'receive', 'stream', 'teather', 'meant', 'candidate', 'along', 'buyer', 'covering', 'reserves', 'impact', 'heizo', 'stern', 'ambassador', 'tough', 'though', 'chief', 'series', 'paidfor', 'support', 'assured', 'posters', 'antisemitism', 'emailed', 'implications', 'deal', 'integration', 'takeover', 'rebecca', 'organisers', 'clare', 'bloom', 'indoor', 'plenty', 'didnt', 'slovenias', 'opening', 'successful', 'offer', 'releases', 'sub', 'thrust', 'joni', 'entertainment', 'recover', 'griffiths', 'outstanding', 'kampala', 'spoiled', 'middle', 'admits', 'card', 'switch', 'eight', 'chairman', 'destruction', 'egelton', 'cargo', 'sorts', 'bones', 'fit', 'someone', 'left', 'seek', 'earlier', 'dibaba', 'general', 'digital', 'varied', 'vulnerabilities', 'jack', 'glasgow', 'spring', 'secured', 'publisher', 'unemployment', 'household', 'felt', 'helsinki', 'metres', 'clear', 'person', 'phone', 'stephen', 'hastily', 'german', 'sector', 'gmtvs', 'begins', 'dangers', 'cut', 'jesus', 'roger', 'boy', 'morning', 'front', 'invariably', 'approve', 'asia', 'products', 'coudenberg', 'assembled', 'distributing', 'saldarriaga', 'employers', 'located', 'fathers', 'workers', 'smoking', 'dumb', 'hamlet', 'humane', 'literary', 'odense', 'celebrities', 'cried', 'years', 'sights', 'issues', 'greenes', 'peak', 'keyboard', 'presidential', 'others', 'cafe', 'exhibition', 'trade', 'individual', 'harm', 'laughable', 'ngos', 'jason', 'little', 'uk', 'pair', 'antivirus', 'crude', 'nd', 'radio', 'taken', 'order', 'recalls', 'attitudes', 'talented', 'engagement', 'effects', 'greatly', 'producers', 'bestseller', 'awardwinning', 'singers', 'corpus', 'showing', 'christine', 'pc', 'recommend', 'abacus', 'literally', 'antispyware', 'keystrokes', 'looks', 'areas', 'beattie', 'differences', 'isnt', 'big', 'craig', 'base', 'stuttgart', 'height', 'bug', 'opener', 'majority', 'likewise', 'reporters', 'river', 'kilometres', 'speeches', 'depicted', 'statutory', 'meanwhile', 'priorities', 'objected', 'seeds', 'clauses', 'liggett', 'flops', 'gmt', 'visitors', 'joanne']\n"
     ]
    },
    {
     "name": "stderr",
     "output_type": "stream",
     "text": [
      "                                                                                \r"
     ]
    }
   ],
   "source": [
    "# print the inverted index keys \n",
    "print(\"Inverted index keys\", inverted_index.keys().collect())"
   ]
  },
  {
   "cell_type": "code",
   "execution_count": 43,
   "metadata": {},
   "outputs": [
    {
     "name": "stdout",
     "output_type": "stream",
     "text": [
      "Word  family  appears in  []\n"
     ]
    }
   ],
   "source": [
    "# look up for word family\n",
    "word = 'family'\n",
    "paths = inverted_index.lookup(word)\n",
    "print(\"Word \", word, \" appears in \", paths)"
   ]
  },
  {
   "cell_type": "markdown",
   "metadata": {},
   "source": [
    "<hr style=\" border:none; height:2px;\">\n",
    "\n",
    "##  Exercise 4\n",
    "\n",
    "<p align=\"justify\">\n",
    "<font size=\"3\">\n",
    "Given the BBC collection, we want to calculate the **co-occurrence matrix** $M$, such that $M[w_1][w_2]$ is the number of documents in which two words $w_1$ and $w_2$ appear together.\n",
    "</font>\n",
    "</p>\n",
    "\n",
    "<p align=\"justify\">\n",
    "<font size=\"3\">\n",
    "A co-occurrence matrix is generally sparse (i.e., lot of entries are zero), because we expect the pairs of words that have no co-occurrence to be far more than the ones that have at least one co-occurrence. It is certainly wise to represent only the non-zero elements of the matrix.\n",
    "To this extent, we use a **MapReduce** schema.\n",
    "</font>\n",
    "</p>\n",
    "\n",
    "<p align=\"justify\">\n",
    "<font size=\"3\">\n",
    "For any two words $w_i$, $w_j$ that co-occur in the same document, the **Map** task will output a key-value pair $((w_i, w_j), 1)$, where the key is the pair of co-occurring words $(w_i, w_j)$ and the value is 1.\n",
    "Note that the two key-value pairs $((w_i, w_j), 1)$ and $((w_j, w_i), 1)$ ought to be considered as having the same key, because the order of occurrence of the two words does not matter (the only thing that matters is whether the two words co-occur in the same document). \n",
    "For this reason, the key-value pair $((w_i, w_j), 1)$ returned by the Map task is such that $w_i < w_j$, where $<$ is the lexicographic order.\n",
    "</font>\n",
    "</p>\n",
    "\n",
    "<p align=\"justify\">\n",
    "<font size=\"3\">\n",
    "In the output of the Map task, a key-value pair $((w_i, w_j), 1)$ appears as many times as documents where $w_i$ and $w_j$ co-occur. In order to obtain the number of co-occurrences of $w_i$ and $w_j$, the **Reduce** task will just have to sum the values associated to the key $(w_i, w_j)$.\n",
    "</font>\n",
    "</p>\n",
    "\n",
    "\n",
    "\n",
    "<p align=\"justify\">\n",
    "<font size=\"3\" color='#91053d'>**Write a Spark application that creates the co-occurrence matrix of the documents in the BBC collection. Print the top-20 most frequent co-occurrences.**\n",
    "<br>\n",
    "HINT: as before, use the function $preprocess()$ and remove the duplicate words.\n",
    "</font>\n",
    "</p>\n",
    "\n",
    "<hr style=\" border:none; height:2px;\">"
   ]
  },
  {
   "cell_type": "code",
   "execution_count": 44,
   "metadata": {},
   "outputs": [
    {
     "name": "stderr",
     "output_type": "stream",
     "text": [
      "[Stage 2056:===================================================>(791 + 8) / 800]\r"
     ]
    },
    {
     "name": "stdout",
     "output_type": "stream",
     "text": [
      "Top-20 co-occurrence pairs [(('said', 'said'), 42), (('also', 'also'), 30), (('also', 'said'), 24), (('said', 'also'), 24), (('world', 'world'), 23), (('new', 'new'), 22), (('one', 'one'), 21), (('world', 'said'), 20), (('said', 'world'), 20), (('said', 'new'), 19), (('year', 'year'), 19), (('new', 'said'), 19), (('set', 'set'), 18), (('last', 'last'), 18), (('year', 'said'), 17), (('said', 'year'), 17), (('world', 'also'), 17), (('years', 'years'), 17), (('time', 'time'), 17), (('also', 'world'), 17)]\n"
     ]
    },
    {
     "name": "stderr",
     "output_type": "stream",
     "text": [
      "                                                                                \r"
     ]
    }
   ],
   "source": [
    "'''\n",
    "**************************************************\n",
    "    COMPLETE THE PROGRAM\n",
    "**************************************************\n",
    "'''\n",
    "# loop over all the documents in the directory ./data/bbc and subfolders and use the function preprocess to obtain the RDD words.\n",
    "# Then, create co-occurrence pairs for all pairs of words in the same document.\n",
    "# Finally, compute the number of co-occurrences for each pair of words.\n",
    "# define the co-occurrence pairs\n",
    "co_occurrence_pairs = None\n",
    "for root, dirs, files in os.walk(\"./data/bbc\"):\n",
    "    for file in files:\n",
    "        if file.endswith(\".txt\"):\n",
    "            path = os.path.join(root, file)\n",
    "            # print(path)\n",
    "            # load the file\n",
    "            text = sc.textFile(path)\n",
    "            # apply preprocess\n",
    "            words = preprocess(text, stopwords)\n",
    "            ''' \n",
    "            Do  I need to drop duplicates words in the path?\n",
    "            '''\n",
    "            # # drop duplicates words in the path\n",
    "            # words = words.distinct()\n",
    "            # create the co-occurrence pairs for the words in the path relative to the file\n",
    "            # if the co-occurrence pairs is empty, create it\n",
    "            if co_occurrence_pairs is None:\n",
    "                co_occurrence_pairs = words.cartesian(words)\n",
    "            # otherwise, update it\n",
    "            else:\n",
    "                co_occurrence_pairs = co_occurrence_pairs.union(words.cartesian(words))\n",
    "# reduce the co-occurrence pairs to have word1-word2 -> count\n",
    "co_occurrence_pairs = co_occurrence_pairs.map(lambda pair : (pair, 1)).reduceByKey(lambda x, y : x + y)\n",
    "\n",
    "# print the top 20 co-occurrence pairs\n",
    "print(\"Top-20 co-occurrence pairs\", co_occurrence_pairs.takeOrdered(20, key=lambda x: -x[1]))\n",
    "\n"
   ]
  },
  {
   "cell_type": "markdown",
   "metadata": {},
   "source": [
    "<hr style=\" border:none; height:2px;\">\n",
    "\n",
    "##  Exercise 5\n",
    "\n",
    "<p align=\"justify\">\n",
    "<font size=\"3\">\n",
    "One important task in the analysis of textual data is the computation of the similarity between two textual documents.\n",
    "Intuitively, the more words two textual documents share, the more similar they are.\n",
    "</font>\n",
    "</p>\n",
    "\n",
    "<p align=\"justify\">\n",
    "<font size=\"3\">\n",
    "Let $d_1$ and $d_2$ be two documents, and let $W(d_1)$ and $W(d_2)$ be the set of words in $d_1$ and $d_2$, respectively. The similarity $S(d_1, d_2)$ between $d_1$ and $d_2$ can be computed with the _Jaccard_ score as follows:\n",
    "</font>\n",
    "</p>\n",
    "\n",
    "<p>\n",
    "</p>\n",
    "\n",
    "$$S(d_1, d_2) = \\frac{W(d_1) \\cap W(d_2)}{W(d_1) \\cup W(d_2)}$$\n",
    "\n",
    "\n",
    "<p align=\"justify\">\n",
    "<font size=\"3\" color='#91053d'>**Write a function $jaccard$ that takes in two RDDs containing the words of two documents and returns the Jaccard similarity score of the documents. Test the function on the documents of the BBC.**\n",
    "</font>\n",
    "</p>\n",
    "\n",
    "<hr style=\" border:none; height:2px;\">"
   ]
  },
  {
   "cell_type": "code",
   "execution_count": 45,
   "metadata": {},
   "outputs": [],
   "source": [
    "'''\n",
    "**************************************************\n",
    "    COMPLETE THE PROGRAM\n",
    "**************************************************\n",
    "'''\n",
    "# define a function jaccard that takes two rdds contatin the workds of two documents and computes the Jaccard similarity between the two documents\n",
    "def jaccard(rdd1, rdd2):\n",
    "    # compute the number of words in the first document\n",
    "    n1 = rdd1.count()\n",
    "    # compute the number of words in the second document\n",
    "    n2 = rdd2.count()\n",
    "    # compute the number of words in the intersection of the two documents\n",
    "    n12 = rdd1.intersection(rdd2).count()\n",
    "    # compute the Jaccard similarity\n",
    "    return n12 / (n1 + n2 - n12)"
   ]
  },
  {
   "cell_type": "code",
   "execution_count": 46,
   "metadata": {},
   "outputs": [
    {
     "name": "stdout",
     "output_type": "stream",
     "text": [
      "Jaccard similarity between  ./data/bbc/sport/008.txt  and ./data/bbc/business/001.txt is  0.014534883720930232\n",
      "Jaccard similarity between  ./data/bbc/sport/009.txt  and ./data/bbc/business/001.txt is  0.026030368763557483\n",
      "Jaccard similarity between  ./data/bbc/sport/003.txt  and ./data/bbc/business/001.txt is  0.03309692671394799\n",
      "Jaccard similarity between  ./data/bbc/sport/010.txt  and ./data/bbc/business/001.txt is  0.02077922077922078\n",
      "Jaccard similarity between  ./data/bbc/sport/001.txt  and ./data/bbc/business/001.txt is  0.022284122562674095\n",
      "Jaccard similarity between  ./data/bbc/sport/007.txt  and ./data/bbc/business/001.txt is  0.009345794392523364\n",
      "Jaccard similarity between  ./data/bbc/sport/002.txt  and ./data/bbc/business/001.txt is  0.015432098765432098\n",
      "Jaccard similarity between  ./data/bbc/sport/005.txt  and ./data/bbc/business/001.txt is  0.01483679525222552\n",
      "Jaccard similarity between  ./data/bbc/sport/004.txt  and ./data/bbc/business/001.txt is  0.02654867256637168\n",
      "Jaccard similarity between  ./data/bbc/sport/006.txt  and ./data/bbc/business/001.txt is  0.018691588785046728\n",
      "Jaccard similarity between  ./data/bbc/tech/008.txt  and ./data/bbc/business/001.txt is  0.017456359102244388\n",
      "Jaccard similarity between  ./data/bbc/tech/009.txt  and ./data/bbc/business/001.txt is  0.021493212669683258\n",
      "Jaccard similarity between  ./data/bbc/tech/003.txt  and ./data/bbc/business/001.txt is  0.025\n",
      "Jaccard similarity between  ./data/bbc/tech/010.txt  and ./data/bbc/business/001.txt is  0.02284263959390863\n",
      "Jaccard similarity between  ./data/bbc/tech/001.txt  and ./data/bbc/business/001.txt is  0.011666666666666667\n",
      "Jaccard similarity between  ./data/bbc/tech/007.txt  and ./data/bbc/business/001.txt is  0.02743142144638404\n",
      "Jaccard similarity between  ./data/bbc/tech/002.txt  and ./data/bbc/business/001.txt is  0.029411764705882353\n",
      "Jaccard similarity between  ./data/bbc/tech/005.txt  and ./data/bbc/business/001.txt is  0.022935779816513763\n",
      "Jaccard similarity between  ./data/bbc/tech/004.txt  and ./data/bbc/business/001.txt is  0.0367170626349892\n",
      "Jaccard similarity between  ./data/bbc/tech/006.txt  and ./data/bbc/business/001.txt is  0.02079722703639515\n",
      "Jaccard similarity between  ./data/bbc/politics/008.txt  and ./data/bbc/business/001.txt is  0.0076045627376425855\n",
      "Jaccard similarity between  ./data/bbc/politics/009.txt  and ./data/bbc/business/001.txt is  0.01618705035971223\n",
      "Jaccard similarity between  ./data/bbc/politics/003.txt  and ./data/bbc/business/001.txt is  0.01509433962264151\n",
      "Jaccard similarity between  ./data/bbc/politics/010.txt  and ./data/bbc/business/001.txt is  0.020710059171597635\n",
      "Jaccard similarity between  ./data/bbc/politics/001.txt  and ./data/bbc/business/001.txt is  0.03171247357293869\n",
      "Jaccard similarity between  ./data/bbc/politics/007.txt  and ./data/bbc/business/001.txt is  0.011583011583011582\n",
      "Jaccard similarity between  ./data/bbc/politics/002.txt  and ./data/bbc/business/001.txt is  0.02242152466367713\n",
      "Jaccard similarity between  ./data/bbc/politics/005.txt  and ./data/bbc/business/001.txt is  0.019762845849802372\n",
      "Jaccard similarity between  ./data/bbc/politics/004.txt  and ./data/bbc/business/001.txt is  0.02168021680216802\n",
      "Jaccard similarity between  ./data/bbc/politics/006.txt  and ./data/bbc/business/001.txt is  0.025821596244131457\n",
      "Jaccard similarity between  ./data/bbc/business/008.txt  and ./data/bbc/business/001.txt is  0.026252983293556086\n",
      "Jaccard similarity between  ./data/bbc/business/009.txt  and ./data/bbc/business/001.txt is  0.013333333333333334\n",
      "Jaccard similarity between  ./data/bbc/business/003.txt  and ./data/bbc/business/001.txt is  0.04145077720207254\n",
      "Jaccard similarity between  ./data/bbc/business/010.txt  and ./data/bbc/business/001.txt is  0.03021978021978022\n",
      "Jaccard similarity between  ./data/bbc/business/001.txt  and ./data/bbc/business/001.txt is  0.5443037974683544\n",
      "Jaccard similarity between  ./data/bbc/business/007.txt  and ./data/bbc/business/001.txt is  0.043701799485861184\n",
      "Jaccard similarity between  ./data/bbc/business/002.txt  and ./data/bbc/business/001.txt is  0.042316258351893093\n",
      "Jaccard similarity between  ./data/bbc/business/005.txt  and ./data/bbc/business/001.txt is  0.038461538461538464\n",
      "Jaccard similarity between  ./data/bbc/business/004.txt  and ./data/bbc/business/001.txt is  0.08035714285714286\n",
      "Jaccard similarity between  ./data/bbc/business/006.txt  and ./data/bbc/business/001.txt is  0.029239766081871343\n",
      "Jaccard similarity between  ./data/bbc/entertainment/008.txt  and ./data/bbc/business/001.txt is  0.009569377990430622\n",
      "Jaccard similarity between  ./data/bbc/entertainment/009.txt  and ./data/bbc/business/001.txt is  0.02102803738317757\n",
      "Jaccard similarity between  ./data/bbc/entertainment/003.txt  and ./data/bbc/business/001.txt is  0.01440922190201729\n",
      "Jaccard similarity between  ./data/bbc/entertainment/010.txt  and ./data/bbc/business/001.txt is  0.016786570743405275\n",
      "Jaccard similarity between  ./data/bbc/entertainment/001.txt  and ./data/bbc/business/001.txt is  0.011594202898550725\n",
      "Jaccard similarity between  ./data/bbc/entertainment/007.txt  and ./data/bbc/business/001.txt is  0.024830699774266364\n",
      "Jaccard similarity between  ./data/bbc/entertainment/002.txt  and ./data/bbc/business/001.txt is  0.00997506234413965\n",
      "Jaccard similarity between  ./data/bbc/entertainment/005.txt  and ./data/bbc/business/001.txt is  0.019886363636363636\n",
      "Jaccard similarity between  ./data/bbc/entertainment/004.txt  and ./data/bbc/business/001.txt is  0.0392156862745098\n",
      "Jaccard similarity between  ./data/bbc/entertainment/006.txt  and ./data/bbc/business/001.txt is  0.012690355329949238\n"
     ]
    }
   ],
   "source": [
    "\n",
    "# test the function of the documents in the directory ./data/bbc and subfolders\n",
    "for root, dirs, files in os.walk(\"./data/bbc\"):\n",
    "    for file in files:\n",
    "        if file.endswith(\".txt\"):\n",
    "            path = os.path.join(root, file)\n",
    "            # print(path)\n",
    "            # load the file\n",
    "            text = sc.textFile(path)\n",
    "            # apply preprocess\n",
    "            words = preprocess(text, stopwords)\n",
    "            # compute the Jaccard similarity between the document and the document ./data/bbc/business/001.txt\n",
    "            print(\"Jaccard similarity between \", path, \" and ./data/bbc/business/001.txt is \", jaccard(words, preprocess(sc.textFile(\"./data/bbc/business/001.txt\"), stopwords)))"
   ]
  },
  {
   "cell_type": "markdown",
   "metadata": {},
   "source": [
    "<hr style=\" border:none; height:2px;\">\n",
    "\n",
    "##  Exercise 6\n",
    "\n",
    "<p align=\"justify\">\n",
    "<font size=\"3\">\n",
    "We are now going to use the similarity function that we defined in Exercise 4 to create a simple text classifier.\n",
    "A _text classifier_ is an application that takes in a textual document and determines the topic that the document covers.\n",
    "Usually, text classification is based on supervised machine learning algorithms, like Naive Bayes and SVM; \n",
    "since these algorithms are out of the scope of this course, we limit ourselves to a simple classifier that assigns a document to the topic with the highest similarity to the document itself.\n",
    "</font>\n",
    "</p>\n",
    "\n",
    "<p align=\"justify\">\n",
    "<font size=\"3\">\n",
    "More precisely, let's consider five documents $d_1, \\ldots, d_5$, one for each topic of the BBC dataset; arbitrarily, we say that each of these documents is representative of one topic. \n",
    "Now, consider a document $d$ that is different from the representative documents. \n",
    "The text classifier computes the similarity of $d$ to $d_1, \\ldots, d_5$, selects the document $d_i$ that has the highest similarity to $d$ and assigns $d$ to the topic covered by $d_i$.\n",
    "</font>\n",
    "</p>\n",
    "\n",
    "<p align=\"justify\">\n",
    "<font size=\"3\" color='#91053d'>**Write a function $classify$ that takes in a document $d$ (already preprocessed) and the list of representative documents (already preprocessed) for each topic and outputs the predicted topic of $d$.**\n",
    "</font>\n",
    "</p>\n",
    "<p>\n",
    "<font size=\"3\" color='#91053d'>\n",
    "HINT: You can use the files named _001.txt_ as the representative documents for each topic.   \n",
    "</font>\n",
    "</p>\n",
    "\n",
    "<hr style=\" border:none; height:2px;\">"
   ]
  },
  {
   "cell_type": "code",
   "execution_count": 50,
   "metadata": {},
   "outputs": [
    {
     "name": "stdout",
     "output_type": "stream",
     "text": [
      "./data/bbc/sport/001.txt  -->  0\n",
      "./data/bbc/tech/001.txt  -->  1\n",
      "./data/bbc/politics/001.txt  -->  2\n",
      "./data/bbc/business/001.txt  -->  3\n",
      "./data/bbc/entertainment/001.txt  -->  4\n",
      "Class of  ./data/bbc/sport/008.txt  is  0\n",
      "Class of  ./data/bbc/tech/008.txt  is  2\n",
      "Class of  ./data/bbc/politics/008.txt  is  2\n",
      "Class of  ./data/bbc/business/008.txt  is  0\n",
      "Class of  ./data/bbc/entertainment/008.txt  is  2\n"
     ]
    }
   ],
   "source": [
    "'''\n",
    "**************************************************\n",
    "    COMPLETE THE PROGRAM\n",
    "**************************************************\n",
    "'''\n",
    "# define a function classify, that take document and list of representtive documents and returns the class of the document\n",
    "def classify(document, classes):\n",
    "    # compute the Jaccard similarity between the document and each representative document\n",
    "    similarities = []\n",
    "    for representative in classes:\n",
    "        similarities.append(jaccard(document, representative))\n",
    "    # return the class of the document\n",
    "    return similarities.index(max(similarities))\n",
    "\n",
    "# define the list of representative documents ( take 001.txt from each subfolder of ./data/bbc)\n",
    "representatives = []\n",
    "for root, dirs, files in os.walk(\"./data/bbc\"):\n",
    "    for file in files:\n",
    "        if file.endswith(\"001.txt\"):\n",
    "            path = os.path.join(root, file)\n",
    "            representatives.append(preprocess(sc.textFile(path), stopwords))\n",
    "            # print the path of the representative document and it's class index\n",
    "            print(path, \" --> \", len(representatives) - 1)\n",
    "            \n",
    "\n",
    "# test the function of the documents in the directory ./data/bbc and subfolders ( random document from each subfolder)\n",
    "for root, dirs, files in os.walk(\"./data/bbc\"):\n",
    "    for file in files:\n",
    "        if file.endswith(\".txt\"):\n",
    "            path = os.path.join(root, file)\n",
    "            # print(path)\n",
    "            # load the file\n",
    "            text = sc.textFile(path)\n",
    "            # apply preprocess\n",
    "            words = preprocess(text, stopwords)\n",
    "            # compute the class of the document\n",
    "            print(\"Class of \", path, \" is \", classify(words, representatives))\n",
    "            # skip to the next subfolder\n",
    "            break\n",
    "        \n"
   ]
  },
  {
   "cell_type": "markdown",
   "metadata": {},
   "source": [
    "<hr style=\" border:none; height:2px;\">\n",
    "\n",
    "##  Exercise 7 \n",
    "\n",
    "<p align=\"justify\">\n",
    "<font size=\"3\">\n",
    "\n",
    "After implementing a classifier, we need to evaluate it. The evaluation is based on the **confusion matrix** that describes the performance of the classifier on a test dataset for which the true values are known.\n",
    "An example of confusion matrix is shown in the figure below. \n",
    "Each row contains the instances in a predicted class while each column represents the instances in an actual class.\n",
    "From the matrix in the Figure, we learn that there are 10 documents that are in the class \"business\" (see the total of the first column), of which 5 are correctly predicted as being in the class \"business\", 2 are incorrectly classified in the class \"entertainment\" and  3 are incorrectly classified in the class \"sport\".\n",
    "</font>\n",
    "<img src=\"./figs/confusion-matrix.png\" width=800>\n",
    "</p>\n",
    "\n",
    "<p align=\"justify\">\n",
    "<font size=\"3\">\n",
    "For each class $C$, we can define the notion of true positives (TP), false positives (FP) and false negatives (FN) for that class (the figure shows the TP, FP and FN for the class \"Business\"):\n",
    "<ul>\n",
    "<li> **True positives** (TP). Set of documents whose actual and predicted class is $C$.\n",
    "<li> **False positives** (FP). Set of documents whose predicted class is $C$, while the actual class is not $C$.\n",
    "<li> **False negatives** (FN). Set of documents whose predicted class is not $C$, while the actual class is $C$.\n",
    "</ul>\n",
    "</font>\n",
    "</p>\n",
    "\n",
    "<p align=\"justify\">\n",
    "<font size=\"3\">\n",
    "</font>\n",
    "</p>\n",
    "\n",
    "<p align=\"justify\">\n",
    "<font size=\"3\">\n",
    "For each class $C$, we can compute three evaluation measures, called _precision_ ($P_C$), _recall_ ($R_C$) and \n",
    "_f-measure_ ($F_C$), as follows:\n",
    "</font>\n",
    "</p>\n",
    "\n",
    "$$P_C = \\frac{|TP|}{|TP| + |FP|}\\quad R_C = \\frac{|TP|}{|TP| + |FN|}\\quad F_C = 2\\cdot \\frac{P_C\\cdot R_C}{P_C + R_C}$$\n",
    "\n",
    "<p align=\"justify\">\n",
    "<font size=\"3\">\n",
    "The _precision_ $P_C$ tells how many of the documents classified in $C$ are correctly classified;\n",
    "the _recall_ $R_C$ tells how many of the documents that are actually in $C$ are correctly classified in $C$;\n",
    "the _f-measure_ is an harmonic mean of _precision_ and _recall_ and gives an indication of the overall _accuracy_ of the classifier.\n",
    "</font>\n",
    "</p>\n",
    "\n",
    "\n",
    "<p align=\"justify\">\n",
    "<font size=\"3\" color='#91053d'>**Write a program that evaluates the classifier implemented in the previous exercise on the whole BBC dataset. Print precision, recall and f-measure for each class.\n",
    "Compare different classifiers using different representative documents for the topics**\n",
    "</font>\n",
    "</p>\n",
    "\n",
    "\n",
    "<hr style=\" border:none; height:2px;\">"
   ]
  },
  {
   "cell_type": "code",
   "execution_count": 65,
   "metadata": {},
   "outputs": [],
   "source": [
    "# define the function to evaluate the classification, print precision, recall and f1-score for each class\n",
    "def evaluate(classes, representatives):\n",
    "    # define the confusion matrix\n",
    "    confusion_matrix = [[0 for i in range(len(representatives))] for j in range(len(representatives))]\n",
    "    # loop over all the documents in the directory ./data/bbc and subfolders\n",
    "    for root, dirs, files in os.walk(\"./data/bbc\"):\n",
    "        for file in files:\n",
    "            if file.endswith(\".txt\"):\n",
    "                path = os.path.join(root, file)\n",
    "                # print(path)\n",
    "                # load the file\n",
    "                text = sc.textFile(path)\n",
    "                # apply preprocess\n",
    "                words = preprocess(text, stopwords)\n",
    "                # compute the class of the document\n",
    "                predicted = classify(words, representatives)\n",
    "                # compute the real class of the document\n",
    "                real = classes.index(root.split(\"/\")[-1])\n",
    "                # update the confusion matrix\n",
    "                confusion_matrix[real][predicted] += 1\n",
    "    # return the confusion matrix\n",
    "    return confusion_matrix"
   ]
  },
  {
   "cell_type": "code",
   "execution_count": 66,
   "metadata": {},
   "outputs": [],
   "source": [
    "# use the function evaluate to evaluate the classification\n",
    "classes = [\"business\", \"entertainment\", \"politics\", \"sport\", \"tech\"]\n",
    "confusion_matrix = evaluate(classes, representatives)\n"
   ]
  },
  {
   "cell_type": "code",
   "execution_count": 67,
   "metadata": {},
   "outputs": [
    {
     "name": "stdout",
     "output_type": "stream",
     "text": [
      "Confusion matrix\n",
      "[2, 0, 0, 8, 0]\n",
      "[4, 1, 3, 1, 1]\n",
      "[2, 0, 8, 0, 0]\n",
      "[10, 0, 0, 0, 0]\n",
      "[4, 1, 5, 0, 0]\n",
      "Class  business  precision  0.2  recall  0.09090909090909091  f1-score  0.12500000000000003\n",
      "Class  entertainment  precision  0.1  recall  0.5  f1-score  0.16666666666666669\n",
      "Class  politics  precision  0.8  recall  0.5  f1-score  0.6153846153846154\n",
      "Class  sport  precision  0.0  recall  0.0  f1-score  0\n",
      "Class  tech  precision  0.0  recall  0.0  f1-score  0\n"
     ]
    }
   ],
   "source": [
    "# print the confusion matrix\n",
    "print(\"Confusion matrix\")\n",
    "for row in confusion_matrix:\n",
    "    print(row)\n",
    "\n",
    "# compute precision, recall and f1-score for each class\n",
    "for i in range(len(representatives)):\n",
    "    # compute the precision\n",
    "    precision = confusion_matrix[i][i] / __builtins__.sum(confusion_matrix[i])\n",
    "    # compute the recall\n",
    "    recall = confusion_matrix[i][i] / __builtins__.sum([row[i] for row in confusion_matrix])\n",
    "    # compute the f1-score\n",
    "    if precision + recall == 0:\n",
    "        f1_score = 0\n",
    "    else:\n",
    "        f1_score = 2 * precision * recall / (precision + recall)\n",
    "    # print the results\n",
    "    print(\"Class \", classes[i], \" precision \", precision, \" recall \", recall, \" f1-score \", f1_score)"
   ]
  }
 ],
 "metadata": {
  "anaconda-cloud": {},
  "kernelspec": {
   "display_name": "Python 3 (ipykernel)",
   "language": "python",
   "name": "python3"
  },
  "language_info": {
   "codemirror_mode": {
    "name": "ipython",
    "version": 3
   },
   "file_extension": ".py",
   "mimetype": "text/x-python",
   "name": "python",
   "nbconvert_exporter": "python",
   "pygments_lexer": "ipython3",
   "version": "3.10.12"
  },
  "name": "BE4-Spark.ipynb"
 },
 "nbformat": 4,
 "nbformat_minor": 4
}
